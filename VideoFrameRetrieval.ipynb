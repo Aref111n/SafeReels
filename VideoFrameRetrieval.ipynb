{
 "cells": [
  {
   "cell_type": "code",
   "execution_count": 1,
   "id": "6757cdbc-7102-4381-a5a9-be0d56d28b59",
   "metadata": {},
   "outputs": [
    {
     "name": "stdout",
     "output_type": "stream",
     "text": [
      "Requirement already satisfied: opencv-python in c:\\users\\user\\appdata\\local\\programs\\python\\python312\\lib\\site-packages (4.9.0.80)\n",
      "Requirement already satisfied: numpy in c:\\users\\user\\appdata\\local\\programs\\python\\python312\\lib\\site-packages (1.26.0)\n",
      "Requirement already satisfied: pandas in c:\\users\\user\\appdata\\local\\programs\\python\\python312\\lib\\site-packages (2.1.1)\n",
      "Requirement already satisfied: tqdm in c:\\users\\user\\appdata\\local\\programs\\python\\python312\\lib\\site-packages (4.66.1)\n",
      "Requirement already satisfied: python-dateutil>=2.8.2 in c:\\users\\user\\appdata\\local\\programs\\python\\python312\\lib\\site-packages (from pandas) (2.8.2)\n",
      "Requirement already satisfied: pytz>=2020.1 in c:\\users\\user\\appdata\\local\\programs\\python\\python312\\lib\\site-packages (from pandas) (2023.3.post1)\n",
      "Requirement already satisfied: tzdata>=2022.1 in c:\\users\\user\\appdata\\local\\programs\\python\\python312\\lib\\site-packages (from pandas) (2023.3)\n",
      "Requirement already satisfied: colorama in c:\\users\\user\\appdata\\local\\programs\\python\\python312\\lib\\site-packages (from tqdm) (0.4.6)\n",
      "Requirement already satisfied: six>=1.5 in c:\\users\\user\\appdata\\local\\programs\\python\\python312\\lib\\site-packages (from python-dateutil>=2.8.2->pandas) (1.16.0)\n",
      "Note: you may need to restart the kernel to use updated packages.\n"
     ]
    },
    {
     "name": "stderr",
     "output_type": "stream",
     "text": [
      "\n",
      "[notice] A new release of pip is available: 24.0 -> 25.0.1\n",
      "[notice] To update, run: python.exe -m pip install --upgrade pip\n"
     ]
    }
   ],
   "source": [
    "pip install opencv-python numpy pandas tqdm"
   ]
  },
  {
   "cell_type": "code",
   "execution_count": 16,
   "id": "7b0757d2-93c2-4acf-88e6-a03546244590",
   "metadata": {},
   "outputs": [
    {
     "name": "stdout",
     "output_type": "stream",
     "text": [
      "Collecting scikit-image\n",
      "  Downloading scikit_image-0.25.1-cp312-cp312-win_amd64.whl.metadata (14 kB)\n",
      "Requirement already satisfied: numpy>=1.24 in c:\\users\\user\\appdata\\local\\programs\\python\\python312\\lib\\site-packages (from scikit-image) (1.26.0)\n",
      "Requirement already satisfied: scipy>=1.11.2 in c:\\users\\user\\appdata\\local\\programs\\python\\python312\\lib\\site-packages (from scikit-image) (1.11.3)\n",
      "Requirement already satisfied: networkx>=3.0 in c:\\users\\user\\appdata\\local\\programs\\python\\python312\\lib\\site-packages (from scikit-image) (3.2.1)\n",
      "Requirement already satisfied: pillow>=10.1 in c:\\users\\user\\appdata\\local\\programs\\python\\python312\\lib\\site-packages (from scikit-image) (10.1.0)\n",
      "Requirement already satisfied: imageio!=2.35.0,>=2.33 in c:\\users\\user\\appdata\\local\\programs\\python\\python312\\lib\\site-packages (from scikit-image) (2.34.0)\n",
      "Collecting tifffile>=2022.8.12 (from scikit-image)\n",
      "  Downloading tifffile-2025.1.10-py3-none-any.whl.metadata (31 kB)\n",
      "Requirement already satisfied: packaging>=21 in c:\\users\\user\\appdata\\local\\programs\\python\\python312\\lib\\site-packages (from scikit-image) (23.2)\n",
      "Collecting lazy-loader>=0.4 (from scikit-image)\n",
      "  Downloading lazy_loader-0.4-py3-none-any.whl.metadata (7.6 kB)\n",
      "Downloading scikit_image-0.25.1-cp312-cp312-win_amd64.whl (12.9 MB)\n",
      "   ---------------------------------------- 0.0/12.9 MB ? eta -:--:--\n",
      "   ---------------------------------------- 0.0/12.9 MB 1.3 MB/s eta 0:00:11\n",
      "   ---------------------------------------- 0.1/12.9 MB 812.7 kB/s eta 0:00:16\n",
      "   ---------------------------------------- 0.1/12.9 MB 1.0 MB/s eta 0:00:13\n",
      "   ---------------------------------------- 0.2/12.9 MB 1.0 MB/s eta 0:00:13\n",
      "    --------------------------------------- 0.3/12.9 MB 1.3 MB/s eta 0:00:10\n",
      "   - -------------------------------------- 0.3/12.9 MB 1.3 MB/s eta 0:00:10\n",
      "   - -------------------------------------- 0.4/12.9 MB 1.4 MB/s eta 0:00:10\n",
      "   - -------------------------------------- 0.5/12.9 MB 1.4 MB/s eta 0:00:10\n",
      "   - -------------------------------------- 0.6/12.9 MB 1.5 MB/s eta 0:00:09\n",
      "   -- ------------------------------------- 0.7/12.9 MB 1.6 MB/s eta 0:00:08\n",
      "   -- ------------------------------------- 0.8/12.9 MB 1.6 MB/s eta 0:00:08\n",
      "   --- ------------------------------------ 1.0/12.9 MB 1.8 MB/s eta 0:00:07\n",
      "   --- ------------------------------------ 1.0/12.9 MB 1.8 MB/s eta 0:00:07\n",
      "   --- ------------------------------------ 1.1/12.9 MB 1.7 MB/s eta 0:00:07\n",
      "   --- ------------------------------------ 1.2/12.9 MB 1.8 MB/s eta 0:00:07\n",
      "   ---- ----------------------------------- 1.3/12.9 MB 1.8 MB/s eta 0:00:07\n",
      "   ---- ----------------------------------- 1.4/12.9 MB 1.9 MB/s eta 0:00:07\n",
      "   ---- ----------------------------------- 1.5/12.9 MB 1.9 MB/s eta 0:00:07\n",
      "   ----- ---------------------------------- 1.7/12.9 MB 1.9 MB/s eta 0:00:06\n",
      "   ----- ---------------------------------- 1.8/12.9 MB 2.0 MB/s eta 0:00:06\n",
      "   ----- ---------------------------------- 1.8/12.9 MB 1.9 MB/s eta 0:00:06\n",
      "   ------ --------------------------------- 2.0/12.9 MB 2.0 MB/s eta 0:00:06\n",
      "   ------ --------------------------------- 2.1/12.9 MB 2.0 MB/s eta 0:00:06\n",
      "   ------- -------------------------------- 2.3/12.9 MB 2.1 MB/s eta 0:00:06\n",
      "   ------- -------------------------------- 2.4/12.9 MB 2.1 MB/s eta 0:00:05\n",
      "   ------- -------------------------------- 2.5/12.9 MB 2.1 MB/s eta 0:00:05\n",
      "   ------- -------------------------------- 2.6/12.9 MB 2.1 MB/s eta 0:00:05\n",
      "   -------- ------------------------------- 2.7/12.9 MB 2.1 MB/s eta 0:00:05\n",
      "   -------- ------------------------------- 2.8/12.9 MB 2.1 MB/s eta 0:00:05\n",
      "   --------- ------------------------------ 2.9/12.9 MB 2.1 MB/s eta 0:00:05\n",
      "   --------- ------------------------------ 3.0/12.9 MB 2.1 MB/s eta 0:00:05\n",
      "   --------- ------------------------------ 3.2/12.9 MB 2.2 MB/s eta 0:00:05\n",
      "   ---------- ----------------------------- 3.3/12.9 MB 2.2 MB/s eta 0:00:05\n",
      "   ---------- ----------------------------- 3.5/12.9 MB 2.2 MB/s eta 0:00:05\n",
      "   ----------- ---------------------------- 3.6/12.9 MB 2.2 MB/s eta 0:00:05\n",
      "   ----------- ---------------------------- 3.7/12.9 MB 2.2 MB/s eta 0:00:05\n",
      "   ----------- ---------------------------- 3.8/12.9 MB 2.2 MB/s eta 0:00:05\n",
      "   ------------ --------------------------- 3.9/12.9 MB 2.2 MB/s eta 0:00:05\n",
      "   ------------ --------------------------- 3.9/12.9 MB 2.2 MB/s eta 0:00:05\n",
      "   ------------ --------------------------- 4.0/12.9 MB 2.2 MB/s eta 0:00:05\n",
      "   ------------ --------------------------- 4.1/12.9 MB 2.2 MB/s eta 0:00:05\n",
      "   ------------- -------------------------- 4.2/12.9 MB 2.2 MB/s eta 0:00:04\n",
      "   ------------- -------------------------- 4.4/12.9 MB 2.2 MB/s eta 0:00:04\n",
      "   -------------- ------------------------- 4.5/12.9 MB 2.2 MB/s eta 0:00:04\n",
      "   -------------- ------------------------- 4.7/12.9 MB 2.3 MB/s eta 0:00:04\n",
      "   --------------- ------------------------ 4.9/12.9 MB 2.3 MB/s eta 0:00:04\n",
      "   --------------- ------------------------ 5.1/12.9 MB 2.3 MB/s eta 0:00:04\n",
      "   ---------------- ----------------------- 5.2/12.9 MB 2.3 MB/s eta 0:00:04\n",
      "   ---------------- ----------------------- 5.2/12.9 MB 2.3 MB/s eta 0:00:04\n",
      "   ---------------- ----------------------- 5.3/12.9 MB 2.3 MB/s eta 0:00:04\n",
      "   ---------------- ----------------------- 5.4/12.9 MB 2.3 MB/s eta 0:00:04\n",
      "   ----------------- ---------------------- 5.6/12.9 MB 2.3 MB/s eta 0:00:04\n",
      "   ----------------- ---------------------- 5.7/12.9 MB 2.3 MB/s eta 0:00:04\n",
      "   ------------------ --------------------- 5.8/12.9 MB 2.3 MB/s eta 0:00:04\n",
      "   ------------------ --------------------- 5.9/12.9 MB 2.3 MB/s eta 0:00:03\n",
      "   ------------------ --------------------- 6.1/12.9 MB 2.3 MB/s eta 0:00:03\n",
      "   ------------------- -------------------- 6.2/12.9 MB 2.4 MB/s eta 0:00:03\n",
      "   ------------------- -------------------- 6.4/12.9 MB 2.4 MB/s eta 0:00:03\n",
      "   ------------------- -------------------- 6.4/12.9 MB 2.4 MB/s eta 0:00:03\n",
      "   -------------------- ------------------- 6.6/12.9 MB 2.4 MB/s eta 0:00:03\n",
      "   -------------------- ------------------- 6.7/12.9 MB 2.4 MB/s eta 0:00:03\n",
      "   -------------------- ------------------- 6.7/12.9 MB 2.4 MB/s eta 0:00:03\n",
      "   -------------------- ------------------- 6.7/12.9 MB 2.4 MB/s eta 0:00:03\n",
      "   -------------------- ------------------- 6.7/12.9 MB 2.4 MB/s eta 0:00:03\n",
      "   -------------------- ------------------- 6.7/12.9 MB 2.4 MB/s eta 0:00:03\n",
      "   ---------------------- ----------------- 7.4/12.9 MB 2.4 MB/s eta 0:00:03\n",
      "   ----------------------- ---------------- 7.6/12.9 MB 2.4 MB/s eta 0:00:03\n",
      "   ----------------------- ---------------- 7.6/12.9 MB 2.4 MB/s eta 0:00:03\n",
      "   ------------------------ --------------- 7.7/12.9 MB 2.4 MB/s eta 0:00:03\n",
      "   ------------------------ --------------- 7.9/12.9 MB 2.4 MB/s eta 0:00:03\n",
      "   ------------------------ --------------- 8.0/12.9 MB 2.4 MB/s eta 0:00:03\n",
      "   ------------------------- -------------- 8.1/12.9 MB 2.4 MB/s eta 0:00:02\n",
      "   ------------------------- -------------- 8.2/12.9 MB 2.4 MB/s eta 0:00:02\n",
      "   ------------------------- -------------- 8.3/12.9 MB 2.4 MB/s eta 0:00:02\n",
      "   -------------------------- ------------- 8.5/12.9 MB 2.4 MB/s eta 0:00:02\n",
      "   -------------------------- ------------- 8.7/12.9 MB 2.5 MB/s eta 0:00:02\n",
      "   --------------------------- ------------ 8.8/12.9 MB 2.5 MB/s eta 0:00:02\n",
      "   --------------------------- ------------ 8.9/12.9 MB 2.5 MB/s eta 0:00:02\n",
      "   ---------------------------- ----------- 9.1/12.9 MB 2.5 MB/s eta 0:00:02\n",
      "   ---------------------------- ----------- 9.2/12.9 MB 2.5 MB/s eta 0:00:02\n",
      "   ----------------------------- ---------- 9.3/12.9 MB 2.5 MB/s eta 0:00:02\n",
      "   ----------------------------- ---------- 9.5/12.9 MB 2.5 MB/s eta 0:00:02\n",
      "   ------------------------------ --------- 9.7/12.9 MB 2.5 MB/s eta 0:00:02\n",
      "   ------------------------------ --------- 9.8/12.9 MB 2.5 MB/s eta 0:00:02\n",
      "   ------------------------------ --------- 10.0/12.9 MB 2.5 MB/s eta 0:00:02\n",
      "   ------------------------------- -------- 10.1/12.9 MB 2.5 MB/s eta 0:00:02\n",
      "   ------------------------------- -------- 10.3/12.9 MB 2.5 MB/s eta 0:00:02\n",
      "   -------------------------------- ------- 10.4/12.9 MB 2.6 MB/s eta 0:00:01\n",
      "   -------------------------------- ------- 10.5/12.9 MB 2.6 MB/s eta 0:00:01\n",
      "   -------------------------------- ------- 10.6/12.9 MB 2.6 MB/s eta 0:00:01\n",
      "   --------------------------------- ------ 10.7/12.9 MB 2.7 MB/s eta 0:00:01\n",
      "   --------------------------------- ------ 10.9/12.9 MB 2.7 MB/s eta 0:00:01\n",
      "   --------------------------------- ------ 11.0/12.9 MB 2.7 MB/s eta 0:00:01\n",
      "   ---------------------------------- ----- 11.1/12.9 MB 2.7 MB/s eta 0:00:01\n",
      "   ---------------------------------- ----- 11.2/12.9 MB 2.7 MB/s eta 0:00:01\n",
      "   ----------------------------------- ---- 11.4/12.9 MB 2.7 MB/s eta 0:00:01\n",
      "   ----------------------------------- ---- 11.4/12.9 MB 2.7 MB/s eta 0:00:01\n",
      "   ----------------------------------- ---- 11.5/12.9 MB 2.7 MB/s eta 0:00:01\n",
      "   ------------------------------------ --- 11.7/12.9 MB 2.7 MB/s eta 0:00:01\n",
      "   ------------------------------------ --- 11.9/12.9 MB 2.7 MB/s eta 0:00:01\n",
      "   ------------------------------------- -- 12.0/12.9 MB 2.7 MB/s eta 0:00:01\n",
      "   ------------------------------------- -- 12.1/12.9 MB 2.7 MB/s eta 0:00:01\n",
      "   ------------------------------------- -- 12.2/12.9 MB 2.7 MB/s eta 0:00:01\n",
      "   -------------------------------------- - 12.3/12.9 MB 2.7 MB/s eta 0:00:01\n",
      "   -------------------------------------- - 12.5/12.9 MB 2.7 MB/s eta 0:00:01\n",
      "   ---------------------------------------  12.6/12.9 MB 2.7 MB/s eta 0:00:01\n",
      "   ---------------------------------------  12.8/12.9 MB 2.8 MB/s eta 0:00:01\n",
      "   ---------------------------------------  12.9/12.9 MB 2.8 MB/s eta 0:00:01\n",
      "   ---------------------------------------  12.9/12.9 MB 2.8 MB/s eta 0:00:01\n",
      "   ---------------------------------------- 12.9/12.9 MB 2.7 MB/s eta 0:00:00\n",
      "Downloading lazy_loader-0.4-py3-none-any.whl (12 kB)\n",
      "Downloading tifffile-2025.1.10-py3-none-any.whl (227 kB)\n",
      "   ---------------------------------------- 0.0/227.6 kB ? eta -:--:--\n",
      "   ---------------- ----------------------- 92.2/227.6 kB 2.6 MB/s eta 0:00:01\n",
      "   ------------------------------ --------- 174.1/227.6 kB 2.1 MB/s eta 0:00:01\n",
      "   ---------------------------------------- 227.6/227.6 kB 2.0 MB/s eta 0:00:00\n",
      "Installing collected packages: tifffile, lazy-loader, scikit-image\n",
      "Successfully installed lazy-loader-0.4 scikit-image-0.25.1 tifffile-2025.1.10\n",
      "Note: you may need to restart the kernel to use updated packages.\n"
     ]
    },
    {
     "name": "stderr",
     "output_type": "stream",
     "text": [
      "\n",
      "[notice] A new release of pip is available: 24.0 -> 25.0.1\n",
      "[notice] To update, run: python.exe -m pip install --upgrade pip\n"
     ]
    }
   ],
   "source": [
    "pip install scikit-image"
   ]
  },
  {
   "cell_type": "code",
   "execution_count": 2,
   "id": "41572a65-8acb-402d-aaf0-9261a010afd8",
   "metadata": {},
   "outputs": [],
   "source": [
    "import cv2\n",
    "import os\n",
    "import numpy as np\n",
    "import pandas as pd\n",
    "from tqdm import tqdm"
   ]
  },
  {
   "cell_type": "code",
   "execution_count": 17,
   "id": "6abda84c-82d5-4607-b015-835a840033a0",
   "metadata": {},
   "outputs": [],
   "source": [
    "from skimage.metrics import structural_similarity as ssim"
   ]
  },
  {
   "cell_type": "code",
   "execution_count": 5,
   "id": "25f4b0d3-e127-4631-ac8b-edd1f261fa1e",
   "metadata": {},
   "outputs": [],
   "source": [
    "video_dir = \"E:\\\\SafeReels\"  \n",
    "csv_file = \"E:\\\\SafeReels\\\\final_data.csv\"  \n",
    "output_dir = \"E:\\\\SafeReels\\\\Frames\"  \n",
    "os.makedirs(output_dir, exist_ok=True)"
   ]
  },
  {
   "cell_type": "code",
   "execution_count": 6,
   "id": "894ef47d-f670-42f4-93a8-6bb05a171518",
   "metadata": {},
   "outputs": [
    {
     "data": {
      "text/html": [
       "<div>\n",
       "<style scoped>\n",
       "    .dataframe tbody tr th:only-of-type {\n",
       "        vertical-align: middle;\n",
       "    }\n",
       "\n",
       "    .dataframe tbody tr th {\n",
       "        vertical-align: top;\n",
       "    }\n",
       "\n",
       "    .dataframe thead th {\n",
       "        text-align: right;\n",
       "    }\n",
       "</style>\n",
       "<table border=\"1\" class=\"dataframe\">\n",
       "  <thead>\n",
       "    <tr style=\"text-align: right;\">\n",
       "      <th></th>\n",
       "      <th>reel_id</th>\n",
       "      <th>UnsafeType</th>\n",
       "      <th>isSafe</th>\n",
       "    </tr>\n",
       "  </thead>\n",
       "  <tbody>\n",
       "    <tr>\n",
       "      <th>0</th>\n",
       "      <td>'1000188341415358</td>\n",
       "      <td>Safe</td>\n",
       "      <td>1</td>\n",
       "    </tr>\n",
       "    <tr>\n",
       "      <th>1</th>\n",
       "      <td>'1006146964533997</td>\n",
       "      <td>Safe</td>\n",
       "      <td>1</td>\n",
       "    </tr>\n",
       "    <tr>\n",
       "      <th>2</th>\n",
       "      <td>'1007123741459823</td>\n",
       "      <td>Adult</td>\n",
       "      <td>0</td>\n",
       "    </tr>\n",
       "    <tr>\n",
       "      <th>3</th>\n",
       "      <td>'1007420607202244</td>\n",
       "      <td>Safe</td>\n",
       "      <td>1</td>\n",
       "    </tr>\n",
       "    <tr>\n",
       "      <th>4</th>\n",
       "      <td>'1008519870870927</td>\n",
       "      <td>Safe</td>\n",
       "      <td>1</td>\n",
       "    </tr>\n",
       "    <tr>\n",
       "      <th>...</th>\n",
       "      <td>...</td>\n",
       "      <td>...</td>\n",
       "      <td>...</td>\n",
       "    </tr>\n",
       "    <tr>\n",
       "      <th>661</th>\n",
       "      <td>'997262608752854</td>\n",
       "      <td>Adult</td>\n",
       "      <td>0</td>\n",
       "    </tr>\n",
       "    <tr>\n",
       "      <th>662</th>\n",
       "      <td>'997300345735398</td>\n",
       "      <td>Harmful</td>\n",
       "      <td>0</td>\n",
       "    </tr>\n",
       "    <tr>\n",
       "      <th>663</th>\n",
       "      <td>'998187401354206</td>\n",
       "      <td>Safe</td>\n",
       "      <td>1</td>\n",
       "    </tr>\n",
       "    <tr>\n",
       "      <th>664</th>\n",
       "      <td>'999558344609179</td>\n",
       "      <td>Safe</td>\n",
       "      <td>1</td>\n",
       "    </tr>\n",
       "    <tr>\n",
       "      <th>665</th>\n",
       "      <td>'999669865038215</td>\n",
       "      <td>Safe</td>\n",
       "      <td>1</td>\n",
       "    </tr>\n",
       "  </tbody>\n",
       "</table>\n",
       "<p>666 rows × 3 columns</p>\n",
       "</div>"
      ],
      "text/plain": [
       "               reel_id UnsafeType  isSafe\n",
       "0    '1000188341415358       Safe       1\n",
       "1    '1006146964533997       Safe       1\n",
       "2    '1007123741459823      Adult       0\n",
       "3    '1007420607202244       Safe       1\n",
       "4    '1008519870870927       Safe       1\n",
       "..                 ...        ...     ...\n",
       "661   '997262608752854      Adult       0\n",
       "662   '997300345735398    Harmful       0\n",
       "663   '998187401354206       Safe       1\n",
       "664   '999558344609179       Safe       1\n",
       "665   '999669865038215       Safe       1\n",
       "\n",
       "[666 rows x 3 columns]"
      ]
     },
     "execution_count": 6,
     "metadata": {},
     "output_type": "execute_result"
    }
   ],
   "source": [
    "df = pd.read_csv(csv_file)\n",
    "df"
   ]
  },
  {
   "cell_type": "code",
   "execution_count": 8,
   "id": "db2fbe8e-5dc3-455f-ae6a-af736dffe92a",
   "metadata": {},
   "outputs": [],
   "source": [
    "video_list = []"
   ]
  },
  {
   "cell_type": "code",
   "execution_count": 9,
   "id": "49c682ed-b98e-4341-ab81-4e4fb8e97327",
   "metadata": {},
   "outputs": [],
   "source": [
    "for reel_id in df['reel_id']:\n",
    "    clean_reel_id = reel_id.strip(\"'\")\n",
    "    video_file = f\"{clean_reel_id}.mp4\"\n",
    "    video_list.append(video_file)"
   ]
  },
  {
   "cell_type": "code",
   "execution_count": 11,
   "id": "d3c432e8-1eba-4a3c-96bf-76eac91fc9ec",
   "metadata": {},
   "outputs": [
    {
     "data": {
      "text/plain": [
       "666"
      ]
     },
     "execution_count": 11,
     "metadata": {},
     "output_type": "execute_result"
    }
   ],
   "source": [
    "len(video_list)"
   ]
  },
  {
   "cell_type": "code",
   "execution_count": 13,
   "id": "483dd253-bd94-4eea-a25c-4f81c15214c2",
   "metadata": {},
   "outputs": [],
   "source": [
    "L = 5  \n",
    "frame_size = (224, 224)  \n",
    "similarity_threshold = 0.90  \n",
    "max_search_range = 4"
   ]
  },
  {
   "cell_type": "code",
   "execution_count": 18,
   "id": "1e70e904-7356-4cec-afdf-8138f6457a4c",
   "metadata": {},
   "outputs": [],
   "source": [
    "def get_frame_similarity(frame1, frame2):\n",
    "    gray1 = cv2.cvtColor(frame1, cv2.COLOR_BGR2GRAY)\n",
    "    gray2 = cv2.cvtColor(frame2, cv2.COLOR_BGR2GRAY)\n",
    "    return ssim(gray1, gray2)"
   ]
  },
  {
   "cell_type": "code",
   "execution_count": 19,
   "id": "13029e92-7cee-4c50-8103-fdbaf69777b5",
   "metadata": {},
   "outputs": [],
   "source": [
    "def extract_frames(video_path, save_dir, L=5, frame_size=(224, 224)):\n",
    "    cap = cv2.VideoCapture(video_path)\n",
    "    if not cap.isOpened():\n",
    "        print(f\"Error opening video: {video_path}\")\n",
    "        return\n",
    "\n",
    "    N = int(cap.get(cv2.CAP_PROP_FRAME_COUNT))  \n",
    "    fps = cap.get(cv2.CAP_PROP_FPS)  \n",
    "    W = max(N // L, 1)  \n",
    "\n",
    "    extracted_frames = []\n",
    "    prev_frame = None  \n",
    "\n",
    "    for i in range(L):\n",
    "        frame_idx = min(i * W, N - 1)  \n",
    "        cap.set(cv2.CAP_PROP_POS_FRAMES, frame_idx)\n",
    "        ret, frame = cap.read()\n",
    "        \n",
    "        if not ret:\n",
    "            break  \n",
    "\n",
    "        frame = cv2.resize(frame, frame_size)  \n",
    "\n",
    "        if prev_frame is not None:\n",
    "            similarity = get_frame_similarity(prev_frame, frame)\n",
    "            \n",
    "            if similarity > similarity_threshold:\n",
    "                found_different_frame = False\n",
    "                for j in range(1, max_search_range + 1):\n",
    "                    search_idx = min(frame_idx + j, N - 1)\n",
    "                    cap.set(cv2.CAP_PROP_POS_FRAMES, search_idx)\n",
    "                    ret, new_frame = cap.read()\n",
    "                    \n",
    "                    if not ret:\n",
    "                        break\n",
    "\n",
    "                    new_frame = cv2.resize(new_frame, frame_size)\n",
    "                    similarity = get_frame_similarity(prev_frame, new_frame)\n",
    "\n",
    "                    if similarity < similarity_threshold:\n",
    "                        frame = new_frame  \n",
    "                        found_different_frame = True\n",
    "                        break\n",
    "\n",
    "                if not found_different_frame:\n",
    "                    frame = new_frame  \n",
    "\n",
    "\n",
    "        extracted_frames.append(frame)\n",
    "        frame_filename = os.path.join(save_dir, f\"{os.path.basename(video_path)}_frame{i}.jpg\")\n",
    "        cv2.imwrite(frame_filename, frame)\n",
    "\n",
    "        prev_frame = frame  \n",
    "\n",
    "    cap.release()\n",
    "    return extracted_frames"
   ]
  },
  {
   "cell_type": "code",
   "execution_count": 20,
   "id": "5fb81382-b440-4947-bdbd-475c802d823e",
   "metadata": {},
   "outputs": [
    {
     "name": "stderr",
     "output_type": "stream",
     "text": [
      "Processing videos: 100%|█████████████████████████████████████████████████████████████| 666/666 [07:12<00:00,  1.54it/s]\n"
     ]
    }
   ],
   "source": [
    "for video_file in tqdm(video_list, desc=\"Processing videos\"):\n",
    "    video_path = os.path.join(video_dir, video_file)\n",
    "    video_save_dir = os.path.join(output_dir, os.path.splitext(video_file)[0])\n",
    "    os.makedirs(video_save_dir, exist_ok=True)\n",
    "    extract_frames(video_path, video_save_dir, L, frame_size)"
   ]
  },
  {
   "cell_type": "code",
   "execution_count": null,
   "id": "2913b0a9-ea1e-4e20-a0e6-d2aa12b9016e",
   "metadata": {},
   "outputs": [],
   "source": []
  }
 ],
 "metadata": {
  "kernelspec": {
   "display_name": "Python 3 (ipykernel)",
   "language": "python",
   "name": "python3"
  },
  "language_info": {
   "codemirror_mode": {
    "name": "ipython",
    "version": 3
   },
   "file_extension": ".py",
   "mimetype": "text/x-python",
   "name": "python",
   "nbconvert_exporter": "python",
   "pygments_lexer": "ipython3",
   "version": "3.12.1"
  }
 },
 "nbformat": 4,
 "nbformat_minor": 5
}
