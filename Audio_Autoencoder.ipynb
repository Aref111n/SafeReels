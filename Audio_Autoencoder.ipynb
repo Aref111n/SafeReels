{
  "nbformat": 4,
  "nbformat_minor": 0,
  "metadata": {
    "colab": {
      "provenance": []
    },
    "kernelspec": {
      "name": "python3",
      "display_name": "Python 3"
    },
    "language_info": {
      "name": "python"
    }
  },
  "cells": [
    {
      "cell_type": "code",
      "execution_count": 1,
      "metadata": {
        "colab": {
          "base_uri": "https://localhost:8080/"
        },
        "id": "FwWeVcjTPo8l",
        "outputId": "2d2a3f11-dfdd-4c63-ae7d-3694fa148706"
      },
      "outputs": [
        {
          "output_type": "stream",
          "name": "stdout",
          "text": [
            "Mounted at /content/drive\n"
          ]
        }
      ],
      "source": [
        "from google.colab import drive\n",
        "drive.mount('/content/drive')"
      ]
    },
    {
      "cell_type": "code",
      "source": [
        "import numpy as np\n",
        "import os\n",
        "import tensorflow as tf\n",
        "from tensorflow import keras\n",
        "from tensorflow.keras import layers\n",
        "from sklearn.model_selection import train_test_split\n",
        "from sklearn.preprocessing import LabelEncoder, StandardScaler\n",
        "from sklearn.metrics import classification_report, confusion_matrix\n",
        "import matplotlib.pyplot as plt\n",
        "import seaborn as sns"
      ],
      "metadata": {
        "id": "fpkTO2nhP03W"
      },
      "execution_count": 13,
      "outputs": []
    },
    {
      "cell_type": "code",
      "source": [
        "dir = \"/content/drive/MyDrive/SafeReels-664/Extracted_Features\""
      ],
      "metadata": {
        "id": "TUwWuaIGP_Wa"
      },
      "execution_count": 3,
      "outputs": []
    },
    {
      "cell_type": "code",
      "source": [
        "X = []"
      ],
      "metadata": {
        "id": "SrukQyY3QHDM"
      },
      "execution_count": 4,
      "outputs": []
    },
    {
      "cell_type": "code",
      "source": [
        "for file in os.listdir(dir):\n",
        "    if file.endswith(\".npy\"):\n",
        "        file_path = os.path.join(dir, file)\n",
        "        features = np.load(file_path)\n",
        "        X.append(features)"
      ],
      "metadata": {
        "id": "xadye7MhQIjR"
      },
      "execution_count": 5,
      "outputs": []
    },
    {
      "cell_type": "code",
      "source": [
        "X = np.array(X, dtype=np.float32)"
      ],
      "metadata": {
        "id": "g9zru3_-QJ8E"
      },
      "execution_count": 6,
      "outputs": []
    },
    {
      "cell_type": "code",
      "source": [
        "X.shape"
      ],
      "metadata": {
        "colab": {
          "base_uri": "https://localhost:8080/"
        },
        "id": "XqhUIcyxQL11",
        "outputId": "7aaa36a9-9b25-4dbd-fc4e-24ecd5a8f810"
      },
      "execution_count": 7,
      "outputs": [
        {
          "output_type": "execute_result",
          "data": {
            "text/plain": [
              "(664, 21160)"
            ]
          },
          "metadata": {},
          "execution_count": 7
        }
      ]
    },
    {
      "cell_type": "code",
      "source": [
        "import pandas as pd\n",
        "df = pd.read_csv(\"/content/Safereels annotation - Text_Annotation_data.csv\")\n",
        "df"
      ],
      "metadata": {
        "colab": {
          "base_uri": "https://localhost:8080/",
          "height": 563
        },
        "id": "z5LQSRC2QNSj",
        "outputId": "fe2bf3ea-45c9-4c9d-83ca-ae1b7071eafa"
      },
      "execution_count": 8,
      "outputs": [
        {
          "output_type": "execute_result",
          "data": {
            "text/plain": [
              "                                    reel_id  isSafe UnsafeType  \\\n",
              "0    www.facebook.com/reel/1000188341415358       1       Safe   \n",
              "1    www.facebook.com/reel/1006146964533997       1       Safe   \n",
              "2    www.facebook.com/reel/1007123741459823       0      Adult   \n",
              "3    www.facebook.com/reel/1007420607202244       1       Safe   \n",
              "4    www.facebook.com/reel/1008519870870927       1       Safe   \n",
              "..                                      ...     ...        ...   \n",
              "659   www.facebook.com/reel/997262608752854       0      Adult   \n",
              "660   www.facebook.com/reel/997300345735398       0    Harmful   \n",
              "661   www.facebook.com/reel/998187401354206       1       Safe   \n",
              "662   www.facebook.com/reel/999558344609179       1       Safe   \n",
              "663   www.facebook.com/reel/999669865038215       1       Safe   \n",
              "\n",
              "                                          Visual texts  \\\n",
              "0       Me on my way to watch Oppenheimer After Berbie   \n",
              "1                                                  NaN   \n",
              "2         বান্ধবী আমার লাগানির পিনিকে আছে Love in love   \n",
              "3         প্রত্যেকটা অফিসে এমন একজন কলিগ থাকবেই Laptop   \n",
              "4            হ্যালো শার্ক ট্যাঙ্ক বাংলাদেশ আই এম কামিং   \n",
              "..                                                 ...   \n",
              "659                                                NaN   \n",
              "660                                                NaN   \n",
              "661  খবরঃ কয়লা নিয়ে মোংলা বন্দরে এলো চীনের জাহাজ দে...   \n",
              "662          সাকিব আল হাসান to বাংলাদেশী ক্রিকেট ফ্যান   \n",
              "663                                                NaN   \n",
              "\n",
              "                                           Audio texts  \n",
              "0                                                  NaN  \n",
              "1    এ মামা দুইটা সিঙ্গারা আর দুইটা সমুচা একটু তাড়া...  \n",
              "2    পাগলা হাওয়ার বাদল দিনে পাগল আমার মন জেগে ওঠে প...  \n",
              "3    যুদ্ধ আনে ধ্বংস সজনী সজনী তোমারে দেখিয়া মাতাল ...  \n",
              "4                                                  NaN  \n",
              "..                                                 ...  \n",
              "659                                                NaN  \n",
              "660                                                NaN  \n",
              "661                                                NaN  \n",
              "662                                                NaN  \n",
              "663                                                NaN  \n",
              "\n",
              "[664 rows x 5 columns]"
            ],
            "text/html": [
              "\n",
              "  <div id=\"df-c4f46193-5d38-4620-8e63-dce22d291141\" class=\"colab-df-container\">\n",
              "    <div>\n",
              "<style scoped>\n",
              "    .dataframe tbody tr th:only-of-type {\n",
              "        vertical-align: middle;\n",
              "    }\n",
              "\n",
              "    .dataframe tbody tr th {\n",
              "        vertical-align: top;\n",
              "    }\n",
              "\n",
              "    .dataframe thead th {\n",
              "        text-align: right;\n",
              "    }\n",
              "</style>\n",
              "<table border=\"1\" class=\"dataframe\">\n",
              "  <thead>\n",
              "    <tr style=\"text-align: right;\">\n",
              "      <th></th>\n",
              "      <th>reel_id</th>\n",
              "      <th>isSafe</th>\n",
              "      <th>UnsafeType</th>\n",
              "      <th>Visual texts</th>\n",
              "      <th>Audio texts</th>\n",
              "    </tr>\n",
              "  </thead>\n",
              "  <tbody>\n",
              "    <tr>\n",
              "      <th>0</th>\n",
              "      <td>www.facebook.com/reel/1000188341415358</td>\n",
              "      <td>1</td>\n",
              "      <td>Safe</td>\n",
              "      <td>Me on my way to watch Oppenheimer After Berbie</td>\n",
              "      <td>NaN</td>\n",
              "    </tr>\n",
              "    <tr>\n",
              "      <th>1</th>\n",
              "      <td>www.facebook.com/reel/1006146964533997</td>\n",
              "      <td>1</td>\n",
              "      <td>Safe</td>\n",
              "      <td>NaN</td>\n",
              "      <td>এ মামা দুইটা সিঙ্গারা আর দুইটা সমুচা একটু তাড়া...</td>\n",
              "    </tr>\n",
              "    <tr>\n",
              "      <th>2</th>\n",
              "      <td>www.facebook.com/reel/1007123741459823</td>\n",
              "      <td>0</td>\n",
              "      <td>Adult</td>\n",
              "      <td>বান্ধবী আমার লাগানির পিনিকে আছে Love in love</td>\n",
              "      <td>পাগলা হাওয়ার বাদল দিনে পাগল আমার মন জেগে ওঠে প...</td>\n",
              "    </tr>\n",
              "    <tr>\n",
              "      <th>3</th>\n",
              "      <td>www.facebook.com/reel/1007420607202244</td>\n",
              "      <td>1</td>\n",
              "      <td>Safe</td>\n",
              "      <td>প্রত্যেকটা অফিসে এমন একজন কলিগ থাকবেই Laptop</td>\n",
              "      <td>যুদ্ধ আনে ধ্বংস সজনী সজনী তোমারে দেখিয়া মাতাল ...</td>\n",
              "    </tr>\n",
              "    <tr>\n",
              "      <th>4</th>\n",
              "      <td>www.facebook.com/reel/1008519870870927</td>\n",
              "      <td>1</td>\n",
              "      <td>Safe</td>\n",
              "      <td>হ্যালো শার্ক ট্যাঙ্ক বাংলাদেশ আই এম কামিং</td>\n",
              "      <td>NaN</td>\n",
              "    </tr>\n",
              "    <tr>\n",
              "      <th>...</th>\n",
              "      <td>...</td>\n",
              "      <td>...</td>\n",
              "      <td>...</td>\n",
              "      <td>...</td>\n",
              "      <td>...</td>\n",
              "    </tr>\n",
              "    <tr>\n",
              "      <th>659</th>\n",
              "      <td>www.facebook.com/reel/997262608752854</td>\n",
              "      <td>0</td>\n",
              "      <td>Adult</td>\n",
              "      <td>NaN</td>\n",
              "      <td>NaN</td>\n",
              "    </tr>\n",
              "    <tr>\n",
              "      <th>660</th>\n",
              "      <td>www.facebook.com/reel/997300345735398</td>\n",
              "      <td>0</td>\n",
              "      <td>Harmful</td>\n",
              "      <td>NaN</td>\n",
              "      <td>NaN</td>\n",
              "    </tr>\n",
              "    <tr>\n",
              "      <th>661</th>\n",
              "      <td>www.facebook.com/reel/998187401354206</td>\n",
              "      <td>1</td>\n",
              "      <td>Safe</td>\n",
              "      <td>খবরঃ কয়লা নিয়ে মোংলা বন্দরে এলো চীনের জাহাজ দে...</td>\n",
              "      <td>NaN</td>\n",
              "    </tr>\n",
              "    <tr>\n",
              "      <th>662</th>\n",
              "      <td>www.facebook.com/reel/999558344609179</td>\n",
              "      <td>1</td>\n",
              "      <td>Safe</td>\n",
              "      <td>সাকিব আল হাসান to বাংলাদেশী ক্রিকেট ফ্যান</td>\n",
              "      <td>NaN</td>\n",
              "    </tr>\n",
              "    <tr>\n",
              "      <th>663</th>\n",
              "      <td>www.facebook.com/reel/999669865038215</td>\n",
              "      <td>1</td>\n",
              "      <td>Safe</td>\n",
              "      <td>NaN</td>\n",
              "      <td>NaN</td>\n",
              "    </tr>\n",
              "  </tbody>\n",
              "</table>\n",
              "<p>664 rows × 5 columns</p>\n",
              "</div>\n",
              "    <div class=\"colab-df-buttons\">\n",
              "\n",
              "  <div class=\"colab-df-container\">\n",
              "    <button class=\"colab-df-convert\" onclick=\"convertToInteractive('df-c4f46193-5d38-4620-8e63-dce22d291141')\"\n",
              "            title=\"Convert this dataframe to an interactive table.\"\n",
              "            style=\"display:none;\">\n",
              "\n",
              "  <svg xmlns=\"http://www.w3.org/2000/svg\" height=\"24px\" viewBox=\"0 -960 960 960\">\n",
              "    <path d=\"M120-120v-720h720v720H120Zm60-500h600v-160H180v160Zm220 220h160v-160H400v160Zm0 220h160v-160H400v160ZM180-400h160v-160H180v160Zm440 0h160v-160H620v160ZM180-180h160v-160H180v160Zm440 0h160v-160H620v160Z\"/>\n",
              "  </svg>\n",
              "    </button>\n",
              "\n",
              "  <style>\n",
              "    .colab-df-container {\n",
              "      display:flex;\n",
              "      gap: 12px;\n",
              "    }\n",
              "\n",
              "    .colab-df-convert {\n",
              "      background-color: #E8F0FE;\n",
              "      border: none;\n",
              "      border-radius: 50%;\n",
              "      cursor: pointer;\n",
              "      display: none;\n",
              "      fill: #1967D2;\n",
              "      height: 32px;\n",
              "      padding: 0 0 0 0;\n",
              "      width: 32px;\n",
              "    }\n",
              "\n",
              "    .colab-df-convert:hover {\n",
              "      background-color: #E2EBFA;\n",
              "      box-shadow: 0px 1px 2px rgba(60, 64, 67, 0.3), 0px 1px 3px 1px rgba(60, 64, 67, 0.15);\n",
              "      fill: #174EA6;\n",
              "    }\n",
              "\n",
              "    .colab-df-buttons div {\n",
              "      margin-bottom: 4px;\n",
              "    }\n",
              "\n",
              "    [theme=dark] .colab-df-convert {\n",
              "      background-color: #3B4455;\n",
              "      fill: #D2E3FC;\n",
              "    }\n",
              "\n",
              "    [theme=dark] .colab-df-convert:hover {\n",
              "      background-color: #434B5C;\n",
              "      box-shadow: 0px 1px 3px 1px rgba(0, 0, 0, 0.15);\n",
              "      filter: drop-shadow(0px 1px 2px rgba(0, 0, 0, 0.3));\n",
              "      fill: #FFFFFF;\n",
              "    }\n",
              "  </style>\n",
              "\n",
              "    <script>\n",
              "      const buttonEl =\n",
              "        document.querySelector('#df-c4f46193-5d38-4620-8e63-dce22d291141 button.colab-df-convert');\n",
              "      buttonEl.style.display =\n",
              "        google.colab.kernel.accessAllowed ? 'block' : 'none';\n",
              "\n",
              "      async function convertToInteractive(key) {\n",
              "        const element = document.querySelector('#df-c4f46193-5d38-4620-8e63-dce22d291141');\n",
              "        const dataTable =\n",
              "          await google.colab.kernel.invokeFunction('convertToInteractive',\n",
              "                                                    [key], {});\n",
              "        if (!dataTable) return;\n",
              "\n",
              "        const docLinkHtml = 'Like what you see? Visit the ' +\n",
              "          '<a target=\"_blank\" href=https://colab.research.google.com/notebooks/data_table.ipynb>data table notebook</a>'\n",
              "          + ' to learn more about interactive tables.';\n",
              "        element.innerHTML = '';\n",
              "        dataTable['output_type'] = 'display_data';\n",
              "        await google.colab.output.renderOutput(dataTable, element);\n",
              "        const docLink = document.createElement('div');\n",
              "        docLink.innerHTML = docLinkHtml;\n",
              "        element.appendChild(docLink);\n",
              "      }\n",
              "    </script>\n",
              "  </div>\n",
              "\n",
              "\n",
              "<div id=\"df-726c2b77-b73c-49e5-a03d-0b6c33ce1a49\">\n",
              "  <button class=\"colab-df-quickchart\" onclick=\"quickchart('df-726c2b77-b73c-49e5-a03d-0b6c33ce1a49')\"\n",
              "            title=\"Suggest charts\"\n",
              "            style=\"display:none;\">\n",
              "\n",
              "<svg xmlns=\"http://www.w3.org/2000/svg\" height=\"24px\"viewBox=\"0 0 24 24\"\n",
              "     width=\"24px\">\n",
              "    <g>\n",
              "        <path d=\"M19 3H5c-1.1 0-2 .9-2 2v14c0 1.1.9 2 2 2h14c1.1 0 2-.9 2-2V5c0-1.1-.9-2-2-2zM9 17H7v-7h2v7zm4 0h-2V7h2v10zm4 0h-2v-4h2v4z\"/>\n",
              "    </g>\n",
              "</svg>\n",
              "  </button>\n",
              "\n",
              "<style>\n",
              "  .colab-df-quickchart {\n",
              "      --bg-color: #E8F0FE;\n",
              "      --fill-color: #1967D2;\n",
              "      --hover-bg-color: #E2EBFA;\n",
              "      --hover-fill-color: #174EA6;\n",
              "      --disabled-fill-color: #AAA;\n",
              "      --disabled-bg-color: #DDD;\n",
              "  }\n",
              "\n",
              "  [theme=dark] .colab-df-quickchart {\n",
              "      --bg-color: #3B4455;\n",
              "      --fill-color: #D2E3FC;\n",
              "      --hover-bg-color: #434B5C;\n",
              "      --hover-fill-color: #FFFFFF;\n",
              "      --disabled-bg-color: #3B4455;\n",
              "      --disabled-fill-color: #666;\n",
              "  }\n",
              "\n",
              "  .colab-df-quickchart {\n",
              "    background-color: var(--bg-color);\n",
              "    border: none;\n",
              "    border-radius: 50%;\n",
              "    cursor: pointer;\n",
              "    display: none;\n",
              "    fill: var(--fill-color);\n",
              "    height: 32px;\n",
              "    padding: 0;\n",
              "    width: 32px;\n",
              "  }\n",
              "\n",
              "  .colab-df-quickchart:hover {\n",
              "    background-color: var(--hover-bg-color);\n",
              "    box-shadow: 0 1px 2px rgba(60, 64, 67, 0.3), 0 1px 3px 1px rgba(60, 64, 67, 0.15);\n",
              "    fill: var(--button-hover-fill-color);\n",
              "  }\n",
              "\n",
              "  .colab-df-quickchart-complete:disabled,\n",
              "  .colab-df-quickchart-complete:disabled:hover {\n",
              "    background-color: var(--disabled-bg-color);\n",
              "    fill: var(--disabled-fill-color);\n",
              "    box-shadow: none;\n",
              "  }\n",
              "\n",
              "  .colab-df-spinner {\n",
              "    border: 2px solid var(--fill-color);\n",
              "    border-color: transparent;\n",
              "    border-bottom-color: var(--fill-color);\n",
              "    animation:\n",
              "      spin 1s steps(1) infinite;\n",
              "  }\n",
              "\n",
              "  @keyframes spin {\n",
              "    0% {\n",
              "      border-color: transparent;\n",
              "      border-bottom-color: var(--fill-color);\n",
              "      border-left-color: var(--fill-color);\n",
              "    }\n",
              "    20% {\n",
              "      border-color: transparent;\n",
              "      border-left-color: var(--fill-color);\n",
              "      border-top-color: var(--fill-color);\n",
              "    }\n",
              "    30% {\n",
              "      border-color: transparent;\n",
              "      border-left-color: var(--fill-color);\n",
              "      border-top-color: var(--fill-color);\n",
              "      border-right-color: var(--fill-color);\n",
              "    }\n",
              "    40% {\n",
              "      border-color: transparent;\n",
              "      border-right-color: var(--fill-color);\n",
              "      border-top-color: var(--fill-color);\n",
              "    }\n",
              "    60% {\n",
              "      border-color: transparent;\n",
              "      border-right-color: var(--fill-color);\n",
              "    }\n",
              "    80% {\n",
              "      border-color: transparent;\n",
              "      border-right-color: var(--fill-color);\n",
              "      border-bottom-color: var(--fill-color);\n",
              "    }\n",
              "    90% {\n",
              "      border-color: transparent;\n",
              "      border-bottom-color: var(--fill-color);\n",
              "    }\n",
              "  }\n",
              "</style>\n",
              "\n",
              "  <script>\n",
              "    async function quickchart(key) {\n",
              "      const quickchartButtonEl =\n",
              "        document.querySelector('#' + key + ' button');\n",
              "      quickchartButtonEl.disabled = true;  // To prevent multiple clicks.\n",
              "      quickchartButtonEl.classList.add('colab-df-spinner');\n",
              "      try {\n",
              "        const charts = await google.colab.kernel.invokeFunction(\n",
              "            'suggestCharts', [key], {});\n",
              "      } catch (error) {\n",
              "        console.error('Error during call to suggestCharts:', error);\n",
              "      }\n",
              "      quickchartButtonEl.classList.remove('colab-df-spinner');\n",
              "      quickchartButtonEl.classList.add('colab-df-quickchart-complete');\n",
              "    }\n",
              "    (() => {\n",
              "      let quickchartButtonEl =\n",
              "        document.querySelector('#df-726c2b77-b73c-49e5-a03d-0b6c33ce1a49 button');\n",
              "      quickchartButtonEl.style.display =\n",
              "        google.colab.kernel.accessAllowed ? 'block' : 'none';\n",
              "    })();\n",
              "  </script>\n",
              "</div>\n",
              "\n",
              "  <div id=\"id_84681663-4c4e-4fd5-a787-f95217092233\">\n",
              "    <style>\n",
              "      .colab-df-generate {\n",
              "        background-color: #E8F0FE;\n",
              "        border: none;\n",
              "        border-radius: 50%;\n",
              "        cursor: pointer;\n",
              "        display: none;\n",
              "        fill: #1967D2;\n",
              "        height: 32px;\n",
              "        padding: 0 0 0 0;\n",
              "        width: 32px;\n",
              "      }\n",
              "\n",
              "      .colab-df-generate:hover {\n",
              "        background-color: #E2EBFA;\n",
              "        box-shadow: 0px 1px 2px rgba(60, 64, 67, 0.3), 0px 1px 3px 1px rgba(60, 64, 67, 0.15);\n",
              "        fill: #174EA6;\n",
              "      }\n",
              "\n",
              "      [theme=dark] .colab-df-generate {\n",
              "        background-color: #3B4455;\n",
              "        fill: #D2E3FC;\n",
              "      }\n",
              "\n",
              "      [theme=dark] .colab-df-generate:hover {\n",
              "        background-color: #434B5C;\n",
              "        box-shadow: 0px 1px 3px 1px rgba(0, 0, 0, 0.15);\n",
              "        filter: drop-shadow(0px 1px 2px rgba(0, 0, 0, 0.3));\n",
              "        fill: #FFFFFF;\n",
              "      }\n",
              "    </style>\n",
              "    <button class=\"colab-df-generate\" onclick=\"generateWithVariable('df')\"\n",
              "            title=\"Generate code using this dataframe.\"\n",
              "            style=\"display:none;\">\n",
              "\n",
              "  <svg xmlns=\"http://www.w3.org/2000/svg\" height=\"24px\"viewBox=\"0 0 24 24\"\n",
              "       width=\"24px\">\n",
              "    <path d=\"M7,19H8.4L18.45,9,17,7.55,7,17.6ZM5,21V16.75L18.45,3.32a2,2,0,0,1,2.83,0l1.4,1.43a1.91,1.91,0,0,1,.58,1.4,1.91,1.91,0,0,1-.58,1.4L9.25,21ZM18.45,9,17,7.55Zm-12,3A5.31,5.31,0,0,0,4.9,8.1,5.31,5.31,0,0,0,1,6.5,5.31,5.31,0,0,0,4.9,4.9,5.31,5.31,0,0,0,6.5,1,5.31,5.31,0,0,0,8.1,4.9,5.31,5.31,0,0,0,12,6.5,5.46,5.46,0,0,0,6.5,12Z\"/>\n",
              "  </svg>\n",
              "    </button>\n",
              "    <script>\n",
              "      (() => {\n",
              "      const buttonEl =\n",
              "        document.querySelector('#id_84681663-4c4e-4fd5-a787-f95217092233 button.colab-df-generate');\n",
              "      buttonEl.style.display =\n",
              "        google.colab.kernel.accessAllowed ? 'block' : 'none';\n",
              "\n",
              "      buttonEl.onclick = () => {\n",
              "        google.colab.notebook.generateWithVariable('df');\n",
              "      }\n",
              "      })();\n",
              "    </script>\n",
              "  </div>\n",
              "\n",
              "    </div>\n",
              "  </div>\n"
            ],
            "application/vnd.google.colaboratory.intrinsic+json": {
              "type": "dataframe",
              "variable_name": "df",
              "summary": "{\n  \"name\": \"df\",\n  \"rows\": 664,\n  \"fields\": [\n    {\n      \"column\": \"reel_id\",\n      \"properties\": {\n        \"dtype\": \"string\",\n        \"num_unique_values\": 664,\n        \"samples\": [\n          \"www.facebook.com/reel/1971834463292757\",\n          \"www.facebook.com/reel/2026092764517655\",\n          \"www.facebook.com/reel/556820800291545\"\n        ],\n        \"semantic_type\": \"\",\n        \"description\": \"\"\n      }\n    },\n    {\n      \"column\": \"isSafe\",\n      \"properties\": {\n        \"dtype\": \"number\",\n        \"std\": 0,\n        \"min\": 0,\n        \"max\": 1,\n        \"num_unique_values\": 2,\n        \"samples\": [\n          0,\n          1\n        ],\n        \"semantic_type\": \"\",\n        \"description\": \"\"\n      }\n    },\n    {\n      \"column\": \"UnsafeType\",\n      \"properties\": {\n        \"dtype\": \"category\",\n        \"num_unique_values\": 4,\n        \"samples\": [\n          \"Adult\",\n          \"Suicidal\"\n        ],\n        \"semantic_type\": \"\",\n        \"description\": \"\"\n      }\n    },\n    {\n      \"column\": \"Visual texts\",\n      \"properties\": {\n        \"dtype\": \"category\",\n        \"num_unique_values\": 157,\n        \"samples\": [\n          \"\\u0986\\u09aa\\u09a8\\u09bf \\u09af\\u09a4\\u0987 \\u09b6\\u09bf\\u0995\\u09cd\\u09b7\\u09bf\\u09a4 \\u09b9\\u09cb\\u09a8 \\u09ac\\u0989\\u09df\\u09c7\\u09b0 \\u0995\\u09be\\u099b\\u09c7 \\u09ad\\u09c1\\u09b2 \\u09b9\\u09ac\\u09c7 \\u09ac\\u09a8\\u09cd\\u09a7\\u09c1 \\u09af\\u0996\\u09a8 \\u09ac\\u0989 \\u09b2\\u0987\\u09df\\u09be \\u0986\\u09ae\\u09be\\u09b0 \\u09ac\\u09be\\u09dc\\u09c0\\u09b0 \\u09b8\\u09be\\u09ae\\u09a8\\u09c7 \\u09a6\\u09bf\\u09df\\u09be \\u09b0\\u0999 \\u0995\\u0987\\u09b0\\u09be \\u09b9\\u09be\\u0987\\u099f\\u09cd\\u099f\\u09be \\u09af\\u09be\\u09df, \\u09ab\\u09be\\u0987\\u099f\\u09cd\\u099f\\u09be \\u09af\\u09be\\u09df \\u09ac\\u09c1\\u0995\\u099f\\u09be \\u09ab\\u09be\\u0987\\u099f\\u09cd\\u099f\\u09be \\u09af\\u09be\\u09df \\u09ab\\u09be\\u0987\\u099f\\u09cd\\u099f\\u09be \\u09af\\u09be\\u09df \\u09ac\\u09c1\\u0995\\u099f\\u09be \\u09ab\\u09be\\u0987\\u099f\\u09cd\\u099f\\u09be \\u09af\\u09be\\u09df \\u0985\\u09a8\\u09c1\\u09ac\\u09be\\u09a6\",\n          \"\\u09aa\\u09bf\\u0993\\u09b0 \\u09b2\\u09be\\u09ad This is \\u09ac\\u09bf\\u099c\\u09a8\\u09c7\\u09b8 \\u099f\\u09be\\u0995\\u09be \\u09aa\\u09be\\u0987\\u09b2\\u09c7 \\u09ad\\u09c1\\u09dc\\u09bf \\u0993\\u09df\\u09be\\u09b2\\u09be \\u09ac\\u09c1\\u09dc\\u09be \\u0995\\u09be\\u0995\\u09be\\u09b0 \\u09ac\\u0989 \\u09b9\\u0987\\u09a4\\u09c7\\u0993 \\u09b0\\u09be\\u099c\\u09bf\"\n        ],\n        \"semantic_type\": \"\",\n        \"description\": \"\"\n      }\n    },\n    {\n      \"column\": \"Audio texts\",\n      \"properties\": {\n        \"dtype\": \"category\",\n        \"num_unique_values\": 4,\n        \"samples\": [\n          \"\\u09aa\\u09be\\u0997\\u09b2\\u09be \\u09b9\\u09be\\u0993\\u09df\\u09be\\u09b0 \\u09ac\\u09be\\u09a6\\u09b2 \\u09a6\\u09bf\\u09a8\\u09c7 \\u09aa\\u09be\\u0997\\u09b2 \\u0986\\u09ae\\u09be\\u09b0 \\u09ae\\u09a8 \\u099c\\u09c7\\u0997\\u09c7 \\u0993\\u09a0\\u09c7 \\u09aa\\u09be\\u0997\\u09b2\\u09be \\u09b9\\u09be\\u0993\\u09df\\u09be\\u09b0\",\n          \"\\u09b8\\u09ae\\u09df \\u09aa\\u09be\\u0987\\u09b2\\u09c7 \\u099f\\u09be\\u0982\\u0995\\u09bf \\u09ae\\u09be\\u09b0\\u09a4\\u09c7 \\u0986\\u0987\\u09df\\u09cb \\u0993 \\u09ac\\u09a8\\u09cd\\u09a7\\u09c1 \\u0997\\u09cb \\u09b8\\u09ae\\u09df \\u09aa\\u09be\\u0987\\u09b2\\u09c7 \\u099f\\u09be\\u0982\\u0995\\u09bf \\u09ae\\u09be\\u09b0\\u09a4\\u09c7 \\u0986\\u0987\\u09df\\u09cb \\u09a4\\u09c1\\u09ae\\u09bf \\u09b8\\u09ae\\u09df \\u09aa\\u09be\\u0987\\u09b2\\u09c7 \\u099f\\u09be\\u0982\\u0995\\u09bf \\u09ae\\u09be\\u09b0\\u09a4\\u09c7 \\u0986\\u0987\\u09df\\u09cb \\u0993 \\u09ac\\u09a8\\u09cd\\u09a7\\u09c1 \\u0997\\u09cb \\u09b8\\u09ae\\u09df \\u09aa\\u09be\\u0987\\u09b2\\u09c7 \\u099f\\u09be\\u0982\\u0995\\u09bf \\u09ae\\u09be\\u09b0\\u09a4\\u09c7 \\u0986\\u0987\\u09df\\u09cb\"\n        ],\n        \"semantic_type\": \"\",\n        \"description\": \"\"\n      }\n    }\n  ]\n}"
            }
          },
          "metadata": {},
          "execution_count": 8
        }
      ]
    },
    {
      "cell_type": "code",
      "source": [
        "df['UnsafeType'], uniques = pd.factorize(df['UnsafeType'])\n",
        "uniques"
      ],
      "metadata": {
        "colab": {
          "base_uri": "https://localhost:8080/"
        },
        "id": "l33WLn-lQTA-",
        "outputId": "fe09a858-3207-4af8-dd87-d14094427623"
      },
      "execution_count": 9,
      "outputs": [
        {
          "output_type": "execute_result",
          "data": {
            "text/plain": [
              "Index(['Safe', 'Adult', 'Harmful', 'Suicidal'], dtype='object')"
            ]
          },
          "metadata": {},
          "execution_count": 9
        }
      ]
    },
    {
      "cell_type": "code",
      "source": [
        "y = df['UnsafeType'].tolist()"
      ],
      "metadata": {
        "id": "K11zq2PGQU0K"
      },
      "execution_count": 10,
      "outputs": []
    },
    {
      "cell_type": "code",
      "source": [
        "y = np.array(y)\n",
        "y.shape"
      ],
      "metadata": {
        "colab": {
          "base_uri": "https://localhost:8080/"
        },
        "id": "W-gEIUB1QWCU",
        "outputId": "8b503a69-2db8-4d6b-dc5c-92644f93959c"
      },
      "execution_count": 11,
      "outputs": [
        {
          "output_type": "execute_result",
          "data": {
            "text/plain": [
              "(664,)"
            ]
          },
          "metadata": {},
          "execution_count": 11
        }
      ]
    },
    {
      "cell_type": "code",
      "source": [
        "scaler = StandardScaler()\n",
        "X = scaler.fit_transform(X)"
      ],
      "metadata": {
        "id": "zhwCWv2QQXzp"
      },
      "execution_count": 14,
      "outputs": []
    },
    {
      "cell_type": "code",
      "source": [
        "X_train, X_test, y_train, y_test = train_test_split(X, y, test_size=0.2, random_state=42, stratify=y)"
      ],
      "metadata": {
        "id": "l4xLlSyGQbaO"
      },
      "execution_count": 15,
      "outputs": []
    },
    {
      "cell_type": "code",
      "source": [
        "input_dim = X.shape[1]  # Feature size\n",
        "X_train = X_train.reshape(-1, input_dim)\n",
        "X_test = X_test.reshape(-1, input_dim)"
      ],
      "metadata": {
        "id": "lwcF50mNRMzv"
      },
      "execution_count": 16,
      "outputs": []
    },
    {
      "cell_type": "code",
      "source": [
        "encoding_dim = 32"
      ],
      "metadata": {
        "id": "2ny7ARI0RRGm"
      },
      "execution_count": 17,
      "outputs": []
    },
    {
      "cell_type": "code",
      "source": [
        "input_layer = keras.Input(shape=(input_dim,))\n",
        "encoded = layers.Dense(encoding_dim, activation=\"relu\")(input_layer)\n",
        "decoded = layers.Dense(input_dim, activation=\"sigmoid\")(encoded)"
      ],
      "metadata": {
        "id": "0LBxqz4SRSyT"
      },
      "execution_count": 18,
      "outputs": []
    },
    {
      "cell_type": "code",
      "source": [
        "autoencoder = keras.Model(input_layer, decoded)\n",
        "encoder = keras.Model(input_layer, encoded)"
      ],
      "metadata": {
        "id": "aZWLx8kKRU7-"
      },
      "execution_count": 19,
      "outputs": []
    },
    {
      "cell_type": "code",
      "source": [
        "autoencoder.compile(optimizer=\"adam\", loss=\"mse\")"
      ],
      "metadata": {
        "id": "x-YUxcKTRW8N"
      },
      "execution_count": 20,
      "outputs": []
    },
    {
      "cell_type": "code",
      "source": [
        "autoencoder.fit(X_train, X_train, epochs=50, batch_size=16, validation_data=(X_test, X_test))"
      ],
      "metadata": {
        "colab": {
          "base_uri": "https://localhost:8080/"
        },
        "id": "49nMKN-DRYnX",
        "outputId": "aeeb74c5-053f-4a50-d11a-f18a4dcbaa92"
      },
      "execution_count": 21,
      "outputs": [
        {
          "output_type": "stream",
          "name": "stdout",
          "text": [
            "Epoch 1/50\n",
            "\u001b[1m34/34\u001b[0m \u001b[32m━━━━━━━━━━━━━━━━━━━━\u001b[0m\u001b[37m\u001b[0m \u001b[1m2s\u001b[0m 31ms/step - loss: 1.0096 - val_loss: 0.9654\n",
            "Epoch 2/50\n",
            "\u001b[1m34/34\u001b[0m \u001b[32m━━━━━━━━━━━━━━━━━━━━\u001b[0m\u001b[37m\u001b[0m \u001b[1m1s\u001b[0m 22ms/step - loss: 0.9733 - val_loss: 0.9305\n",
            "Epoch 3/50\n",
            "\u001b[1m34/34\u001b[0m \u001b[32m━━━━━━━━━━━━━━━━━━━━\u001b[0m\u001b[37m\u001b[0m \u001b[1m1s\u001b[0m 24ms/step - loss: 0.7749 - val_loss: 0.9138\n",
            "Epoch 4/50\n",
            "\u001b[1m34/34\u001b[0m \u001b[32m━━━━━━━━━━━━━━━━━━━━\u001b[0m\u001b[37m\u001b[0m \u001b[1m1s\u001b[0m 22ms/step - loss: 0.8145 - val_loss: 0.9050\n",
            "Epoch 5/50\n",
            "\u001b[1m34/34\u001b[0m \u001b[32m━━━━━━━━━━━━━━━━━━━━\u001b[0m\u001b[37m\u001b[0m \u001b[1m1s\u001b[0m 21ms/step - loss: 0.8091 - val_loss: 0.8973\n",
            "Epoch 6/50\n",
            "\u001b[1m34/34\u001b[0m \u001b[32m━━━━━━━━━━━━━━━━━━━━\u001b[0m\u001b[37m\u001b[0m \u001b[1m1s\u001b[0m 28ms/step - loss: 0.7603 - val_loss: 0.8932\n",
            "Epoch 7/50\n",
            "\u001b[1m34/34\u001b[0m \u001b[32m━━━━━━━━━━━━━━━━━━━━\u001b[0m\u001b[37m\u001b[0m \u001b[1m1s\u001b[0m 33ms/step - loss: 0.7003 - val_loss: 0.8881\n",
            "Epoch 8/50\n",
            "\u001b[1m34/34\u001b[0m \u001b[32m━━━━━━━━━━━━━━━━━━━━\u001b[0m\u001b[37m\u001b[0m \u001b[1m1s\u001b[0m 32ms/step - loss: 0.7676 - val_loss: 0.8836\n",
            "Epoch 9/50\n",
            "\u001b[1m34/34\u001b[0m \u001b[32m━━━━━━━━━━━━━━━━━━━━\u001b[0m\u001b[37m\u001b[0m \u001b[1m1s\u001b[0m 35ms/step - loss: 0.8318 - val_loss: 0.8807\n",
            "Epoch 10/50\n",
            "\u001b[1m34/34\u001b[0m \u001b[32m━━━━━━━━━━━━━━━━━━━━\u001b[0m\u001b[37m\u001b[0m \u001b[1m1s\u001b[0m 22ms/step - loss: 0.8701 - val_loss: 0.8793\n",
            "Epoch 11/50\n",
            "\u001b[1m34/34\u001b[0m \u001b[32m━━━━━━━━━━━━━━━━━━━━\u001b[0m\u001b[37m\u001b[0m \u001b[1m1s\u001b[0m 22ms/step - loss: 0.7945 - val_loss: 0.8752\n",
            "Epoch 12/50\n",
            "\u001b[1m34/34\u001b[0m \u001b[32m━━━━━━━━━━━━━━━━━━━━\u001b[0m\u001b[37m\u001b[0m \u001b[1m1s\u001b[0m 22ms/step - loss: 0.7151 - val_loss: 0.8744\n",
            "Epoch 13/50\n",
            "\u001b[1m34/34\u001b[0m \u001b[32m━━━━━━━━━━━━━━━━━━━━\u001b[0m\u001b[37m\u001b[0m \u001b[1m1s\u001b[0m 21ms/step - loss: 0.7300 - val_loss: 0.8717\n",
            "Epoch 14/50\n",
            "\u001b[1m34/34\u001b[0m \u001b[32m━━━━━━━━━━━━━━━━━━━━\u001b[0m\u001b[37m\u001b[0m \u001b[1m1s\u001b[0m 25ms/step - loss: 0.8576 - val_loss: 0.8713\n",
            "Epoch 15/50\n",
            "\u001b[1m34/34\u001b[0m \u001b[32m━━━━━━━━━━━━━━━━━━━━\u001b[0m\u001b[37m\u001b[0m \u001b[1m1s\u001b[0m 21ms/step - loss: 0.6931 - val_loss: 0.8697\n",
            "Epoch 16/50\n",
            "\u001b[1m34/34\u001b[0m \u001b[32m━━━━━━━━━━━━━━━━━━━━\u001b[0m\u001b[37m\u001b[0m \u001b[1m1s\u001b[0m 26ms/step - loss: 0.7652 - val_loss: 0.8707\n",
            "Epoch 17/50\n",
            "\u001b[1m34/34\u001b[0m \u001b[32m━━━━━━━━━━━━━━━━━━━━\u001b[0m\u001b[37m\u001b[0m \u001b[1m1s\u001b[0m 22ms/step - loss: 0.7059 - val_loss: 0.8683\n",
            "Epoch 18/50\n",
            "\u001b[1m34/34\u001b[0m \u001b[32m━━━━━━━━━━━━━━━━━━━━\u001b[0m\u001b[37m\u001b[0m \u001b[1m1s\u001b[0m 22ms/step - loss: 0.7840 - val_loss: 0.8668\n",
            "Epoch 19/50\n",
            "\u001b[1m34/34\u001b[0m \u001b[32m━━━━━━━━━━━━━━━━━━━━\u001b[0m\u001b[37m\u001b[0m \u001b[1m2s\u001b[0m 38ms/step - loss: 0.7434 - val_loss: 0.8659\n",
            "Epoch 20/50\n",
            "\u001b[1m34/34\u001b[0m \u001b[32m━━━━━━━━━━━━━━━━━━━━\u001b[0m\u001b[37m\u001b[0m \u001b[1m1s\u001b[0m 36ms/step - loss: 0.7266 - val_loss: 0.8662\n",
            "Epoch 21/50\n",
            "\u001b[1m34/34\u001b[0m \u001b[32m━━━━━━━━━━━━━━━━━━━━\u001b[0m\u001b[37m\u001b[0m \u001b[1m1s\u001b[0m 35ms/step - loss: 0.6904 - val_loss: 0.8652\n",
            "Epoch 22/50\n",
            "\u001b[1m34/34\u001b[0m \u001b[32m━━━━━━━━━━━━━━━━━━━━\u001b[0m\u001b[37m\u001b[0m \u001b[1m1s\u001b[0m 35ms/step - loss: 0.7751 - val_loss: 0.8663\n",
            "Epoch 23/50\n",
            "\u001b[1m34/34\u001b[0m \u001b[32m━━━━━━━━━━━━━━━━━━━━\u001b[0m\u001b[37m\u001b[0m \u001b[1m1s\u001b[0m 31ms/step - loss: 0.6729 - val_loss: 0.8654\n",
            "Epoch 24/50\n",
            "\u001b[1m34/34\u001b[0m \u001b[32m━━━━━━━━━━━━━━━━━━━━\u001b[0m\u001b[37m\u001b[0m \u001b[1m1s\u001b[0m 26ms/step - loss: 0.7469 - val_loss: 0.8652\n",
            "Epoch 25/50\n",
            "\u001b[1m34/34\u001b[0m \u001b[32m━━━━━━━━━━━━━━━━━━━━\u001b[0m\u001b[37m\u001b[0m \u001b[1m1s\u001b[0m 28ms/step - loss: 0.7484 - val_loss: 0.8652\n",
            "Epoch 26/50\n",
            "\u001b[1m34/34\u001b[0m \u001b[32m━━━━━━━━━━━━━━━━━━━━\u001b[0m\u001b[37m\u001b[0m \u001b[1m1s\u001b[0m 27ms/step - loss: 0.6934 - val_loss: 0.8650\n",
            "Epoch 27/50\n",
            "\u001b[1m34/34\u001b[0m \u001b[32m━━━━━━━━━━━━━━━━━━━━\u001b[0m\u001b[37m\u001b[0m \u001b[1m1s\u001b[0m 27ms/step - loss: 0.7054 - val_loss: 0.8652\n",
            "Epoch 28/50\n",
            "\u001b[1m34/34\u001b[0m \u001b[32m━━━━━━━━━━━━━━━━━━━━\u001b[0m\u001b[37m\u001b[0m \u001b[1m1s\u001b[0m 27ms/step - loss: 0.7244 - val_loss: 0.8651\n",
            "Epoch 29/50\n",
            "\u001b[1m34/34\u001b[0m \u001b[32m━━━━━━━━━━━━━━━━━━━━\u001b[0m\u001b[37m\u001b[0m \u001b[1m1s\u001b[0m 21ms/step - loss: 0.7802 - val_loss: 0.8647\n",
            "Epoch 30/50\n",
            "\u001b[1m34/34\u001b[0m \u001b[32m━━━━━━━━━━━━━━━━━━━━\u001b[0m\u001b[37m\u001b[0m \u001b[1m1s\u001b[0m 22ms/step - loss: 0.7540 - val_loss: 0.8655\n",
            "Epoch 31/50\n",
            "\u001b[1m34/34\u001b[0m \u001b[32m━━━━━━━━━━━━━━━━━━━━\u001b[0m\u001b[37m\u001b[0m \u001b[1m1s\u001b[0m 22ms/step - loss: 0.7703 - val_loss: 0.8653\n",
            "Epoch 32/50\n",
            "\u001b[1m34/34\u001b[0m \u001b[32m━━━━━━━━━━━━━━━━━━━━\u001b[0m\u001b[37m\u001b[0m \u001b[1m1s\u001b[0m 21ms/step - loss: 0.7219 - val_loss: 0.8660\n",
            "Epoch 33/50\n",
            "\u001b[1m34/34\u001b[0m \u001b[32m━━━━━━━━━━━━━━━━━━━━\u001b[0m\u001b[37m\u001b[0m \u001b[1m1s\u001b[0m 36ms/step - loss: 0.7609 - val_loss: 0.8658\n",
            "Epoch 34/50\n",
            "\u001b[1m34/34\u001b[0m \u001b[32m━━━━━━━━━━━━━━━━━━━━\u001b[0m\u001b[37m\u001b[0m \u001b[1m1s\u001b[0m 40ms/step - loss: 0.7640 - val_loss: 0.8660\n",
            "Epoch 35/50\n",
            "\u001b[1m34/34\u001b[0m \u001b[32m━━━━━━━━━━━━━━━━━━━━\u001b[0m\u001b[37m\u001b[0m \u001b[1m1s\u001b[0m 41ms/step - loss: 0.7135 - val_loss: 0.8657\n",
            "Epoch 36/50\n",
            "\u001b[1m34/34\u001b[0m \u001b[32m━━━━━━━━━━━━━━━━━━━━\u001b[0m\u001b[37m\u001b[0m \u001b[1m1s\u001b[0m 39ms/step - loss: 0.6773 - val_loss: 0.8661\n",
            "Epoch 37/50\n",
            "\u001b[1m34/34\u001b[0m \u001b[32m━━━━━━━━━━━━━━━━━━━━\u001b[0m\u001b[37m\u001b[0m \u001b[1m2s\u001b[0m 21ms/step - loss: 0.6583 - val_loss: 0.8658\n",
            "Epoch 38/50\n",
            "\u001b[1m34/34\u001b[0m \u001b[32m━━━━━━━━━━━━━━━━━━━━\u001b[0m\u001b[37m\u001b[0m \u001b[1m1s\u001b[0m 21ms/step - loss: 0.6306 - val_loss: 0.8659\n",
            "Epoch 39/50\n",
            "\u001b[1m34/34\u001b[0m \u001b[32m━━━━━━━━━━━━━━━━━━━━\u001b[0m\u001b[37m\u001b[0m \u001b[1m1s\u001b[0m 25ms/step - loss: 0.7173 - val_loss: 0.8663\n",
            "Epoch 40/50\n",
            "\u001b[1m34/34\u001b[0m \u001b[32m━━━━━━━━━━━━━━━━━━━━\u001b[0m\u001b[37m\u001b[0m \u001b[1m1s\u001b[0m 23ms/step - loss: 0.7347 - val_loss: 0.8665\n",
            "Epoch 41/50\n",
            "\u001b[1m34/34\u001b[0m \u001b[32m━━━━━━━━━━━━━━━━━━━━\u001b[0m\u001b[37m\u001b[0m \u001b[1m1s\u001b[0m 27ms/step - loss: 0.7517 - val_loss: 0.8661\n",
            "Epoch 42/50\n",
            "\u001b[1m34/34\u001b[0m \u001b[32m━━━━━━━━━━━━━━━━━━━━\u001b[0m\u001b[37m\u001b[0m \u001b[1m1s\u001b[0m 22ms/step - loss: 0.7075 - val_loss: 0.8663\n",
            "Epoch 43/50\n",
            "\u001b[1m34/34\u001b[0m \u001b[32m━━━━━━━━━━━━━━━━━━━━\u001b[0m\u001b[37m\u001b[0m \u001b[1m1s\u001b[0m 28ms/step - loss: 0.7350 - val_loss: 0.8665\n",
            "Epoch 44/50\n",
            "\u001b[1m34/34\u001b[0m \u001b[32m━━━━━━━━━━━━━━━━━━━━\u001b[0m\u001b[37m\u001b[0m \u001b[1m1s\u001b[0m 26ms/step - loss: 0.7650 - val_loss: 0.8670\n",
            "Epoch 45/50\n",
            "\u001b[1m34/34\u001b[0m \u001b[32m━━━━━━━━━━━━━━━━━━━━\u001b[0m\u001b[37m\u001b[0m \u001b[1m1s\u001b[0m 25ms/step - loss: 0.7609 - val_loss: 0.8668\n",
            "Epoch 46/50\n",
            "\u001b[1m34/34\u001b[0m \u001b[32m━━━━━━━━━━━━━━━━━━━━\u001b[0m\u001b[37m\u001b[0m \u001b[1m1s\u001b[0m 38ms/step - loss: 0.7517 - val_loss: 0.8673\n",
            "Epoch 47/50\n",
            "\u001b[1m34/34\u001b[0m \u001b[32m━━━━━━━━━━━━━━━━━━━━\u001b[0m\u001b[37m\u001b[0m \u001b[1m3s\u001b[0m 42ms/step - loss: 0.6858 - val_loss: 0.8669\n",
            "Epoch 48/50\n",
            "\u001b[1m34/34\u001b[0m \u001b[32m━━━━━━━━━━━━━━━━━━━━\u001b[0m\u001b[37m\u001b[0m \u001b[1m2s\u001b[0m 24ms/step - loss: 0.7889 - val_loss: 0.8672\n",
            "Epoch 49/50\n",
            "\u001b[1m34/34\u001b[0m \u001b[32m━━━━━━━━━━━━━━━━━━━━\u001b[0m\u001b[37m\u001b[0m \u001b[1m1s\u001b[0m 26ms/step - loss: 0.6781 - val_loss: 0.8680\n",
            "Epoch 50/50\n",
            "\u001b[1m34/34\u001b[0m \u001b[32m━━━━━━━━━━━━━━━━━━━━\u001b[0m\u001b[37m\u001b[0m \u001b[1m1s\u001b[0m 21ms/step - loss: 0.6434 - val_loss: 0.8671\n"
          ]
        },
        {
          "output_type": "execute_result",
          "data": {
            "text/plain": [
              "<keras.src.callbacks.history.History at 0x799555bfa090>"
            ]
          },
          "metadata": {},
          "execution_count": 21
        }
      ]
    },
    {
      "cell_type": "code",
      "source": [
        "X_train_encoded = encoder.predict(X_train)\n",
        "X_test_encoded = encoder.predict(X_test)"
      ],
      "metadata": {
        "colab": {
          "base_uri": "https://localhost:8080/"
        },
        "id": "ZDBdGHqCRaxj",
        "outputId": "58978e88-8d64-49ca-9a1c-4bdaa7da98fa"
      },
      "execution_count": 22,
      "outputs": [
        {
          "output_type": "stream",
          "name": "stdout",
          "text": [
            "\u001b[1m17/17\u001b[0m \u001b[32m━━━━━━━━━━━━━━━━━━━━\u001b[0m\u001b[37m\u001b[0m \u001b[1m0s\u001b[0m 5ms/step\n",
            "\u001b[1m5/5\u001b[0m \u001b[32m━━━━━━━━━━━━━━━━━━━━\u001b[0m\u001b[37m\u001b[0m \u001b[1m0s\u001b[0m 7ms/step \n"
          ]
        }
      ]
    },
    {
      "cell_type": "code",
      "source": [
        "classifier = keras.Sequential([\n",
        "    layers.Dense(64, activation=\"relu\", input_shape=(encoding_dim,)),\n",
        "    layers.Dense(32, activation=\"relu\"),\n",
        "    layers.Dense(4, activation=\"softmax\")  # 4-class classification\n",
        "])"
      ],
      "metadata": {
        "colab": {
          "base_uri": "https://localhost:8080/"
        },
        "id": "yhcbvRgjRrI4",
        "outputId": "91c8a1c4-9e51-4371-889c-8d00fd115561"
      },
      "execution_count": 23,
      "outputs": [
        {
          "output_type": "stream",
          "name": "stderr",
          "text": [
            "/usr/local/lib/python3.11/dist-packages/keras/src/layers/core/dense.py:87: UserWarning: Do not pass an `input_shape`/`input_dim` argument to a layer. When using Sequential models, prefer using an `Input(shape)` object as the first layer in the model instead.\n",
            "  super().__init__(activity_regularizer=activity_regularizer, **kwargs)\n"
          ]
        }
      ]
    },
    {
      "cell_type": "code",
      "source": [
        "classifier.compile(optimizer=keras.optimizers.Adam(learning_rate=0.0005),\n",
        "                   loss=\"sparse_categorical_crossentropy\",\n",
        "                   metrics=[\"accuracy\"])"
      ],
      "metadata": {
        "id": "3FO24PhoRtOl"
      },
      "execution_count": 24,
      "outputs": []
    },
    {
      "cell_type": "code",
      "source": [
        "classifier.fit(X_train_encoded, y_train, epochs=20, batch_size=16, validation_data=(X_test_encoded, y_test))"
      ],
      "metadata": {
        "colab": {
          "base_uri": "https://localhost:8080/"
        },
        "id": "FCBfUo_nRvCV",
        "outputId": "74ae3228-4bd2-40bb-879f-8a721a60a0a5"
      },
      "execution_count": 25,
      "outputs": [
        {
          "output_type": "stream",
          "name": "stdout",
          "text": [
            "Epoch 1/20\n",
            "\u001b[1m34/34\u001b[0m \u001b[32m━━━━━━━━━━━━━━━━━━━━\u001b[0m\u001b[37m\u001b[0m \u001b[1m1s\u001b[0m 10ms/step - accuracy: 0.2875 - loss: 36.3758 - val_accuracy: 0.5338 - val_loss: 11.9718\n",
            "Epoch 2/20\n",
            "\u001b[1m34/34\u001b[0m \u001b[32m━━━━━━━━━━━━━━━━━━━━\u001b[0m\u001b[37m\u001b[0m \u001b[1m0s\u001b[0m 4ms/step - accuracy: 0.5044 - loss: 10.2465 - val_accuracy: 0.4662 - val_loss: 6.2655\n",
            "Epoch 3/20\n",
            "\u001b[1m34/34\u001b[0m \u001b[32m━━━━━━━━━━━━━━━━━━━━\u001b[0m\u001b[37m\u001b[0m \u001b[1m0s\u001b[0m 5ms/step - accuracy: 0.5053 - loss: 5.9288 - val_accuracy: 0.4286 - val_loss: 4.8122\n",
            "Epoch 4/20\n",
            "\u001b[1m34/34\u001b[0m \u001b[32m━━━━━━━━━━━━━━━━━━━━\u001b[0m\u001b[37m\u001b[0m \u001b[1m0s\u001b[0m 4ms/step - accuracy: 0.5064 - loss: 3.8244 - val_accuracy: 0.4737 - val_loss: 4.4356\n",
            "Epoch 5/20\n",
            "\u001b[1m34/34\u001b[0m \u001b[32m━━━━━━━━━━━━━━━━━━━━\u001b[0m\u001b[37m\u001b[0m \u001b[1m0s\u001b[0m 4ms/step - accuracy: 0.4999 - loss: 4.2664 - val_accuracy: 0.4586 - val_loss: 3.9951\n",
            "Epoch 6/20\n",
            "\u001b[1m34/34\u001b[0m \u001b[32m━━━━━━━━━━━━━━━━━━━━\u001b[0m\u001b[37m\u001b[0m \u001b[1m0s\u001b[0m 5ms/step - accuracy: 0.5555 - loss: 2.9816 - val_accuracy: 0.4361 - val_loss: 3.9282\n",
            "Epoch 7/20\n",
            "\u001b[1m34/34\u001b[0m \u001b[32m━━━━━━━━━━━━━━━━━━━━\u001b[0m\u001b[37m\u001b[0m \u001b[1m0s\u001b[0m 4ms/step - accuracy: 0.5527 - loss: 2.8394 - val_accuracy: 0.4586 - val_loss: 3.6933\n",
            "Epoch 8/20\n",
            "\u001b[1m34/34\u001b[0m \u001b[32m━━━━━━━━━━━━━━━━━━━━\u001b[0m\u001b[37m\u001b[0m \u001b[1m0s\u001b[0m 6ms/step - accuracy: 0.5786 - loss: 2.3502 - val_accuracy: 0.4586 - val_loss: 3.5023\n",
            "Epoch 9/20\n",
            "\u001b[1m34/34\u001b[0m \u001b[32m━━━━━━━━━━━━━━━━━━━━\u001b[0m\u001b[37m\u001b[0m \u001b[1m0s\u001b[0m 7ms/step - accuracy: 0.6345 - loss: 1.7745 - val_accuracy: 0.4436 - val_loss: 3.2978\n",
            "Epoch 10/20\n",
            "\u001b[1m34/34\u001b[0m \u001b[32m━━━━━━━━━━━━━━━━━━━━\u001b[0m\u001b[37m\u001b[0m \u001b[1m0s\u001b[0m 7ms/step - accuracy: 0.6679 - loss: 1.4359 - val_accuracy: 0.4586 - val_loss: 3.1348\n",
            "Epoch 11/20\n",
            "\u001b[1m34/34\u001b[0m \u001b[32m━━━━━━━━━━━━━━━━━━━━\u001b[0m\u001b[37m\u001b[0m \u001b[1m0s\u001b[0m 7ms/step - accuracy: 0.6440 - loss: 1.4910 - val_accuracy: 0.4436 - val_loss: 3.0803\n",
            "Epoch 12/20\n",
            "\u001b[1m34/34\u001b[0m \u001b[32m━━━━━━━━━━━━━━━━━━━━\u001b[0m\u001b[37m\u001b[0m \u001b[1m0s\u001b[0m 7ms/step - accuracy: 0.7090 - loss: 1.0871 - val_accuracy: 0.4662 - val_loss: 2.9730\n",
            "Epoch 13/20\n",
            "\u001b[1m34/34\u001b[0m \u001b[32m━━━━━━━━━━━━━━━━━━━━\u001b[0m\u001b[37m\u001b[0m \u001b[1m0s\u001b[0m 6ms/step - accuracy: 0.6990 - loss: 1.1203 - val_accuracy: 0.4586 - val_loss: 3.0517\n",
            "Epoch 14/20\n",
            "\u001b[1m34/34\u001b[0m \u001b[32m━━━━━━━━━━━━━━━━━━━━\u001b[0m\u001b[37m\u001b[0m \u001b[1m0s\u001b[0m 6ms/step - accuracy: 0.7492 - loss: 0.8724 - val_accuracy: 0.4737 - val_loss: 3.0332\n",
            "Epoch 15/20\n",
            "\u001b[1m34/34\u001b[0m \u001b[32m━━━━━━━━━━━━━━━━━━━━\u001b[0m\u001b[37m\u001b[0m \u001b[1m0s\u001b[0m 6ms/step - accuracy: 0.7839 - loss: 0.9015 - val_accuracy: 0.4812 - val_loss: 2.9510\n",
            "Epoch 16/20\n",
            "\u001b[1m34/34\u001b[0m \u001b[32m━━━━━━━━━━━━━━━━━━━━\u001b[0m\u001b[37m\u001b[0m \u001b[1m0s\u001b[0m 7ms/step - accuracy: 0.7312 - loss: 0.8970 - val_accuracy: 0.4812 - val_loss: 2.9386\n",
            "Epoch 17/20\n",
            "\u001b[1m34/34\u001b[0m \u001b[32m━━━━━━━━━━━━━━━━━━━━\u001b[0m\u001b[37m\u001b[0m \u001b[1m0s\u001b[0m 7ms/step - accuracy: 0.7585 - loss: 0.7279 - val_accuracy: 0.4737 - val_loss: 2.9614\n",
            "Epoch 18/20\n",
            "\u001b[1m34/34\u001b[0m \u001b[32m━━━━━━━━━━━━━━━━━━━━\u001b[0m\u001b[37m\u001b[0m \u001b[1m0s\u001b[0m 7ms/step - accuracy: 0.7789 - loss: 0.7034 - val_accuracy: 0.4737 - val_loss: 2.9496\n",
            "Epoch 19/20\n",
            "\u001b[1m34/34\u001b[0m \u001b[32m━━━━━━━━━━━━━━━━━━━━\u001b[0m\u001b[37m\u001b[0m \u001b[1m0s\u001b[0m 6ms/step - accuracy: 0.8046 - loss: 0.6909 - val_accuracy: 0.4662 - val_loss: 2.9395\n",
            "Epoch 20/20\n",
            "\u001b[1m34/34\u001b[0m \u001b[32m━━━━━━━━━━━━━━━━━━━━\u001b[0m\u001b[37m\u001b[0m \u001b[1m0s\u001b[0m 7ms/step - accuracy: 0.7925 - loss: 0.6326 - val_accuracy: 0.4887 - val_loss: 2.9630\n"
          ]
        },
        {
          "output_type": "execute_result",
          "data": {
            "text/plain": [
              "<keras.src.callbacks.history.History at 0x799555bea090>"
            ]
          },
          "metadata": {},
          "execution_count": 25
        }
      ]
    },
    {
      "cell_type": "code",
      "source": [
        "y_pred = classifier.predict(X_test_encoded)\n",
        "y_pred_classes = np.argmax(y_pred, axis=1)"
      ],
      "metadata": {
        "colab": {
          "base_uri": "https://localhost:8080/"
        },
        "id": "zm5zXibZRwvS",
        "outputId": "8adc0c3f-9f8e-4d17-e5e5-ddf46c45c5c9"
      },
      "execution_count": 26,
      "outputs": [
        {
          "output_type": "stream",
          "name": "stdout",
          "text": [
            "\u001b[1m5/5\u001b[0m \u001b[32m━━━━━━━━━━━━━━━━━━━━\u001b[0m\u001b[37m\u001b[0m \u001b[1m0s\u001b[0m 24ms/step\n"
          ]
        }
      ]
    },
    {
      "cell_type": "code",
      "source": [
        "print(classification_report(y_test, y_pred_classes))"
      ],
      "metadata": {
        "colab": {
          "base_uri": "https://localhost:8080/"
        },
        "id": "dbKCHJN4R1jy",
        "outputId": "996050a3-e38d-40fb-995b-f5447eb74031"
      },
      "execution_count": 27,
      "outputs": [
        {
          "output_type": "stream",
          "name": "stdout",
          "text": [
            "              precision    recall  f1-score   support\n",
            "\n",
            "           0       0.62      0.69      0.65        83\n",
            "           1       0.17      0.11      0.13        36\n",
            "           2       0.25      0.31      0.28        13\n",
            "           3       0.00      0.00      0.00         1\n",
            "\n",
            "    accuracy                           0.49       133\n",
            "   macro avg       0.26      0.28      0.27       133\n",
            "weighted avg       0.46      0.49      0.47       133\n",
            "\n"
          ]
        }
      ]
    },
    {
      "cell_type": "code",
      "source": [
        "cm = confusion_matrix(y_test, y_pred_classes)\n",
        "\n",
        "# Plot confusion matrix\n",
        "plt.figure(figsize=(6, 4))\n",
        "\n",
        "sns.heatmap(cm, annot=True, fmt='d', cmap='Blues', xticklabels=[\"safe\",\"adult\",\"harmful\",\"suicidal\"], yticklabels=[\"safe\",\"adult\",\"harmful\",\"suicidal\"])\n",
        "plt.xlabel(\"Predicted Label\")\n",
        "plt.ylabel(\"True Label\")\n",
        "plt.title(\"Confusion Matrix\")\n",
        "\n",
        "plt.show()"
      ],
      "metadata": {
        "colab": {
          "base_uri": "https://localhost:8080/",
          "height": 410
        },
        "id": "QZ0BVNrbR3kj",
        "outputId": "7693500d-20eb-49b4-85e8-4c76ba2394fb"
      },
      "execution_count": 28,
      "outputs": [
        {
          "output_type": "display_data",
          "data": {
            "text/plain": [
              "<Figure size 600x400 with 2 Axes>"
            ],
            "image/png": "[encoded data removed]"
          },
          "metadata": {}
        }
      ]
    },
    {
      "cell_type": "code",
      "source": [],
      "metadata": {
        "id": "UWUTGPV5R_KI"
      },
      "execution_count": null,
      "outputs": []
    }
  ]
}