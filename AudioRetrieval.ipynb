{
 "cells": [
  {
   "cell_type": "code",
   "execution_count": 21,
   "id": "90f04432-230c-49e3-8c74-fcc582d7022b",
   "metadata": {},
   "outputs": [
    {
     "data": {
      "text/html": [
       "<div>\n",
       "<style scoped>\n",
       "    .dataframe tbody tr th:only-of-type {\n",
       "        vertical-align: middle;\n",
       "    }\n",
       "\n",
       "    .dataframe tbody tr th {\n",
       "        vertical-align: top;\n",
       "    }\n",
       "\n",
       "    .dataframe thead th {\n",
       "        text-align: right;\n",
       "    }\n",
       "</style>\n",
       "<table border=\"1\" class=\"dataframe\">\n",
       "  <thead>\n",
       "    <tr style=\"text-align: right;\">\n",
       "      <th></th>\n",
       "      <th>reel_id</th>\n",
       "      <th>UnsafeType</th>\n",
       "      <th>isSafe</th>\n",
       "    </tr>\n",
       "  </thead>\n",
       "  <tbody>\n",
       "    <tr>\n",
       "      <th>0</th>\n",
       "      <td>'1000188341415358</td>\n",
       "      <td>Safe</td>\n",
       "      <td>1</td>\n",
       "    </tr>\n",
       "    <tr>\n",
       "      <th>1</th>\n",
       "      <td>'1006146964533997</td>\n",
       "      <td>Safe</td>\n",
       "      <td>1</td>\n",
       "    </tr>\n",
       "    <tr>\n",
       "      <th>2</th>\n",
       "      <td>'1007123741459823</td>\n",
       "      <td>Adult</td>\n",
       "      <td>0</td>\n",
       "    </tr>\n",
       "    <tr>\n",
       "      <th>3</th>\n",
       "      <td>'1007420607202244</td>\n",
       "      <td>Safe</td>\n",
       "      <td>1</td>\n",
       "    </tr>\n",
       "    <tr>\n",
       "      <th>4</th>\n",
       "      <td>'1008519870870927</td>\n",
       "      <td>Safe</td>\n",
       "      <td>1</td>\n",
       "    </tr>\n",
       "    <tr>\n",
       "      <th>...</th>\n",
       "      <td>...</td>\n",
       "      <td>...</td>\n",
       "      <td>...</td>\n",
       "    </tr>\n",
       "    <tr>\n",
       "      <th>661</th>\n",
       "      <td>'997262608752854</td>\n",
       "      <td>Adult</td>\n",
       "      <td>0</td>\n",
       "    </tr>\n",
       "    <tr>\n",
       "      <th>662</th>\n",
       "      <td>'997300345735398</td>\n",
       "      <td>Harmful</td>\n",
       "      <td>0</td>\n",
       "    </tr>\n",
       "    <tr>\n",
       "      <th>663</th>\n",
       "      <td>'998187401354206</td>\n",
       "      <td>Safe</td>\n",
       "      <td>1</td>\n",
       "    </tr>\n",
       "    <tr>\n",
       "      <th>664</th>\n",
       "      <td>'999558344609179</td>\n",
       "      <td>Safe</td>\n",
       "      <td>1</td>\n",
       "    </tr>\n",
       "    <tr>\n",
       "      <th>665</th>\n",
       "      <td>'999669865038215</td>\n",
       "      <td>Safe</td>\n",
       "      <td>1</td>\n",
       "    </tr>\n",
       "  </tbody>\n",
       "</table>\n",
       "<p>666 rows × 3 columns</p>\n",
       "</div>"
      ],
      "text/plain": [
       "               reel_id UnsafeType  isSafe\n",
       "0    '1000188341415358       Safe       1\n",
       "1    '1006146964533997       Safe       1\n",
       "2    '1007123741459823      Adult       0\n",
       "3    '1007420607202244       Safe       1\n",
       "4    '1008519870870927       Safe       1\n",
       "..                 ...        ...     ...\n",
       "661   '997262608752854      Adult       0\n",
       "662   '997300345735398    Harmful       0\n",
       "663   '998187401354206       Safe       1\n",
       "664   '999558344609179       Safe       1\n",
       "665   '999669865038215       Safe       1\n",
       "\n",
       "[666 rows x 3 columns]"
      ]
     },
     "execution_count": 21,
     "metadata": {},
     "output_type": "execute_result"
    }
   ],
   "source": [
    "import pandas as pd\n",
    "import numpy as np\n",
    "\n",
    "df = pd.read_csv('final_data.csv')\n",
    "df"
   ]
  },
  {
   "cell_type": "code",
   "execution_count": 22,
   "id": "9ab8e47e-8923-4ce8-9f8c-be0ac2e93f08",
   "metadata": {},
   "outputs": [
    {
     "data": {
      "text/plain": [
       "isSafe\n",
       "1    422\n",
       "0    244\n",
       "Name: count, dtype: int64"
      ]
     },
     "execution_count": 22,
     "metadata": {},
     "output_type": "execute_result"
    }
   ],
   "source": [
    "df['isSafe'].value_counts()"
   ]
  },
  {
   "cell_type": "code",
   "execution_count": 23,
   "id": "446bda20-77f6-4fd8-9bf6-d60c91c720b3",
   "metadata": {},
   "outputs": [],
   "source": [
    "import os\n",
    "import pandas as pd\n",
    "from moviepy.editor import VideoFileClip"
   ]
  },
  {
   "cell_type": "code",
   "execution_count": 33,
   "id": "60b27e6a-4fc0-4ce7-87b5-bf337592fb02",
   "metadata": {},
   "outputs": [],
   "source": [
    "def extract_audio_from_video(video_path, output_audio_path):\n",
    "    try:\n",
    "        video = VideoFileClip(video_path)\n",
    "        if video.audio is None:\n",
    "            print(f\"No audio track found in video: {video_path}\")\n",
    "            return\n",
    "        video.audio.write_audiofile(output_audio_path)\n",
    "        print(f\"Audio extracted and saved to: {output_audio_path}\")\n",
    "    except Exception as e:\n",
    "        print(f\"An error occurred while processing {video_path}: {e}\")"
   ]
  },
  {
   "cell_type": "code",
   "execution_count": 34,
   "id": "37ecaa44-a0cb-473d-a8bf-3c558ed3b423",
   "metadata": {},
   "outputs": [],
   "source": [
    "def process_videos_from_csv(csv_file, video_folder, output_folder):\n",
    "    # Read CSV file\n",
    "    df = pd.read_csv(csv_file)\n",
    "\n",
    "    # Ensure the output folder exists\n",
    "    if not os.path.exists(output_folder):\n",
    "        os.makedirs(output_folder)\n",
    "\n",
    "    # Process each reel_id\n",
    "    cnt = 0\n",
    "    for reel_id in df['reel_id']:\n",
    "        clean_reel_id = reel_id.strip(\"'\")\n",
    "        video_file = f\"{clean_reel_id}.mp4\"\n",
    "        video_path = os.path.join(video_folder, video_file)\n",
    "\n",
    "        if os.path.exists(video_path):\n",
    "            # Output audio file path\n",
    "            output_audio_path = os.path.join(output_folder, f\"{reel_id}.wav\")\n",
    "\n",
    "            # Extract audio\n",
    "            extract_audio_from_video(video_path, output_audio_path)\n",
    "            cnt = cnt + 1\n",
    "            if cnt%20==0:\n",
    "                print(f\"{cnt} videos extracted.\")\n",
    "        else:\n",
    "            print(f\"Video file not found: {video_path}\")\n",
    "\n",
    "    print(f\"Finished with {cnt} video extraction\")"
   ]
  },
  {
   "cell_type": "code",
   "execution_count": 35,
   "id": "f5d94700-cdac-4bb7-8f94-472606bb01c4",
   "metadata": {},
   "outputs": [],
   "source": [
    "csv_file = \"E:\\\\SafeReels\\\\final_data.csv\"       \n",
    "video_folder = \"E:\\\\SafeReels\"   \n",
    "output_folder = \"E:\\\\SafeReels\\\\audios\" "
   ]
  },
  {
   "cell_type": "code",
   "execution_count": 36,
   "id": "9c23d0d9-8d7a-4dc2-8033-86ec5e696548",
   "metadata": {},
   "outputs": [
    {
     "name": "stdout",
     "output_type": "stream",
     "text": [
      "MoviePy - Writing audio in E:\\SafeReels\\audios\\'1000188341415358.wav\n"
     ]
    },
    {
     "name": "stderr",
     "output_type": "stream",
     "text": [
      "                                                                                                                       \r"
     ]
    },
    {
     "name": "stdout",
     "output_type": "stream",
     "text": [
      "MoviePy - Done.\n",
      "Audio extracted and saved to: E:\\SafeReels\\audios\\'1000188341415358.wav\n",
      "MoviePy - Writing audio in E:\\SafeReels\\audios\\'1006146964533997.wav\n"
     ]
    },
    {
     "name": "stderr",
     "output_type": "stream",
     "text": [
      "                                                                                                                       \r"
     ]
    },
    {
     "name": "stdout",
     "output_type": "stream",
     "text": [
      "MoviePy - Done.\n",
      "Audio extracted and saved to: E:\\SafeReels\\audios\\'1006146964533997.wav\n",
      "MoviePy - Writing audio in E:\\SafeReels\\audios\\'1007123741459823.wav\n"
     ]
    },
    {
     "name": "stderr",
     "output_type": "stream",
     "text": [
      "                                                                                                                       \r"
     ]
    },
    {
     "name": "stdout",
     "output_type": "stream",
     "text": [
      "MoviePy - Done.\n",
      "Audio extracted and saved to: E:\\SafeReels\\audios\\'1007123741459823.wav\n",
      "MoviePy - Writing audio in E:\\SafeReels\\audios\\'1007420607202244.wav\n"
     ]
    },
    {
     "name": "stderr",
     "output_type": "stream",
     "text": [
      "                                                                                                                       \r"
     ]
    },
    {
     "name": "stdout",
     "output_type": "stream",
     "text": [
      "MoviePy - Done.\n",
      "Audio extracted and saved to: E:\\SafeReels\\audios\\'1007420607202244.wav\n",
      "MoviePy - Writing audio in E:\\SafeReels\\audios\\'1008519870870927.wav\n"
     ]
    },
    {
     "name": "stderr",
     "output_type": "stream",
     "text": [
      "                                                                                                                       \r"
     ]
    },
    {
     "name": "stdout",
     "output_type": "stream",
     "text": [
      "MoviePy - Done.\n",
      "Audio extracted and saved to: E:\\SafeReels\\audios\\'1008519870870927.wav\n",
      "MoviePy - Writing audio in E:\\SafeReels\\audios\\'1008937321004084.wav\n"
     ]
    },
    {
     "name": "stderr",
     "output_type": "stream",
     "text": [
      "                                                                                                                       \r"
     ]
    },
    {
     "name": "stdout",
     "output_type": "stream",
     "text": [
      "MoviePy - Done.\n",
      "Audio extracted and saved to: E:\\SafeReels\\audios\\'1008937321004084.wav\n",
      "MoviePy - Writing audio in E:\\SafeReels\\audios\\'1010700924171308.wav\n"
     ]
    },
    {
     "name": "stderr",
     "output_type": "stream",
     "text": [
      "                                                                                                                       \r"
     ]
    },
    {
     "name": "stdout",
     "output_type": "stream",
     "text": [
      "MoviePy - Done.\n",
      "Audio extracted and saved to: E:\\SafeReels\\audios\\'1010700924171308.wav\n",
      "MoviePy - Writing audio in E:\\SafeReels\\audios\\'1011201907424293.wav\n"
     ]
    },
    {
     "name": "stderr",
     "output_type": "stream",
     "text": [
      "                                                                                                                       \r"
     ]
    },
    {
     "name": "stdout",
     "output_type": "stream",
     "text": [
      "MoviePy - Done.\n",
      "Audio extracted and saved to: E:\\SafeReels\\audios\\'1011201907424293.wav\n",
      "MoviePy - Writing audio in E:\\SafeReels\\audios\\'1014617364040155.wav\n"
     ]
    },
    {
     "name": "stderr",
     "output_type": "stream",
     "text": [
      "                                                                                                                       "
     ]
    },
    {
     "name": "stdout",
     "output_type": "stream",
     "text": [
      "MoviePy - Done.\n",
      "Audio extracted and saved to: E:\\SafeReels\\audios\\'1014617364040155.wav\n"
     ]
    },
    {
     "name": "stderr",
     "output_type": "stream",
     "text": [
      "\r"
     ]
    },
    {
     "name": "stdout",
     "output_type": "stream",
     "text": [
      "MoviePy - Writing audio in E:\\SafeReels\\audios\\'1015109313496999.wav\n"
     ]
    },
    {
     "name": "stderr",
     "output_type": "stream",
     "text": [
      "                                                                                                                       \r"
     ]
    },
    {
     "name": "stdout",
     "output_type": "stream",
     "text": [
      "MoviePy - Done.\n",
      "Audio extracted and saved to: E:\\SafeReels\\audios\\'1015109313496999.wav\n",
      "MoviePy - Writing audio in E:\\SafeReels\\audios\\'1019456183322243.wav\n"
     ]
    },
    {
     "name": "stderr",
     "output_type": "stream",
     "text": [
      "                                                                                                                       \r"
     ]
    },
    {
     "name": "stdout",
     "output_type": "stream",
     "text": [
      "MoviePy - Done.\n",
      "Audio extracted and saved to: E:\\SafeReels\\audios\\'1019456183322243.wav\n",
      "MoviePy - Writing audio in E:\\SafeReels\\audios\\'1023244832420467.wav\n"
     ]
    },
    {
     "name": "stderr",
     "output_type": "stream",
     "text": [
      "                                                                                                                       \r"
     ]
    },
    {
     "name": "stdout",
     "output_type": "stream",
     "text": [
      "MoviePy - Done.\n",
      "Audio extracted and saved to: E:\\SafeReels\\audios\\'1023244832420467.wav\n",
      "MoviePy - Writing audio in E:\\SafeReels\\audios\\'1024422796081128.wav\n"
     ]
    },
    {
     "name": "stderr",
     "output_type": "stream",
     "text": [
      "                                                                                                                       \r"
     ]
    },
    {
     "name": "stdout",
     "output_type": "stream",
     "text": [
      "MoviePy - Done.\n",
      "Audio extracted and saved to: E:\\SafeReels\\audios\\'1024422796081128.wav\n",
      "MoviePy - Writing audio in E:\\SafeReels\\audios\\'1024763625697839.wav\n"
     ]
    },
    {
     "name": "stderr",
     "output_type": "stream",
     "text": [
      "                                                                                                                       \r"
     ]
    },
    {
     "name": "stdout",
     "output_type": "stream",
     "text": [
      "MoviePy - Done.\n",
      "Audio extracted and saved to: E:\\SafeReels\\audios\\'1024763625697839.wav\n",
      "MoviePy - Writing audio in E:\\SafeReels\\audios\\'1031888975087971.wav\n"
     ]
    },
    {
     "name": "stderr",
     "output_type": "stream",
     "text": [
      "                                                                                                                       \r"
     ]
    },
    {
     "name": "stdout",
     "output_type": "stream",
     "text": [
      "MoviePy - Done.\n",
      "Audio extracted and saved to: E:\\SafeReels\\audios\\'1031888975087971.wav\n",
      "MoviePy - Writing audio in E:\\SafeReels\\audios\\'1033516474921986.wav\n"
     ]
    },
    {
     "name": "stderr",
     "output_type": "stream",
     "text": [
      "                                                                                                                       \r"
     ]
    },
    {
     "name": "stdout",
     "output_type": "stream",
     "text": [
      "MoviePy - Done.\n",
      "Audio extracted and saved to: E:\\SafeReels\\audios\\'1033516474921986.wav\n",
      "MoviePy - Writing audio in E:\\SafeReels\\audios\\'1033861415076453.wav\n"
     ]
    },
    {
     "name": "stderr",
     "output_type": "stream",
     "text": [
      "                                                                                                                       \r"
     ]
    },
    {
     "name": "stdout",
     "output_type": "stream",
     "text": [
      "MoviePy - Done.\n",
      "Audio extracted and saved to: E:\\SafeReels\\audios\\'1033861415076453.wav\n",
      "MoviePy - Writing audio in E:\\SafeReels\\audios\\'1034438334485771.wav\n"
     ]
    },
    {
     "name": "stderr",
     "output_type": "stream",
     "text": [
      "                                                                                                                       \r"
     ]
    },
    {
     "name": "stdout",
     "output_type": "stream",
     "text": [
      "MoviePy - Done.\n",
      "Audio extracted and saved to: E:\\SafeReels\\audios\\'1034438334485771.wav\n",
      "MoviePy - Writing audio in E:\\SafeReels\\audios\\'1036405724700912.wav\n"
     ]
    },
    {
     "name": "stderr",
     "output_type": "stream",
     "text": [
      "                                                                                                                       \r"
     ]
    },
    {
     "name": "stdout",
     "output_type": "stream",
     "text": [
      "MoviePy - Done.\n",
      "Audio extracted and saved to: E:\\SafeReels\\audios\\'1036405724700912.wav\n",
      "MoviePy - Writing audio in E:\\SafeReels\\audios\\'1036788841249379.wav\n"
     ]
    },
    {
     "name": "stderr",
     "output_type": "stream",
     "text": [
      "                                                                                                                       \r"
     ]
    },
    {
     "name": "stdout",
     "output_type": "stream",
     "text": [
      "MoviePy - Done.\n",
      "Audio extracted and saved to: E:\\SafeReels\\audios\\'1036788841249379.wav\n",
      "20 videos extracted.\n",
      "MoviePy - Writing audio in E:\\SafeReels\\audios\\'1037568747750384.wav\n"
     ]
    },
    {
     "name": "stderr",
     "output_type": "stream",
     "text": [
      "                                                                                                                       \r"
     ]
    },
    {
     "name": "stdout",
     "output_type": "stream",
     "text": [
      "MoviePy - Done.\n",
      "Audio extracted and saved to: E:\\SafeReels\\audios\\'1037568747750384.wav\n",
      "MoviePy - Writing audio in E:\\SafeReels\\audios\\'1038868304211575.wav\n"
     ]
    },
    {
     "name": "stderr",
     "output_type": "stream",
     "text": [
      "                                                                                                                       \r"
     ]
    },
    {
     "name": "stdout",
     "output_type": "stream",
     "text": [
      "MoviePy - Done.\n",
      "Audio extracted and saved to: E:\\SafeReels\\audios\\'1038868304211575.wav\n",
      "MoviePy - Writing audio in E:\\SafeReels\\audios\\'1039987567775056.wav\n"
     ]
    },
    {
     "name": "stderr",
     "output_type": "stream",
     "text": [
      "                                                                                                                       "
     ]
    },
    {
     "name": "stdout",
     "output_type": "stream",
     "text": [
      "MoviePy - Done.\n",
      "Audio extracted and saved to: E:\\SafeReels\\audios\\'1039987567775056.wav\n"
     ]
    },
    {
     "name": "stderr",
     "output_type": "stream",
     "text": [
      "\r"
     ]
    },
    {
     "name": "stdout",
     "output_type": "stream",
     "text": [
      "MoviePy - Writing audio in E:\\SafeReels\\audios\\'1041568100375550.wav\n"
     ]
    },
    {
     "name": "stderr",
     "output_type": "stream",
     "text": [
      "                                                                                                                       \r"
     ]
    },
    {
     "name": "stdout",
     "output_type": "stream",
     "text": [
      "MoviePy - Done.\n",
      "Audio extracted and saved to: E:\\SafeReels\\audios\\'1041568100375550.wav\n",
      "MoviePy - Writing audio in E:\\SafeReels\\audios\\'1043812691121718.wav\n"
     ]
    },
    {
     "name": "stderr",
     "output_type": "stream",
     "text": [
      "                                                                                                                       \r"
     ]
    },
    {
     "name": "stdout",
     "output_type": "stream",
     "text": [
      "MoviePy - Done.\n",
      "Audio extracted and saved to: E:\\SafeReels\\audios\\'1043812691121718.wav\n",
      "MoviePy - Writing audio in E:\\SafeReels\\audios\\'1045129413791706.wav\n"
     ]
    },
    {
     "name": "stderr",
     "output_type": "stream",
     "text": [
      "                                                                                                                       \r"
     ]
    },
    {
     "name": "stdout",
     "output_type": "stream",
     "text": [
      "MoviePy - Done.\n",
      "Audio extracted and saved to: E:\\SafeReels\\audios\\'1045129413791706.wav\n",
      "MoviePy - Writing audio in E:\\SafeReels\\audios\\'1048951426150880.wav\n"
     ]
    },
    {
     "name": "stderr",
     "output_type": "stream",
     "text": [
      "                                                                                                                       \r"
     ]
    },
    {
     "name": "stdout",
     "output_type": "stream",
     "text": [
      "MoviePy - Done.\n",
      "Audio extracted and saved to: E:\\SafeReels\\audios\\'1048951426150880.wav\n",
      "MoviePy - Writing audio in E:\\SafeReels\\audios\\'1051285002871939.wav\n"
     ]
    },
    {
     "name": "stderr",
     "output_type": "stream",
     "text": [
      "                                                                                                                       \r"
     ]
    },
    {
     "name": "stdout",
     "output_type": "stream",
     "text": [
      "MoviePy - Done.\n",
      "Audio extracted and saved to: E:\\SafeReels\\audios\\'1051285002871939.wav\n",
      "MoviePy - Writing audio in E:\\SafeReels\\audios\\'1051849546405770.wav\n"
     ]
    },
    {
     "name": "stderr",
     "output_type": "stream",
     "text": [
      "                                                                                                                       \r"
     ]
    },
    {
     "name": "stdout",
     "output_type": "stream",
     "text": [
      "MoviePy - Done.\n",
      "Audio extracted and saved to: E:\\SafeReels\\audios\\'1051849546405770.wav\n",
      "MoviePy - Writing audio in E:\\SafeReels\\audios\\'1053905019255272.wav\n"
     ]
    },
    {
     "name": "stderr",
     "output_type": "stream",
     "text": [
      "                                                                                                                       \r"
     ]
    },
    {
     "name": "stdout",
     "output_type": "stream",
     "text": [
      "MoviePy - Done.\n",
      "Audio extracted and saved to: E:\\SafeReels\\audios\\'1053905019255272.wav\n",
      "MoviePy - Writing audio in E:\\SafeReels\\audios\\'1054623136190497.wav\n"
     ]
    },
    {
     "name": "stderr",
     "output_type": "stream",
     "text": [
      "                                                                                                                       \r"
     ]
    },
    {
     "name": "stdout",
     "output_type": "stream",
     "text": [
      "MoviePy - Done.\n",
      "Audio extracted and saved to: E:\\SafeReels\\audios\\'1054623136190497.wav\n",
      "MoviePy - Writing audio in E:\\SafeReels\\audios\\'1056178012234754.wav\n"
     ]
    },
    {
     "name": "stderr",
     "output_type": "stream",
     "text": [
      "                                                                                                                       \r"
     ]
    },
    {
     "name": "stdout",
     "output_type": "stream",
     "text": [
      "MoviePy - Done.\n",
      "Audio extracted and saved to: E:\\SafeReels\\audios\\'1056178012234754.wav\n",
      "MoviePy - Writing audio in E:\\SafeReels\\audios\\'1059827875471573.wav\n"
     ]
    },
    {
     "name": "stderr",
     "output_type": "stream",
     "text": [
      "                                                                                                                       \r"
     ]
    },
    {
     "name": "stdout",
     "output_type": "stream",
     "text": [
      "MoviePy - Done.\n",
      "Audio extracted and saved to: E:\\SafeReels\\audios\\'1059827875471573.wav\n",
      "MoviePy - Writing audio in E:\\SafeReels\\audios\\'1063164551798822.wav\n"
     ]
    },
    {
     "name": "stderr",
     "output_type": "stream",
     "text": [
      "                                                                                                                       \r"
     ]
    },
    {
     "name": "stdout",
     "output_type": "stream",
     "text": [
      "MoviePy - Done.\n",
      "Audio extracted and saved to: E:\\SafeReels\\audios\\'1063164551798822.wav\n",
      "MoviePy - Writing audio in E:\\SafeReels\\audios\\'1065956397708332.wav\n"
     ]
    },
    {
     "name": "stderr",
     "output_type": "stream",
     "text": [
      "                                                                                                                       \r"
     ]
    },
    {
     "name": "stdout",
     "output_type": "stream",
     "text": [
      "MoviePy - Done.\n",
      "Audio extracted and saved to: E:\\SafeReels\\audios\\'1065956397708332.wav\n",
      "MoviePy - Writing audio in E:\\SafeReels\\audios\\'1066135438250716.wav\n"
     ]
    },
    {
     "name": "stderr",
     "output_type": "stream",
     "text": [
      "                                                                                                                       \r"
     ]
    },
    {
     "name": "stdout",
     "output_type": "stream",
     "text": [
      "MoviePy - Done.\n",
      "Audio extracted and saved to: E:\\SafeReels\\audios\\'1066135438250716.wav\n",
      "MoviePy - Writing audio in E:\\SafeReels\\audios\\'1066412464873174.wav\n"
     ]
    },
    {
     "name": "stderr",
     "output_type": "stream",
     "text": [
      "                                                                                                                       \r"
     ]
    },
    {
     "name": "stdout",
     "output_type": "stream",
     "text": [
      "MoviePy - Done.\n",
      "Audio extracted and saved to: E:\\SafeReels\\audios\\'1066412464873174.wav\n",
      "MoviePy - Writing audio in E:\\SafeReels\\audios\\'1067284838139484.wav\n"
     ]
    },
    {
     "name": "stderr",
     "output_type": "stream",
     "text": [
      "                                                                                                                       \r"
     ]
    },
    {
     "name": "stdout",
     "output_type": "stream",
     "text": [
      "MoviePy - Done.\n",
      "Audio extracted and saved to: E:\\SafeReels\\audios\\'1067284838139484.wav\n",
      "MoviePy - Writing audio in E:\\SafeReels\\audios\\'1069268168143272.wav\n"
     ]
    },
    {
     "name": "stderr",
     "output_type": "stream",
     "text": [
      "                                                                                                                       \r"
     ]
    },
    {
     "name": "stdout",
     "output_type": "stream",
     "text": [
      "MoviePy - Done.\n",
      "Audio extracted and saved to: E:\\SafeReels\\audios\\'1069268168143272.wav\n",
      "MoviePy - Writing audio in E:\\SafeReels\\audios\\'1069606814863882.wav\n"
     ]
    },
    {
     "name": "stderr",
     "output_type": "stream",
     "text": [
      "                                                                                                                       \r"
     ]
    },
    {
     "name": "stdout",
     "output_type": "stream",
     "text": [
      "MoviePy - Done.\n",
      "Audio extracted and saved to: E:\\SafeReels\\audios\\'1069606814863882.wav\n",
      "40 videos extracted.\n",
      "MoviePy - Writing audio in E:\\SafeReels\\audios\\'1069608364571338.wav\n"
     ]
    },
    {
     "name": "stderr",
     "output_type": "stream",
     "text": [
      "                                                                                                                       \r"
     ]
    },
    {
     "name": "stdout",
     "output_type": "stream",
     "text": [
      "MoviePy - Done.\n",
      "Audio extracted and saved to: E:\\SafeReels\\audios\\'1069608364571338.wav\n",
      "MoviePy - Writing audio in E:\\SafeReels\\audios\\'1070317993975863.wav\n"
     ]
    },
    {
     "name": "stderr",
     "output_type": "stream",
     "text": [
      "                                                                                                                       \r"
     ]
    },
    {
     "name": "stdout",
     "output_type": "stream",
     "text": [
      "MoviePy - Done.\n",
      "Audio extracted and saved to: E:\\SafeReels\\audios\\'1070317993975863.wav\n",
      "MoviePy - Writing audio in E:\\SafeReels\\audios\\'1070855238011402.wav\n"
     ]
    },
    {
     "name": "stderr",
     "output_type": "stream",
     "text": [
      "                                                                                                                       \r"
     ]
    },
    {
     "name": "stdout",
     "output_type": "stream",
     "text": [
      "MoviePy - Done.\n",
      "Audio extracted and saved to: E:\\SafeReels\\audios\\'1070855238011402.wav\n",
      "MoviePy - Writing audio in E:\\SafeReels\\audios\\'1071810707742544.wav\n"
     ]
    },
    {
     "name": "stderr",
     "output_type": "stream",
     "text": [
      "                                                                                                                       \r"
     ]
    },
    {
     "name": "stdout",
     "output_type": "stream",
     "text": [
      "MoviePy - Done.\n",
      "Audio extracted and saved to: E:\\SafeReels\\audios\\'1071810707742544.wav\n",
      "MoviePy - Writing audio in E:\\SafeReels\\audios\\'1072634260453166.wav\n"
     ]
    },
    {
     "name": "stderr",
     "output_type": "stream",
     "text": [
      "                                                                                                                       \r"
     ]
    },
    {
     "name": "stdout",
     "output_type": "stream",
     "text": [
      "MoviePy - Done.\n",
      "Audio extracted and saved to: E:\\SafeReels\\audios\\'1072634260453166.wav\n",
      "MoviePy - Writing audio in E:\\SafeReels\\audios\\'1076508843823889.wav\n"
     ]
    },
    {
     "name": "stderr",
     "output_type": "stream",
     "text": [
      "                                                                                                                       \r"
     ]
    },
    {
     "name": "stdout",
     "output_type": "stream",
     "text": [
      "MoviePy - Done.\n",
      "Audio extracted and saved to: E:\\SafeReels\\audios\\'1076508843823889.wav\n",
      "MoviePy - Writing audio in E:\\SafeReels\\audios\\'1076889674055722.wav\n"
     ]
    },
    {
     "name": "stderr",
     "output_type": "stream",
     "text": [
      "                                                                                                                       \r"
     ]
    },
    {
     "name": "stdout",
     "output_type": "stream",
     "text": [
      "MoviePy - Done.\n",
      "Audio extracted and saved to: E:\\SafeReels\\audios\\'1076889674055722.wav\n",
      "MoviePy - Writing audio in E:\\SafeReels\\audios\\'1077078910739840.wav\n"
     ]
    },
    {
     "name": "stderr",
     "output_type": "stream",
     "text": [
      "                                                                                                                       \r"
     ]
    },
    {
     "name": "stdout",
     "output_type": "stream",
     "text": [
      "MoviePy - Done.\n",
      "Audio extracted and saved to: E:\\SafeReels\\audios\\'1077078910739840.wav\n",
      "MoviePy - Writing audio in E:\\SafeReels\\audios\\'1077274363982657.wav\n"
     ]
    },
    {
     "name": "stderr",
     "output_type": "stream",
     "text": [
      "                                                                                                                       \r"
     ]
    },
    {
     "name": "stdout",
     "output_type": "stream",
     "text": [
      "MoviePy - Done.\n",
      "Audio extracted and saved to: E:\\SafeReels\\audios\\'1077274363982657.wav\n",
      "MoviePy - Writing audio in E:\\SafeReels\\audios\\'1077552764029167.wav\n"
     ]
    },
    {
     "name": "stderr",
     "output_type": "stream",
     "text": [
      "                                                                                                                       "
     ]
    },
    {
     "name": "stdout",
     "output_type": "stream",
     "text": [
      "MoviePy - Done.\n",
      "Audio extracted and saved to: E:\\SafeReels\\audios\\'1077552764029167.wav\n"
     ]
    },
    {
     "name": "stderr",
     "output_type": "stream",
     "text": [
      "\r"
     ]
    },
    {
     "name": "stdout",
     "output_type": "stream",
     "text": [
      "MoviePy - Writing audio in E:\\SafeReels\\audios\\'1078528213980856.wav\n"
     ]
    },
    {
     "name": "stderr",
     "output_type": "stream",
     "text": [
      "                                                                                                                       \r"
     ]
    },
    {
     "name": "stdout",
     "output_type": "stream",
     "text": [
      "MoviePy - Done.\n",
      "Audio extracted and saved to: E:\\SafeReels\\audios\\'1078528213980856.wav\n",
      "MoviePy - Writing audio in E:\\SafeReels\\audios\\'1078559470395671.wav\n"
     ]
    },
    {
     "name": "stderr",
     "output_type": "stream",
     "text": [
      "                                                                                                                       "
     ]
    },
    {
     "name": "stdout",
     "output_type": "stream",
     "text": [
      "MoviePy - Done.\n",
      "Audio extracted and saved to: E:\\SafeReels\\audios\\'1078559470395671.wav\n"
     ]
    },
    {
     "name": "stderr",
     "output_type": "stream",
     "text": [
      "\r"
     ]
    },
    {
     "name": "stdout",
     "output_type": "stream",
     "text": [
      "MoviePy - Writing audio in E:\\SafeReels\\audios\\'1080979882962818.wav\n"
     ]
    },
    {
     "name": "stderr",
     "output_type": "stream",
     "text": [
      "                                                                                                                       \r"
     ]
    },
    {
     "name": "stdout",
     "output_type": "stream",
     "text": [
      "MoviePy - Done.\n",
      "Audio extracted and saved to: E:\\SafeReels\\audios\\'1080979882962818.wav\n",
      "MoviePy - Writing audio in E:\\SafeReels\\audios\\'1082713239959163.wav\n"
     ]
    },
    {
     "name": "stderr",
     "output_type": "stream",
     "text": [
      "                                                                                                                       \r"
     ]
    },
    {
     "name": "stdout",
     "output_type": "stream",
     "text": [
      "MoviePy - Done.\n",
      "Audio extracted and saved to: E:\\SafeReels\\audios\\'1082713239959163.wav\n",
      "MoviePy - Writing audio in E:\\SafeReels\\audios\\'1083245693402831.wav\n"
     ]
    },
    {
     "name": "stderr",
     "output_type": "stream",
     "text": [
      "                                                                                                                       \r"
     ]
    },
    {
     "name": "stdout",
     "output_type": "stream",
     "text": [
      "MoviePy - Done.\n",
      "Audio extracted and saved to: E:\\SafeReels\\audios\\'1083245693402831.wav\n",
      "MoviePy - Writing audio in E:\\SafeReels\\audios\\'1085918482735672.wav\n"
     ]
    },
    {
     "name": "stderr",
     "output_type": "stream",
     "text": [
      "                                                                                                                       \r"
     ]
    },
    {
     "name": "stdout",
     "output_type": "stream",
     "text": [
      "MoviePy - Done.\n",
      "Audio extracted and saved to: E:\\SafeReels\\audios\\'1085918482735672.wav\n",
      "MoviePy - Writing audio in E:\\SafeReels\\audios\\'1086309133286302.wav\n"
     ]
    },
    {
     "name": "stderr",
     "output_type": "stream",
     "text": [
      "                                                                                                                       \r"
     ]
    },
    {
     "name": "stdout",
     "output_type": "stream",
     "text": [
      "MoviePy - Done.\n",
      "Audio extracted and saved to: E:\\SafeReels\\audios\\'1086309133286302.wav\n",
      "MoviePy - Writing audio in E:\\SafeReels\\audios\\'1088365369629939.wav\n"
     ]
    },
    {
     "name": "stderr",
     "output_type": "stream",
     "text": [
      "                                                                                                                       \r"
     ]
    },
    {
     "name": "stdout",
     "output_type": "stream",
     "text": [
      "MoviePy - Done.\n",
      "Audio extracted and saved to: E:\\SafeReels\\audios\\'1088365369629939.wav\n",
      "MoviePy - Writing audio in E:\\SafeReels\\audios\\'1089668852684170.wav\n"
     ]
    },
    {
     "name": "stderr",
     "output_type": "stream",
     "text": [
      "                                                                                                                       \r"
     ]
    },
    {
     "name": "stdout",
     "output_type": "stream",
     "text": [
      "MoviePy - Done.\n",
      "Audio extracted and saved to: E:\\SafeReels\\audios\\'1089668852684170.wav\n",
      "MoviePy - Writing audio in E:\\SafeReels\\audios\\'1090532872745865.wav\n"
     ]
    },
    {
     "name": "stderr",
     "output_type": "stream",
     "text": [
      "                                                                                                                       \r"
     ]
    },
    {
     "name": "stdout",
     "output_type": "stream",
     "text": [
      "MoviePy - Done.\n",
      "Audio extracted and saved to: E:\\SafeReels\\audios\\'1090532872745865.wav\n",
      "60 videos extracted.\n",
      "MoviePy - Writing audio in E:\\SafeReels\\audios\\'1092345325938197.wav\n"
     ]
    },
    {
     "name": "stderr",
     "output_type": "stream",
     "text": [
      "                                                                                                                       \r"
     ]
    },
    {
     "name": "stdout",
     "output_type": "stream",
     "text": [
      "MoviePy - Done.\n",
      "Audio extracted and saved to: E:\\SafeReels\\audios\\'1092345325938197.wav\n",
      "MoviePy - Writing audio in E:\\SafeReels\\audios\\'1092382318979501.wav\n"
     ]
    },
    {
     "name": "stderr",
     "output_type": "stream",
     "text": [
      "                                                                                                                       \r"
     ]
    },
    {
     "name": "stdout",
     "output_type": "stream",
     "text": [
      "MoviePy - Done.\n",
      "Audio extracted and saved to: E:\\SafeReels\\audios\\'1092382318979501.wav\n",
      "MoviePy - Writing audio in E:\\SafeReels\\audios\\'1093006482204649.wav\n"
     ]
    },
    {
     "name": "stderr",
     "output_type": "stream",
     "text": [
      "                                                                                                                       \r"
     ]
    },
    {
     "name": "stdout",
     "output_type": "stream",
     "text": [
      "MoviePy - Done.\n",
      "Audio extracted and saved to: E:\\SafeReels\\audios\\'1093006482204649.wav\n",
      "MoviePy - Writing audio in E:\\SafeReels\\audios\\'1093870205441040.wav\n"
     ]
    },
    {
     "name": "stderr",
     "output_type": "stream",
     "text": [
      "                                                                                                                       "
     ]
    },
    {
     "name": "stdout",
     "output_type": "stream",
     "text": [
      "MoviePy - Done.\n",
      "Audio extracted and saved to: E:\\SafeReels\\audios\\'1093870205441040.wav\n"
     ]
    },
    {
     "name": "stderr",
     "output_type": "stream",
     "text": [
      "\r"
     ]
    },
    {
     "name": "stdout",
     "output_type": "stream",
     "text": [
      "MoviePy - Writing audio in E:\\SafeReels\\audios\\'1094613929332700.wav\n"
     ]
    },
    {
     "name": "stderr",
     "output_type": "stream",
     "text": [
      "                                                                                                                       \r"
     ]
    },
    {
     "name": "stdout",
     "output_type": "stream",
     "text": [
      "MoviePy - Done.\n",
      "Audio extracted and saved to: E:\\SafeReels\\audios\\'1094613929332700.wav\n",
      "MoviePy - Writing audio in E:\\SafeReels\\audios\\'1094635022118976.wav\n"
     ]
    },
    {
     "name": "stderr",
     "output_type": "stream",
     "text": [
      "                                                                                                                       \r"
     ]
    },
    {
     "name": "stdout",
     "output_type": "stream",
     "text": [
      "MoviePy - Done.\n",
      "Audio extracted and saved to: E:\\SafeReels\\audios\\'1094635022118976.wav\n",
      "MoviePy - Writing audio in E:\\SafeReels\\audios\\'1095633675228151.wav\n"
     ]
    },
    {
     "name": "stderr",
     "output_type": "stream",
     "text": [
      "                                                                                                                       \r"
     ]
    },
    {
     "name": "stdout",
     "output_type": "stream",
     "text": [
      "MoviePy - Done.\n",
      "Audio extracted and saved to: E:\\SafeReels\\audios\\'1095633675228151.wav\n",
      "MoviePy - Writing audio in E:\\SafeReels\\audios\\'1098744565103523.wav\n"
     ]
    },
    {
     "name": "stderr",
     "output_type": "stream",
     "text": [
      "                                                                                                                       \r"
     ]
    },
    {
     "name": "stdout",
     "output_type": "stream",
     "text": [
      "MoviePy - Done.\n",
      "Audio extracted and saved to: E:\\SafeReels\\audios\\'1098744565103523.wav\n",
      "MoviePy - Writing audio in E:\\SafeReels\\audios\\'1102286318202884.wav\n"
     ]
    },
    {
     "name": "stderr",
     "output_type": "stream",
     "text": [
      "                                                                                                                       \r"
     ]
    },
    {
     "name": "stdout",
     "output_type": "stream",
     "text": [
      "MoviePy - Done.\n",
      "Audio extracted and saved to: E:\\SafeReels\\audios\\'1102286318202884.wav\n",
      "MoviePy - Writing audio in E:\\SafeReels\\audios\\'1103502914626060.wav\n"
     ]
    },
    {
     "name": "stderr",
     "output_type": "stream",
     "text": [
      "                                                                                                                       \r"
     ]
    },
    {
     "name": "stdout",
     "output_type": "stream",
     "text": [
      "MoviePy - Done.\n",
      "Audio extracted and saved to: E:\\SafeReels\\audios\\'1103502914626060.wav\n",
      "MoviePy - Writing audio in E:\\SafeReels\\audios\\'1104386220632152.wav\n"
     ]
    },
    {
     "name": "stderr",
     "output_type": "stream",
     "text": [
      "                                                                                                                       \r"
     ]
    },
    {
     "name": "stdout",
     "output_type": "stream",
     "text": [
      "MoviePy - Done.\n",
      "Audio extracted and saved to: E:\\SafeReels\\audios\\'1104386220632152.wav\n",
      "MoviePy - Writing audio in E:\\SafeReels\\audios\\'1105740887861700.wav\n"
     ]
    },
    {
     "name": "stderr",
     "output_type": "stream",
     "text": [
      "                                                                                                                       "
     ]
    },
    {
     "name": "stdout",
     "output_type": "stream",
     "text": [
      "MoviePy - Done.\n",
      "Audio extracted and saved to: E:\\SafeReels\\audios\\'1105740887861700.wav\n"
     ]
    },
    {
     "name": "stderr",
     "output_type": "stream",
     "text": [
      "\r"
     ]
    },
    {
     "name": "stdout",
     "output_type": "stream",
     "text": [
      "MoviePy - Writing audio in E:\\SafeReels\\audios\\'1105757560902103.wav\n"
     ]
    },
    {
     "name": "stderr",
     "output_type": "stream",
     "text": [
      "                                                                                                                       \r"
     ]
    },
    {
     "name": "stdout",
     "output_type": "stream",
     "text": [
      "MoviePy - Done.\n",
      "Audio extracted and saved to: E:\\SafeReels\\audios\\'1105757560902103.wav\n",
      "MoviePy - Writing audio in E:\\SafeReels\\audios\\'1105965970437422.wav\n"
     ]
    },
    {
     "name": "stderr",
     "output_type": "stream",
     "text": [
      "                                                                                                                       \r"
     ]
    },
    {
     "name": "stdout",
     "output_type": "stream",
     "text": [
      "MoviePy - Done.\n",
      "Audio extracted and saved to: E:\\SafeReels\\audios\\'1105965970437422.wav\n",
      "MoviePy - Writing audio in E:\\SafeReels\\audios\\'1111385423737179.wav\n"
     ]
    },
    {
     "name": "stderr",
     "output_type": "stream",
     "text": [
      "                                                                                                                       \r"
     ]
    },
    {
     "name": "stdout",
     "output_type": "stream",
     "text": [
      "MoviePy - Done.\n",
      "Audio extracted and saved to: E:\\SafeReels\\audios\\'1111385423737179.wav\n",
      "MoviePy - Writing audio in E:\\SafeReels\\audios\\'1111973284265045.wav\n"
     ]
    },
    {
     "name": "stderr",
     "output_type": "stream",
     "text": [
      "                                                                                                                       \r"
     ]
    },
    {
     "name": "stdout",
     "output_type": "stream",
     "text": [
      "MoviePy - Done.\n",
      "Audio extracted and saved to: E:\\SafeReels\\audios\\'1111973284265045.wav\n",
      "MoviePy - Writing audio in E:\\SafeReels\\audios\\'1116182499454272.wav\n"
     ]
    },
    {
     "name": "stderr",
     "output_type": "stream",
     "text": [
      "                                                                                                                       "
     ]
    },
    {
     "name": "stdout",
     "output_type": "stream",
     "text": [
      "MoviePy - Done."
     ]
    },
    {
     "name": "stderr",
     "output_type": "stream",
     "text": [
      "\r"
     ]
    },
    {
     "name": "stdout",
     "output_type": "stream",
     "text": [
      "\n",
      "Audio extracted and saved to: E:\\SafeReels\\audios\\'1116182499454272.wav\n",
      "MoviePy - Writing audio in E:\\SafeReels\\audios\\'1117279513311014.wav\n"
     ]
    },
    {
     "name": "stderr",
     "output_type": "stream",
     "text": [
      "                                                                                                                       \r"
     ]
    },
    {
     "name": "stdout",
     "output_type": "stream",
     "text": [
      "MoviePy - Done.\n",
      "Audio extracted and saved to: E:\\SafeReels\\audios\\'1117279513311014.wav\n",
      "MoviePy - Writing audio in E:\\SafeReels\\audios\\'1117844863260573.wav\n"
     ]
    },
    {
     "name": "stderr",
     "output_type": "stream",
     "text": [
      "                                                                                                                       \r"
     ]
    },
    {
     "name": "stdout",
     "output_type": "stream",
     "text": [
      "MoviePy - Done.\n",
      "Audio extracted and saved to: E:\\SafeReels\\audios\\'1117844863260573.wav\n",
      "MoviePy - Writing audio in E:\\SafeReels\\audios\\'1118710143588566.wav\n"
     ]
    },
    {
     "name": "stderr",
     "output_type": "stream",
     "text": [
      "                                                                                                                       \r"
     ]
    },
    {
     "name": "stdout",
     "output_type": "stream",
     "text": [
      "MoviePy - Done.\n",
      "Audio extracted and saved to: E:\\SafeReels\\audios\\'1118710143588566.wav\n",
      "80 videos extracted.\n",
      "MoviePy - Writing audio in E:\\SafeReels\\audios\\'1120535782493042.wav\n"
     ]
    },
    {
     "name": "stderr",
     "output_type": "stream",
     "text": [
      "                                                                                                                       "
     ]
    },
    {
     "name": "stdout",
     "output_type": "stream",
     "text": [
      "MoviePy - Done.\n",
      "Audio extracted and saved to: E:\\SafeReels\\audios\\'1120535782493042.wav\n"
     ]
    },
    {
     "name": "stderr",
     "output_type": "stream",
     "text": [
      "\r"
     ]
    },
    {
     "name": "stdout",
     "output_type": "stream",
     "text": [
      "MoviePy - Writing audio in E:\\SafeReels\\audios\\'1120780002886046.wav\n"
     ]
    },
    {
     "name": "stderr",
     "output_type": "stream",
     "text": [
      "                                                                                                                       \r"
     ]
    },
    {
     "name": "stdout",
     "output_type": "stream",
     "text": [
      "MoviePy - Done.\n",
      "Audio extracted and saved to: E:\\SafeReels\\audios\\'1120780002886046.wav\n",
      "MoviePy - Writing audio in E:\\SafeReels\\audios\\'1120945762949019.wav\n"
     ]
    },
    {
     "name": "stderr",
     "output_type": "stream",
     "text": [
      "                                                                                                                       \r"
     ]
    },
    {
     "name": "stdout",
     "output_type": "stream",
     "text": [
      "MoviePy - Done.\n",
      "Audio extracted and saved to: E:\\SafeReels\\audios\\'1120945762949019.wav\n",
      "MoviePy - Writing audio in E:\\SafeReels\\audios\\'1123082416017481.wav\n"
     ]
    },
    {
     "name": "stderr",
     "output_type": "stream",
     "text": [
      "                                                                                                                       "
     ]
    },
    {
     "name": "stdout",
     "output_type": "stream",
     "text": [
      "MoviePy - Done.\n",
      "Audio extracted and saved to: E:\\SafeReels\\audios\\'1123082416017481.wav\n"
     ]
    },
    {
     "name": "stderr",
     "output_type": "stream",
     "text": [
      "\r"
     ]
    },
    {
     "name": "stdout",
     "output_type": "stream",
     "text": [
      "MoviePy - Writing audio in E:\\SafeReels\\audios\\'1126966605753361.wav\n"
     ]
    },
    {
     "name": "stderr",
     "output_type": "stream",
     "text": [
      "                                                                                                                       \r"
     ]
    },
    {
     "name": "stdout",
     "output_type": "stream",
     "text": [
      "MoviePy - Done.\n",
      "Audio extracted and saved to: E:\\SafeReels\\audios\\'1126966605753361.wav\n",
      "MoviePy - Writing audio in E:\\SafeReels\\audios\\'1129098201510085.wav\n"
     ]
    },
    {
     "name": "stderr",
     "output_type": "stream",
     "text": [
      "                                                                                                                       "
     ]
    },
    {
     "name": "stdout",
     "output_type": "stream",
     "text": [
      "MoviePy - Done.\n",
      "Audio extracted and saved to: E:\\SafeReels\\audios\\'1129098201510085.wav\n"
     ]
    },
    {
     "name": "stderr",
     "output_type": "stream",
     "text": [
      "\r"
     ]
    },
    {
     "name": "stdout",
     "output_type": "stream",
     "text": [
      "MoviePy - Writing audio in E:\\SafeReels\\audios\\'1129752075368228.wav\n"
     ]
    },
    {
     "name": "stderr",
     "output_type": "stream",
     "text": [
      "                                                                                                                       \r"
     ]
    },
    {
     "name": "stdout",
     "output_type": "stream",
     "text": [
      "MoviePy - Done.\n",
      "Audio extracted and saved to: E:\\SafeReels\\audios\\'1129752075368228.wav\n",
      "MoviePy - Writing audio in E:\\SafeReels\\audios\\'1129817175515000.wav\n"
     ]
    },
    {
     "name": "stderr",
     "output_type": "stream",
     "text": [
      "                                                                                                                       \r"
     ]
    },
    {
     "name": "stdout",
     "output_type": "stream",
     "text": [
      "MoviePy - Done.\n",
      "Audio extracted and saved to: E:\\SafeReels\\audios\\'1129817175515000.wav\n",
      "MoviePy - Writing audio in E:\\SafeReels\\audios\\'1133714570937484.wav\n"
     ]
    },
    {
     "name": "stderr",
     "output_type": "stream",
     "text": [
      "                                                                                                                       \r"
     ]
    },
    {
     "name": "stdout",
     "output_type": "stream",
     "text": [
      "MoviePy - Done.\n",
      "Audio extracted and saved to: E:\\SafeReels\\audios\\'1133714570937484.wav\n",
      "MoviePy - Writing audio in E:\\SafeReels\\audios\\'1138374987417391.wav\n"
     ]
    },
    {
     "name": "stderr",
     "output_type": "stream",
     "text": [
      "                                                                                                                       \r"
     ]
    },
    {
     "name": "stdout",
     "output_type": "stream",
     "text": [
      "MoviePy - Done.\n",
      "Audio extracted and saved to: E:\\SafeReels\\audios\\'1138374987417391.wav\n",
      "MoviePy - Writing audio in E:\\SafeReels\\audios\\'1140850417623985.wav\n"
     ]
    },
    {
     "name": "stderr",
     "output_type": "stream",
     "text": [
      "                                                                                                                       \r"
     ]
    },
    {
     "name": "stdout",
     "output_type": "stream",
     "text": [
      "MoviePy - Done.\n",
      "Audio extracted and saved to: E:\\SafeReels\\audios\\'1140850417623985.wav\n",
      "MoviePy - Writing audio in E:\\SafeReels\\audios\\'1142402103943433.wav\n"
     ]
    },
    {
     "name": "stderr",
     "output_type": "stream",
     "text": [
      "                                                                                                                       \r"
     ]
    },
    {
     "name": "stdout",
     "output_type": "stream",
     "text": [
      "MoviePy - Done.\n",
      "Audio extracted and saved to: E:\\SafeReels\\audios\\'1142402103943433.wav\n",
      "MoviePy - Writing audio in E:\\SafeReels\\audios\\'1144429907026028.wav\n"
     ]
    },
    {
     "name": "stderr",
     "output_type": "stream",
     "text": [
      "                                                                                                                       "
     ]
    },
    {
     "name": "stdout",
     "output_type": "stream",
     "text": [
      "MoviePy - Done.\n",
      "Audio extracted and saved to: E:\\SafeReels\\audios\\'1144429907026028.wav\n"
     ]
    },
    {
     "name": "stderr",
     "output_type": "stream",
     "text": [
      "\r"
     ]
    },
    {
     "name": "stdout",
     "output_type": "stream",
     "text": [
      "MoviePy - Writing audio in E:\\SafeReels\\audios\\'1146353223329113.wav\n"
     ]
    },
    {
     "name": "stderr",
     "output_type": "stream",
     "text": [
      "                                                                                                                       \r"
     ]
    },
    {
     "name": "stdout",
     "output_type": "stream",
     "text": [
      "MoviePy - Done.\n",
      "Audio extracted and saved to: E:\\SafeReels\\audios\\'1146353223329113.wav\n",
      "MoviePy - Writing audio in E:\\SafeReels\\audios\\'1147987720229306.wav\n"
     ]
    },
    {
     "name": "stderr",
     "output_type": "stream",
     "text": [
      "                                                                                                                       \r"
     ]
    },
    {
     "name": "stdout",
     "output_type": "stream",
     "text": [
      "MoviePy - Done.\n",
      "Audio extracted and saved to: E:\\SafeReels\\audios\\'1147987720229306.wav\n",
      "MoviePy - Writing audio in E:\\SafeReels\\audios\\'1151892502621746.wav\n"
     ]
    },
    {
     "name": "stderr",
     "output_type": "stream",
     "text": [
      "                                                                                                                       \r"
     ]
    },
    {
     "name": "stdout",
     "output_type": "stream",
     "text": [
      "MoviePy - Done.\n",
      "Audio extracted and saved to: E:\\SafeReels\\audios\\'1151892502621746.wav\n",
      "MoviePy - Writing audio in E:\\SafeReels\\audios\\'1154843582259253.wav\n"
     ]
    },
    {
     "name": "stderr",
     "output_type": "stream",
     "text": [
      "                                                                                                                       \r"
     ]
    },
    {
     "name": "stdout",
     "output_type": "stream",
     "text": [
      "MoviePy - Done.\n",
      "Audio extracted and saved to: E:\\SafeReels\\audios\\'1154843582259253.wav\n",
      "MoviePy - Writing audio in E:\\SafeReels\\audios\\'1155685072638072.wav\n"
     ]
    },
    {
     "name": "stderr",
     "output_type": "stream",
     "text": [
      "                                                                                                                       "
     ]
    },
    {
     "name": "stdout",
     "output_type": "stream",
     "text": [
      "MoviePy - Done.\n",
      "Audio extracted and saved to: E:\\SafeReels\\audios\\'1155685072638072.wav\n"
     ]
    },
    {
     "name": "stderr",
     "output_type": "stream",
     "text": [
      "\r"
     ]
    },
    {
     "name": "stdout",
     "output_type": "stream",
     "text": [
      "MoviePy - Writing audio in E:\\SafeReels\\audios\\'1160816495470433.wav\n"
     ]
    },
    {
     "name": "stderr",
     "output_type": "stream",
     "text": [
      "                                                                                                                       \r"
     ]
    },
    {
     "name": "stdout",
     "output_type": "stream",
     "text": [
      "MoviePy - Done.\n",
      "Audio extracted and saved to: E:\\SafeReels\\audios\\'1160816495470433.wav\n",
      "MoviePy - Writing audio in E:\\SafeReels\\audios\\'1162056175011997.wav\n"
     ]
    },
    {
     "name": "stderr",
     "output_type": "stream",
     "text": [
      "                                                                                                                       \r"
     ]
    },
    {
     "name": "stdout",
     "output_type": "stream",
     "text": [
      "MoviePy - Done.\n",
      "Audio extracted and saved to: E:\\SafeReels\\audios\\'1162056175011997.wav\n",
      "100 videos extracted.\n",
      "MoviePy - Writing audio in E:\\SafeReels\\audios\\'1163511181562244.wav\n"
     ]
    },
    {
     "name": "stderr",
     "output_type": "stream",
     "text": [
      "                                                                                                                       \r"
     ]
    },
    {
     "name": "stdout",
     "output_type": "stream",
     "text": [
      "MoviePy - Done.\n",
      "Audio extracted and saved to: E:\\SafeReels\\audios\\'1163511181562244.wav\n",
      "MoviePy - Writing audio in E:\\SafeReels\\audios\\'1163896471253100.wav\n"
     ]
    },
    {
     "name": "stderr",
     "output_type": "stream",
     "text": [
      "                                                                                                                       \r"
     ]
    },
    {
     "name": "stdout",
     "output_type": "stream",
     "text": [
      "MoviePy - Done.\n",
      "Audio extracted and saved to: E:\\SafeReels\\audios\\'1163896471253100.wav\n",
      "MoviePy - Writing audio in E:\\SafeReels\\audios\\'1165503301150914.wav\n"
     ]
    },
    {
     "name": "stderr",
     "output_type": "stream",
     "text": [
      "                                                                                                                       \r"
     ]
    },
    {
     "name": "stdout",
     "output_type": "stream",
     "text": [
      "MoviePy - Done.\n",
      "Audio extracted and saved to: E:\\SafeReels\\audios\\'1165503301150914.wav\n",
      "MoviePy - Writing audio in E:\\SafeReels\\audios\\'1166025524708396.wav\n"
     ]
    },
    {
     "name": "stderr",
     "output_type": "stream",
     "text": [
      "                                                                                                                       \r"
     ]
    },
    {
     "name": "stdout",
     "output_type": "stream",
     "text": [
      "MoviePy - Done.\n",
      "Audio extracted and saved to: E:\\SafeReels\\audios\\'1166025524708396.wav\n",
      "MoviePy - Writing audio in E:\\SafeReels\\audios\\'1168228261155845.wav\n"
     ]
    },
    {
     "name": "stderr",
     "output_type": "stream",
     "text": [
      "                                                                                                                       \r"
     ]
    },
    {
     "name": "stdout",
     "output_type": "stream",
     "text": [
      "MoviePy - Done.\n",
      "Audio extracted and saved to: E:\\SafeReels\\audios\\'1168228261155845.wav\n",
      "MoviePy - Writing audio in E:\\SafeReels\\audios\\'1171677563887147.wav\n"
     ]
    },
    {
     "name": "stderr",
     "output_type": "stream",
     "text": [
      "                                                                                                                       \r"
     ]
    },
    {
     "name": "stdout",
     "output_type": "stream",
     "text": [
      "MoviePy - Done.\n",
      "Audio extracted and saved to: E:\\SafeReels\\audios\\'1171677563887147.wav\n",
      "MoviePy - Writing audio in E:\\SafeReels\\audios\\'1172164700648565.wav\n"
     ]
    },
    {
     "name": "stderr",
     "output_type": "stream",
     "text": [
      "                                                                                                                       "
     ]
    },
    {
     "name": "stdout",
     "output_type": "stream",
     "text": [
      "MoviePy - Done.\n",
      "Audio extracted and saved to: E:\\SafeReels\\audios\\'1172164700648565.wav\n"
     ]
    },
    {
     "name": "stderr",
     "output_type": "stream",
     "text": [
      "\r"
     ]
    },
    {
     "name": "stdout",
     "output_type": "stream",
     "text": [
      "MoviePy - Writing audio in E:\\SafeReels\\audios\\'1172910164390768.wav\n"
     ]
    },
    {
     "name": "stderr",
     "output_type": "stream",
     "text": [
      "                                                                                                                       \r"
     ]
    },
    {
     "name": "stdout",
     "output_type": "stream",
     "text": [
      "MoviePy - Done.\n",
      "Audio extracted and saved to: E:\\SafeReels\\audios\\'1172910164390768.wav\n",
      "MoviePy - Writing audio in E:\\SafeReels\\audios\\'1175277797109907.wav\n"
     ]
    },
    {
     "name": "stderr",
     "output_type": "stream",
     "text": [
      "                                                                                                                       \r"
     ]
    },
    {
     "name": "stdout",
     "output_type": "stream",
     "text": [
      "MoviePy - Done.\n",
      "Audio extracted and saved to: E:\\SafeReels\\audios\\'1175277797109907.wav\n",
      "MoviePy - Writing audio in E:\\SafeReels\\audios\\'1180351003071481.wav\n"
     ]
    },
    {
     "name": "stderr",
     "output_type": "stream",
     "text": [
      "                                                                                                                       \r"
     ]
    },
    {
     "name": "stdout",
     "output_type": "stream",
     "text": [
      "MoviePy - Done.\n",
      "Audio extracted and saved to: E:\\SafeReels\\audios\\'1180351003071481.wav\n",
      "MoviePy - Writing audio in E:\\SafeReels\\audios\\'1181125059496643.wav\n"
     ]
    },
    {
     "name": "stderr",
     "output_type": "stream",
     "text": [
      "                                                                                                                       \r"
     ]
    },
    {
     "name": "stdout",
     "output_type": "stream",
     "text": [
      "MoviePy - Done.\n",
      "Audio extracted and saved to: E:\\SafeReels\\audios\\'1181125059496643.wav\n",
      "MoviePy - Writing audio in E:\\SafeReels\\audios\\'1182353236356056.wav\n"
     ]
    },
    {
     "name": "stderr",
     "output_type": "stream",
     "text": [
      "                                                                                                                       \r"
     ]
    },
    {
     "name": "stdout",
     "output_type": "stream",
     "text": [
      "MoviePy - Done.\n",
      "Audio extracted and saved to: E:\\SafeReels\\audios\\'1182353236356056.wav\n",
      "MoviePy - Writing audio in E:\\SafeReels\\audios\\'1184117169387408.wav\n"
     ]
    },
    {
     "name": "stderr",
     "output_type": "stream",
     "text": [
      "                                                                                                                       \r"
     ]
    },
    {
     "name": "stdout",
     "output_type": "stream",
     "text": [
      "MoviePy - Done.\n",
      "Audio extracted and saved to: E:\\SafeReels\\audios\\'1184117169387408.wav\n",
      "MoviePy - Writing audio in E:\\SafeReels\\audios\\'1188492512454756.wav\n"
     ]
    },
    {
     "name": "stderr",
     "output_type": "stream",
     "text": [
      "                                                                                                                       \r"
     ]
    },
    {
     "name": "stdout",
     "output_type": "stream",
     "text": [
      "MoviePy - Done.\n",
      "Audio extracted and saved to: E:\\SafeReels\\audios\\'1188492512454756.wav\n",
      "MoviePy - Writing audio in E:\\SafeReels\\audios\\'1202448027685866.wav\n"
     ]
    },
    {
     "name": "stderr",
     "output_type": "stream",
     "text": [
      "                                                                                                                       \r"
     ]
    },
    {
     "name": "stdout",
     "output_type": "stream",
     "text": [
      "MoviePy - Done.\n",
      "Audio extracted and saved to: E:\\SafeReels\\audios\\'1202448027685866.wav\n",
      "MoviePy - Writing audio in E:\\SafeReels\\audios\\'1202510304378703.wav\n"
     ]
    },
    {
     "name": "stderr",
     "output_type": "stream",
     "text": [
      "                                                                                                                       \r"
     ]
    },
    {
     "name": "stdout",
     "output_type": "stream",
     "text": [
      "MoviePy - Done.\n",
      "Audio extracted and saved to: E:\\SafeReels\\audios\\'1202510304378703.wav\n",
      "MoviePy - Writing audio in E:\\SafeReels\\audios\\'1202869574330261.wav\n"
     ]
    },
    {
     "name": "stderr",
     "output_type": "stream",
     "text": [
      "                                                                                                                       \r"
     ]
    },
    {
     "name": "stdout",
     "output_type": "stream",
     "text": [
      "MoviePy - Done.\n",
      "Audio extracted and saved to: E:\\SafeReels\\audios\\'1202869574330261.wav\n",
      "MoviePy - Writing audio in E:\\SafeReels\\audios\\'1206901470497398.wav\n"
     ]
    },
    {
     "name": "stderr",
     "output_type": "stream",
     "text": [
      "                                                                                                                       \r"
     ]
    },
    {
     "name": "stdout",
     "output_type": "stream",
     "text": [
      "MoviePy - Done.\n",
      "Audio extracted and saved to: E:\\SafeReels\\audios\\'1206901470497398.wav\n",
      "MoviePy - Writing audio in E:\\SafeReels\\audios\\'1207399653680343.wav\n"
     ]
    },
    {
     "name": "stderr",
     "output_type": "stream",
     "text": [
      "                                                                                                                       \r"
     ]
    },
    {
     "name": "stdout",
     "output_type": "stream",
     "text": [
      "MoviePy - Done.\n",
      "Audio extracted and saved to: E:\\SafeReels\\audios\\'1207399653680343.wav\n",
      "MoviePy - Writing audio in E:\\SafeReels\\audios\\'1211017446830581.wav\n"
     ]
    },
    {
     "name": "stderr",
     "output_type": "stream",
     "text": [
      "                                                                                                                       \r"
     ]
    },
    {
     "name": "stdout",
     "output_type": "stream",
     "text": [
      "MoviePy - Done.\n",
      "Audio extracted and saved to: E:\\SafeReels\\audios\\'1211017446830581.wav\n",
      "120 videos extracted.\n",
      "MoviePy - Writing audio in E:\\SafeReels\\audios\\'1211216493497701.wav\n"
     ]
    },
    {
     "name": "stderr",
     "output_type": "stream",
     "text": [
      "                                                                                                                       \r"
     ]
    },
    {
     "name": "stdout",
     "output_type": "stream",
     "text": [
      "MoviePy - Done.\n",
      "Audio extracted and saved to: E:\\SafeReels\\audios\\'1211216493497701.wav\n",
      "MoviePy - Writing audio in E:\\SafeReels\\audios\\'1212912926591045.wav\n"
     ]
    },
    {
     "name": "stderr",
     "output_type": "stream",
     "text": [
      "                                                                                                                       \r"
     ]
    },
    {
     "name": "stdout",
     "output_type": "stream",
     "text": [
      "MoviePy - Done.\n",
      "Audio extracted and saved to: E:\\SafeReels\\audios\\'1212912926591045.wav\n",
      "MoviePy - Writing audio in E:\\SafeReels\\audios\\'1213176096621956.wav\n"
     ]
    },
    {
     "name": "stderr",
     "output_type": "stream",
     "text": [
      "                                                                                                                       \r"
     ]
    },
    {
     "name": "stdout",
     "output_type": "stream",
     "text": [
      "MoviePy - Done.\n",
      "Audio extracted and saved to: E:\\SafeReels\\audios\\'1213176096621956.wav\n",
      "MoviePy - Writing audio in E:\\SafeReels\\audios\\'1215080096398225.wav\n"
     ]
    },
    {
     "name": "stderr",
     "output_type": "stream",
     "text": [
      "                                                                                                                       \r"
     ]
    },
    {
     "name": "stdout",
     "output_type": "stream",
     "text": [
      "MoviePy - Done.\n",
      "Audio extracted and saved to: E:\\SafeReels\\audios\\'1215080096398225.wav\n",
      "MoviePy - Writing audio in E:\\SafeReels\\audios\\'1216554066239041.wav\n"
     ]
    },
    {
     "name": "stderr",
     "output_type": "stream",
     "text": [
      "                                                                                                                       \r"
     ]
    },
    {
     "name": "stdout",
     "output_type": "stream",
     "text": [
      "MoviePy - Done.\n",
      "Audio extracted and saved to: E:\\SafeReels\\audios\\'1216554066239041.wav\n",
      "MoviePy - Writing audio in E:\\SafeReels\\audios\\'1218387019342591.wav\n"
     ]
    },
    {
     "name": "stderr",
     "output_type": "stream",
     "text": [
      "                                                                                                                       \r"
     ]
    },
    {
     "name": "stdout",
     "output_type": "stream",
     "text": [
      "MoviePy - Done.\n",
      "Audio extracted and saved to: E:\\SafeReels\\audios\\'1218387019342591.wav\n",
      "MoviePy - Writing audio in E:\\SafeReels\\audios\\'1223481578754412.wav\n"
     ]
    },
    {
     "name": "stderr",
     "output_type": "stream",
     "text": [
      "                                                                                                                       \r"
     ]
    },
    {
     "name": "stdout",
     "output_type": "stream",
     "text": [
      "MoviePy - Done.\n",
      "Audio extracted and saved to: E:\\SafeReels\\audios\\'1223481578754412.wav\n",
      "MoviePy - Writing audio in E:\\SafeReels\\audios\\'1225236565383875.wav\n"
     ]
    },
    {
     "name": "stderr",
     "output_type": "stream",
     "text": [
      "                                                                                                                       \r"
     ]
    },
    {
     "name": "stdout",
     "output_type": "stream",
     "text": [
      "MoviePy - Done.\n",
      "Audio extracted and saved to: E:\\SafeReels\\audios\\'1225236565383875.wav\n",
      "MoviePy - Writing audio in E:\\SafeReels\\audios\\'1226627641744426.wav\n"
     ]
    },
    {
     "name": "stderr",
     "output_type": "stream",
     "text": [
      "                                                                                                                       \r"
     ]
    },
    {
     "name": "stdout",
     "output_type": "stream",
     "text": [
      "MoviePy - Done.\n",
      "Audio extracted and saved to: E:\\SafeReels\\audios\\'1226627641744426.wav\n",
      "MoviePy - Writing audio in E:\\SafeReels\\audios\\'1227269271697924.wav\n"
     ]
    },
    {
     "name": "stderr",
     "output_type": "stream",
     "text": [
      "                                                                                                                       \r"
     ]
    },
    {
     "name": "stdout",
     "output_type": "stream",
     "text": [
      "MoviePy - Done.\n",
      "Audio extracted and saved to: E:\\SafeReels\\audios\\'1227269271697924.wav\n",
      "MoviePy - Writing audio in E:\\SafeReels\\audios\\'1227873288490163.wav\n"
     ]
    },
    {
     "name": "stderr",
     "output_type": "stream",
     "text": [
      "                                                                                                                       \r"
     ]
    },
    {
     "name": "stdout",
     "output_type": "stream",
     "text": [
      "MoviePy - Done.\n",
      "Audio extracted and saved to: E:\\SafeReels\\audios\\'1227873288490163.wav\n",
      "MoviePy - Writing audio in E:\\SafeReels\\audios\\'1230440094822634.wav\n"
     ]
    },
    {
     "name": "stderr",
     "output_type": "stream",
     "text": [
      "                                                                                                                       \r"
     ]
    },
    {
     "name": "stdout",
     "output_type": "stream",
     "text": [
      "MoviePy - Done.\n",
      "Audio extracted and saved to: E:\\SafeReels\\audios\\'1230440094822634.wav\n",
      "MoviePy - Writing audio in E:\\SafeReels\\audios\\'1239141870622694.wav\n"
     ]
    },
    {
     "name": "stderr",
     "output_type": "stream",
     "text": [
      "                                                                                                                       \r"
     ]
    },
    {
     "name": "stdout",
     "output_type": "stream",
     "text": [
      "MoviePy - Done.\n",
      "Audio extracted and saved to: E:\\SafeReels\\audios\\'1239141870622694.wav\n",
      "MoviePy - Writing audio in E:\\SafeReels\\audios\\'1239492003730319.wav\n"
     ]
    },
    {
     "name": "stderr",
     "output_type": "stream",
     "text": [
      "                                                                                                                       "
     ]
    },
    {
     "name": "stdout",
     "output_type": "stream",
     "text": [
      "MoviePy - Done.\n",
      "Audio extracted and saved to: E:\\SafeReels\\audios\\'1239492003730319.wav\n"
     ]
    },
    {
     "name": "stderr",
     "output_type": "stream",
     "text": [
      "\r"
     ]
    },
    {
     "name": "stdout",
     "output_type": "stream",
     "text": [
      "MoviePy - Writing audio in E:\\SafeReels\\audios\\'1241014316852317.wav\n"
     ]
    },
    {
     "name": "stderr",
     "output_type": "stream",
     "text": [
      "                                                                                                                       "
     ]
    },
    {
     "name": "stdout",
     "output_type": "stream",
     "text": [
      "MoviePy - Done.\n",
      "Audio extracted and saved to: E:\\SafeReels\\audios\\'1241014316852317.wav\n"
     ]
    },
    {
     "name": "stderr",
     "output_type": "stream",
     "text": [
      "\r"
     ]
    },
    {
     "name": "stdout",
     "output_type": "stream",
     "text": [
      "MoviePy - Writing audio in E:\\SafeReels\\audios\\'1241129733306101.wav\n"
     ]
    },
    {
     "name": "stderr",
     "output_type": "stream",
     "text": [
      "                                                                                                                       \r"
     ]
    },
    {
     "name": "stdout",
     "output_type": "stream",
     "text": [
      "MoviePy - Done.\n",
      "Audio extracted and saved to: E:\\SafeReels\\audios\\'1241129733306101.wav\n",
      "MoviePy - Writing audio in E:\\SafeReels\\audios\\'1241416796508692.wav\n"
     ]
    },
    {
     "name": "stderr",
     "output_type": "stream",
     "text": [
      "                                                                                                                       \r"
     ]
    },
    {
     "name": "stdout",
     "output_type": "stream",
     "text": [
      "MoviePy - Done.\n",
      "Audio extracted and saved to: E:\\SafeReels\\audios\\'1241416796508692.wav\n",
      "MoviePy - Writing audio in E:\\SafeReels\\audios\\'1243343096675981.wav\n"
     ]
    },
    {
     "name": "stderr",
     "output_type": "stream",
     "text": [
      "                                                                                                                       \r"
     ]
    },
    {
     "name": "stdout",
     "output_type": "stream",
     "text": [
      "MoviePy - Done.\n",
      "Audio extracted and saved to: E:\\SafeReels\\audios\\'1243343096675981.wav\n",
      "MoviePy - Writing audio in E:\\SafeReels\\audios\\'1244547093429651.wav\n"
     ]
    },
    {
     "name": "stderr",
     "output_type": "stream",
     "text": [
      "                                                                                                                       \r"
     ]
    },
    {
     "name": "stdout",
     "output_type": "stream",
     "text": [
      "MoviePy - Done.\n",
      "Audio extracted and saved to: E:\\SafeReels\\audios\\'1244547093429651.wav\n",
      "MoviePy - Writing audio in E:\\SafeReels\\audios\\'1247021666443551.wav\n"
     ]
    },
    {
     "name": "stderr",
     "output_type": "stream",
     "text": [
      "                                                                                                                       \r"
     ]
    },
    {
     "name": "stdout",
     "output_type": "stream",
     "text": [
      "MoviePy - Done.\n",
      "Audio extracted and saved to: E:\\SafeReels\\audios\\'1247021666443551.wav\n",
      "140 videos extracted.\n",
      "MoviePy - Writing audio in E:\\SafeReels\\audios\\'1247674516647480.wav\n"
     ]
    },
    {
     "name": "stderr",
     "output_type": "stream",
     "text": [
      "                                                                                                                       \r"
     ]
    },
    {
     "name": "stdout",
     "output_type": "stream",
     "text": [
      "MoviePy - Done.\n",
      "Audio extracted and saved to: E:\\SafeReels\\audios\\'1247674516647480.wav\n",
      "MoviePy - Writing audio in E:\\SafeReels\\audios\\'1250788619281433.wav\n"
     ]
    },
    {
     "name": "stderr",
     "output_type": "stream",
     "text": [
      "                                                                                                                       \r"
     ]
    },
    {
     "name": "stdout",
     "output_type": "stream",
     "text": [
      "MoviePy - Done.\n",
      "Audio extracted and saved to: E:\\SafeReels\\audios\\'1250788619281433.wav\n",
      "MoviePy - Writing audio in E:\\SafeReels\\audios\\'1253272052409662.wav\n"
     ]
    },
    {
     "name": "stderr",
     "output_type": "stream",
     "text": [
      "                                                                                                                       \r"
     ]
    },
    {
     "name": "stdout",
     "output_type": "stream",
     "text": [
      "MoviePy - Done.\n",
      "Audio extracted and saved to: E:\\SafeReels\\audios\\'1253272052409662.wav\n",
      "MoviePy - Writing audio in E:\\SafeReels\\audios\\'1254869138899435.wav\n"
     ]
    },
    {
     "name": "stderr",
     "output_type": "stream",
     "text": [
      "                                                                                                                       \r"
     ]
    },
    {
     "name": "stdout",
     "output_type": "stream",
     "text": [
      "MoviePy - Done.\n",
      "Audio extracted and saved to: E:\\SafeReels\\audios\\'1254869138899435.wav\n",
      "MoviePy - Writing audio in E:\\SafeReels\\audios\\'1255970282117355.wav\n"
     ]
    },
    {
     "name": "stderr",
     "output_type": "stream",
     "text": [
      "                                                                                                                       \r"
     ]
    },
    {
     "name": "stdout",
     "output_type": "stream",
     "text": [
      "MoviePy - Done.\n",
      "Audio extracted and saved to: E:\\SafeReels\\audios\\'1255970282117355.wav\n",
      "MoviePy - Writing audio in E:\\SafeReels\\audios\\'1257423032257359.wav\n"
     ]
    },
    {
     "name": "stderr",
     "output_type": "stream",
     "text": [
      "                                                                                                                       \r"
     ]
    },
    {
     "name": "stdout",
     "output_type": "stream",
     "text": [
      "MoviePy - Done.\n",
      "Audio extracted and saved to: E:\\SafeReels\\audios\\'1257423032257359.wav\n",
      "MoviePy - Writing audio in E:\\SafeReels\\audios\\'1259064888863301.wav\n"
     ]
    },
    {
     "name": "stderr",
     "output_type": "stream",
     "text": [
      "                                                                                                                       \r"
     ]
    },
    {
     "name": "stdout",
     "output_type": "stream",
     "text": [
      "MoviePy - Done.\n",
      "Audio extracted and saved to: E:\\SafeReels\\audios\\'1259064888863301.wav\n",
      "MoviePy - Writing audio in E:\\SafeReels\\audios\\'1259844128784584.wav\n"
     ]
    },
    {
     "name": "stderr",
     "output_type": "stream",
     "text": [
      "                                                                                                                       \r"
     ]
    },
    {
     "name": "stdout",
     "output_type": "stream",
     "text": [
      "MoviePy - Done.\n",
      "Audio extracted and saved to: E:\\SafeReels\\audios\\'1259844128784584.wav\n",
      "MoviePy - Writing audio in E:\\SafeReels\\audios\\'1260742568310114.wav\n"
     ]
    },
    {
     "name": "stderr",
     "output_type": "stream",
     "text": [
      "                                                                                                                       \r"
     ]
    },
    {
     "name": "stdout",
     "output_type": "stream",
     "text": [
      "MoviePy - Done.\n",
      "Audio extracted and saved to: E:\\SafeReels\\audios\\'1260742568310114.wav\n",
      "MoviePy - Writing audio in E:\\SafeReels\\audios\\'1261186975214290.wav\n"
     ]
    },
    {
     "name": "stderr",
     "output_type": "stream",
     "text": [
      "                                                                                                                       \r"
     ]
    },
    {
     "name": "stdout",
     "output_type": "stream",
     "text": [
      "MoviePy - Done.\n",
      "Audio extracted and saved to: E:\\SafeReels\\audios\\'1261186975214290.wav\n",
      "MoviePy - Writing audio in E:\\SafeReels\\audios\\'1262519438524716.wav\n"
     ]
    },
    {
     "name": "stderr",
     "output_type": "stream",
     "text": [
      "                                                                                                                       "
     ]
    },
    {
     "name": "stdout",
     "output_type": "stream",
     "text": [
      "MoviePy - Done.\n",
      "Audio extracted and saved to: E:\\SafeReels\\audios\\'1262519438524716.wav\n"
     ]
    },
    {
     "name": "stderr",
     "output_type": "stream",
     "text": [
      "\r"
     ]
    },
    {
     "name": "stdout",
     "output_type": "stream",
     "text": [
      "MoviePy - Writing audio in E:\\SafeReels\\audios\\'1264558844751212.wav\n"
     ]
    },
    {
     "name": "stderr",
     "output_type": "stream",
     "text": [
      "                                                                                                                       "
     ]
    },
    {
     "name": "stdout",
     "output_type": "stream",
     "text": [
      "MoviePy - Done.\n",
      "Audio extracted and saved to: E:\\SafeReels\\audios\\'1264558844751212.wav\n"
     ]
    },
    {
     "name": "stderr",
     "output_type": "stream",
     "text": [
      "\r"
     ]
    },
    {
     "name": "stdout",
     "output_type": "stream",
     "text": [
      "MoviePy - Writing audio in E:\\SafeReels\\audios\\'1271169157527025.wav\n"
     ]
    },
    {
     "name": "stderr",
     "output_type": "stream",
     "text": [
      "                                                                                                                       \r"
     ]
    },
    {
     "name": "stdout",
     "output_type": "stream",
     "text": [
      "MoviePy - Done.\n",
      "Audio extracted and saved to: E:\\SafeReels\\audios\\'1271169157527025.wav\n",
      "MoviePy - Writing audio in E:\\SafeReels\\audios\\'1271183790677804.wav\n"
     ]
    },
    {
     "name": "stderr",
     "output_type": "stream",
     "text": [
      "                                                                                                                       \r"
     ]
    },
    {
     "name": "stdout",
     "output_type": "stream",
     "text": [
      "MoviePy - Done.\n",
      "Audio extracted and saved to: E:\\SafeReels\\audios\\'1271183790677804.wav\n",
      "MoviePy - Writing audio in E:\\SafeReels\\audios\\'1271887520870295.wav\n"
     ]
    },
    {
     "name": "stderr",
     "output_type": "stream",
     "text": [
      "                                                                                                                       \r"
     ]
    },
    {
     "name": "stdout",
     "output_type": "stream",
     "text": [
      "MoviePy - Done.\n",
      "Audio extracted and saved to: E:\\SafeReels\\audios\\'1271887520870295.wav\n",
      "MoviePy - Writing audio in E:\\SafeReels\\audios\\'1272927503715703.wav\n"
     ]
    },
    {
     "name": "stderr",
     "output_type": "stream",
     "text": [
      "                                                                                                                       \r"
     ]
    },
    {
     "name": "stdout",
     "output_type": "stream",
     "text": [
      "MoviePy - Done.\n",
      "Audio extracted and saved to: E:\\SafeReels\\audios\\'1272927503715703.wav\n",
      "MoviePy - Writing audio in E:\\SafeReels\\audios\\'127385070437181.wav\n"
     ]
    },
    {
     "name": "stderr",
     "output_type": "stream",
     "text": [
      "                                                                                                                       \r"
     ]
    },
    {
     "name": "stdout",
     "output_type": "stream",
     "text": [
      "MoviePy - Done.\n",
      "Audio extracted and saved to: E:\\SafeReels\\audios\\'127385070437181.wav\n",
      "MoviePy - Writing audio in E:\\SafeReels\\audios\\'1276411347147651.wav\n"
     ]
    },
    {
     "name": "stderr",
     "output_type": "stream",
     "text": [
      "                                                                                                                       \r"
     ]
    },
    {
     "name": "stdout",
     "output_type": "stream",
     "text": [
      "MoviePy - Done.\n",
      "Audio extracted and saved to: E:\\SafeReels\\audios\\'1276411347147651.wav\n",
      "MoviePy - Writing audio in E:\\SafeReels\\audios\\'1279461396264871.wav\n"
     ]
    },
    {
     "name": "stderr",
     "output_type": "stream",
     "text": [
      "                                                                                                                       \r"
     ]
    },
    {
     "name": "stdout",
     "output_type": "stream",
     "text": [
      "MoviePy - Done.\n",
      "Audio extracted and saved to: E:\\SafeReels\\audios\\'1279461396264871.wav\n",
      "MoviePy - Writing audio in E:\\SafeReels\\audios\\'1280568786398910.wav\n"
     ]
    },
    {
     "name": "stderr",
     "output_type": "stream",
     "text": [
      "                                                                                                                       "
     ]
    },
    {
     "name": "stdout",
     "output_type": "stream",
     "text": [
      "MoviePy - Done.\n",
      "Audio extracted and saved to: E:\\SafeReels\\audios\\'1280568786398910.wav\n",
      "160 videos extracted.\n"
     ]
    },
    {
     "name": "stderr",
     "output_type": "stream",
     "text": [
      "\r"
     ]
    },
    {
     "name": "stdout",
     "output_type": "stream",
     "text": [
      "MoviePy - Writing audio in E:\\SafeReels\\audios\\'1280657233387044.wav\n"
     ]
    },
    {
     "name": "stderr",
     "output_type": "stream",
     "text": [
      "                                                                                                                       \r"
     ]
    },
    {
     "name": "stdout",
     "output_type": "stream",
     "text": [
      "MoviePy - Done.\n",
      "Audio extracted and saved to: E:\\SafeReels\\audios\\'1280657233387044.wav\n",
      "MoviePy - Writing audio in E:\\SafeReels\\audios\\'1282347709315444.wav\n"
     ]
    },
    {
     "name": "stderr",
     "output_type": "stream",
     "text": [
      "                                                                                                                       "
     ]
    },
    {
     "name": "stdout",
     "output_type": "stream",
     "text": [
      "MoviePy - Done.\n",
      "Audio extracted and saved to: E:\\SafeReels\\audios\\'1282347709315444.wav\n"
     ]
    },
    {
     "name": "stderr",
     "output_type": "stream",
     "text": [
      "\r"
     ]
    },
    {
     "name": "stdout",
     "output_type": "stream",
     "text": [
      "MoviePy - Writing audio in E:\\SafeReels\\audios\\'1284788268830838.wav\n"
     ]
    },
    {
     "name": "stderr",
     "output_type": "stream",
     "text": [
      "                                                                                                                       \r"
     ]
    },
    {
     "name": "stdout",
     "output_type": "stream",
     "text": [
      "MoviePy - Done.\n",
      "Audio extracted and saved to: E:\\SafeReels\\audios\\'1284788268830838.wav\n",
      "MoviePy - Writing audio in E:\\SafeReels\\audios\\'1285064262907324.wav\n"
     ]
    },
    {
     "name": "stderr",
     "output_type": "stream",
     "text": [
      "                                                                                                                       \r"
     ]
    },
    {
     "name": "stdout",
     "output_type": "stream",
     "text": [
      "MoviePy - Done.\n",
      "Audio extracted and saved to: E:\\SafeReels\\audios\\'1285064262907324.wav\n",
      "MoviePy - Writing audio in E:\\SafeReels\\audios\\'1287562709355533.wav\n"
     ]
    },
    {
     "name": "stderr",
     "output_type": "stream",
     "text": [
      "                                                                                                                       \r"
     ]
    },
    {
     "name": "stdout",
     "output_type": "stream",
     "text": [
      "MoviePy - Done.\n",
      "Audio extracted and saved to: E:\\SafeReels\\audios\\'1287562709355533.wav\n",
      "MoviePy - Writing audio in E:\\SafeReels\\audios\\'1287665595753934.wav\n"
     ]
    },
    {
     "name": "stderr",
     "output_type": "stream",
     "text": [
      "                                                                                                                       "
     ]
    },
    {
     "name": "stdout",
     "output_type": "stream",
     "text": [
      "MoviePy - Done.\n",
      "Audio extracted and saved to: E:\\SafeReels\\audios\\'1287665595753934.wav\n"
     ]
    },
    {
     "name": "stderr",
     "output_type": "stream",
     "text": [
      "\r"
     ]
    },
    {
     "name": "stdout",
     "output_type": "stream",
     "text": [
      "MoviePy - Writing audio in E:\\SafeReels\\audios\\'1290754712055747.wav\n"
     ]
    },
    {
     "name": "stderr",
     "output_type": "stream",
     "text": [
      "                                                                                                                       \r"
     ]
    },
    {
     "name": "stdout",
     "output_type": "stream",
     "text": [
      "MoviePy - Done.\n",
      "Audio extracted and saved to: E:\\SafeReels\\audios\\'1290754712055747.wav\n",
      "MoviePy - Writing audio in E:\\SafeReels\\audios\\'1294810988545262.wav\n"
     ]
    },
    {
     "name": "stderr",
     "output_type": "stream",
     "text": [
      "                                                                                                                       \r"
     ]
    },
    {
     "name": "stdout",
     "output_type": "stream",
     "text": [
      "MoviePy - Done.\n",
      "Audio extracted and saved to: E:\\SafeReels\\audios\\'1294810988545262.wav\n",
      "MoviePy - Writing audio in E:\\SafeReels\\audios\\'1295118781481311.wav\n"
     ]
    },
    {
     "name": "stderr",
     "output_type": "stream",
     "text": [
      "                                                                                                                       \r"
     ]
    },
    {
     "name": "stdout",
     "output_type": "stream",
     "text": [
      "MoviePy - Done.\n",
      "Audio extracted and saved to: E:\\SafeReels\\audios\\'1295118781481311.wav\n",
      "MoviePy - Writing audio in E:\\SafeReels\\audios\\'1296345708041228.wav\n"
     ]
    },
    {
     "name": "stderr",
     "output_type": "stream",
     "text": [
      "                                                                                                                       \r"
     ]
    },
    {
     "name": "stdout",
     "output_type": "stream",
     "text": [
      "MoviePy - Done.\n",
      "Audio extracted and saved to: E:\\SafeReels\\audios\\'1296345708041228.wav\n",
      "MoviePy - Writing audio in E:\\SafeReels\\audios\\'1300347771390478.wav\n"
     ]
    },
    {
     "name": "stderr",
     "output_type": "stream",
     "text": [
      "                                                                                                                       \r"
     ]
    },
    {
     "name": "stdout",
     "output_type": "stream",
     "text": [
      "MoviePy - Done.\n",
      "Audio extracted and saved to: E:\\SafeReels\\audios\\'1300347771390478.wav\n",
      "MoviePy - Writing audio in E:\\SafeReels\\audios\\'1303232811038974.wav\n"
     ]
    },
    {
     "name": "stderr",
     "output_type": "stream",
     "text": [
      "                                                                                                                       \r"
     ]
    },
    {
     "name": "stdout",
     "output_type": "stream",
     "text": [
      "MoviePy - Done.\n",
      "Audio extracted and saved to: E:\\SafeReels\\audios\\'1303232811038974.wav\n",
      "MoviePy - Writing audio in E:\\SafeReels\\audios\\'1303670774328488.wav\n"
     ]
    },
    {
     "name": "stderr",
     "output_type": "stream",
     "text": [
      "                                                                                                                       \r"
     ]
    },
    {
     "name": "stdout",
     "output_type": "stream",
     "text": [
      "MoviePy - Done.\n",
      "Audio extracted and saved to: E:\\SafeReels\\audios\\'1303670774328488.wav\n",
      "MoviePy - Writing audio in E:\\SafeReels\\audios\\'1305091850367594.wav\n"
     ]
    },
    {
     "name": "stderr",
     "output_type": "stream",
     "text": [
      "                                                                                                                       \r"
     ]
    },
    {
     "name": "stdout",
     "output_type": "stream",
     "text": [
      "MoviePy - Done.\n",
      "Audio extracted and saved to: E:\\SafeReels\\audios\\'1305091850367594.wav\n",
      "MoviePy - Writing audio in E:\\SafeReels\\audios\\'1307363723628379.wav\n"
     ]
    },
    {
     "name": "stderr",
     "output_type": "stream",
     "text": [
      "                                                                                                                       \r"
     ]
    },
    {
     "name": "stdout",
     "output_type": "stream",
     "text": [
      "MoviePy - Done.\n",
      "Audio extracted and saved to: E:\\SafeReels\\audios\\'1307363723628379.wav\n",
      "MoviePy - Writing audio in E:\\SafeReels\\audios\\'1310332090402269.wav\n"
     ]
    },
    {
     "name": "stderr",
     "output_type": "stream",
     "text": [
      "                                                                                                                       \r"
     ]
    },
    {
     "name": "stdout",
     "output_type": "stream",
     "text": [
      "MoviePy - Done.\n",
      "Audio extracted and saved to: E:\\SafeReels\\audios\\'1310332090402269.wav\n",
      "MoviePy - Writing audio in E:\\SafeReels\\audios\\'1317882729620141.wav\n"
     ]
    },
    {
     "name": "stderr",
     "output_type": "stream",
     "text": [
      "                                                                                                                       \r"
     ]
    },
    {
     "name": "stdout",
     "output_type": "stream",
     "text": [
      "MoviePy - Done.\n",
      "Audio extracted and saved to: E:\\SafeReels\\audios\\'1317882729620141.wav\n",
      "MoviePy - Writing audio in E:\\SafeReels\\audios\\'1322863289144938.wav\n"
     ]
    },
    {
     "name": "stderr",
     "output_type": "stream",
     "text": [
      "                                                                                                                       "
     ]
    },
    {
     "name": "stdout",
     "output_type": "stream",
     "text": [
      "MoviePy - Done.\n",
      "Audio extracted and saved to: E:\\SafeReels\\audios\\'1322863289144938.wav\n"
     ]
    },
    {
     "name": "stderr",
     "output_type": "stream",
     "text": [
      "\r"
     ]
    },
    {
     "name": "stdout",
     "output_type": "stream",
     "text": [
      "MoviePy - Writing audio in E:\\SafeReels\\audios\\'1323391592431721.wav\n"
     ]
    },
    {
     "name": "stderr",
     "output_type": "stream",
     "text": [
      "                                                                                                                       \r"
     ]
    },
    {
     "name": "stdout",
     "output_type": "stream",
     "text": [
      "MoviePy - Done.\n",
      "Audio extracted and saved to: E:\\SafeReels\\audios\\'1323391592431721.wav\n",
      "MoviePy - Writing audio in E:\\SafeReels\\audios\\'1332316494789987.wav\n"
     ]
    },
    {
     "name": "stderr",
     "output_type": "stream",
     "text": [
      "                                                                                                                       \r"
     ]
    },
    {
     "name": "stdout",
     "output_type": "stream",
     "text": [
      "MoviePy - Done.\n",
      "Audio extracted and saved to: E:\\SafeReels\\audios\\'1332316494789987.wav\n",
      "180 videos extracted.\n",
      "MoviePy - Writing audio in E:\\SafeReels\\audios\\'1333670927816230.wav\n"
     ]
    },
    {
     "name": "stderr",
     "output_type": "stream",
     "text": [
      "                                                                                                                       \r"
     ]
    },
    {
     "name": "stdout",
     "output_type": "stream",
     "text": [
      "MoviePy - Done.\n",
      "Audio extracted and saved to: E:\\SafeReels\\audios\\'1333670927816230.wav\n",
      "MoviePy - Writing audio in E:\\SafeReels\\audios\\'1339545226707643.wav\n"
     ]
    },
    {
     "name": "stderr",
     "output_type": "stream",
     "text": [
      "                                                                                                                       \r"
     ]
    },
    {
     "name": "stdout",
     "output_type": "stream",
     "text": [
      "MoviePy - Done.\n",
      "Audio extracted and saved to: E:\\SafeReels\\audios\\'1339545226707643.wav\n",
      "MoviePy - Writing audio in E:\\SafeReels\\audios\\'1347341199561136.wav\n"
     ]
    },
    {
     "name": "stderr",
     "output_type": "stream",
     "text": [
      "                                                                                                                       \r"
     ]
    },
    {
     "name": "stdout",
     "output_type": "stream",
     "text": [
      "MoviePy - Done.\n",
      "Audio extracted and saved to: E:\\SafeReels\\audios\\'1347341199561136.wav\n",
      "MoviePy - Writing audio in E:\\SafeReels\\audios\\'1358010801587966.wav\n"
     ]
    },
    {
     "name": "stderr",
     "output_type": "stream",
     "text": [
      "                                                                                                                       \r"
     ]
    },
    {
     "name": "stdout",
     "output_type": "stream",
     "text": [
      "MoviePy - Done.\n",
      "Audio extracted and saved to: E:\\SafeReels\\audios\\'1358010801587966.wav\n",
      "MoviePy - Writing audio in E:\\SafeReels\\audios\\'1367179668020409.wav\n"
     ]
    },
    {
     "name": "stderr",
     "output_type": "stream",
     "text": [
      "                                                                                                                       \r"
     ]
    },
    {
     "name": "stdout",
     "output_type": "stream",
     "text": [
      "MoviePy - Done.\n",
      "Audio extracted and saved to: E:\\SafeReels\\audios\\'1367179668020409.wav\n",
      "MoviePy - Writing audio in E:\\SafeReels\\audios\\'1368029547170461.wav\n"
     ]
    },
    {
     "name": "stderr",
     "output_type": "stream",
     "text": [
      "                                                                                                                       \r"
     ]
    },
    {
     "name": "stdout",
     "output_type": "stream",
     "text": [
      "MoviePy - Done.\n",
      "Audio extracted and saved to: E:\\SafeReels\\audios\\'1368029547170461.wav\n",
      "MoviePy - Writing audio in E:\\SafeReels\\audios\\'1374126780230339.wav\n"
     ]
    },
    {
     "name": "stderr",
     "output_type": "stream",
     "text": [
      "                                                                                                                       "
     ]
    },
    {
     "name": "stdout",
     "output_type": "stream",
     "text": [
      "MoviePy - Done."
     ]
    },
    {
     "name": "stderr",
     "output_type": "stream",
     "text": [
      "\r"
     ]
    },
    {
     "name": "stdout",
     "output_type": "stream",
     "text": [
      "\n",
      "Audio extracted and saved to: E:\\SafeReels\\audios\\'1374126780230339.wav\n",
      "MoviePy - Writing audio in E:\\SafeReels\\audios\\'1388936785140064.wav\n"
     ]
    },
    {
     "name": "stderr",
     "output_type": "stream",
     "text": [
      "                                                                                                                       \r"
     ]
    },
    {
     "name": "stdout",
     "output_type": "stream",
     "text": [
      "MoviePy - Done.\n",
      "Audio extracted and saved to: E:\\SafeReels\\audios\\'1388936785140064.wav\n",
      "MoviePy - Writing audio in E:\\SafeReels\\audios\\'1389974711723954.wav\n"
     ]
    },
    {
     "name": "stderr",
     "output_type": "stream",
     "text": [
      "                                                                                                                       \r"
     ]
    },
    {
     "name": "stdout",
     "output_type": "stream",
     "text": [
      "MoviePy - Done.\n",
      "Audio extracted and saved to: E:\\SafeReels\\audios\\'1389974711723954.wav\n",
      "No audio track found in video: E:\\SafeReels\\1390505745671066.mp4\n",
      "MoviePy - Writing audio in E:\\SafeReels\\audios\\'1405684590281781.wav\n"
     ]
    },
    {
     "name": "stderr",
     "output_type": "stream",
     "text": [
      "                                                                                                                       "
     ]
    },
    {
     "name": "stdout",
     "output_type": "stream",
     "text": [
      "MoviePy - Done.\n",
      "Audio extracted and saved to: E:\\SafeReels\\audios\\'1405684590281781.wav\n"
     ]
    },
    {
     "name": "stderr",
     "output_type": "stream",
     "text": [
      "\r"
     ]
    },
    {
     "name": "stdout",
     "output_type": "stream",
     "text": [
      "MoviePy - Writing audio in E:\\SafeReels\\audios\\'141373889049985.wav\n"
     ]
    },
    {
     "name": "stderr",
     "output_type": "stream",
     "text": [
      "                                                                                                                       \r"
     ]
    },
    {
     "name": "stdout",
     "output_type": "stream",
     "text": [
      "MoviePy - Done.\n",
      "Audio extracted and saved to: E:\\SafeReels\\audios\\'141373889049985.wav\n",
      "MoviePy - Writing audio in E:\\SafeReels\\audios\\'1434560387374544.wav\n"
     ]
    },
    {
     "name": "stderr",
     "output_type": "stream",
     "text": [
      "                                                                                                                       \r"
     ]
    },
    {
     "name": "stdout",
     "output_type": "stream",
     "text": [
      "MoviePy - Done.\n",
      "Audio extracted and saved to: E:\\SafeReels\\audios\\'1434560387374544.wav\n",
      "MoviePy - Writing audio in E:\\SafeReels\\audios\\'1440174467368620.wav\n"
     ]
    },
    {
     "name": "stderr",
     "output_type": "stream",
     "text": [
      "                                                                                                                       \r"
     ]
    },
    {
     "name": "stdout",
     "output_type": "stream",
     "text": [
      "MoviePy - Done.\n",
      "Audio extracted and saved to: E:\\SafeReels\\audios\\'1440174467368620.wav\n",
      "MoviePy - Writing audio in E:\\SafeReels\\audios\\'1443645729639645.wav\n"
     ]
    },
    {
     "name": "stderr",
     "output_type": "stream",
     "text": [
      "                                                                                                                       \r"
     ]
    },
    {
     "name": "stdout",
     "output_type": "stream",
     "text": [
      "MoviePy - Done.\n",
      "Audio extracted and saved to: E:\\SafeReels\\audios\\'1443645729639645.wav\n",
      "MoviePy - Writing audio in E:\\SafeReels\\audios\\'1449509623102316.wav\n"
     ]
    },
    {
     "name": "stderr",
     "output_type": "stream",
     "text": [
      "                                                                                                                       \r"
     ]
    },
    {
     "name": "stdout",
     "output_type": "stream",
     "text": [
      "MoviePy - Done.\n",
      "Audio extracted and saved to: E:\\SafeReels\\audios\\'1449509623102316.wav\n",
      "MoviePy - Writing audio in E:\\SafeReels\\audios\\'1455735525105345.wav\n"
     ]
    },
    {
     "name": "stderr",
     "output_type": "stream",
     "text": [
      "                                                                                                                       \r"
     ]
    },
    {
     "name": "stdout",
     "output_type": "stream",
     "text": [
      "MoviePy - Done.\n",
      "Audio extracted and saved to: E:\\SafeReels\\audios\\'1455735525105345.wav\n",
      "MoviePy - Writing audio in E:\\SafeReels\\audios\\'1462033854418697.wav\n"
     ]
    },
    {
     "name": "stderr",
     "output_type": "stream",
     "text": [
      "                                                                                                                       "
     ]
    },
    {
     "name": "stdout",
     "output_type": "stream",
     "text": [
      "MoviePy - Done.\n",
      "Audio extracted and saved to: E:\\SafeReels\\audios\\'1462033854418697.wav\n"
     ]
    },
    {
     "name": "stderr",
     "output_type": "stream",
     "text": [
      "\r"
     ]
    },
    {
     "name": "stdout",
     "output_type": "stream",
     "text": [
      "MoviePy - Writing audio in E:\\SafeReels\\audios\\'1468676857377451.wav\n"
     ]
    },
    {
     "name": "stderr",
     "output_type": "stream",
     "text": [
      "                                                                                                                       "
     ]
    },
    {
     "name": "stdout",
     "output_type": "stream",
     "text": [
      "MoviePy - Done.\n",
      "Audio extracted and saved to: E:\\SafeReels\\audios\\'1468676857377451.wav\n"
     ]
    },
    {
     "name": "stderr",
     "output_type": "stream",
     "text": [
      "\r"
     ]
    },
    {
     "name": "stdout",
     "output_type": "stream",
     "text": [
      "MoviePy - Writing audio in E:\\SafeReels\\audios\\'1471225016926399.wav\n"
     ]
    },
    {
     "name": "stderr",
     "output_type": "stream",
     "text": [
      "                                                                                                                       \r"
     ]
    },
    {
     "name": "stdout",
     "output_type": "stream",
     "text": [
      "MoviePy - Done.\n",
      "Audio extracted and saved to: E:\\SafeReels\\audios\\'1471225016926399.wav\n",
      "200 videos extracted.\n",
      "MoviePy - Writing audio in E:\\SafeReels\\audios\\'1471892290393515.wav\n"
     ]
    },
    {
     "name": "stderr",
     "output_type": "stream",
     "text": [
      "                                                                                                                       "
     ]
    },
    {
     "name": "stdout",
     "output_type": "stream",
     "text": [
      "MoviePy - Done.\n",
      "Audio extracted and saved to: E:\\SafeReels\\audios\\'1471892290393515.wav\n"
     ]
    },
    {
     "name": "stderr",
     "output_type": "stream",
     "text": [
      "\r"
     ]
    },
    {
     "name": "stdout",
     "output_type": "stream",
     "text": [
      "MoviePy - Writing audio in E:\\SafeReels\\audios\\'1474694333368084.wav\n"
     ]
    },
    {
     "name": "stderr",
     "output_type": "stream",
     "text": [
      "                                                                                                                       "
     ]
    },
    {
     "name": "stdout",
     "output_type": "stream",
     "text": [
      "MoviePy - Done.\n",
      "Audio extracted and saved to: E:\\SafeReels\\audios\\'1474694333368084.wav\n"
     ]
    },
    {
     "name": "stderr",
     "output_type": "stream",
     "text": [
      "\r"
     ]
    },
    {
     "name": "stdout",
     "output_type": "stream",
     "text": [
      "MoviePy - Writing audio in E:\\SafeReels\\audios\\'1480423585955442.wav\n"
     ]
    },
    {
     "name": "stderr",
     "output_type": "stream",
     "text": [
      "                                                                                                                       \r"
     ]
    },
    {
     "name": "stdout",
     "output_type": "stream",
     "text": [
      "MoviePy - Done.\n",
      "Audio extracted and saved to: E:\\SafeReels\\audios\\'1480423585955442.wav\n",
      "MoviePy - Writing audio in E:\\SafeReels\\audios\\'1492762075449320.wav\n"
     ]
    },
    {
     "name": "stderr",
     "output_type": "stream",
     "text": [
      "                                                                                                                       \r"
     ]
    },
    {
     "name": "stdout",
     "output_type": "stream",
     "text": [
      "MoviePy - Done.\n",
      "Audio extracted and saved to: E:\\SafeReels\\audios\\'1492762075449320.wav\n",
      "MoviePy - Writing audio in E:\\SafeReels\\audios\\'1493980984654777.wav\n"
     ]
    },
    {
     "name": "stderr",
     "output_type": "stream",
     "text": [
      "                                                                                                                       "
     ]
    },
    {
     "name": "stdout",
     "output_type": "stream",
     "text": [
      "MoviePy - Done.\n",
      "Audio extracted and saved to: E:\\SafeReels\\audios\\'1493980984654777.wav\n"
     ]
    },
    {
     "name": "stderr",
     "output_type": "stream",
     "text": [
      "\r"
     ]
    },
    {
     "name": "stdout",
     "output_type": "stream",
     "text": [
      "MoviePy - Writing audio in E:\\SafeReels\\audios\\'1502351383737306.wav\n"
     ]
    },
    {
     "name": "stderr",
     "output_type": "stream",
     "text": [
      "                                                                                                                       "
     ]
    },
    {
     "name": "stdout",
     "output_type": "stream",
     "text": [
      "MoviePy - Done.\n",
      "Audio extracted and saved to: E:\\SafeReels\\audios\\'1502351383737306.wav\n"
     ]
    },
    {
     "name": "stderr",
     "output_type": "stream",
     "text": [
      "\r"
     ]
    },
    {
     "name": "stdout",
     "output_type": "stream",
     "text": [
      "MoviePy - Writing audio in E:\\SafeReels\\audios\\'1506875080203905.wav\n"
     ]
    },
    {
     "name": "stderr",
     "output_type": "stream",
     "text": [
      "                                                                                                                       \r"
     ]
    },
    {
     "name": "stdout",
     "output_type": "stream",
     "text": [
      "MoviePy - Done.\n",
      "Audio extracted and saved to: E:\\SafeReels\\audios\\'1506875080203905.wav\n",
      "MoviePy - Writing audio in E:\\SafeReels\\audios\\'1509046346477876.wav\n"
     ]
    },
    {
     "name": "stderr",
     "output_type": "stream",
     "text": [
      "                                                                                                                       \r"
     ]
    },
    {
     "name": "stdout",
     "output_type": "stream",
     "text": [
      "MoviePy - Done.\n",
      "Audio extracted and saved to: E:\\SafeReels\\audios\\'1509046346477876.wav\n",
      "MoviePy - Writing audio in E:\\SafeReels\\audios\\'1509735403314316.wav\n"
     ]
    },
    {
     "name": "stderr",
     "output_type": "stream",
     "text": [
      "                                                                                                                       "
     ]
    },
    {
     "name": "stdout",
     "output_type": "stream",
     "text": [
      "MoviePy - Done.\n",
      "Audio extracted and saved to: E:\\SafeReels\\audios\\'1509735403314316.wav\n"
     ]
    },
    {
     "name": "stderr",
     "output_type": "stream",
     "text": [
      "\r"
     ]
    },
    {
     "name": "stdout",
     "output_type": "stream",
     "text": [
      "MoviePy - Writing audio in E:\\SafeReels\\audios\\'1510782766526910.wav\n"
     ]
    },
    {
     "name": "stderr",
     "output_type": "stream",
     "text": [
      "                                                                                                                       \r"
     ]
    },
    {
     "name": "stdout",
     "output_type": "stream",
     "text": [
      "MoviePy - Done.\n",
      "Audio extracted and saved to: E:\\SafeReels\\audios\\'1510782766526910.wav\n",
      "MoviePy - Writing audio in E:\\SafeReels\\audios\\'1511696116158211.wav\n"
     ]
    },
    {
     "name": "stderr",
     "output_type": "stream",
     "text": [
      "                                                                                                                       \r"
     ]
    },
    {
     "name": "stdout",
     "output_type": "stream",
     "text": [
      "MoviePy - Done.\n",
      "Audio extracted and saved to: E:\\SafeReels\\audios\\'1511696116158211.wav\n",
      "MoviePy - Writing audio in E:\\SafeReels\\audios\\'1515846142374319.wav\n"
     ]
    },
    {
     "name": "stderr",
     "output_type": "stream",
     "text": [
      "                                                                                                                       \r"
     ]
    },
    {
     "name": "stdout",
     "output_type": "stream",
     "text": [
      "MoviePy - Done.\n",
      "Audio extracted and saved to: E:\\SafeReels\\audios\\'1515846142374319.wav\n",
      "No audio track found in video: E:\\SafeReels\\1517077119216183.mp4\n",
      "MoviePy - Writing audio in E:\\SafeReels\\audios\\'1517437585515127.wav\n"
     ]
    },
    {
     "name": "stderr",
     "output_type": "stream",
     "text": [
      "                                                                                                                       "
     ]
    },
    {
     "name": "stdout",
     "output_type": "stream",
     "text": [
      "MoviePy - Done.\n",
      "Audio extracted and saved to: E:\\SafeReels\\audios\\'1517437585515127.wav\n"
     ]
    },
    {
     "name": "stderr",
     "output_type": "stream",
     "text": [
      "\r"
     ]
    },
    {
     "name": "stdout",
     "output_type": "stream",
     "text": [
      "MoviePy - Writing audio in E:\\SafeReels\\audios\\'1521441631790386.wav\n"
     ]
    },
    {
     "name": "stderr",
     "output_type": "stream",
     "text": [
      "                                                                                                                       \r"
     ]
    },
    {
     "name": "stdout",
     "output_type": "stream",
     "text": [
      "MoviePy - Done.\n",
      "Audio extracted and saved to: E:\\SafeReels\\audios\\'1521441631790386.wav\n",
      "MoviePy - Writing audio in E:\\SafeReels\\audios\\'1526381382090088.wav\n"
     ]
    },
    {
     "name": "stderr",
     "output_type": "stream",
     "text": [
      "                                                                                                                       \r"
     ]
    },
    {
     "name": "stdout",
     "output_type": "stream",
     "text": [
      "MoviePy - Done.\n",
      "Audio extracted and saved to: E:\\SafeReels\\audios\\'1526381382090088.wav\n",
      "MoviePy - Writing audio in E:\\SafeReels\\audios\\'1529721697640363.wav\n"
     ]
    },
    {
     "name": "stderr",
     "output_type": "stream",
     "text": [
      "                                                                                                                       "
     ]
    },
    {
     "name": "stdout",
     "output_type": "stream",
     "text": [
      "MoviePy - Done.\n",
      "Audio extracted and saved to: E:\\SafeReels\\audios\\'1529721697640363.wav\n"
     ]
    },
    {
     "name": "stderr",
     "output_type": "stream",
     "text": [
      "\r"
     ]
    },
    {
     "name": "stdout",
     "output_type": "stream",
     "text": [
      "MoviePy - Writing audio in E:\\SafeReels\\audios\\'1541450513161878.wav\n"
     ]
    },
    {
     "name": "stderr",
     "output_type": "stream",
     "text": [
      "                                                                                                                       \r"
     ]
    },
    {
     "name": "stdout",
     "output_type": "stream",
     "text": [
      "MoviePy - Done.\n",
      "Audio extracted and saved to: E:\\SafeReels\\audios\\'1541450513161878.wav\n",
      "MoviePy - Writing audio in E:\\SafeReels\\audios\\'1548840659338559.wav\n"
     ]
    },
    {
     "name": "stderr",
     "output_type": "stream",
     "text": [
      "                                                                                                                       \r"
     ]
    },
    {
     "name": "stdout",
     "output_type": "stream",
     "text": [
      "MoviePy - Done.\n",
      "Audio extracted and saved to: E:\\SafeReels\\audios\\'1548840659338559.wav\n",
      "MoviePy - Writing audio in E:\\SafeReels\\audios\\'1550021535874695.wav\n"
     ]
    },
    {
     "name": "stderr",
     "output_type": "stream",
     "text": [
      "                                                                                                                       \r"
     ]
    },
    {
     "name": "stdout",
     "output_type": "stream",
     "text": [
      "MoviePy - Done.\n",
      "Audio extracted and saved to: E:\\SafeReels\\audios\\'1550021535874695.wav\n",
      "220 videos extracted.\n",
      "MoviePy - Writing audio in E:\\SafeReels\\audios\\'1552483135625674.wav\n"
     ]
    },
    {
     "name": "stderr",
     "output_type": "stream",
     "text": [
      "                                                                                                                       \r"
     ]
    },
    {
     "name": "stdout",
     "output_type": "stream",
     "text": [
      "MoviePy - Done.\n",
      "Audio extracted and saved to: E:\\SafeReels\\audios\\'1552483135625674.wav\n",
      "MoviePy - Writing audio in E:\\SafeReels\\audios\\'1558748708060144.wav\n"
     ]
    },
    {
     "name": "stderr",
     "output_type": "stream",
     "text": [
      "                                                                                                                       \r"
     ]
    },
    {
     "name": "stdout",
     "output_type": "stream",
     "text": [
      "MoviePy - Done.\n",
      "Audio extracted and saved to: E:\\SafeReels\\audios\\'1558748708060144.wav\n",
      "MoviePy - Writing audio in E:\\SafeReels\\audios\\'1565045424413695.wav\n"
     ]
    },
    {
     "name": "stderr",
     "output_type": "stream",
     "text": [
      "                                                                                                                       \r"
     ]
    },
    {
     "name": "stdout",
     "output_type": "stream",
     "text": [
      "MoviePy - Done.\n",
      "Audio extracted and saved to: E:\\SafeReels\\audios\\'1565045424413695.wav\n",
      "MoviePy - Writing audio in E:\\SafeReels\\audios\\'1583103852605637.wav\n"
     ]
    },
    {
     "name": "stderr",
     "output_type": "stream",
     "text": [
      "                                                                                                                       \r"
     ]
    },
    {
     "name": "stdout",
     "output_type": "stream",
     "text": [
      "MoviePy - Done.\n",
      "Audio extracted and saved to: E:\\SafeReels\\audios\\'1583103852605637.wav\n",
      "MoviePy - Writing audio in E:\\SafeReels\\audios\\'1586354698627177.wav\n"
     ]
    },
    {
     "name": "stderr",
     "output_type": "stream",
     "text": [
      "                                                                                                                       \r"
     ]
    },
    {
     "name": "stdout",
     "output_type": "stream",
     "text": [
      "MoviePy - Done.\n",
      "Audio extracted and saved to: E:\\SafeReels\\audios\\'1586354698627177.wav\n",
      "MoviePy - Writing audio in E:\\SafeReels\\audios\\'1590098911579881.wav\n"
     ]
    },
    {
     "name": "stderr",
     "output_type": "stream",
     "text": [
      "                                                                                                                       \r"
     ]
    },
    {
     "name": "stdout",
     "output_type": "stream",
     "text": [
      "MoviePy - Done.\n",
      "Audio extracted and saved to: E:\\SafeReels\\audios\\'1590098911579881.wav\n",
      "MoviePy - Writing audio in E:\\SafeReels\\audios\\'1591458108428698.wav\n"
     ]
    },
    {
     "name": "stderr",
     "output_type": "stream",
     "text": [
      "                                                                                                                       \r"
     ]
    },
    {
     "name": "stdout",
     "output_type": "stream",
     "text": [
      "MoviePy - Done.\n",
      "Audio extracted and saved to: E:\\SafeReels\\audios\\'1591458108428698.wav\n",
      "MoviePy - Writing audio in E:\\SafeReels\\audios\\'1591856541403102.wav\n"
     ]
    },
    {
     "name": "stderr",
     "output_type": "stream",
     "text": [
      "                                                                                                                       "
     ]
    },
    {
     "name": "stdout",
     "output_type": "stream",
     "text": [
      "MoviePy - Done.\n",
      "Audio extracted and saved to: E:\\SafeReels\\audios\\'1591856541403102.wav\n"
     ]
    },
    {
     "name": "stderr",
     "output_type": "stream",
     "text": [
      "\r"
     ]
    },
    {
     "name": "stdout",
     "output_type": "stream",
     "text": [
      "MoviePy - Writing audio in E:\\SafeReels\\audios\\'1605689306948755.wav\n"
     ]
    },
    {
     "name": "stderr",
     "output_type": "stream",
     "text": [
      "                                                                                                                       \r"
     ]
    },
    {
     "name": "stdout",
     "output_type": "stream",
     "text": [
      "MoviePy - Done.\n",
      "Audio extracted and saved to: E:\\SafeReels\\audios\\'1605689306948755.wav\n",
      "MoviePy - Writing audio in E:\\SafeReels\\audios\\'1605790803322412.wav\n"
     ]
    },
    {
     "name": "stderr",
     "output_type": "stream",
     "text": [
      "                                                                                                                       \r"
     ]
    },
    {
     "name": "stdout",
     "output_type": "stream",
     "text": [
      "MoviePy - Done.\n",
      "Audio extracted and saved to: E:\\SafeReels\\audios\\'1605790803322412.wav\n",
      "MoviePy - Writing audio in E:\\SafeReels\\audios\\'1610278236461620.wav\n"
     ]
    },
    {
     "name": "stderr",
     "output_type": "stream",
     "text": [
      "                                                                                                                       \r"
     ]
    },
    {
     "name": "stdout",
     "output_type": "stream",
     "text": [
      "MoviePy - Done.\n",
      "Audio extracted and saved to: E:\\SafeReels\\audios\\'1610278236461620.wav\n",
      "MoviePy - Writing audio in E:\\SafeReels\\audios\\'1615752452353925.wav\n"
     ]
    },
    {
     "name": "stderr",
     "output_type": "stream",
     "text": [
      "                                                                                                                       \r"
     ]
    },
    {
     "name": "stdout",
     "output_type": "stream",
     "text": [
      "MoviePy - Done.\n",
      "Audio extracted and saved to: E:\\SafeReels\\audios\\'1615752452353925.wav\n",
      "MoviePy - Writing audio in E:\\SafeReels\\audios\\'1621007965265006.wav\n"
     ]
    },
    {
     "name": "stderr",
     "output_type": "stream",
     "text": [
      "                                                                                                                       \r"
     ]
    },
    {
     "name": "stdout",
     "output_type": "stream",
     "text": [
      "MoviePy - Done.\n",
      "Audio extracted and saved to: E:\\SafeReels\\audios\\'1621007965265006.wav\n",
      "MoviePy - Writing audio in E:\\SafeReels\\audios\\'1622446115357336.wav\n"
     ]
    },
    {
     "name": "stderr",
     "output_type": "stream",
     "text": [
      "                                                                                                                       \r"
     ]
    },
    {
     "name": "stdout",
     "output_type": "stream",
     "text": [
      "MoviePy - Done.\n",
      "Audio extracted and saved to: E:\\SafeReels\\audios\\'1622446115357336.wav\n",
      "MoviePy - Writing audio in E:\\SafeReels\\audios\\'1624198211462909.wav\n"
     ]
    },
    {
     "name": "stderr",
     "output_type": "stream",
     "text": [
      "                                                                                                                       \r"
     ]
    },
    {
     "name": "stdout",
     "output_type": "stream",
     "text": [
      "MoviePy - Done.\n",
      "Audio extracted and saved to: E:\\SafeReels\\audios\\'1624198211462909.wav\n",
      "MoviePy - Writing audio in E:\\SafeReels\\audios\\'1644850656062731.wav\n"
     ]
    },
    {
     "name": "stderr",
     "output_type": "stream",
     "text": [
      "                                                                                                                       \r"
     ]
    },
    {
     "name": "stdout",
     "output_type": "stream",
     "text": [
      "MoviePy - Done.\n",
      "Audio extracted and saved to: E:\\SafeReels\\audios\\'1644850656062731.wav\n",
      "MoviePy - Writing audio in E:\\SafeReels\\audios\\'1647190236184232.wav\n"
     ]
    },
    {
     "name": "stderr",
     "output_type": "stream",
     "text": [
      "                                                                                                                       "
     ]
    },
    {
     "name": "stdout",
     "output_type": "stream",
     "text": [
      "MoviePy - Done."
     ]
    },
    {
     "name": "stderr",
     "output_type": "stream",
     "text": [
      "\r"
     ]
    },
    {
     "name": "stdout",
     "output_type": "stream",
     "text": [
      "\n",
      "Audio extracted and saved to: E:\\SafeReels\\audios\\'1647190236184232.wav\n",
      "MoviePy - Writing audio in E:\\SafeReels\\audios\\'1654150198792493.wav\n"
     ]
    },
    {
     "name": "stderr",
     "output_type": "stream",
     "text": [
      "                                                                                                                       \r"
     ]
    },
    {
     "name": "stdout",
     "output_type": "stream",
     "text": [
      "MoviePy - Done.\n",
      "Audio extracted and saved to: E:\\SafeReels\\audios\\'1654150198792493.wav\n",
      "MoviePy - Writing audio in E:\\SafeReels\\audios\\'1659443471145997.wav\n"
     ]
    },
    {
     "name": "stderr",
     "output_type": "stream",
     "text": [
      "                                                                                                                       \r"
     ]
    },
    {
     "name": "stdout",
     "output_type": "stream",
     "text": [
      "MoviePy - Done.\n",
      "Audio extracted and saved to: E:\\SafeReels\\audios\\'1659443471145997.wav\n",
      "MoviePy - Writing audio in E:\\SafeReels\\audios\\'1674327546697237.wav\n"
     ]
    },
    {
     "name": "stderr",
     "output_type": "stream",
     "text": [
      "                                                                                                                       \r"
     ]
    },
    {
     "name": "stdout",
     "output_type": "stream",
     "text": [
      "MoviePy - Done.\n",
      "Audio extracted and saved to: E:\\SafeReels\\audios\\'1674327546697237.wav\n",
      "240 videos extracted.\n",
      "MoviePy - Writing audio in E:\\SafeReels\\audios\\'1674522132959330.wav\n"
     ]
    },
    {
     "name": "stderr",
     "output_type": "stream",
     "text": [
      "                                                                                                                       \r"
     ]
    },
    {
     "name": "stdout",
     "output_type": "stream",
     "text": [
      "MoviePy - Done.\n",
      "Audio extracted and saved to: E:\\SafeReels\\audios\\'1674522132959330.wav\n",
      "MoviePy - Writing audio in E:\\SafeReels\\audios\\'1675375849977907.wav\n"
     ]
    },
    {
     "name": "stderr",
     "output_type": "stream",
     "text": [
      "                                                                                                                       "
     ]
    },
    {
     "name": "stdout",
     "output_type": "stream",
     "text": [
      "MoviePy - Done.\n",
      "Audio extracted and saved to: E:\\SafeReels\\audios\\'1675375849977907.wav\n"
     ]
    },
    {
     "name": "stderr",
     "output_type": "stream",
     "text": [
      "\r"
     ]
    },
    {
     "name": "stdout",
     "output_type": "stream",
     "text": [
      "MoviePy - Writing audio in E:\\SafeReels\\audios\\'1681414595766157.wav\n"
     ]
    },
    {
     "name": "stderr",
     "output_type": "stream",
     "text": [
      "                                                                                                                       \r"
     ]
    },
    {
     "name": "stdout",
     "output_type": "stream",
     "text": [
      "MoviePy - Done.\n",
      "Audio extracted and saved to: E:\\SafeReels\\audios\\'1681414595766157.wav\n",
      "MoviePy - Writing audio in E:\\SafeReels\\audios\\'1684178585690323.wav\n"
     ]
    },
    {
     "name": "stderr",
     "output_type": "stream",
     "text": [
      "                                                                                                                       \r"
     ]
    },
    {
     "name": "stdout",
     "output_type": "stream",
     "text": [
      "MoviePy - Done.\n",
      "Audio extracted and saved to: E:\\SafeReels\\audios\\'1684178585690323.wav\n",
      "MoviePy - Writing audio in E:\\SafeReels\\audios\\'168563619474063.wav\n"
     ]
    },
    {
     "name": "stderr",
     "output_type": "stream",
     "text": [
      "                                                                                                                       \r"
     ]
    },
    {
     "name": "stdout",
     "output_type": "stream",
     "text": [
      "MoviePy - Done.\n",
      "Audio extracted and saved to: E:\\SafeReels\\audios\\'168563619474063.wav\n",
      "MoviePy - Writing audio in E:\\SafeReels\\audios\\'1690401331754749.wav\n"
     ]
    },
    {
     "name": "stderr",
     "output_type": "stream",
     "text": [
      "                                                                                                                       "
     ]
    },
    {
     "name": "stdout",
     "output_type": "stream",
     "text": [
      "MoviePy - Done.\n",
      "Audio extracted and saved to: E:\\SafeReels\\audios\\'1690401331754749.wav\n"
     ]
    },
    {
     "name": "stderr",
     "output_type": "stream",
     "text": [
      "\r"
     ]
    },
    {
     "name": "stdout",
     "output_type": "stream",
     "text": [
      "MoviePy - Writing audio in E:\\SafeReels\\audios\\'1694057541370941.wav\n"
     ]
    },
    {
     "name": "stderr",
     "output_type": "stream",
     "text": [
      "                                                                                                                       \r"
     ]
    },
    {
     "name": "stdout",
     "output_type": "stream",
     "text": [
      "MoviePy - Done.\n",
      "Audio extracted and saved to: E:\\SafeReels\\audios\\'1694057541370941.wav\n",
      "MoviePy - Writing audio in E:\\SafeReels\\audios\\'1699431024148373.wav\n"
     ]
    },
    {
     "name": "stderr",
     "output_type": "stream",
     "text": [
      "                                                                                                                       \r"
     ]
    },
    {
     "name": "stdout",
     "output_type": "stream",
     "text": [
      "MoviePy - Done.\n",
      "Audio extracted and saved to: E:\\SafeReels\\audios\\'1699431024148373.wav\n",
      "MoviePy - Writing audio in E:\\SafeReels\\audios\\'1715598552308077.wav\n"
     ]
    },
    {
     "name": "stderr",
     "output_type": "stream",
     "text": [
      "                                                                                                                       \r"
     ]
    },
    {
     "name": "stdout",
     "output_type": "stream",
     "text": [
      "MoviePy - Done.\n",
      "Audio extracted and saved to: E:\\SafeReels\\audios\\'1715598552308077.wav\n",
      "MoviePy - Writing audio in E:\\SafeReels\\audios\\'1716270145582033.wav\n"
     ]
    },
    {
     "name": "stderr",
     "output_type": "stream",
     "text": [
      "                                                                                                                       \r"
     ]
    },
    {
     "name": "stdout",
     "output_type": "stream",
     "text": [
      "MoviePy - Done.\n",
      "Audio extracted and saved to: E:\\SafeReels\\audios\\'1716270145582033.wav\n",
      "MoviePy - Writing audio in E:\\SafeReels\\audios\\'1719919928757425.wav\n"
     ]
    },
    {
     "name": "stderr",
     "output_type": "stream",
     "text": [
      "                                                                                                                       "
     ]
    },
    {
     "name": "stdout",
     "output_type": "stream",
     "text": [
      "MoviePy - Done.\n",
      "Audio extracted and saved to: E:\\SafeReels\\audios\\'1719919928757425.wav\n"
     ]
    },
    {
     "name": "stderr",
     "output_type": "stream",
     "text": [
      "\r"
     ]
    },
    {
     "name": "stdout",
     "output_type": "stream",
     "text": [
      "MoviePy - Writing audio in E:\\SafeReels\\audios\\'1733328494096256.wav\n"
     ]
    },
    {
     "name": "stderr",
     "output_type": "stream",
     "text": [
      "                                                                                                                       \r"
     ]
    },
    {
     "name": "stdout",
     "output_type": "stream",
     "text": [
      "MoviePy - Done.\n",
      "Audio extracted and saved to: E:\\SafeReels\\audios\\'1733328494096256.wav\n",
      "MoviePy - Writing audio in E:\\SafeReels\\audios\\'1735069013908368.wav\n"
     ]
    },
    {
     "name": "stderr",
     "output_type": "stream",
     "text": [
      "                                                                                                                       \r"
     ]
    },
    {
     "name": "stdout",
     "output_type": "stream",
     "text": [
      "MoviePy - Done.\n",
      "Audio extracted and saved to: E:\\SafeReels\\audios\\'1735069013908368.wav\n",
      "MoviePy - Writing audio in E:\\SafeReels\\audios\\'1738001793692904.wav\n"
     ]
    },
    {
     "name": "stderr",
     "output_type": "stream",
     "text": [
      "                                                                                                                       \r"
     ]
    },
    {
     "name": "stdout",
     "output_type": "stream",
     "text": [
      "MoviePy - Done.\n",
      "Audio extracted and saved to: E:\\SafeReels\\audios\\'1738001793692904.wav\n",
      "MoviePy - Writing audio in E:\\SafeReels\\audios\\'1739500383470820.wav\n"
     ]
    },
    {
     "name": "stderr",
     "output_type": "stream",
     "text": [
      "                                                                                                                       "
     ]
    },
    {
     "name": "stdout",
     "output_type": "stream",
     "text": [
      "MoviePy - Done.\n",
      "Audio extracted and saved to: E:\\SafeReels\\audios\\'1739500383470820.wav\n"
     ]
    },
    {
     "name": "stderr",
     "output_type": "stream",
     "text": [
      "\r"
     ]
    },
    {
     "name": "stdout",
     "output_type": "stream",
     "text": [
      "MoviePy - Writing audio in E:\\SafeReels\\audios\\'1741216966716224.wav\n"
     ]
    },
    {
     "name": "stderr",
     "output_type": "stream",
     "text": [
      "                                                                                                                       \r"
     ]
    },
    {
     "name": "stdout",
     "output_type": "stream",
     "text": [
      "MoviePy - Done.\n",
      "Audio extracted and saved to: E:\\SafeReels\\audios\\'1741216966716224.wav\n",
      "MoviePy - Writing audio in E:\\SafeReels\\audios\\'1746667629205027.wav\n"
     ]
    },
    {
     "name": "stderr",
     "output_type": "stream",
     "text": [
      "                                                                                                                       \r"
     ]
    },
    {
     "name": "stdout",
     "output_type": "stream",
     "text": [
      "MoviePy - Done.\n",
      "Audio extracted and saved to: E:\\SafeReels\\audios\\'1746667629205027.wav\n",
      "MoviePy - Writing audio in E:\\SafeReels\\audios\\'1753145251760566.wav\n"
     ]
    },
    {
     "name": "stderr",
     "output_type": "stream",
     "text": [
      "                                                                                                                       \r"
     ]
    },
    {
     "name": "stdout",
     "output_type": "stream",
     "text": [
      "MoviePy - Done.\n",
      "Audio extracted and saved to: E:\\SafeReels\\audios\\'1753145251760566.wav\n",
      "MoviePy - Writing audio in E:\\SafeReels\\audios\\'1755289928571060.wav\n"
     ]
    },
    {
     "name": "stderr",
     "output_type": "stream",
     "text": [
      "                                                                                                                       \r"
     ]
    },
    {
     "name": "stdout",
     "output_type": "stream",
     "text": [
      "MoviePy - Done.\n",
      "Audio extracted and saved to: E:\\SafeReels\\audios\\'1755289928571060.wav\n",
      "MoviePy - Writing audio in E:\\SafeReels\\audios\\'1768739593881646.wav\n"
     ]
    },
    {
     "name": "stderr",
     "output_type": "stream",
     "text": [
      "                                                                                                                       "
     ]
    },
    {
     "name": "stdout",
     "output_type": "stream",
     "text": [
      "MoviePy - Done.\n",
      "Audio extracted and saved to: E:\\SafeReels\\audios\\'1768739593881646.wav\n",
      "260 videos extracted.\n"
     ]
    },
    {
     "name": "stderr",
     "output_type": "stream",
     "text": [
      "\r"
     ]
    },
    {
     "name": "stdout",
     "output_type": "stream",
     "text": [
      "MoviePy - Writing audio in E:\\SafeReels\\audios\\'1774271136314635.wav\n"
     ]
    },
    {
     "name": "stderr",
     "output_type": "stream",
     "text": [
      "                                                                                                                       \r"
     ]
    },
    {
     "name": "stdout",
     "output_type": "stream",
     "text": [
      "MoviePy - Done.\n",
      "Audio extracted and saved to: E:\\SafeReels\\audios\\'1774271136314635.wav\n",
      "MoviePy - Writing audio in E:\\SafeReels\\audios\\'1777657623059389.wav\n"
     ]
    },
    {
     "name": "stderr",
     "output_type": "stream",
     "text": [
      "                                                                                                                       "
     ]
    },
    {
     "name": "stdout",
     "output_type": "stream",
     "text": [
      "MoviePy - Done.\n",
      "Audio extracted and saved to: E:\\SafeReels\\audios\\'1777657623059389.wav\n"
     ]
    },
    {
     "name": "stderr",
     "output_type": "stream",
     "text": [
      "\r"
     ]
    },
    {
     "name": "stdout",
     "output_type": "stream",
     "text": [
      "MoviePy - Writing audio in E:\\SafeReels\\audios\\'1780379012729766.wav\n"
     ]
    },
    {
     "name": "stderr",
     "output_type": "stream",
     "text": [
      "                                                                                                                       \r"
     ]
    },
    {
     "name": "stdout",
     "output_type": "stream",
     "text": [
      "MoviePy - Done.\n",
      "Audio extracted and saved to: E:\\SafeReels\\audios\\'1780379012729766.wav\n",
      "MoviePy - Writing audio in E:\\SafeReels\\audios\\'1785071515651698.wav\n"
     ]
    },
    {
     "name": "stderr",
     "output_type": "stream",
     "text": [
      "                                                                                                                       \r"
     ]
    },
    {
     "name": "stdout",
     "output_type": "stream",
     "text": [
      "MoviePy - Done.\n",
      "Audio extracted and saved to: E:\\SafeReels\\audios\\'1785071515651698.wav\n",
      "MoviePy - Writing audio in E:\\SafeReels\\audios\\'1795120787982516.wav\n"
     ]
    },
    {
     "name": "stderr",
     "output_type": "stream",
     "text": [
      "                                                                                                                       "
     ]
    },
    {
     "name": "stdout",
     "output_type": "stream",
     "text": [
      "MoviePy - Done.\n",
      "Audio extracted and saved to: E:\\SafeReels\\audios\\'1795120787982516.wav\n"
     ]
    },
    {
     "name": "stderr",
     "output_type": "stream",
     "text": [
      "\r"
     ]
    },
    {
     "name": "stdout",
     "output_type": "stream",
     "text": [
      "MoviePy - Writing audio in E:\\SafeReels\\audios\\'1797773574295452.wav\n"
     ]
    },
    {
     "name": "stderr",
     "output_type": "stream",
     "text": [
      "                                                                                                                       "
     ]
    },
    {
     "name": "stdout",
     "output_type": "stream",
     "text": [
      "MoviePy - Done.\n",
      "Audio extracted and saved to: E:\\SafeReels\\audios\\'1797773574295452.wav\n"
     ]
    },
    {
     "name": "stderr",
     "output_type": "stream",
     "text": [
      "\r"
     ]
    },
    {
     "name": "stdout",
     "output_type": "stream",
     "text": [
      "MoviePy - Writing audio in E:\\SafeReels\\audios\\'1798880647549080.wav\n"
     ]
    },
    {
     "name": "stderr",
     "output_type": "stream",
     "text": [
      "                                                                                                                       "
     ]
    },
    {
     "name": "stdout",
     "output_type": "stream",
     "text": [
      "MoviePy - Done.\n",
      "Audio extracted and saved to: E:\\SafeReels\\audios\\'1798880647549080.wav\n"
     ]
    },
    {
     "name": "stderr",
     "output_type": "stream",
     "text": [
      "\r"
     ]
    },
    {
     "name": "stdout",
     "output_type": "stream",
     "text": [
      "MoviePy - Writing audio in E:\\SafeReels\\audios\\'180267448348440.wav\n"
     ]
    },
    {
     "name": "stderr",
     "output_type": "stream",
     "text": [
      "                                                                                                                       \r"
     ]
    },
    {
     "name": "stdout",
     "output_type": "stream",
     "text": [
      "MoviePy - Done.\n",
      "Audio extracted and saved to: E:\\SafeReels\\audios\\'180267448348440.wav\n",
      "MoviePy - Writing audio in E:\\SafeReels\\audios\\'1816528325597049.wav\n"
     ]
    },
    {
     "name": "stderr",
     "output_type": "stream",
     "text": [
      "                                                                                                                       \r"
     ]
    },
    {
     "name": "stdout",
     "output_type": "stream",
     "text": [
      "MoviePy - Done.\n",
      "Audio extracted and saved to: E:\\SafeReels\\audios\\'1816528325597049.wav\n",
      "MoviePy - Writing audio in E:\\SafeReels\\audios\\'1827845211074057.wav\n"
     ]
    },
    {
     "name": "stderr",
     "output_type": "stream",
     "text": [
      "                                                                                                                       \r"
     ]
    },
    {
     "name": "stdout",
     "output_type": "stream",
     "text": [
      "MoviePy - Done.\n",
      "Audio extracted and saved to: E:\\SafeReels\\audios\\'1827845211074057.wav\n",
      "MoviePy - Writing audio in E:\\SafeReels\\audios\\'1866865830468541.wav\n"
     ]
    },
    {
     "name": "stderr",
     "output_type": "stream",
     "text": [
      "                                                                                                                       \r"
     ]
    },
    {
     "name": "stdout",
     "output_type": "stream",
     "text": [
      "MoviePy - Done.\n",
      "Audio extracted and saved to: E:\\SafeReels\\audios\\'1866865830468541.wav\n",
      "MoviePy - Writing audio in E:\\SafeReels\\audios\\'1871745179965519.wav\n"
     ]
    },
    {
     "name": "stderr",
     "output_type": "stream",
     "text": [
      "                                                                                                                       \r"
     ]
    },
    {
     "name": "stdout",
     "output_type": "stream",
     "text": [
      "MoviePy - Done.\n",
      "Audio extracted and saved to: E:\\SafeReels\\audios\\'1871745179965519.wav\n",
      "MoviePy - Writing audio in E:\\SafeReels\\audios\\'1884863802005903.wav\n"
     ]
    },
    {
     "name": "stderr",
     "output_type": "stream",
     "text": [
      "                                                                                                                       \r"
     ]
    },
    {
     "name": "stdout",
     "output_type": "stream",
     "text": [
      "MoviePy - Done.\n",
      "Audio extracted and saved to: E:\\SafeReels\\audios\\'1884863802005903.wav\n",
      "MoviePy - Writing audio in E:\\SafeReels\\audios\\'189675093881190.wav\n"
     ]
    },
    {
     "name": "stderr",
     "output_type": "stream",
     "text": [
      "                                                                                                                       "
     ]
    },
    {
     "name": "stdout",
     "output_type": "stream",
     "text": [
      "MoviePy - Done.\n",
      "Audio extracted and saved to: E:\\SafeReels\\audios\\'189675093881190.wav\n"
     ]
    },
    {
     "name": "stderr",
     "output_type": "stream",
     "text": [
      "\r"
     ]
    },
    {
     "name": "stdout",
     "output_type": "stream",
     "text": [
      "MoviePy - Writing audio in E:\\SafeReels\\audios\\'1903107443432331.wav\n"
     ]
    },
    {
     "name": "stderr",
     "output_type": "stream",
     "text": [
      "                                                                                                                       \r"
     ]
    },
    {
     "name": "stdout",
     "output_type": "stream",
     "text": [
      "MoviePy - Done.\n",
      "Audio extracted and saved to: E:\\SafeReels\\audios\\'1903107443432331.wav\n",
      "MoviePy - Writing audio in E:\\SafeReels\\audios\\'1917545235425170.wav\n"
     ]
    },
    {
     "name": "stderr",
     "output_type": "stream",
     "text": [
      "                                                                                                                       \r"
     ]
    },
    {
     "name": "stdout",
     "output_type": "stream",
     "text": [
      "MoviePy - Done.\n",
      "Audio extracted and saved to: E:\\SafeReels\\audios\\'1917545235425170.wav\n",
      "MoviePy - Writing audio in E:\\SafeReels\\audios\\'1921031241638045.wav\n"
     ]
    },
    {
     "name": "stderr",
     "output_type": "stream",
     "text": [
      "                                                                                                                       \r"
     ]
    },
    {
     "name": "stdout",
     "output_type": "stream",
     "text": [
      "MoviePy - Done.\n",
      "Audio extracted and saved to: E:\\SafeReels\\audios\\'1921031241638045.wav\n",
      "MoviePy - Writing audio in E:\\SafeReels\\audios\\'1921705424962328.wav\n"
     ]
    },
    {
     "name": "stderr",
     "output_type": "stream",
     "text": [
      "                                                                                                                       \r"
     ]
    },
    {
     "name": "stdout",
     "output_type": "stream",
     "text": [
      "MoviePy - Done.\n",
      "Audio extracted and saved to: E:\\SafeReels\\audios\\'1921705424962328.wav\n",
      "MoviePy - Writing audio in E:\\SafeReels\\audios\\'1933997600404164.wav\n"
     ]
    },
    {
     "name": "stderr",
     "output_type": "stream",
     "text": [
      "                                                                                                                       \r"
     ]
    },
    {
     "name": "stdout",
     "output_type": "stream",
     "text": [
      "MoviePy - Done.\n",
      "Audio extracted and saved to: E:\\SafeReels\\audios\\'1933997600404164.wav\n",
      "MoviePy - Writing audio in E:\\SafeReels\\audios\\'1939450636526523.wav\n"
     ]
    },
    {
     "name": "stderr",
     "output_type": "stream",
     "text": [
      "                                                                                                                       \r"
     ]
    },
    {
     "name": "stdout",
     "output_type": "stream",
     "text": [
      "MoviePy - Done.\n",
      "Audio extracted and saved to: E:\\SafeReels\\audios\\'1939450636526523.wav\n",
      "280 videos extracted.\n",
      "MoviePy - Writing audio in E:\\SafeReels\\audios\\'1945537192579121.wav\n"
     ]
    },
    {
     "name": "stderr",
     "output_type": "stream",
     "text": [
      "                                                                                                                       \r"
     ]
    },
    {
     "name": "stdout",
     "output_type": "stream",
     "text": [
      "MoviePy - Done.\n",
      "Audio extracted and saved to: E:\\SafeReels\\audios\\'1945537192579121.wav\n",
      "MoviePy - Writing audio in E:\\SafeReels\\audios\\'1971834463292757.wav\n"
     ]
    },
    {
     "name": "stderr",
     "output_type": "stream",
     "text": [
      "                                                                                                                       \r"
     ]
    },
    {
     "name": "stdout",
     "output_type": "stream",
     "text": [
      "MoviePy - Done.\n",
      "Audio extracted and saved to: E:\\SafeReels\\audios\\'1971834463292757.wav\n",
      "MoviePy - Writing audio in E:\\SafeReels\\audios\\'1977824515981432.wav\n"
     ]
    },
    {
     "name": "stderr",
     "output_type": "stream",
     "text": [
      "                                                                                                                       "
     ]
    },
    {
     "name": "stdout",
     "output_type": "stream",
     "text": [
      "MoviePy - Done.\n",
      "Audio extracted and saved to: E:\\SafeReels\\audios\\'1977824515981432.wav\n"
     ]
    },
    {
     "name": "stderr",
     "output_type": "stream",
     "text": [
      "\r"
     ]
    },
    {
     "name": "stdout",
     "output_type": "stream",
     "text": [
      "MoviePy - Writing audio in E:\\SafeReels\\audios\\'1980308142344300.wav\n"
     ]
    },
    {
     "name": "stderr",
     "output_type": "stream",
     "text": [
      "                                                                                                                       \r"
     ]
    },
    {
     "name": "stdout",
     "output_type": "stream",
     "text": [
      "MoviePy - Done.\n",
      "Audio extracted and saved to: E:\\SafeReels\\audios\\'1980308142344300.wav\n",
      "MoviePy - Writing audio in E:\\SafeReels\\audios\\'1988001485054508.wav\n"
     ]
    },
    {
     "name": "stderr",
     "output_type": "stream",
     "text": [
      "                                                                                                                       "
     ]
    },
    {
     "name": "stdout",
     "output_type": "stream",
     "text": [
      "MoviePy - Done.\n",
      "Audio extracted and saved to: E:\\SafeReels\\audios\\'1988001485054508.wav\n"
     ]
    },
    {
     "name": "stderr",
     "output_type": "stream",
     "text": [
      "\r"
     ]
    },
    {
     "name": "stdout",
     "output_type": "stream",
     "text": [
      "MoviePy - Writing audio in E:\\SafeReels\\audios\\'1999288617192418.wav\n"
     ]
    },
    {
     "name": "stderr",
     "output_type": "stream",
     "text": [
      "                                                                                                                       \r"
     ]
    },
    {
     "name": "stdout",
     "output_type": "stream",
     "text": [
      "MoviePy - Done.\n",
      "Audio extracted and saved to: E:\\SafeReels\\audios\\'1999288617192418.wav\n",
      "MoviePy - Writing audio in E:\\SafeReels\\audios\\'2026092764517655.wav\n"
     ]
    },
    {
     "name": "stderr",
     "output_type": "stream",
     "text": [
      "                                                                                                                       \r"
     ]
    },
    {
     "name": "stdout",
     "output_type": "stream",
     "text": [
      "MoviePy - Done.\n",
      "Audio extracted and saved to: E:\\SafeReels\\audios\\'2026092764517655.wav\n",
      "MoviePy - Writing audio in E:\\SafeReels\\audios\\'2041630939618808.wav\n"
     ]
    },
    {
     "name": "stderr",
     "output_type": "stream",
     "text": [
      "                                                                                                                       \r"
     ]
    },
    {
     "name": "stdout",
     "output_type": "stream",
     "text": [
      "MoviePy - Done.\n",
      "Audio extracted and saved to: E:\\SafeReels\\audios\\'2041630939618808.wav\n",
      "MoviePy - Writing audio in E:\\SafeReels\\audios\\'2062410847523355.wav\n"
     ]
    },
    {
     "name": "stderr",
     "output_type": "stream",
     "text": [
      "                                                                                                                       \r"
     ]
    },
    {
     "name": "stdout",
     "output_type": "stream",
     "text": [
      "MoviePy - Done.\n",
      "Audio extracted and saved to: E:\\SafeReels\\audios\\'2062410847523355.wav\n",
      "MoviePy - Writing audio in E:\\SafeReels\\audios\\'2066028010484303.wav\n"
     ]
    },
    {
     "name": "stderr",
     "output_type": "stream",
     "text": [
      "                                                                                                                       \r"
     ]
    },
    {
     "name": "stdout",
     "output_type": "stream",
     "text": [
      "MoviePy - Done.\n",
      "Audio extracted and saved to: E:\\SafeReels\\audios\\'2066028010484303.wav\n",
      "MoviePy - Writing audio in E:\\SafeReels\\audios\\'2112909085793057.wav\n"
     ]
    },
    {
     "name": "stderr",
     "output_type": "stream",
     "text": [
      "                                                                                                                       \r"
     ]
    },
    {
     "name": "stdout",
     "output_type": "stream",
     "text": [
      "MoviePy - Done.\n",
      "Audio extracted and saved to: E:\\SafeReels\\audios\\'2112909085793057.wav\n",
      "MoviePy - Writing audio in E:\\SafeReels\\audios\\'2132750493794188.wav\n"
     ]
    },
    {
     "name": "stderr",
     "output_type": "stream",
     "text": [
      "                                                                                                                       "
     ]
    },
    {
     "name": "stdout",
     "output_type": "stream",
     "text": [
      "MoviePy - Done.\n",
      "Audio extracted and saved to: E:\\SafeReels\\audios\\'2132750493794188.wav\n"
     ]
    },
    {
     "name": "stderr",
     "output_type": "stream",
     "text": [
      "\r"
     ]
    },
    {
     "name": "stdout",
     "output_type": "stream",
     "text": [
      "MoviePy - Writing audio in E:\\SafeReels\\audios\\'2159065527758918.wav\n"
     ]
    },
    {
     "name": "stderr",
     "output_type": "stream",
     "text": [
      "                                                                                                                       \r"
     ]
    },
    {
     "name": "stdout",
     "output_type": "stream",
     "text": [
      "MoviePy - Done.\n",
      "Audio extracted and saved to: E:\\SafeReels\\audios\\'2159065527758918.wav\n",
      "MoviePy - Writing audio in E:\\SafeReels\\audios\\'2204251706619713.wav\n"
     ]
    },
    {
     "name": "stderr",
     "output_type": "stream",
     "text": [
      "                                                                                                                       \r"
     ]
    },
    {
     "name": "stdout",
     "output_type": "stream",
     "text": [
      "MoviePy - Done.\n",
      "Audio extracted and saved to: E:\\SafeReels\\audios\\'2204251706619713.wav\n",
      "MoviePy - Writing audio in E:\\SafeReels\\audios\\'2233114963748427.wav\n"
     ]
    },
    {
     "name": "stderr",
     "output_type": "stream",
     "text": [
      "                                                                                                                       \r"
     ]
    },
    {
     "name": "stdout",
     "output_type": "stream",
     "text": [
      "MoviePy - Done.\n",
      "Audio extracted and saved to: E:\\SafeReels\\audios\\'2233114963748427.wav\n",
      "MoviePy - Writing audio in E:\\SafeReels\\audios\\'2250343192013848.wav\n"
     ]
    },
    {
     "name": "stderr",
     "output_type": "stream",
     "text": [
      "                                                                                                                       \r"
     ]
    },
    {
     "name": "stdout",
     "output_type": "stream",
     "text": [
      "MoviePy - Done.\n",
      "Audio extracted and saved to: E:\\SafeReels\\audios\\'2250343192013848.wav\n",
      "MoviePy - Writing audio in E:\\SafeReels\\audios\\'2270442876646579.wav\n"
     ]
    },
    {
     "name": "stderr",
     "output_type": "stream",
     "text": [
      "                                                                                                                       \r"
     ]
    },
    {
     "name": "stdout",
     "output_type": "stream",
     "text": [
      "MoviePy - Done.\n",
      "Audio extracted and saved to: E:\\SafeReels\\audios\\'2270442876646579.wav\n",
      "MoviePy - Writing audio in E:\\SafeReels\\audios\\'2279549779064707.wav\n"
     ]
    },
    {
     "name": "stderr",
     "output_type": "stream",
     "text": [
      "                                                                                                                       \r"
     ]
    },
    {
     "name": "stdout",
     "output_type": "stream",
     "text": [
      "MoviePy - Done.\n",
      "Audio extracted and saved to: E:\\SafeReels\\audios\\'2279549779064707.wav\n",
      "MoviePy - Writing audio in E:\\SafeReels\\audios\\'2353369324994801.wav\n"
     ]
    },
    {
     "name": "stderr",
     "output_type": "stream",
     "text": [
      "                                                                                                                       "
     ]
    },
    {
     "name": "stdout",
     "output_type": "stream",
     "text": [
      "MoviePy - Done.\n",
      "Audio extracted and saved to: E:\\SafeReels\\audios\\'2353369324994801.wav\n"
     ]
    },
    {
     "name": "stderr",
     "output_type": "stream",
     "text": [
      "\r"
     ]
    },
    {
     "name": "stdout",
     "output_type": "stream",
     "text": [
      "MoviePy - Writing audio in E:\\SafeReels\\audios\\'240972458980268.wav\n"
     ]
    },
    {
     "name": "stderr",
     "output_type": "stream",
     "text": [
      "                                                                                                                       \r"
     ]
    },
    {
     "name": "stdout",
     "output_type": "stream",
     "text": [
      "MoviePy - Done.\n",
      "Audio extracted and saved to: E:\\SafeReels\\audios\\'240972458980268.wav\n",
      "300 videos extracted.\n",
      "MoviePy - Writing audio in E:\\SafeReels\\audios\\'2508926859303371.wav\n"
     ]
    },
    {
     "name": "stderr",
     "output_type": "stream",
     "text": [
      "                                                                                                                       "
     ]
    },
    {
     "name": "stdout",
     "output_type": "stream",
     "text": [
      "MoviePy - Done.\n",
      "Audio extracted and saved to: E:\\SafeReels\\audios\\'2508926859303371.wav\n"
     ]
    },
    {
     "name": "stderr",
     "output_type": "stream",
     "text": [
      "\r"
     ]
    },
    {
     "name": "stdout",
     "output_type": "stream",
     "text": [
      "MoviePy - Writing audio in E:\\SafeReels\\audios\\'2527057537485231.wav\n"
     ]
    },
    {
     "name": "stderr",
     "output_type": "stream",
     "text": [
      "                                                                                                                       \r"
     ]
    },
    {
     "name": "stdout",
     "output_type": "stream",
     "text": [
      "MoviePy - Done.\n",
      "Audio extracted and saved to: E:\\SafeReels\\audios\\'2527057537485231.wav\n",
      "MoviePy - Writing audio in E:\\SafeReels\\audios\\'2587694348088699.wav\n"
     ]
    },
    {
     "name": "stderr",
     "output_type": "stream",
     "text": [
      "                                                                                                                       \r"
     ]
    },
    {
     "name": "stdout",
     "output_type": "stream",
     "text": [
      "MoviePy - Done.\n",
      "Audio extracted and saved to: E:\\SafeReels\\audios\\'2587694348088699.wav\n",
      "MoviePy - Writing audio in E:\\SafeReels\\audios\\'2598410500363279.wav\n"
     ]
    },
    {
     "name": "stderr",
     "output_type": "stream",
     "text": [
      "                                                                                                                       \r"
     ]
    },
    {
     "name": "stdout",
     "output_type": "stream",
     "text": [
      "MoviePy - Done.\n",
      "Audio extracted and saved to: E:\\SafeReels\\audios\\'2598410500363279.wav\n",
      "MoviePy - Writing audio in E:\\SafeReels\\audios\\'2616615288528633.wav\n"
     ]
    },
    {
     "name": "stderr",
     "output_type": "stream",
     "text": [
      "                                                                                                                       \r"
     ]
    },
    {
     "name": "stdout",
     "output_type": "stream",
     "text": [
      "MoviePy - Done.\n",
      "Audio extracted and saved to: E:\\SafeReels\\audios\\'2616615288528633.wav\n",
      "MoviePy - Writing audio in E:\\SafeReels\\audios\\'262598866487339.wav\n"
     ]
    },
    {
     "name": "stderr",
     "output_type": "stream",
     "text": [
      "                                                                                                                       \r"
     ]
    },
    {
     "name": "stdout",
     "output_type": "stream",
     "text": [
      "MoviePy - Done.\n",
      "Audio extracted and saved to: E:\\SafeReels\\audios\\'262598866487339.wav\n",
      "MoviePy - Writing audio in E:\\SafeReels\\audios\\'2631172317084170.wav\n"
     ]
    },
    {
     "name": "stderr",
     "output_type": "stream",
     "text": [
      "                                                                                                                       \r"
     ]
    },
    {
     "name": "stdout",
     "output_type": "stream",
     "text": [
      "MoviePy - Done.\n",
      "Audio extracted and saved to: E:\\SafeReels\\audios\\'2631172317084170.wav\n",
      "MoviePy - Writing audio in E:\\SafeReels\\audios\\'26382912934640364.wav\n"
     ]
    },
    {
     "name": "stderr",
     "output_type": "stream",
     "text": [
      "                                                                                                                       \r"
     ]
    },
    {
     "name": "stdout",
     "output_type": "stream",
     "text": [
      "MoviePy - Done.\n",
      "Audio extracted and saved to: E:\\SafeReels\\audios\\'26382912934640364.wav\n",
      "MoviePy - Writing audio in E:\\SafeReels\\audios\\'264809663032523.wav\n"
     ]
    },
    {
     "name": "stderr",
     "output_type": "stream",
     "text": [
      "                                                                                                                       \r"
     ]
    },
    {
     "name": "stdout",
     "output_type": "stream",
     "text": [
      "MoviePy - Done.\n",
      "Audio extracted and saved to: E:\\SafeReels\\audios\\'264809663032523.wav\n",
      "MoviePy - Writing audio in E:\\SafeReels\\audios\\'2652005341655044.wav\n"
     ]
    },
    {
     "name": "stderr",
     "output_type": "stream",
     "text": [
      "                                                                                                                       \r"
     ]
    },
    {
     "name": "stdout",
     "output_type": "stream",
     "text": [
      "MoviePy - Done.\n",
      "Audio extracted and saved to: E:\\SafeReels\\audios\\'2652005341655044.wav\n",
      "MoviePy - Writing audio in E:\\SafeReels\\audios\\'2658568607676384.wav\n"
     ]
    },
    {
     "name": "stderr",
     "output_type": "stream",
     "text": [
      "                                                                                                                       "
     ]
    },
    {
     "name": "stdout",
     "output_type": "stream",
     "text": [
      "MoviePy - Done.\n",
      "Audio extracted and saved to: E:\\SafeReels\\audios\\'2658568607676384.wav\n"
     ]
    },
    {
     "name": "stderr",
     "output_type": "stream",
     "text": [
      "\r"
     ]
    },
    {
     "name": "stdout",
     "output_type": "stream",
     "text": [
      "MoviePy - Writing audio in E:\\SafeReels\\audios\\'271775492185130.wav\n"
     ]
    },
    {
     "name": "stderr",
     "output_type": "stream",
     "text": [
      "                                                                                                                       \r"
     ]
    },
    {
     "name": "stdout",
     "output_type": "stream",
     "text": [
      "MoviePy - Done.\n",
      "Audio extracted and saved to: E:\\SafeReels\\audios\\'271775492185130.wav\n",
      "MoviePy - Writing audio in E:\\SafeReels\\audios\\'27445239871758001.wav\n"
     ]
    },
    {
     "name": "stderr",
     "output_type": "stream",
     "text": [
      "                                                                                                                       "
     ]
    },
    {
     "name": "stdout",
     "output_type": "stream",
     "text": [
      "MoviePy - Done.\n",
      "Audio extracted and saved to: E:\\SafeReels\\audios\\'27445239871758001.wav\n"
     ]
    },
    {
     "name": "stderr",
     "output_type": "stream",
     "text": [
      "\r"
     ]
    },
    {
     "name": "stdout",
     "output_type": "stream",
     "text": [
      "MoviePy - Writing audio in E:\\SafeReels\\audios\\'2761748987307781.wav\n"
     ]
    },
    {
     "name": "stderr",
     "output_type": "stream",
     "text": [
      "                                                                                                                       \r"
     ]
    },
    {
     "name": "stdout",
     "output_type": "stream",
     "text": [
      "MoviePy - Done.\n",
      "Audio extracted and saved to: E:\\SafeReels\\audios\\'2761748987307781.wav\n",
      "MoviePy - Writing audio in E:\\SafeReels\\audios\\'277708688541028.wav\n"
     ]
    },
    {
     "name": "stderr",
     "output_type": "stream",
     "text": [
      "                                                                                                                       \r"
     ]
    },
    {
     "name": "stdout",
     "output_type": "stream",
     "text": [
      "MoviePy - Done.\n",
      "Audio extracted and saved to: E:\\SafeReels\\audios\\'277708688541028.wav\n",
      "MoviePy - Writing audio in E:\\SafeReels\\audios\\'28560015850252415.wav\n"
     ]
    },
    {
     "name": "stderr",
     "output_type": "stream",
     "text": [
      "                                                                                                                       \r"
     ]
    },
    {
     "name": "stdout",
     "output_type": "stream",
     "text": [
      "MoviePy - Done.\n",
      "Audio extracted and saved to: E:\\SafeReels\\audios\\'28560015850252415.wav\n",
      "MoviePy - Writing audio in E:\\SafeReels\\audios\\'286102183874789.wav\n"
     ]
    },
    {
     "name": "stderr",
     "output_type": "stream",
     "text": [
      "                                                                                                                       "
     ]
    },
    {
     "name": "stdout",
     "output_type": "stream",
     "text": [
      "MoviePy - Done.\n",
      "Audio extracted and saved to: E:\\SafeReels\\audios\\'286102183874789.wav\n"
     ]
    },
    {
     "name": "stderr",
     "output_type": "stream",
     "text": [
      "\r"
     ]
    },
    {
     "name": "stdout",
     "output_type": "stream",
     "text": [
      "MoviePy - Writing audio in E:\\SafeReels\\audios\\'2888840614604657.wav\n"
     ]
    },
    {
     "name": "stderr",
     "output_type": "stream",
     "text": [
      "                                                                                                                       \r"
     ]
    },
    {
     "name": "stdout",
     "output_type": "stream",
     "text": [
      "MoviePy - Done.\n",
      "Audio extracted and saved to: E:\\SafeReels\\audios\\'2888840614604657.wav\n",
      "MoviePy - Writing audio in E:\\SafeReels\\audios\\'289845803573729.wav\n"
     ]
    },
    {
     "name": "stderr",
     "output_type": "stream",
     "text": [
      "                                                                                                                       \r"
     ]
    },
    {
     "name": "stdout",
     "output_type": "stream",
     "text": [
      "MoviePy - Done.\n",
      "Audio extracted and saved to: E:\\SafeReels\\audios\\'289845803573729.wav\n",
      "MoviePy - Writing audio in E:\\SafeReels\\audios\\'290840070236108.wav\n"
     ]
    },
    {
     "name": "stderr",
     "output_type": "stream",
     "text": [
      "                                                                                                                       \r"
     ]
    },
    {
     "name": "stdout",
     "output_type": "stream",
     "text": [
      "MoviePy - Done.\n",
      "Audio extracted and saved to: E:\\SafeReels\\audios\\'290840070236108.wav\n",
      "320 videos extracted.\n",
      "MoviePy - Writing audio in E:\\SafeReels\\audios\\'2912742425545387.wav\n"
     ]
    },
    {
     "name": "stderr",
     "output_type": "stream",
     "text": [
      "                                                                                                                       \r"
     ]
    },
    {
     "name": "stdout",
     "output_type": "stream",
     "text": [
      "MoviePy - Done.\n",
      "Audio extracted and saved to: E:\\SafeReels\\audios\\'2912742425545387.wav\n",
      "MoviePy - Writing audio in E:\\SafeReels\\audios\\'2945714922245919.wav\n"
     ]
    },
    {
     "name": "stderr",
     "output_type": "stream",
     "text": [
      "                                                                                                                       \r"
     ]
    },
    {
     "name": "stdout",
     "output_type": "stream",
     "text": [
      "MoviePy - Done.\n",
      "Audio extracted and saved to: E:\\SafeReels\\audios\\'2945714922245919.wav\n",
      "MoviePy - Writing audio in E:\\SafeReels\\audios\\'2982387471917237.wav\n"
     ]
    },
    {
     "name": "stderr",
     "output_type": "stream",
     "text": [
      "                                                                                                                       \r"
     ]
    },
    {
     "name": "stdout",
     "output_type": "stream",
     "text": [
      "MoviePy - Done.\n",
      "Audio extracted and saved to: E:\\SafeReels\\audios\\'2982387471917237.wav\n",
      "MoviePy - Writing audio in E:\\SafeReels\\audios\\'299412436473128.wav\n"
     ]
    },
    {
     "name": "stderr",
     "output_type": "stream",
     "text": [
      "                                                                                                                       \r"
     ]
    },
    {
     "name": "stdout",
     "output_type": "stream",
     "text": [
      "MoviePy - Done.\n",
      "Audio extracted and saved to: E:\\SafeReels\\audios\\'299412436473128.wav\n",
      "MoviePy - Writing audio in E:\\SafeReels\\audios\\'3007259796118078.wav\n"
     ]
    },
    {
     "name": "stderr",
     "output_type": "stream",
     "text": [
      "                                                                                                                       \r"
     ]
    },
    {
     "name": "stdout",
     "output_type": "stream",
     "text": [
      "MoviePy - Done.\n",
      "Audio extracted and saved to: E:\\SafeReels\\audios\\'3007259796118078.wav\n",
      "MoviePy - Writing audio in E:\\SafeReels\\audios\\'311826901814919.wav\n"
     ]
    },
    {
     "name": "stderr",
     "output_type": "stream",
     "text": [
      "                                                                                                                       \r"
     ]
    },
    {
     "name": "stdout",
     "output_type": "stream",
     "text": [
      "MoviePy - Done.\n",
      "Audio extracted and saved to: E:\\SafeReels\\audios\\'311826901814919.wav\n",
      "MoviePy - Writing audio in E:\\SafeReels\\audios\\'3154649878163046.wav\n"
     ]
    },
    {
     "name": "stderr",
     "output_type": "stream",
     "text": [
      "                                                                                                                       \r"
     ]
    },
    {
     "name": "stdout",
     "output_type": "stream",
     "text": [
      "MoviePy - Done.\n",
      "Audio extracted and saved to: E:\\SafeReels\\audios\\'3154649878163046.wav\n",
      "MoviePy - Writing audio in E:\\SafeReels\\audios\\'319951707063279.wav\n"
     ]
    },
    {
     "name": "stderr",
     "output_type": "stream",
     "text": [
      "                                                                                                                       \r"
     ]
    },
    {
     "name": "stdout",
     "output_type": "stream",
     "text": [
      "MoviePy - Done.\n",
      "Audio extracted and saved to: E:\\SafeReels\\audios\\'319951707063279.wav\n",
      "MoviePy - Writing audio in E:\\SafeReels\\audios\\'325809463144504.wav\n"
     ]
    },
    {
     "name": "stderr",
     "output_type": "stream",
     "text": [
      "                                                                                                                       \r"
     ]
    },
    {
     "name": "stdout",
     "output_type": "stream",
     "text": [
      "MoviePy - Done.\n",
      "Audio extracted and saved to: E:\\SafeReels\\audios\\'325809463144504.wav\n",
      "MoviePy - Writing audio in E:\\SafeReels\\audios\\'328140622935012.wav\n"
     ]
    },
    {
     "name": "stderr",
     "output_type": "stream",
     "text": [
      "                                                                                                                       \r"
     ]
    },
    {
     "name": "stdout",
     "output_type": "stream",
     "text": [
      "MoviePy - Done.\n",
      "Audio extracted and saved to: E:\\SafeReels\\audios\\'328140622935012.wav\n",
      "MoviePy - Writing audio in E:\\SafeReels\\audios\\'334354959706394.wav\n"
     ]
    },
    {
     "name": "stderr",
     "output_type": "stream",
     "text": [
      "                                                                                                                       \r"
     ]
    },
    {
     "name": "stdout",
     "output_type": "stream",
     "text": [
      "MoviePy - Done.\n",
      "Audio extracted and saved to: E:\\SafeReels\\audios\\'334354959706394.wav\n",
      "MoviePy - Writing audio in E:\\SafeReels\\audios\\'3355179137948485.wav\n"
     ]
    },
    {
     "name": "stderr",
     "output_type": "stream",
     "text": [
      "                                                                                                                       \r"
     ]
    },
    {
     "name": "stdout",
     "output_type": "stream",
     "text": [
      "MoviePy - Done.\n",
      "Audio extracted and saved to: E:\\SafeReels\\audios\\'3355179137948485.wav\n",
      "MoviePy - Writing audio in E:\\SafeReels\\audios\\'340895605504715.wav\n"
     ]
    },
    {
     "name": "stderr",
     "output_type": "stream",
     "text": [
      "                                                                                                                       \r"
     ]
    },
    {
     "name": "stdout",
     "output_type": "stream",
     "text": [
      "MoviePy - Done.\n",
      "Audio extracted and saved to: E:\\SafeReels\\audios\\'340895605504715.wav\n",
      "MoviePy - Writing audio in E:\\SafeReels\\audios\\'3448724508760805.wav\n"
     ]
    },
    {
     "name": "stderr",
     "output_type": "stream",
     "text": [
      "                                                                                                                       \r"
     ]
    },
    {
     "name": "stdout",
     "output_type": "stream",
     "text": [
      "MoviePy - Done.\n",
      "Audio extracted and saved to: E:\\SafeReels\\audios\\'3448724508760805.wav\n",
      "MoviePy - Writing audio in E:\\SafeReels\\audios\\'346522001206629.wav\n"
     ]
    },
    {
     "name": "stderr",
     "output_type": "stream",
     "text": [
      "                                                                                                                       \r"
     ]
    },
    {
     "name": "stdout",
     "output_type": "stream",
     "text": [
      "MoviePy - Done.\n",
      "Audio extracted and saved to: E:\\SafeReels\\audios\\'346522001206629.wav\n",
      "MoviePy - Writing audio in E:\\SafeReels\\audios\\'3482965272009867.wav\n"
     ]
    },
    {
     "name": "stderr",
     "output_type": "stream",
     "text": [
      "                                                                                                                       \r"
     ]
    },
    {
     "name": "stdout",
     "output_type": "stream",
     "text": [
      "MoviePy - Done.\n",
      "Audio extracted and saved to: E:\\SafeReels\\audios\\'3482965272009867.wav\n",
      "MoviePy - Writing audio in E:\\SafeReels\\audios\\'351527784313186.wav\n"
     ]
    },
    {
     "name": "stderr",
     "output_type": "stream",
     "text": [
      "                                                                                                                       \r"
     ]
    },
    {
     "name": "stdout",
     "output_type": "stream",
     "text": [
      "MoviePy - Done.\n",
      "Audio extracted and saved to: E:\\SafeReels\\audios\\'351527784313186.wav\n",
      "MoviePy - Writing audio in E:\\SafeReels\\audios\\'3575532259386463.wav\n"
     ]
    },
    {
     "name": "stderr",
     "output_type": "stream",
     "text": [
      "                                                                                                                       \r"
     ]
    },
    {
     "name": "stdout",
     "output_type": "stream",
     "text": [
      "MoviePy - Done.\n",
      "Audio extracted and saved to: E:\\SafeReels\\audios\\'3575532259386463.wav\n",
      "MoviePy - Writing audio in E:\\SafeReels\\audios\\'359687823815051.wav\n"
     ]
    },
    {
     "name": "stderr",
     "output_type": "stream",
     "text": [
      "                                                                                                                       \r"
     ]
    },
    {
     "name": "stdout",
     "output_type": "stream",
     "text": [
      "MoviePy - Done.\n",
      "Audio extracted and saved to: E:\\SafeReels\\audios\\'359687823815051.wav\n",
      "MoviePy - Writing audio in E:\\SafeReels\\audios\\'3608534956142995.wav\n"
     ]
    },
    {
     "name": "stderr",
     "output_type": "stream",
     "text": [
      "                                                                                                                       \r"
     ]
    },
    {
     "name": "stdout",
     "output_type": "stream",
     "text": [
      "MoviePy - Done.\n",
      "Audio extracted and saved to: E:\\SafeReels\\audios\\'3608534956142995.wav\n",
      "340 videos extracted.\n",
      "MoviePy - Writing audio in E:\\SafeReels\\audios\\'3613958938868173.wav\n"
     ]
    },
    {
     "name": "stderr",
     "output_type": "stream",
     "text": [
      "                                                                                                                       \r"
     ]
    },
    {
     "name": "stdout",
     "output_type": "stream",
     "text": [
      "MoviePy - Done.\n",
      "Audio extracted and saved to: E:\\SafeReels\\audios\\'3613958938868173.wav\n",
      "MoviePy - Writing audio in E:\\SafeReels\\audios\\'366994188988546.wav\n"
     ]
    },
    {
     "name": "stderr",
     "output_type": "stream",
     "text": [
      "                                                                                                                       \r"
     ]
    },
    {
     "name": "stdout",
     "output_type": "stream",
     "text": [
      "MoviePy - Done.\n",
      "Audio extracted and saved to: E:\\SafeReels\\audios\\'366994188988546.wav\n",
      "MoviePy - Writing audio in E:\\SafeReels\\audios\\'3690867111242053.wav\n"
     ]
    },
    {
     "name": "stderr",
     "output_type": "stream",
     "text": [
      "                                                                                                                       \r"
     ]
    },
    {
     "name": "stdout",
     "output_type": "stream",
     "text": [
      "MoviePy - Done.\n",
      "Audio extracted and saved to: E:\\SafeReels\\audios\\'3690867111242053.wav\n",
      "MoviePy - Writing audio in E:\\SafeReels\\audios\\'3691505837841891.wav\n"
     ]
    },
    {
     "name": "stderr",
     "output_type": "stream",
     "text": [
      "                                                                                                                       \r"
     ]
    },
    {
     "name": "stdout",
     "output_type": "stream",
     "text": [
      "MoviePy - Done.\n",
      "Audio extracted and saved to: E:\\SafeReels\\audios\\'3691505837841891.wav\n",
      "MoviePy - Writing audio in E:\\SafeReels\\audios\\'369555445729646.wav\n"
     ]
    },
    {
     "name": "stderr",
     "output_type": "stream",
     "text": [
      "                                                                                                                       \r"
     ]
    },
    {
     "name": "stdout",
     "output_type": "stream",
     "text": [
      "MoviePy - Done.\n",
      "Audio extracted and saved to: E:\\SafeReels\\audios\\'369555445729646.wav\n",
      "MoviePy - Writing audio in E:\\SafeReels\\audios\\'3701955166735167.wav\n"
     ]
    },
    {
     "name": "stderr",
     "output_type": "stream",
     "text": [
      "                                                                                                                       \r"
     ]
    },
    {
     "name": "stdout",
     "output_type": "stream",
     "text": [
      "MoviePy - Done.\n",
      "Audio extracted and saved to: E:\\SafeReels\\audios\\'3701955166735167.wav\n",
      "MoviePy - Writing audio in E:\\SafeReels\\audios\\'3703256693228840.wav\n"
     ]
    },
    {
     "name": "stderr",
     "output_type": "stream",
     "text": [
      "                                                                                                                       \r"
     ]
    },
    {
     "name": "stdout",
     "output_type": "stream",
     "text": [
      "MoviePy - Done.\n",
      "Audio extracted and saved to: E:\\SafeReels\\audios\\'3703256693228840.wav\n",
      "MoviePy - Writing audio in E:\\SafeReels\\audios\\'3710544072531367.wav\n"
     ]
    },
    {
     "name": "stderr",
     "output_type": "stream",
     "text": [
      "                                                                                                                       \r"
     ]
    },
    {
     "name": "stdout",
     "output_type": "stream",
     "text": [
      "MoviePy - Done.\n",
      "Audio extracted and saved to: E:\\SafeReels\\audios\\'3710544072531367.wav\n",
      "MoviePy - Writing audio in E:\\SafeReels\\audios\\'371361389393053.wav\n"
     ]
    },
    {
     "name": "stderr",
     "output_type": "stream",
     "text": [
      "                                                                                                                       \r"
     ]
    },
    {
     "name": "stdout",
     "output_type": "stream",
     "text": [
      "MoviePy - Done.\n",
      "Audio extracted and saved to: E:\\SafeReels\\audios\\'371361389393053.wav\n",
      "MoviePy - Writing audio in E:\\SafeReels\\audios\\'3715534628764964.wav\n"
     ]
    },
    {
     "name": "stderr",
     "output_type": "stream",
     "text": [
      "                                                                                                                       \r"
     ]
    },
    {
     "name": "stdout",
     "output_type": "stream",
     "text": [
      "MoviePy - Done.\n",
      "Audio extracted and saved to: E:\\SafeReels\\audios\\'3715534628764964.wav\n",
      "MoviePy - Writing audio in E:\\SafeReels\\audios\\'3728982974033701.wav\n"
     ]
    },
    {
     "name": "stderr",
     "output_type": "stream",
     "text": [
      "                                                                                                                       \r"
     ]
    },
    {
     "name": "stdout",
     "output_type": "stream",
     "text": [
      "MoviePy - Done.\n",
      "Audio extracted and saved to: E:\\SafeReels\\audios\\'3728982974033701.wav\n",
      "MoviePy - Writing audio in E:\\SafeReels\\audios\\'3769305013291157.wav\n"
     ]
    },
    {
     "name": "stderr",
     "output_type": "stream",
     "text": [
      "                                                                                                                       "
     ]
    },
    {
     "name": "stdout",
     "output_type": "stream",
     "text": [
      "MoviePy - Done.\n",
      "Audio extracted and saved to: E:\\SafeReels\\audios\\'3769305013291157.wav\n"
     ]
    },
    {
     "name": "stderr",
     "output_type": "stream",
     "text": [
      "\r"
     ]
    },
    {
     "name": "stdout",
     "output_type": "stream",
     "text": [
      "MoviePy - Writing audio in E:\\SafeReels\\audios\\'3796825390568607.wav\n"
     ]
    },
    {
     "name": "stderr",
     "output_type": "stream",
     "text": [
      "                                                                                                                       "
     ]
    },
    {
     "name": "stdout",
     "output_type": "stream",
     "text": [
      "MoviePy - Done.\n",
      "Audio extracted and saved to: E:\\SafeReels\\audios\\'3796825390568607.wav\n"
     ]
    },
    {
     "name": "stderr",
     "output_type": "stream",
     "text": [
      "\r"
     ]
    },
    {
     "name": "stdout",
     "output_type": "stream",
     "text": [
      "MoviePy - Writing audio in E:\\SafeReels\\audios\\'3800093476920806.wav\n"
     ]
    },
    {
     "name": "stderr",
     "output_type": "stream",
     "text": [
      "                                                                                                                       \r"
     ]
    },
    {
     "name": "stdout",
     "output_type": "stream",
     "text": [
      "MoviePy - Done.\n",
      "Audio extracted and saved to: E:\\SafeReels\\audios\\'3800093476920806.wav\n",
      "MoviePy - Writing audio in E:\\SafeReels\\audios\\'3808200746100342.wav\n"
     ]
    },
    {
     "name": "stderr",
     "output_type": "stream",
     "text": [
      "                                                                                                                       \r"
     ]
    },
    {
     "name": "stdout",
     "output_type": "stream",
     "text": [
      "MoviePy - Done.\n",
      "Audio extracted and saved to: E:\\SafeReels\\audios\\'3808200746100342.wav\n",
      "MoviePy - Writing audio in E:\\SafeReels\\audios\\'381055765088811.wav\n"
     ]
    },
    {
     "name": "stderr",
     "output_type": "stream",
     "text": [
      "                                                                                                                       \r"
     ]
    },
    {
     "name": "stdout",
     "output_type": "stream",
     "text": [
      "MoviePy - Done.\n",
      "Audio extracted and saved to: E:\\SafeReels\\audios\\'381055765088811.wav\n",
      "MoviePy - Writing audio in E:\\SafeReels\\audios\\'381222831597385.wav\n"
     ]
    },
    {
     "name": "stderr",
     "output_type": "stream",
     "text": [
      "                                                                                                                       \r"
     ]
    },
    {
     "name": "stdout",
     "output_type": "stream",
     "text": [
      "MoviePy - Done.\n",
      "Audio extracted and saved to: E:\\SafeReels\\audios\\'381222831597385.wav\n",
      "MoviePy - Writing audio in E:\\SafeReels\\audios\\'3833218330328647.wav\n"
     ]
    },
    {
     "name": "stderr",
     "output_type": "stream",
     "text": [
      "                                                                                                                       \r"
     ]
    },
    {
     "name": "stdout",
     "output_type": "stream",
     "text": [
      "MoviePy - Done.\n",
      "Audio extracted and saved to: E:\\SafeReels\\audios\\'3833218330328647.wav\n",
      "MoviePy - Writing audio in E:\\SafeReels\\audios\\'3840000162898658.wav\n"
     ]
    },
    {
     "name": "stderr",
     "output_type": "stream",
     "text": [
      "                                                                                                                       \r"
     ]
    },
    {
     "name": "stdout",
     "output_type": "stream",
     "text": [
      "MoviePy - Done.\n",
      "Audio extracted and saved to: E:\\SafeReels\\audios\\'3840000162898658.wav\n",
      "MoviePy - Writing audio in E:\\SafeReels\\audios\\'384700784611621.wav\n"
     ]
    },
    {
     "name": "stderr",
     "output_type": "stream",
     "text": [
      "                                                                                                                       \r"
     ]
    },
    {
     "name": "stdout",
     "output_type": "stream",
     "text": [
      "MoviePy - Done.\n",
      "Audio extracted and saved to: E:\\SafeReels\\audios\\'384700784611621.wav\n",
      "360 videos extracted.\n",
      "MoviePy - Writing audio in E:\\SafeReels\\audios\\'3848787998729437.wav\n"
     ]
    },
    {
     "name": "stderr",
     "output_type": "stream",
     "text": [
      "                                                                                                                       "
     ]
    },
    {
     "name": "stdout",
     "output_type": "stream",
     "text": [
      "MoviePy - Done."
     ]
    },
    {
     "name": "stderr",
     "output_type": "stream",
     "text": [
      "\r"
     ]
    },
    {
     "name": "stdout",
     "output_type": "stream",
     "text": [
      "\n",
      "Audio extracted and saved to: E:\\SafeReels\\audios\\'3848787998729437.wav\n",
      "MoviePy - Writing audio in E:\\SafeReels\\audios\\'3863465990596322.wav\n"
     ]
    },
    {
     "name": "stderr",
     "output_type": "stream",
     "text": [
      "                                                                                                                       \r"
     ]
    },
    {
     "name": "stdout",
     "output_type": "stream",
     "text": [
      "MoviePy - Done.\n",
      "Audio extracted and saved to: E:\\SafeReels\\audios\\'3863465990596322.wav\n",
      "MoviePy - Writing audio in E:\\SafeReels\\audios\\'3868357553452888.wav\n"
     ]
    },
    {
     "name": "stderr",
     "output_type": "stream",
     "text": [
      "                                                                                                                       \r"
     ]
    },
    {
     "name": "stdout",
     "output_type": "stream",
     "text": [
      "MoviePy - Done.\n",
      "Audio extracted and saved to: E:\\SafeReels\\audios\\'3868357553452888.wav\n",
      "MoviePy - Writing audio in E:\\SafeReels\\audios\\'3911734472395644.wav\n"
     ]
    },
    {
     "name": "stderr",
     "output_type": "stream",
     "text": [
      "                                                                                                                       \r"
     ]
    },
    {
     "name": "stdout",
     "output_type": "stream",
     "text": [
      "MoviePy - Done.\n",
      "Audio extracted and saved to: E:\\SafeReels\\audios\\'3911734472395644.wav\n",
      "MoviePy - Writing audio in E:\\SafeReels\\audios\\'391592103668923.wav\n"
     ]
    },
    {
     "name": "stderr",
     "output_type": "stream",
     "text": [
      "                                                                                                                       \r"
     ]
    },
    {
     "name": "stdout",
     "output_type": "stream",
     "text": [
      "MoviePy - Done.\n",
      "Audio extracted and saved to: E:\\SafeReels\\audios\\'391592103668923.wav\n",
      "MoviePy - Writing audio in E:\\SafeReels\\audios\\'3923856701185443.wav\n"
     ]
    },
    {
     "name": "stderr",
     "output_type": "stream",
     "text": [
      "                                                                                                                       \r"
     ]
    },
    {
     "name": "stdout",
     "output_type": "stream",
     "text": [
      "MoviePy - Done.\n",
      "Audio extracted and saved to: E:\\SafeReels\\audios\\'3923856701185443.wav\n",
      "MoviePy - Writing audio in E:\\SafeReels\\audios\\'3945850672402339.wav\n"
     ]
    },
    {
     "name": "stderr",
     "output_type": "stream",
     "text": [
      "                                                                                                                       \r"
     ]
    },
    {
     "name": "stdout",
     "output_type": "stream",
     "text": [
      "MoviePy - Done.\n",
      "Audio extracted and saved to: E:\\SafeReels\\audios\\'3945850672402339.wav\n",
      "MoviePy - Writing audio in E:\\SafeReels\\audios\\'395616606932073.wav\n"
     ]
    },
    {
     "name": "stderr",
     "output_type": "stream",
     "text": [
      "                                                                                                                       \r"
     ]
    },
    {
     "name": "stdout",
     "output_type": "stream",
     "text": [
      "MoviePy - Done.\n",
      "Audio extracted and saved to: E:\\SafeReels\\audios\\'395616606932073.wav\n",
      "MoviePy - Writing audio in E:\\SafeReels\\audios\\'4015025695393325.wav\n"
     ]
    },
    {
     "name": "stderr",
     "output_type": "stream",
     "text": [
      "                                                                                                                       "
     ]
    },
    {
     "name": "stdout",
     "output_type": "stream",
     "text": [
      "MoviePy - Done.\n",
      "Audio extracted and saved to: E:\\SafeReels\\audios\\'4015025695393325.wav\n"
     ]
    },
    {
     "name": "stderr",
     "output_type": "stream",
     "text": [
      "\r"
     ]
    },
    {
     "name": "stdout",
     "output_type": "stream",
     "text": [
      "MoviePy - Writing audio in E:\\SafeReels\\audios\\'402159568912750.wav\n"
     ]
    },
    {
     "name": "stderr",
     "output_type": "stream",
     "text": [
      "                                                                                                                       "
     ]
    },
    {
     "name": "stdout",
     "output_type": "stream",
     "text": [
      "MoviePy - Done.\n",
      "Audio extracted and saved to: E:\\SafeReels\\audios\\'402159568912750.wav\n"
     ]
    },
    {
     "name": "stderr",
     "output_type": "stream",
     "text": [
      "\r"
     ]
    },
    {
     "name": "stdout",
     "output_type": "stream",
     "text": [
      "MoviePy - Writing audio in E:\\SafeReels\\audios\\'406171965646679.wav\n"
     ]
    },
    {
     "name": "stderr",
     "output_type": "stream",
     "text": [
      "                                                                                                                       \r"
     ]
    },
    {
     "name": "stdout",
     "output_type": "stream",
     "text": [
      "MoviePy - Done.\n",
      "Audio extracted and saved to: E:\\SafeReels\\audios\\'406171965646679.wav\n",
      "MoviePy - Writing audio in E:\\SafeReels\\audios\\'407829054917777.wav\n"
     ]
    },
    {
     "name": "stderr",
     "output_type": "stream",
     "text": [
      "                                                                                                                       \r"
     ]
    },
    {
     "name": "stdout",
     "output_type": "stream",
     "text": [
      "MoviePy - Done.\n",
      "Audio extracted and saved to: E:\\SafeReels\\audios\\'407829054917777.wav\n",
      "MoviePy - Writing audio in E:\\SafeReels\\audios\\'4086856901569630.wav\n"
     ]
    },
    {
     "name": "stderr",
     "output_type": "stream",
     "text": [
      "                                                                                                                       \r"
     ]
    },
    {
     "name": "stdout",
     "output_type": "stream",
     "text": [
      "MoviePy - Done.\n",
      "Audio extracted and saved to: E:\\SafeReels\\audios\\'4086856901569630.wav\n",
      "MoviePy - Writing audio in E:\\SafeReels\\audios\\'414106438367414.wav\n"
     ]
    },
    {
     "name": "stderr",
     "output_type": "stream",
     "text": [
      "                                                                                                                       \r"
     ]
    },
    {
     "name": "stdout",
     "output_type": "stream",
     "text": [
      "MoviePy - Done.\n",
      "Audio extracted and saved to: E:\\SafeReels\\audios\\'414106438367414.wav\n",
      "MoviePy - Writing audio in E:\\SafeReels\\audios\\'414734391643479.wav\n"
     ]
    },
    {
     "name": "stderr",
     "output_type": "stream",
     "text": [
      "                                                                                                                       \r"
     ]
    },
    {
     "name": "stdout",
     "output_type": "stream",
     "text": [
      "MoviePy - Done.\n",
      "Audio extracted and saved to: E:\\SafeReels\\audios\\'414734391643479.wav\n",
      "MoviePy - Writing audio in E:\\SafeReels\\audios\\'420160540513432.wav\n"
     ]
    },
    {
     "name": "stderr",
     "output_type": "stream",
     "text": [
      "                                                                                                                       \r"
     ]
    },
    {
     "name": "stdout",
     "output_type": "stream",
     "text": [
      "MoviePy - Done.\n",
      "Audio extracted and saved to: E:\\SafeReels\\audios\\'420160540513432.wav\n",
      "MoviePy - Writing audio in E:\\SafeReels\\audios\\'423308594085430.wav\n"
     ]
    },
    {
     "name": "stderr",
     "output_type": "stream",
     "text": [
      "                                                                                                                       "
     ]
    },
    {
     "name": "stdout",
     "output_type": "stream",
     "text": [
      "MoviePy - Done.\n",
      "Audio extracted and saved to: E:\\SafeReels\\audios\\'423308594085430.wav\n"
     ]
    },
    {
     "name": "stderr",
     "output_type": "stream",
     "text": [
      "\r"
     ]
    },
    {
     "name": "stdout",
     "output_type": "stream",
     "text": [
      "MoviePy - Writing audio in E:\\SafeReels\\audios\\'424299060062072.wav\n"
     ]
    },
    {
     "name": "stderr",
     "output_type": "stream",
     "text": [
      "                                                                                                                       \r"
     ]
    },
    {
     "name": "stdout",
     "output_type": "stream",
     "text": [
      "MoviePy - Done.\n",
      "Audio extracted and saved to: E:\\SafeReels\\audios\\'424299060062072.wav\n",
      "MoviePy - Writing audio in E:\\SafeReels\\audios\\'425724930376884.wav\n"
     ]
    },
    {
     "name": "stderr",
     "output_type": "stream",
     "text": [
      "                                                                                                                       \r"
     ]
    },
    {
     "name": "stdout",
     "output_type": "stream",
     "text": [
      "MoviePy - Done.\n",
      "Audio extracted and saved to: E:\\SafeReels\\audios\\'425724930376884.wav\n",
      "MoviePy - Writing audio in E:\\SafeReels\\audios\\'426566496455099.wav\n"
     ]
    },
    {
     "name": "stderr",
     "output_type": "stream",
     "text": [
      "                                                                                                                       \r"
     ]
    },
    {
     "name": "stdout",
     "output_type": "stream",
     "text": [
      "MoviePy - Done.\n",
      "Audio extracted and saved to: E:\\SafeReels\\audios\\'426566496455099.wav\n",
      "380 videos extracted.\n",
      "MoviePy - Writing audio in E:\\SafeReels\\audios\\'429386143597522.wav\n"
     ]
    },
    {
     "name": "stderr",
     "output_type": "stream",
     "text": [
      "                                                                                                                       \r"
     ]
    },
    {
     "name": "stdout",
     "output_type": "stream",
     "text": [
      "MoviePy - Done.\n",
      "Audio extracted and saved to: E:\\SafeReels\\audios\\'429386143597522.wav\n",
      "MoviePy - Writing audio in E:\\SafeReels\\audios\\'430258083392640.wav\n"
     ]
    },
    {
     "name": "stderr",
     "output_type": "stream",
     "text": [
      "                                                                                                                       \r"
     ]
    },
    {
     "name": "stdout",
     "output_type": "stream",
     "text": [
      "MoviePy - Done.\n",
      "Audio extracted and saved to: E:\\SafeReels\\audios\\'430258083392640.wav\n",
      "MoviePy - Writing audio in E:\\SafeReels\\audios\\'432996352497169.wav\n"
     ]
    },
    {
     "name": "stderr",
     "output_type": "stream",
     "text": [
      "                                                                                                                       \r"
     ]
    },
    {
     "name": "stdout",
     "output_type": "stream",
     "text": [
      "MoviePy - Done.\n",
      "Audio extracted and saved to: E:\\SafeReels\\audios\\'432996352497169.wav\n",
      "MoviePy - Writing audio in E:\\SafeReels\\audios\\'434673456179712.wav\n"
     ]
    },
    {
     "name": "stderr",
     "output_type": "stream",
     "text": [
      "                                                                                                                       "
     ]
    },
    {
     "name": "stdout",
     "output_type": "stream",
     "text": [
      "MoviePy - Done.\n",
      "Audio extracted and saved to: E:\\SafeReels\\audios\\'434673456179712.wav\n"
     ]
    },
    {
     "name": "stderr",
     "output_type": "stream",
     "text": [
      "\r"
     ]
    },
    {
     "name": "stdout",
     "output_type": "stream",
     "text": [
      "MoviePy - Writing audio in E:\\SafeReels\\audios\\'435118138888027.wav\n"
     ]
    },
    {
     "name": "stderr",
     "output_type": "stream",
     "text": [
      "                                                                                                                       \r"
     ]
    },
    {
     "name": "stdout",
     "output_type": "stream",
     "text": [
      "MoviePy - Done.\n",
      "Audio extracted and saved to: E:\\SafeReels\\audios\\'435118138888027.wav\n",
      "MoviePy - Writing audio in E:\\SafeReels\\audios\\'436333209335115.wav\n"
     ]
    },
    {
     "name": "stderr",
     "output_type": "stream",
     "text": [
      "                                                                                                                       \r"
     ]
    },
    {
     "name": "stdout",
     "output_type": "stream",
     "text": [
      "MoviePy - Done.\n",
      "Audio extracted and saved to: E:\\SafeReels\\audios\\'436333209335115.wav\n",
      "MoviePy - Writing audio in E:\\SafeReels\\audios\\'440134388899417.wav\n"
     ]
    },
    {
     "name": "stderr",
     "output_type": "stream",
     "text": [
      "                                                                                                                       \r"
     ]
    },
    {
     "name": "stdout",
     "output_type": "stream",
     "text": [
      "MoviePy - Done.\n",
      "Audio extracted and saved to: E:\\SafeReels\\audios\\'440134388899417.wav\n",
      "MoviePy - Writing audio in E:\\SafeReels\\audios\\'444471218611106.wav\n"
     ]
    },
    {
     "name": "stderr",
     "output_type": "stream",
     "text": [
      "                                                                                                                       "
     ]
    },
    {
     "name": "stdout",
     "output_type": "stream",
     "text": [
      "MoviePy - Done.\n",
      "Audio extracted and saved to: E:\\SafeReels\\audios\\'444471218611106.wav\n"
     ]
    },
    {
     "name": "stderr",
     "output_type": "stream",
     "text": [
      "\r"
     ]
    },
    {
     "name": "stdout",
     "output_type": "stream",
     "text": [
      "MoviePy - Writing audio in E:\\SafeReels\\audios\\'445178918287859.wav\n"
     ]
    },
    {
     "name": "stderr",
     "output_type": "stream",
     "text": [
      "                                                                                                                       \r"
     ]
    },
    {
     "name": "stdout",
     "output_type": "stream",
     "text": [
      "MoviePy - Done.\n",
      "Audio extracted and saved to: E:\\SafeReels\\audios\\'445178918287859.wav\n",
      "MoviePy - Writing audio in E:\\SafeReels\\audios\\'447248911302798.wav\n"
     ]
    },
    {
     "name": "stderr",
     "output_type": "stream",
     "text": [
      "                                                                                                                       \r"
     ]
    },
    {
     "name": "stdout",
     "output_type": "stream",
     "text": [
      "MoviePy - Done.\n",
      "Audio extracted and saved to: E:\\SafeReels\\audios\\'447248911302798.wav\n",
      "MoviePy - Writing audio in E:\\SafeReels\\audios\\'447503108327879.wav\n"
     ]
    },
    {
     "name": "stderr",
     "output_type": "stream",
     "text": [
      "                                                                                                                       \r"
     ]
    },
    {
     "name": "stdout",
     "output_type": "stream",
     "text": [
      "MoviePy - Done.\n",
      "Audio extracted and saved to: E:\\SafeReels\\audios\\'447503108327879.wav\n",
      "MoviePy - Writing audio in E:\\SafeReels\\audios\\'448792461536933.wav\n"
     ]
    },
    {
     "name": "stderr",
     "output_type": "stream",
     "text": [
      "                                                                                                                       \r"
     ]
    },
    {
     "name": "stdout",
     "output_type": "stream",
     "text": [
      "MoviePy - Done.\n",
      "Audio extracted and saved to: E:\\SafeReels\\audios\\'448792461536933.wav\n",
      "MoviePy - Writing audio in E:\\SafeReels\\audios\\'448809784630963.wav\n"
     ]
    },
    {
     "name": "stderr",
     "output_type": "stream",
     "text": [
      "                                                                                                                       \r"
     ]
    },
    {
     "name": "stdout",
     "output_type": "stream",
     "text": [
      "MoviePy - Done.\n",
      "Audio extracted and saved to: E:\\SafeReels\\audios\\'448809784630963.wav\n",
      "MoviePy - Writing audio in E:\\SafeReels\\audios\\'449815574286886.wav\n"
     ]
    },
    {
     "name": "stderr",
     "output_type": "stream",
     "text": [
      "                                                                                                                       \r"
     ]
    },
    {
     "name": "stdout",
     "output_type": "stream",
     "text": [
      "MoviePy - Done.\n",
      "Audio extracted and saved to: E:\\SafeReels\\audios\\'449815574286886.wav\n",
      "MoviePy - Writing audio in E:\\SafeReels\\audios\\'449817861235839.wav\n"
     ]
    },
    {
     "name": "stderr",
     "output_type": "stream",
     "text": [
      "                                                                                                                       \r"
     ]
    },
    {
     "name": "stdout",
     "output_type": "stream",
     "text": [
      "MoviePy - Done.\n",
      "Audio extracted and saved to: E:\\SafeReels\\audios\\'449817861235839.wav\n",
      "MoviePy - Writing audio in E:\\SafeReels\\audios\\'454458214085992.wav\n"
     ]
    },
    {
     "name": "stderr",
     "output_type": "stream",
     "text": [
      "                                                                                                                       \r"
     ]
    },
    {
     "name": "stdout",
     "output_type": "stream",
     "text": [
      "MoviePy - Done.\n",
      "Audio extracted and saved to: E:\\SafeReels\\audios\\'454458214085992.wav\n",
      "MoviePy - Writing audio in E:\\SafeReels\\audios\\'454982987341783.wav\n"
     ]
    },
    {
     "name": "stderr",
     "output_type": "stream",
     "text": [
      "                                                                                                                       "
     ]
    },
    {
     "name": "stdout",
     "output_type": "stream",
     "text": [
      "MoviePy - Done."
     ]
    },
    {
     "name": "stderr",
     "output_type": "stream",
     "text": [
      "\r"
     ]
    },
    {
     "name": "stdout",
     "output_type": "stream",
     "text": [
      "\n",
      "Audio extracted and saved to: E:\\SafeReels\\audios\\'454982987341783.wav\n",
      "MoviePy - Writing audio in E:\\SafeReels\\audios\\'455702574121601.wav\n"
     ]
    },
    {
     "name": "stderr",
     "output_type": "stream",
     "text": [
      "                                                                                                                       \r"
     ]
    },
    {
     "name": "stdout",
     "output_type": "stream",
     "text": [
      "MoviePy - Done.\n",
      "Audio extracted and saved to: E:\\SafeReels\\audios\\'455702574121601.wav\n",
      "MoviePy - Writing audio in E:\\SafeReels\\audios\\'456220070478450.wav\n"
     ]
    },
    {
     "name": "stderr",
     "output_type": "stream",
     "text": [
      "                                                                                                                       \r"
     ]
    },
    {
     "name": "stdout",
     "output_type": "stream",
     "text": [
      "MoviePy - Done.\n",
      "Audio extracted and saved to: E:\\SafeReels\\audios\\'456220070478450.wav\n",
      "MoviePy - Writing audio in E:\\SafeReels\\audios\\'458770880579026.wav\n"
     ]
    },
    {
     "name": "stderr",
     "output_type": "stream",
     "text": [
      "                                                                                                                       \r"
     ]
    },
    {
     "name": "stdout",
     "output_type": "stream",
     "text": [
      "MoviePy - Done.\n",
      "Audio extracted and saved to: E:\\SafeReels\\audios\\'458770880579026.wav\n",
      "400 videos extracted.\n",
      "MoviePy - Writing audio in E:\\SafeReels\\audios\\'459940076766294.wav\n"
     ]
    },
    {
     "name": "stderr",
     "output_type": "stream",
     "text": [
      "                                                                                                                       \r"
     ]
    },
    {
     "name": "stdout",
     "output_type": "stream",
     "text": [
      "MoviePy - Done.\n",
      "Audio extracted and saved to: E:\\SafeReels\\audios\\'459940076766294.wav\n",
      "MoviePy - Writing audio in E:\\SafeReels\\audios\\'460195706577718.wav\n"
     ]
    },
    {
     "name": "stderr",
     "output_type": "stream",
     "text": [
      "                                                                                                                       \r"
     ]
    },
    {
     "name": "stdout",
     "output_type": "stream",
     "text": [
      "MoviePy - Done.\n",
      "Audio extracted and saved to: E:\\SafeReels\\audios\\'460195706577718.wav\n",
      "MoviePy - Writing audio in E:\\SafeReels\\audios\\'463322986491051.wav\n"
     ]
    },
    {
     "name": "stderr",
     "output_type": "stream",
     "text": [
      "                                                                                                                       \r"
     ]
    },
    {
     "name": "stdout",
     "output_type": "stream",
     "text": [
      "MoviePy - Done.\n",
      "Audio extracted and saved to: E:\\SafeReels\\audios\\'463322986491051.wav\n",
      "MoviePy - Writing audio in E:\\SafeReels\\audios\\'465014203181754.wav\n"
     ]
    },
    {
     "name": "stderr",
     "output_type": "stream",
     "text": [
      "                                                                                                                       "
     ]
    },
    {
     "name": "stdout",
     "output_type": "stream",
     "text": [
      "MoviePy - Done.\n",
      "Audio extracted and saved to: E:\\SafeReels\\audios\\'465014203181754.wav\n"
     ]
    },
    {
     "name": "stderr",
     "output_type": "stream",
     "text": [
      "\r"
     ]
    },
    {
     "name": "stdout",
     "output_type": "stream",
     "text": [
      "MoviePy - Writing audio in E:\\SafeReels\\audios\\'465634089843387.wav\n"
     ]
    },
    {
     "name": "stderr",
     "output_type": "stream",
     "text": [
      "                                                                                                                       \r"
     ]
    },
    {
     "name": "stdout",
     "output_type": "stream",
     "text": [
      "MoviePy - Done.\n",
      "Audio extracted and saved to: E:\\SafeReels\\audios\\'465634089843387.wav\n",
      "MoviePy - Writing audio in E:\\SafeReels\\audios\\'466844446366985.wav\n"
     ]
    },
    {
     "name": "stderr",
     "output_type": "stream",
     "text": [
      "                                                                                                                       \r"
     ]
    },
    {
     "name": "stdout",
     "output_type": "stream",
     "text": [
      "MoviePy - Done.\n",
      "Audio extracted and saved to: E:\\SafeReels\\audios\\'466844446366985.wav\n",
      "MoviePy - Writing audio in E:\\SafeReels\\audios\\'467912639607332.wav\n"
     ]
    },
    {
     "name": "stderr",
     "output_type": "stream",
     "text": [
      "                                                                                                                       \r"
     ]
    },
    {
     "name": "stdout",
     "output_type": "stream",
     "text": [
      "MoviePy - Done.\n",
      "Audio extracted and saved to: E:\\SafeReels\\audios\\'467912639607332.wav\n",
      "MoviePy - Writing audio in E:\\SafeReels\\audios\\'468506566236143.wav\n"
     ]
    },
    {
     "name": "stderr",
     "output_type": "stream",
     "text": [
      "                                                                                                                       \r"
     ]
    },
    {
     "name": "stdout",
     "output_type": "stream",
     "text": [
      "MoviePy - Done.\n",
      "Audio extracted and saved to: E:\\SafeReels\\audios\\'468506566236143.wav\n",
      "MoviePy - Writing audio in E:\\SafeReels\\audios\\'468800869022427.wav\n"
     ]
    },
    {
     "name": "stderr",
     "output_type": "stream",
     "text": [
      "                                                                                                                       \r"
     ]
    },
    {
     "name": "stdout",
     "output_type": "stream",
     "text": [
      "MoviePy - Done.\n",
      "Audio extracted and saved to: E:\\SafeReels\\audios\\'468800869022427.wav\n",
      "MoviePy - Writing audio in E:\\SafeReels\\audios\\'469446295626649.wav\n"
     ]
    },
    {
     "name": "stderr",
     "output_type": "stream",
     "text": [
      "                                                                                                                       \r"
     ]
    },
    {
     "name": "stdout",
     "output_type": "stream",
     "text": [
      "MoviePy - Done.\n",
      "Audio extracted and saved to: E:\\SafeReels\\audios\\'469446295626649.wav\n",
      "MoviePy - Writing audio in E:\\SafeReels\\audios\\'470807175984817.wav\n"
     ]
    },
    {
     "name": "stderr",
     "output_type": "stream",
     "text": [
      "                                                                                                                       \r"
     ]
    },
    {
     "name": "stdout",
     "output_type": "stream",
     "text": [
      "MoviePy - Done.\n",
      "Audio extracted and saved to: E:\\SafeReels\\audios\\'470807175984817.wav\n",
      "MoviePy - Writing audio in E:\\SafeReels\\audios\\'470813205530734.wav\n"
     ]
    },
    {
     "name": "stderr",
     "output_type": "stream",
     "text": [
      "                                                                                                                       \r"
     ]
    },
    {
     "name": "stdout",
     "output_type": "stream",
     "text": [
      "MoviePy - Done.\n",
      "Audio extracted and saved to: E:\\SafeReels\\audios\\'470813205530734.wav\n",
      "MoviePy - Writing audio in E:\\SafeReels\\audios\\'470952692659309.wav\n"
     ]
    },
    {
     "name": "stderr",
     "output_type": "stream",
     "text": [
      "                                                                                                                       \r"
     ]
    },
    {
     "name": "stdout",
     "output_type": "stream",
     "text": [
      "MoviePy - Done.\n",
      "Audio extracted and saved to: E:\\SafeReels\\audios\\'470952692659309.wav\n",
      "MoviePy - Writing audio in E:\\SafeReels\\audios\\'471286632597430.wav\n"
     ]
    },
    {
     "name": "stderr",
     "output_type": "stream",
     "text": [
      "                                                                                                                       \r"
     ]
    },
    {
     "name": "stdout",
     "output_type": "stream",
     "text": [
      "MoviePy - Done.\n",
      "Audio extracted and saved to: E:\\SafeReels\\audios\\'471286632597430.wav\n",
      "MoviePy - Writing audio in E:\\SafeReels\\audios\\'473301478420466.wav\n"
     ]
    },
    {
     "name": "stderr",
     "output_type": "stream",
     "text": [
      "                                                                                                                       \r"
     ]
    },
    {
     "name": "stdout",
     "output_type": "stream",
     "text": [
      "MoviePy - Done.\n",
      "Audio extracted and saved to: E:\\SafeReels\\audios\\'473301478420466.wav\n",
      "MoviePy - Writing audio in E:\\SafeReels\\audios\\'474025475433102.wav\n"
     ]
    },
    {
     "name": "stderr",
     "output_type": "stream",
     "text": [
      "                                                                                                                       "
     ]
    },
    {
     "name": "stdout",
     "output_type": "stream",
     "text": [
      "MoviePy - Done.\n",
      "Audio extracted and saved to: E:\\SafeReels\\audios\\'474025475433102.wav\n"
     ]
    },
    {
     "name": "stderr",
     "output_type": "stream",
     "text": [
      "\r"
     ]
    },
    {
     "name": "stdout",
     "output_type": "stream",
     "text": [
      "MoviePy - Writing audio in E:\\SafeReels\\audios\\'474635391857465.wav\n"
     ]
    },
    {
     "name": "stderr",
     "output_type": "stream",
     "text": [
      "                                                                                                                       \r"
     ]
    },
    {
     "name": "stdout",
     "output_type": "stream",
     "text": [
      "MoviePy - Done.\n",
      "Audio extracted and saved to: E:\\SafeReels\\audios\\'474635391857465.wav\n",
      "MoviePy - Writing audio in E:\\SafeReels\\audios\\'485962294353729.wav\n"
     ]
    },
    {
     "name": "stderr",
     "output_type": "stream",
     "text": [
      "                                                                                                                       \r"
     ]
    },
    {
     "name": "stdout",
     "output_type": "stream",
     "text": [
      "MoviePy - Done.\n",
      "Audio extracted and saved to: E:\\SafeReels\\audios\\'485962294353729.wav\n",
      "MoviePy - Writing audio in E:\\SafeReels\\audios\\'488911397472372.wav\n"
     ]
    },
    {
     "name": "stderr",
     "output_type": "stream",
     "text": [
      "                                                                                                                       \r"
     ]
    },
    {
     "name": "stdout",
     "output_type": "stream",
     "text": [
      "MoviePy - Done.\n",
      "Audio extracted and saved to: E:\\SafeReels\\audios\\'488911397472372.wav\n",
      "MoviePy - Writing audio in E:\\SafeReels\\audios\\'492743647098464.wav\n"
     ]
    },
    {
     "name": "stderr",
     "output_type": "stream",
     "text": [
      "                                                                                                                       "
     ]
    },
    {
     "name": "stdout",
     "output_type": "stream",
     "text": [
      "MoviePy - Done.\n",
      "Audio extracted and saved to: E:\\SafeReels\\audios\\'492743647098464.wav\n",
      "420 videos extracted.\n"
     ]
    },
    {
     "name": "stderr",
     "output_type": "stream",
     "text": [
      "\r"
     ]
    },
    {
     "name": "stdout",
     "output_type": "stream",
     "text": [
      "MoviePy - Writing audio in E:\\SafeReels\\audios\\'493791463642196.wav\n"
     ]
    },
    {
     "name": "stderr",
     "output_type": "stream",
     "text": [
      "                                                                                                                       \r"
     ]
    },
    {
     "name": "stdout",
     "output_type": "stream",
     "text": [
      "MoviePy - Done.\n",
      "Audio extracted and saved to: E:\\SafeReels\\audios\\'493791463642196.wav\n",
      "MoviePy - Writing audio in E:\\SafeReels\\audios\\'496577403272925.wav\n"
     ]
    },
    {
     "name": "stderr",
     "output_type": "stream",
     "text": [
      "                                                                                                                       \r"
     ]
    },
    {
     "name": "stdout",
     "output_type": "stream",
     "text": [
      "MoviePy - Done.\n",
      "Audio extracted and saved to: E:\\SafeReels\\audios\\'496577403272925.wav\n",
      "MoviePy - Writing audio in E:\\SafeReels\\audios\\'498826639345154.wav\n"
     ]
    },
    {
     "name": "stderr",
     "output_type": "stream",
     "text": [
      "                                                                                                                       \r"
     ]
    },
    {
     "name": "stdout",
     "output_type": "stream",
     "text": [
      "MoviePy - Done.\n",
      "Audio extracted and saved to: E:\\SafeReels\\audios\\'498826639345154.wav\n",
      "MoviePy - Writing audio in E:\\SafeReels\\audios\\'500131479084292.wav\n"
     ]
    },
    {
     "name": "stderr",
     "output_type": "stream",
     "text": [
      "                                                                                                                       \r"
     ]
    },
    {
     "name": "stdout",
     "output_type": "stream",
     "text": [
      "MoviePy - Done.\n",
      "Audio extracted and saved to: E:\\SafeReels\\audios\\'500131479084292.wav\n",
      "MoviePy - Writing audio in E:\\SafeReels\\audios\\'501272899578457.wav\n"
     ]
    },
    {
     "name": "stderr",
     "output_type": "stream",
     "text": [
      "                                                                                                                       \r"
     ]
    },
    {
     "name": "stdout",
     "output_type": "stream",
     "text": [
      "MoviePy - Done.\n",
      "Audio extracted and saved to: E:\\SafeReels\\audios\\'501272899578457.wav\n",
      "MoviePy - Writing audio in E:\\SafeReels\\audios\\'502075945951507.wav\n"
     ]
    },
    {
     "name": "stderr",
     "output_type": "stream",
     "text": [
      "                                                                                                                       \r"
     ]
    },
    {
     "name": "stdout",
     "output_type": "stream",
     "text": [
      "MoviePy - Done.\n",
      "Audio extracted and saved to: E:\\SafeReels\\audios\\'502075945951507.wav\n",
      "MoviePy - Writing audio in E:\\SafeReels\\audios\\'502394098811597.wav\n"
     ]
    },
    {
     "name": "stderr",
     "output_type": "stream",
     "text": [
      "                                                                                                                       \r"
     ]
    },
    {
     "name": "stdout",
     "output_type": "stream",
     "text": [
      "MoviePy - Done.\n",
      "Audio extracted and saved to: E:\\SafeReels\\audios\\'502394098811597.wav\n",
      "MoviePy - Writing audio in E:\\SafeReels\\audios\\'503577592660048.wav\n"
     ]
    },
    {
     "name": "stderr",
     "output_type": "stream",
     "text": [
      "                                                                                                                       "
     ]
    },
    {
     "name": "stdout",
     "output_type": "stream",
     "text": [
      "MoviePy - Done.\n",
      "Audio extracted and saved to: E:\\SafeReels\\audios\\'503577592660048.wav\n"
     ]
    },
    {
     "name": "stderr",
     "output_type": "stream",
     "text": [
      "\r"
     ]
    },
    {
     "name": "stdout",
     "output_type": "stream",
     "text": [
      "MoviePy - Writing audio in E:\\SafeReels\\audios\\'503717782354479.wav\n"
     ]
    },
    {
     "name": "stderr",
     "output_type": "stream",
     "text": [
      "                                                                                                                       \r"
     ]
    },
    {
     "name": "stdout",
     "output_type": "stream",
     "text": [
      "MoviePy - Done.\n",
      "Audio extracted and saved to: E:\\SafeReels\\audios\\'503717782354479.wav\n",
      "MoviePy - Writing audio in E:\\SafeReels\\audios\\'505195905552778.wav\n"
     ]
    },
    {
     "name": "stderr",
     "output_type": "stream",
     "text": [
      "                                                                                                                       "
     ]
    },
    {
     "name": "stdout",
     "output_type": "stream",
     "text": [
      "MoviePy - Done.\n",
      "Audio extracted and saved to: E:\\SafeReels\\audios\\'505195905552778.wav\n"
     ]
    },
    {
     "name": "stderr",
     "output_type": "stream",
     "text": [
      "\r"
     ]
    },
    {
     "name": "stdout",
     "output_type": "stream",
     "text": [
      "MoviePy - Writing audio in E:\\SafeReels\\audios\\'507196635602747.wav\n"
     ]
    },
    {
     "name": "stderr",
     "output_type": "stream",
     "text": [
      "                                                                                                                       \r"
     ]
    },
    {
     "name": "stdout",
     "output_type": "stream",
     "text": [
      "MoviePy - Done.\n",
      "Audio extracted and saved to: E:\\SafeReels\\audios\\'507196635602747.wav\n",
      "MoviePy - Writing audio in E:\\SafeReels\\audios\\'507471261612321.wav\n"
     ]
    },
    {
     "name": "stderr",
     "output_type": "stream",
     "text": [
      "                                                                                                                       \r"
     ]
    },
    {
     "name": "stdout",
     "output_type": "stream",
     "text": [
      "MoviePy - Done.\n",
      "Audio extracted and saved to: E:\\SafeReels\\audios\\'507471261612321.wav\n",
      "MoviePy - Writing audio in E:\\SafeReels\\audios\\'507863908972262.wav\n"
     ]
    },
    {
     "name": "stderr",
     "output_type": "stream",
     "text": [
      "                                                                                                                       \r"
     ]
    },
    {
     "name": "stdout",
     "output_type": "stream",
     "text": [
      "MoviePy - Done.\n",
      "Audio extracted and saved to: E:\\SafeReels\\audios\\'507863908972262.wav\n",
      "MoviePy - Writing audio in E:\\SafeReels\\audios\\'507947865468160.wav\n"
     ]
    },
    {
     "name": "stderr",
     "output_type": "stream",
     "text": [
      "                                                                                                                       \r"
     ]
    },
    {
     "name": "stdout",
     "output_type": "stream",
     "text": [
      "MoviePy - Done.\n",
      "Audio extracted and saved to: E:\\SafeReels\\audios\\'507947865468160.wav\n",
      "MoviePy - Writing audio in E:\\SafeReels\\audios\\'508404864911597.wav\n"
     ]
    },
    {
     "name": "stderr",
     "output_type": "stream",
     "text": [
      "                                                                                                                       "
     ]
    },
    {
     "name": "stdout",
     "output_type": "stream",
     "text": [
      "MoviePy - Done.\n",
      "Audio extracted and saved to: E:\\SafeReels\\audios\\'508404864911597.wav\n"
     ]
    },
    {
     "name": "stderr",
     "output_type": "stream",
     "text": [
      "\r"
     ]
    },
    {
     "name": "stdout",
     "output_type": "stream",
     "text": [
      "MoviePy - Writing audio in E:\\SafeReels\\audios\\'509748482030401.wav\n"
     ]
    },
    {
     "name": "stderr",
     "output_type": "stream",
     "text": [
      "                                                                                                                       \r"
     ]
    },
    {
     "name": "stdout",
     "output_type": "stream",
     "text": [
      "MoviePy - Done.\n",
      "Audio extracted and saved to: E:\\SafeReels\\audios\\'509748482030401.wav\n",
      "MoviePy - Writing audio in E:\\SafeReels\\audios\\'509760708498082.wav\n"
     ]
    },
    {
     "name": "stderr",
     "output_type": "stream",
     "text": [
      "                                                                                                                       \r"
     ]
    },
    {
     "name": "stdout",
     "output_type": "stream",
     "text": [
      "MoviePy - Done.\n",
      "Audio extracted and saved to: E:\\SafeReels\\audios\\'509760708498082.wav\n",
      "MoviePy - Writing audio in E:\\SafeReels\\audios\\'510289664817521.wav\n"
     ]
    },
    {
     "name": "stderr",
     "output_type": "stream",
     "text": [
      "                                                                                                                       \r"
     ]
    },
    {
     "name": "stdout",
     "output_type": "stream",
     "text": [
      "MoviePy - Done.\n",
      "Audio extracted and saved to: E:\\SafeReels\\audios\\'510289664817521.wav\n",
      "MoviePy - Writing audio in E:\\SafeReels\\audios\\'514241014786023.wav\n"
     ]
    },
    {
     "name": "stderr",
     "output_type": "stream",
     "text": [
      "                                                                                                                       \r"
     ]
    },
    {
     "name": "stdout",
     "output_type": "stream",
     "text": [
      "MoviePy - Done.\n",
      "Audio extracted and saved to: E:\\SafeReels\\audios\\'514241014786023.wav\n",
      "MoviePy - Writing audio in E:\\SafeReels\\audios\\'515352488137813.wav\n"
     ]
    },
    {
     "name": "stderr",
     "output_type": "stream",
     "text": [
      "                                                                                                                       \r"
     ]
    },
    {
     "name": "stdout",
     "output_type": "stream",
     "text": [
      "MoviePy - Done.\n",
      "Audio extracted and saved to: E:\\SafeReels\\audios\\'515352488137813.wav\n",
      "440 videos extracted.\n",
      "MoviePy - Writing audio in E:\\SafeReels\\audios\\'515557121271482.wav\n"
     ]
    },
    {
     "name": "stderr",
     "output_type": "stream",
     "text": [
      "                                                                                                                       \r"
     ]
    },
    {
     "name": "stdout",
     "output_type": "stream",
     "text": [
      "MoviePy - Done.\n",
      "Audio extracted and saved to: E:\\SafeReels\\audios\\'515557121271482.wav\n",
      "MoviePy - Writing audio in E:\\SafeReels\\audios\\'516120064601793.wav\n"
     ]
    },
    {
     "name": "stderr",
     "output_type": "stream",
     "text": [
      "                                                                                                                       \r"
     ]
    },
    {
     "name": "stdout",
     "output_type": "stream",
     "text": [
      "MoviePy - Done.\n",
      "Audio extracted and saved to: E:\\SafeReels\\audios\\'516120064601793.wav\n",
      "MoviePy - Writing audio in E:\\SafeReels\\audios\\'516720940942388.wav\n"
     ]
    },
    {
     "name": "stderr",
     "output_type": "stream",
     "text": [
      "                                                                                                                       \r"
     ]
    },
    {
     "name": "stdout",
     "output_type": "stream",
     "text": [
      "MoviePy - Done.\n",
      "Audio extracted and saved to: E:\\SafeReels\\audios\\'516720940942388.wav\n",
      "MoviePy - Writing audio in E:\\SafeReels\\audios\\'518153830623168.wav\n"
     ]
    },
    {
     "name": "stderr",
     "output_type": "stream",
     "text": [
      "                                                                                                                       \r"
     ]
    },
    {
     "name": "stdout",
     "output_type": "stream",
     "text": [
      "MoviePy - Done.\n",
      "Audio extracted and saved to: E:\\SafeReels\\audios\\'518153830623168.wav\n",
      "MoviePy - Writing audio in E:\\SafeReels\\audios\\'519961153994539.wav\n"
     ]
    },
    {
     "name": "stderr",
     "output_type": "stream",
     "text": [
      "                                                                                                                       \r"
     ]
    },
    {
     "name": "stdout",
     "output_type": "stream",
     "text": [
      "MoviePy - Done.\n",
      "Audio extracted and saved to: E:\\SafeReels\\audios\\'519961153994539.wav\n",
      "MoviePy - Writing audio in E:\\SafeReels\\audios\\'520332564248525.wav\n"
     ]
    },
    {
     "name": "stderr",
     "output_type": "stream",
     "text": [
      "                                                                                                                       \r"
     ]
    },
    {
     "name": "stdout",
     "output_type": "stream",
     "text": [
      "MoviePy - Done.\n",
      "Audio extracted and saved to: E:\\SafeReels\\audios\\'520332564248525.wav\n",
      "MoviePy - Writing audio in E:\\SafeReels\\audios\\'524097573310274.wav\n"
     ]
    },
    {
     "name": "stderr",
     "output_type": "stream",
     "text": [
      "                                                                                                                       \r"
     ]
    },
    {
     "name": "stdout",
     "output_type": "stream",
     "text": [
      "MoviePy - Done.\n",
      "Audio extracted and saved to: E:\\SafeReels\\audios\\'524097573310274.wav\n",
      "MoviePy - Writing audio in E:\\SafeReels\\audios\\'527039423108841.wav\n"
     ]
    },
    {
     "name": "stderr",
     "output_type": "stream",
     "text": [
      "                                                                                                                       \r"
     ]
    },
    {
     "name": "stdout",
     "output_type": "stream",
     "text": [
      "MoviePy - Done.\n",
      "Audio extracted and saved to: E:\\SafeReels\\audios\\'527039423108841.wav\n",
      "MoviePy - Writing audio in E:\\SafeReels\\audios\\'527148616749949.wav\n"
     ]
    },
    {
     "name": "stderr",
     "output_type": "stream",
     "text": [
      "                                                                                                                       \r"
     ]
    },
    {
     "name": "stdout",
     "output_type": "stream",
     "text": [
      "MoviePy - Done.\n",
      "Audio extracted and saved to: E:\\SafeReels\\audios\\'527148616749949.wav\n",
      "MoviePy - Writing audio in E:\\SafeReels\\audios\\'527854886867277.wav\n"
     ]
    },
    {
     "name": "stderr",
     "output_type": "stream",
     "text": [
      "                                                                                                                       "
     ]
    },
    {
     "name": "stdout",
     "output_type": "stream",
     "text": [
      "MoviePy - Done.\n",
      "Audio extracted and saved to: E:\\SafeReels\\audios\\'527854886867277.wav\n"
     ]
    },
    {
     "name": "stderr",
     "output_type": "stream",
     "text": [
      "\r"
     ]
    },
    {
     "name": "stdout",
     "output_type": "stream",
     "text": [
      "MoviePy - Writing audio in E:\\SafeReels\\audios\\'530020859822416.wav\n"
     ]
    },
    {
     "name": "stderr",
     "output_type": "stream",
     "text": [
      "                                                                                                                       \r"
     ]
    },
    {
     "name": "stdout",
     "output_type": "stream",
     "text": [
      "MoviePy - Done.\n",
      "Audio extracted and saved to: E:\\SafeReels\\audios\\'530020859822416.wav\n",
      "MoviePy - Writing audio in E:\\SafeReels\\audios\\'531126536344837.wav\n"
     ]
    },
    {
     "name": "stderr",
     "output_type": "stream",
     "text": [
      "                                                                                                                       \r"
     ]
    },
    {
     "name": "stdout",
     "output_type": "stream",
     "text": [
      "MoviePy - Done.\n",
      "Audio extracted and saved to: E:\\SafeReels\\audios\\'531126536344837.wav\n",
      "MoviePy - Writing audio in E:\\SafeReels\\audios\\'536469975726145.wav\n"
     ]
    },
    {
     "name": "stderr",
     "output_type": "stream",
     "text": [
      "                                                                                                                       \r"
     ]
    },
    {
     "name": "stdout",
     "output_type": "stream",
     "text": [
      "MoviePy - Done.\n",
      "Audio extracted and saved to: E:\\SafeReels\\audios\\'536469975726145.wav\n",
      "MoviePy - Writing audio in E:\\SafeReels\\audios\\'538835962283009.wav\n"
     ]
    },
    {
     "name": "stderr",
     "output_type": "stream",
     "text": [
      "                                                                                                                       \r"
     ]
    },
    {
     "name": "stdout",
     "output_type": "stream",
     "text": [
      "MoviePy - Done.\n",
      "Audio extracted and saved to: E:\\SafeReels\\audios\\'538835962283009.wav\n",
      "MoviePy - Writing audio in E:\\SafeReels\\audios\\'539073205400966.wav\n"
     ]
    },
    {
     "name": "stderr",
     "output_type": "stream",
     "text": [
      "                                                                                                                       \r"
     ]
    },
    {
     "name": "stdout",
     "output_type": "stream",
     "text": [
      "MoviePy - Done.\n",
      "Audio extracted and saved to: E:\\SafeReels\\audios\\'539073205400966.wav\n",
      "MoviePy - Writing audio in E:\\SafeReels\\audios\\'540397012145899.wav\n"
     ]
    },
    {
     "name": "stderr",
     "output_type": "stream",
     "text": [
      "                                                                                                                       \r"
     ]
    },
    {
     "name": "stdout",
     "output_type": "stream",
     "text": [
      "MoviePy - Done.\n",
      "Audio extracted and saved to: E:\\SafeReels\\audios\\'540397012145899.wav\n",
      "MoviePy - Writing audio in E:\\SafeReels\\audios\\'541739355053400.wav\n"
     ]
    },
    {
     "name": "stderr",
     "output_type": "stream",
     "text": [
      "                                                                                                                       \r"
     ]
    },
    {
     "name": "stdout",
     "output_type": "stream",
     "text": [
      "MoviePy - Done.\n",
      "Audio extracted and saved to: E:\\SafeReels\\audios\\'541739355053400.wav\n",
      "MoviePy - Writing audio in E:\\SafeReels\\audios\\'542465375355607.wav\n"
     ]
    },
    {
     "name": "stderr",
     "output_type": "stream",
     "text": [
      "                                                                                                                       \r"
     ]
    },
    {
     "name": "stdout",
     "output_type": "stream",
     "text": [
      "MoviePy - Done.\n",
      "Audio extracted and saved to: E:\\SafeReels\\audios\\'542465375355607.wav\n",
      "MoviePy - Writing audio in E:\\SafeReels\\audios\\'545597244823178.wav\n"
     ]
    },
    {
     "name": "stderr",
     "output_type": "stream",
     "text": [
      "                                                                                                                       "
     ]
    },
    {
     "name": "stdout",
     "output_type": "stream",
     "text": [
      "MoviePy - Done.\n",
      "Audio extracted and saved to: E:\\SafeReels\\audios\\'545597244823178.wav\n"
     ]
    },
    {
     "name": "stderr",
     "output_type": "stream",
     "text": [
      "\r"
     ]
    },
    {
     "name": "stdout",
     "output_type": "stream",
     "text": [
      "MoviePy - Writing audio in E:\\SafeReels\\audios\\'545683091346992.wav\n"
     ]
    },
    {
     "name": "stderr",
     "output_type": "stream",
     "text": [
      "                                                                                                                       \r"
     ]
    },
    {
     "name": "stdout",
     "output_type": "stream",
     "text": [
      "MoviePy - Done.\n",
      "Audio extracted and saved to: E:\\SafeReels\\audios\\'545683091346992.wav\n",
      "460 videos extracted.\n",
      "MoviePy - Writing audio in E:\\SafeReels\\audios\\'547693648146423.wav\n"
     ]
    },
    {
     "name": "stderr",
     "output_type": "stream",
     "text": [
      "                                                                                                                       \r"
     ]
    },
    {
     "name": "stdout",
     "output_type": "stream",
     "text": [
      "MoviePy - Done.\n",
      "Audio extracted and saved to: E:\\SafeReels\\audios\\'547693648146423.wav\n",
      "MoviePy - Writing audio in E:\\SafeReels\\audios\\'548249114462190.wav\n"
     ]
    },
    {
     "name": "stderr",
     "output_type": "stream",
     "text": [
      "                                                                                                                       \r"
     ]
    },
    {
     "name": "stdout",
     "output_type": "stream",
     "text": [
      "MoviePy - Done.\n",
      "Audio extracted and saved to: E:\\SafeReels\\audios\\'548249114462190.wav\n",
      "MoviePy - Writing audio in E:\\SafeReels\\audios\\'548913210798096.wav\n"
     ]
    },
    {
     "name": "stderr",
     "output_type": "stream",
     "text": [
      "                                                                                                                       \r"
     ]
    },
    {
     "name": "stdout",
     "output_type": "stream",
     "text": [
      "MoviePy - Done.\n",
      "Audio extracted and saved to: E:\\SafeReels\\audios\\'548913210798096.wav\n",
      "MoviePy - Writing audio in E:\\SafeReels\\audios\\'549986690939076.wav\n"
     ]
    },
    {
     "name": "stderr",
     "output_type": "stream",
     "text": [
      "                                                                                                                       \r"
     ]
    },
    {
     "name": "stdout",
     "output_type": "stream",
     "text": [
      "MoviePy - Done.\n",
      "Audio extracted and saved to: E:\\SafeReels\\audios\\'549986690939076.wav\n",
      "MoviePy - Writing audio in E:\\SafeReels\\audios\\'550639940931282.wav\n"
     ]
    },
    {
     "name": "stderr",
     "output_type": "stream",
     "text": [
      "                                                                                                                       \r"
     ]
    },
    {
     "name": "stdout",
     "output_type": "stream",
     "text": [
      "MoviePy - Done.\n",
      "Audio extracted and saved to: E:\\SafeReels\\audios\\'550639940931282.wav\n",
      "MoviePy - Writing audio in E:\\SafeReels\\audios\\'550829094509550.wav\n"
     ]
    },
    {
     "name": "stderr",
     "output_type": "stream",
     "text": [
      "                                                                                                                       \r"
     ]
    },
    {
     "name": "stdout",
     "output_type": "stream",
     "text": [
      "MoviePy - Done.\n",
      "Audio extracted and saved to: E:\\SafeReels\\audios\\'550829094509550.wav\n",
      "MoviePy - Writing audio in E:\\SafeReels\\audios\\'551109851125442.wav\n"
     ]
    },
    {
     "name": "stderr",
     "output_type": "stream",
     "text": [
      "                                                                                                                       \r"
     ]
    },
    {
     "name": "stdout",
     "output_type": "stream",
     "text": [
      "MoviePy - Done.\n",
      "Audio extracted and saved to: E:\\SafeReels\\audios\\'551109851125442.wav\n",
      "MoviePy - Writing audio in E:\\SafeReels\\audios\\'552070363851344.wav\n"
     ]
    },
    {
     "name": "stderr",
     "output_type": "stream",
     "text": [
      "                                                                                                                       \r"
     ]
    },
    {
     "name": "stdout",
     "output_type": "stream",
     "text": [
      "MoviePy - Done.\n",
      "Audio extracted and saved to: E:\\SafeReels\\audios\\'552070363851344.wav\n",
      "MoviePy - Writing audio in E:\\SafeReels\\audios\\'552234267292630.wav\n"
     ]
    },
    {
     "name": "stderr",
     "output_type": "stream",
     "text": [
      "                                                                                                                       \r"
     ]
    },
    {
     "name": "stdout",
     "output_type": "stream",
     "text": [
      "MoviePy - Done.\n",
      "Audio extracted and saved to: E:\\SafeReels\\audios\\'552234267292630.wav\n",
      "MoviePy - Writing audio in E:\\SafeReels\\audios\\'553614670605443.wav\n"
     ]
    },
    {
     "name": "stderr",
     "output_type": "stream",
     "text": [
      "                                                                                                                       \r"
     ]
    },
    {
     "name": "stdout",
     "output_type": "stream",
     "text": [
      "MoviePy - Done.\n",
      "Audio extracted and saved to: E:\\SafeReels\\audios\\'553614670605443.wav\n",
      "MoviePy - Writing audio in E:\\SafeReels\\audios\\'554389767499375.wav\n"
     ]
    },
    {
     "name": "stderr",
     "output_type": "stream",
     "text": [
      "                                                                                                                       \r"
     ]
    },
    {
     "name": "stdout",
     "output_type": "stream",
     "text": [
      "MoviePy - Done.\n",
      "Audio extracted and saved to: E:\\SafeReels\\audios\\'554389767499375.wav\n",
      "MoviePy - Writing audio in E:\\SafeReels\\audios\\'555096543644837.wav\n"
     ]
    },
    {
     "name": "stderr",
     "output_type": "stream",
     "text": [
      "                                                                                                                       \r"
     ]
    },
    {
     "name": "stdout",
     "output_type": "stream",
     "text": [
      "MoviePy - Done.\n",
      "Audio extracted and saved to: E:\\SafeReels\\audios\\'555096543644837.wav\n",
      "MoviePy - Writing audio in E:\\SafeReels\\audios\\'555114430216889.wav\n"
     ]
    },
    {
     "name": "stderr",
     "output_type": "stream",
     "text": [
      "                                                                                                                       \r"
     ]
    },
    {
     "name": "stdout",
     "output_type": "stream",
     "text": [
      "MoviePy - Done.\n",
      "Audio extracted and saved to: E:\\SafeReels\\audios\\'555114430216889.wav\n",
      "MoviePy - Writing audio in E:\\SafeReels\\audios\\'556820800291545.wav\n"
     ]
    },
    {
     "name": "stderr",
     "output_type": "stream",
     "text": [
      "                                                                                                                       \r"
     ]
    },
    {
     "name": "stdout",
     "output_type": "stream",
     "text": [
      "MoviePy - Done.\n",
      "Audio extracted and saved to: E:\\SafeReels\\audios\\'556820800291545.wav\n",
      "MoviePy - Writing audio in E:\\SafeReels\\audios\\'557584106941344.wav\n"
     ]
    },
    {
     "name": "stderr",
     "output_type": "stream",
     "text": [
      "                                                                                                                       \r"
     ]
    },
    {
     "name": "stdout",
     "output_type": "stream",
     "text": [
      "MoviePy - Done.\n",
      "Audio extracted and saved to: E:\\SafeReels\\audios\\'557584106941344.wav\n",
      "MoviePy - Writing audio in E:\\SafeReels\\audios\\'559076100391379.wav\n"
     ]
    },
    {
     "name": "stderr",
     "output_type": "stream",
     "text": [
      "                                                                                                                       \r"
     ]
    },
    {
     "name": "stdout",
     "output_type": "stream",
     "text": [
      "MoviePy - Done.\n",
      "Audio extracted and saved to: E:\\SafeReels\\audios\\'559076100391379.wav\n",
      "MoviePy - Writing audio in E:\\SafeReels\\audios\\'560217876572496.wav\n"
     ]
    },
    {
     "name": "stderr",
     "output_type": "stream",
     "text": [
      "                                                                                                                       "
     ]
    },
    {
     "name": "stdout",
     "output_type": "stream",
     "text": [
      "MoviePy - Done.\n",
      "Audio extracted and saved to: E:\\SafeReels\\audios\\'560217876572496.wav\n"
     ]
    },
    {
     "name": "stderr",
     "output_type": "stream",
     "text": [
      "\r"
     ]
    },
    {
     "name": "stdout",
     "output_type": "stream",
     "text": [
      "MoviePy - Writing audio in E:\\SafeReels\\audios\\'560530613387498.wav\n"
     ]
    },
    {
     "name": "stderr",
     "output_type": "stream",
     "text": [
      "                                                                                                                       "
     ]
    },
    {
     "name": "stdout",
     "output_type": "stream",
     "text": [
      "MoviePy - Done.\n",
      "Audio extracted and saved to: E:\\SafeReels\\audios\\'560530613387498.wav\n"
     ]
    },
    {
     "name": "stderr",
     "output_type": "stream",
     "text": [
      "\r"
     ]
    },
    {
     "name": "stdout",
     "output_type": "stream",
     "text": [
      "MoviePy - Writing audio in E:\\SafeReels\\audios\\'560576513287869.wav\n"
     ]
    },
    {
     "name": "stderr",
     "output_type": "stream",
     "text": [
      "                                                                                                                       \r"
     ]
    },
    {
     "name": "stdout",
     "output_type": "stream",
     "text": [
      "MoviePy - Done.\n",
      "Audio extracted and saved to: E:\\SafeReels\\audios\\'560576513287869.wav\n",
      "MoviePy - Writing audio in E:\\SafeReels\\audios\\'561639599673120.wav\n"
     ]
    },
    {
     "name": "stderr",
     "output_type": "stream",
     "text": [
      "                                                                                                                       \r"
     ]
    },
    {
     "name": "stdout",
     "output_type": "stream",
     "text": [
      "MoviePy - Done.\n",
      "Audio extracted and saved to: E:\\SafeReels\\audios\\'561639599673120.wav\n",
      "480 videos extracted.\n",
      "MoviePy - Writing audio in E:\\SafeReels\\audios\\'563116836309981.wav\n"
     ]
    },
    {
     "name": "stderr",
     "output_type": "stream",
     "text": [
      "                                                                                                                       \r"
     ]
    },
    {
     "name": "stdout",
     "output_type": "stream",
     "text": [
      "MoviePy - Done.\n",
      "Audio extracted and saved to: E:\\SafeReels\\audios\\'563116836309981.wav\n",
      "MoviePy - Writing audio in E:\\SafeReels\\audios\\'563315966083596.wav\n"
     ]
    },
    {
     "name": "stderr",
     "output_type": "stream",
     "text": [
      "                                                                                                                       "
     ]
    },
    {
     "name": "stdout",
     "output_type": "stream",
     "text": [
      "MoviePy - Done.\n",
      "Audio extracted and saved to: E:\\SafeReels\\audios\\'563315966083596.wav\n"
     ]
    },
    {
     "name": "stderr",
     "output_type": "stream",
     "text": [
      "\r"
     ]
    },
    {
     "name": "stdout",
     "output_type": "stream",
     "text": [
      "MoviePy - Writing audio in E:\\SafeReels\\audios\\'570515075464212.wav\n"
     ]
    },
    {
     "name": "stderr",
     "output_type": "stream",
     "text": [
      "                                                                                                                       \r"
     ]
    },
    {
     "name": "stdout",
     "output_type": "stream",
     "text": [
      "MoviePy - Done.\n",
      "Audio extracted and saved to: E:\\SafeReels\\audios\\'570515075464212.wav\n",
      "MoviePy - Writing audio in E:\\SafeReels\\audios\\'571072675448607.wav\n"
     ]
    },
    {
     "name": "stderr",
     "output_type": "stream",
     "text": [
      "                                                                                                                       \r"
     ]
    },
    {
     "name": "stdout",
     "output_type": "stream",
     "text": [
      "MoviePy - Done.\n",
      "Audio extracted and saved to: E:\\SafeReels\\audios\\'571072675448607.wav\n",
      "MoviePy - Writing audio in E:\\SafeReels\\audios\\'572107678736857.wav\n"
     ]
    },
    {
     "name": "stderr",
     "output_type": "stream",
     "text": [
      "                                                                                                                       \r"
     ]
    },
    {
     "name": "stdout",
     "output_type": "stream",
     "text": [
      "MoviePy - Done.\n",
      "Audio extracted and saved to: E:\\SafeReels\\audios\\'572107678736857.wav\n",
      "MoviePy - Writing audio in E:\\SafeReels\\audios\\'574369011638020.wav\n"
     ]
    },
    {
     "name": "stderr",
     "output_type": "stream",
     "text": [
      "                                                                                                                       \r"
     ]
    },
    {
     "name": "stdout",
     "output_type": "stream",
     "text": [
      "MoviePy - Done.\n",
      "Audio extracted and saved to: E:\\SafeReels\\audios\\'574369011638020.wav\n",
      "MoviePy - Writing audio in E:\\SafeReels\\audios\\'576193358306179.wav\n"
     ]
    },
    {
     "name": "stderr",
     "output_type": "stream",
     "text": [
      "                                                                                                                       \r"
     ]
    },
    {
     "name": "stdout",
     "output_type": "stream",
     "text": [
      "MoviePy - Done.\n",
      "Audio extracted and saved to: E:\\SafeReels\\audios\\'576193358306179.wav\n",
      "MoviePy - Writing audio in E:\\SafeReels\\audios\\'577983738126752.wav\n"
     ]
    },
    {
     "name": "stderr",
     "output_type": "stream",
     "text": [
      "                                                                                                                       \r"
     ]
    },
    {
     "name": "stdout",
     "output_type": "stream",
     "text": [
      "MoviePy - Done.\n",
      "Audio extracted and saved to: E:\\SafeReels\\audios\\'577983738126752.wav\n",
      "MoviePy - Writing audio in E:\\SafeReels\\audios\\'582611514329709.wav\n"
     ]
    },
    {
     "name": "stderr",
     "output_type": "stream",
     "text": [
      "                                                                                                                       \r"
     ]
    },
    {
     "name": "stdout",
     "output_type": "stream",
     "text": [
      "MoviePy - Done.\n",
      "Audio extracted and saved to: E:\\SafeReels\\audios\\'582611514329709.wav\n",
      "MoviePy - Writing audio in E:\\SafeReels\\audios\\'582623851062625.wav\n"
     ]
    },
    {
     "name": "stderr",
     "output_type": "stream",
     "text": [
      "                                                                                                                       \r"
     ]
    },
    {
     "name": "stdout",
     "output_type": "stream",
     "text": [
      "MoviePy - Done.\n",
      "Audio extracted and saved to: E:\\SafeReels\\audios\\'582623851062625.wav\n",
      "MoviePy - Writing audio in E:\\SafeReels\\audios\\'583582251019328.wav\n"
     ]
    },
    {
     "name": "stderr",
     "output_type": "stream",
     "text": [
      "                                                                                                                       "
     ]
    },
    {
     "name": "stdout",
     "output_type": "stream",
     "text": [
      "MoviePy - Done.\n",
      "Audio extracted and saved to: E:\\SafeReels\\audios\\'583582251019328.wav\n"
     ]
    },
    {
     "name": "stderr",
     "output_type": "stream",
     "text": [
      "\r"
     ]
    },
    {
     "name": "stdout",
     "output_type": "stream",
     "text": [
      "MoviePy - Writing audio in E:\\SafeReels\\audios\\'586118027236639.wav\n"
     ]
    },
    {
     "name": "stderr",
     "output_type": "stream",
     "text": [
      "                                                                                                                       "
     ]
    },
    {
     "name": "stdout",
     "output_type": "stream",
     "text": [
      "MoviePy - Done.\n",
      "Audio extracted and saved to: E:\\SafeReels\\audios\\'586118027236639.wav\n"
     ]
    },
    {
     "name": "stderr",
     "output_type": "stream",
     "text": [
      "\r"
     ]
    },
    {
     "name": "stdout",
     "output_type": "stream",
     "text": [
      "MoviePy - Writing audio in E:\\SafeReels\\audios\\'586237613786012.wav\n"
     ]
    },
    {
     "name": "stderr",
     "output_type": "stream",
     "text": [
      "                                                                                                                       \r"
     ]
    },
    {
     "name": "stdout",
     "output_type": "stream",
     "text": [
      "MoviePy - Done.\n",
      "Audio extracted and saved to: E:\\SafeReels\\audios\\'586237613786012.wav\n",
      "MoviePy - Writing audio in E:\\SafeReels\\audios\\'589693060300928.wav\n"
     ]
    },
    {
     "name": "stderr",
     "output_type": "stream",
     "text": [
      "                                                                                                                       \r"
     ]
    },
    {
     "name": "stdout",
     "output_type": "stream",
     "text": [
      "MoviePy - Done.\n",
      "Audio extracted and saved to: E:\\SafeReels\\audios\\'589693060300928.wav\n",
      "MoviePy - Writing audio in E:\\SafeReels\\audios\\'590194923383130.wav\n"
     ]
    },
    {
     "name": "stderr",
     "output_type": "stream",
     "text": [
      "                                                                                                                       "
     ]
    },
    {
     "name": "stdout",
     "output_type": "stream",
     "text": [
      "MoviePy - Done.\n",
      "Audio extracted and saved to: E:\\SafeReels\\audios\\'590194923383130.wav\n"
     ]
    },
    {
     "name": "stderr",
     "output_type": "stream",
     "text": [
      "\r"
     ]
    },
    {
     "name": "stdout",
     "output_type": "stream",
     "text": [
      "MoviePy - Writing audio in E:\\SafeReels\\audios\\'591835436744945.wav\n"
     ]
    },
    {
     "name": "stderr",
     "output_type": "stream",
     "text": [
      "                                                                                                                       \r"
     ]
    },
    {
     "name": "stdout",
     "output_type": "stream",
     "text": [
      "MoviePy - Done.\n",
      "Audio extracted and saved to: E:\\SafeReels\\audios\\'591835436744945.wav\n",
      "MoviePy - Writing audio in E:\\SafeReels\\audios\\'593309719695041.wav\n"
     ]
    },
    {
     "name": "stderr",
     "output_type": "stream",
     "text": [
      "                                                                                                                       \r"
     ]
    },
    {
     "name": "stdout",
     "output_type": "stream",
     "text": [
      "MoviePy - Done.\n",
      "Audio extracted and saved to: E:\\SafeReels\\audios\\'593309719695041.wav\n",
      "MoviePy - Writing audio in E:\\SafeReels\\audios\\'595415002876707.wav\n"
     ]
    },
    {
     "name": "stderr",
     "output_type": "stream",
     "text": [
      "                                                                                                                       "
     ]
    },
    {
     "name": "stdout",
     "output_type": "stream",
     "text": [
      "MoviePy - Done.\n",
      "Audio extracted and saved to: E:\\SafeReels\\audios\\'595415002876707.wav\n"
     ]
    },
    {
     "name": "stderr",
     "output_type": "stream",
     "text": [
      "\r"
     ]
    },
    {
     "name": "stdout",
     "output_type": "stream",
     "text": [
      "MoviePy - Writing audio in E:\\SafeReels\\audios\\'595783629789932.wav\n"
     ]
    },
    {
     "name": "stderr",
     "output_type": "stream",
     "text": [
      "                                                                                                                       \r"
     ]
    },
    {
     "name": "stdout",
     "output_type": "stream",
     "text": [
      "MoviePy - Done.\n",
      "Audio extracted and saved to: E:\\SafeReels\\audios\\'595783629789932.wav\n",
      "MoviePy - Writing audio in E:\\SafeReels\\audios\\'595932536349812.wav\n"
     ]
    },
    {
     "name": "stderr",
     "output_type": "stream",
     "text": [
      "                                                                                                                       \r"
     ]
    },
    {
     "name": "stdout",
     "output_type": "stream",
     "text": [
      "MoviePy - Done.\n",
      "Audio extracted and saved to: E:\\SafeReels\\audios\\'595932536349812.wav\n",
      "500 videos extracted.\n",
      "MoviePy - Writing audio in E:\\SafeReels\\audios\\'596890696149316.wav\n"
     ]
    },
    {
     "name": "stderr",
     "output_type": "stream",
     "text": [
      "                                                                                                                       \r"
     ]
    },
    {
     "name": "stdout",
     "output_type": "stream",
     "text": [
      "MoviePy - Done.\n",
      "Audio extracted and saved to: E:\\SafeReels\\audios\\'596890696149316.wav\n",
      "MoviePy - Writing audio in E:\\SafeReels\\audios\\'597534196039928.wav\n"
     ]
    },
    {
     "name": "stderr",
     "output_type": "stream",
     "text": [
      "                                                                                                                       \r"
     ]
    },
    {
     "name": "stdout",
     "output_type": "stream",
     "text": [
      "MoviePy - Done.\n",
      "Audio extracted and saved to: E:\\SafeReels\\audios\\'597534196039928.wav\n",
      "MoviePy - Writing audio in E:\\SafeReels\\audios\\'598855139106705.wav\n"
     ]
    },
    {
     "name": "stderr",
     "output_type": "stream",
     "text": [
      "                                                                                                                       "
     ]
    },
    {
     "name": "stdout",
     "output_type": "stream",
     "text": [
      "MoviePy - Done.\n",
      "Audio extracted and saved to: E:\\SafeReels\\audios\\'598855139106705.wav\n"
     ]
    },
    {
     "name": "stderr",
     "output_type": "stream",
     "text": [
      "\r"
     ]
    },
    {
     "name": "stdout",
     "output_type": "stream",
     "text": [
      "MoviePy - Writing audio in E:\\SafeReels\\audios\\'600988365127738.wav\n"
     ]
    },
    {
     "name": "stderr",
     "output_type": "stream",
     "text": [
      "                                                                                                                       \r"
     ]
    },
    {
     "name": "stdout",
     "output_type": "stream",
     "text": [
      "MoviePy - Done.\n",
      "Audio extracted and saved to: E:\\SafeReels\\audios\\'600988365127738.wav\n",
      "MoviePy - Writing audio in E:\\SafeReels\\audios\\'603510762180435.wav\n"
     ]
    },
    {
     "name": "stderr",
     "output_type": "stream",
     "text": [
      "                                                                                                                       \r"
     ]
    },
    {
     "name": "stdout",
     "output_type": "stream",
     "text": [
      "MoviePy - Done.\n",
      "Audio extracted and saved to: E:\\SafeReels\\audios\\'603510762180435.wav\n",
      "MoviePy - Writing audio in E:\\SafeReels\\audios\\'603856348871923.wav\n"
     ]
    },
    {
     "name": "stderr",
     "output_type": "stream",
     "text": [
      "                                                                                                                       \r"
     ]
    },
    {
     "name": "stdout",
     "output_type": "stream",
     "text": [
      "MoviePy - Done.\n",
      "Audio extracted and saved to: E:\\SafeReels\\audios\\'603856348871923.wav\n",
      "MoviePy - Writing audio in E:\\SafeReels\\audios\\'606285065159317.wav\n"
     ]
    },
    {
     "name": "stderr",
     "output_type": "stream",
     "text": [
      "                                                                                                                       \r"
     ]
    },
    {
     "name": "stdout",
     "output_type": "stream",
     "text": [
      "MoviePy - Done.\n",
      "Audio extracted and saved to: E:\\SafeReels\\audios\\'606285065159317.wav\n",
      "MoviePy - Writing audio in E:\\SafeReels\\audios\\'610414271455382.wav\n"
     ]
    },
    {
     "name": "stderr",
     "output_type": "stream",
     "text": [
      "                                                                                                                       \r"
     ]
    },
    {
     "name": "stdout",
     "output_type": "stream",
     "text": [
      "MoviePy - Done.\n",
      "Audio extracted and saved to: E:\\SafeReels\\audios\\'610414271455382.wav\n",
      "MoviePy - Writing audio in E:\\SafeReels\\audios\\'612712731107397.wav\n"
     ]
    },
    {
     "name": "stderr",
     "output_type": "stream",
     "text": [
      "                                                                                                                       \r"
     ]
    },
    {
     "name": "stdout",
     "output_type": "stream",
     "text": [
      "MoviePy - Done.\n",
      "Audio extracted and saved to: E:\\SafeReels\\audios\\'612712731107397.wav\n",
      "MoviePy - Writing audio in E:\\SafeReels\\audios\\'614432124348506.wav\n"
     ]
    },
    {
     "name": "stderr",
     "output_type": "stream",
     "text": [
      "                                                                                                                       \r"
     ]
    },
    {
     "name": "stdout",
     "output_type": "stream",
     "text": [
      "MoviePy - Done.\n",
      "Audio extracted and saved to: E:\\SafeReels\\audios\\'614432124348506.wav\n",
      "MoviePy - Writing audio in E:\\SafeReels\\audios\\'6174778189247323.wav\n"
     ]
    },
    {
     "name": "stderr",
     "output_type": "stream",
     "text": [
      "                                                                                                                       \r"
     ]
    },
    {
     "name": "stdout",
     "output_type": "stream",
     "text": [
      "MoviePy - Done.\n",
      "Audio extracted and saved to: E:\\SafeReels\\audios\\'6174778189247323.wav\n",
      "MoviePy - Writing audio in E:\\SafeReels\\audios\\'620098367006483.wav\n"
     ]
    },
    {
     "name": "stderr",
     "output_type": "stream",
     "text": [
      "                                                                                                                       "
     ]
    },
    {
     "name": "stdout",
     "output_type": "stream",
     "text": [
      "MoviePy - Done.\n",
      "Audio extracted and saved to: E:\\SafeReels\\audios\\'620098367006483.wav\n"
     ]
    },
    {
     "name": "stderr",
     "output_type": "stream",
     "text": [
      "\r"
     ]
    },
    {
     "name": "stdout",
     "output_type": "stream",
     "text": [
      "MoviePy - Writing audio in E:\\SafeReels\\audios\\'621879096834268.wav\n"
     ]
    },
    {
     "name": "stderr",
     "output_type": "stream",
     "text": [
      "                                                                                                                       \r"
     ]
    },
    {
     "name": "stdout",
     "output_type": "stream",
     "text": [
      "MoviePy - Done.\n",
      "Audio extracted and saved to: E:\\SafeReels\\audios\\'621879096834268.wav\n",
      "MoviePy - Writing audio in E:\\SafeReels\\audios\\'636095875302554.wav\n"
     ]
    },
    {
     "name": "stderr",
     "output_type": "stream",
     "text": [
      "                                                                                                                       \r"
     ]
    },
    {
     "name": "stdout",
     "output_type": "stream",
     "text": [
      "MoviePy - Done.\n",
      "Audio extracted and saved to: E:\\SafeReels\\audios\\'636095875302554.wav\n",
      "MoviePy - Writing audio in E:\\SafeReels\\audios\\'664845935546542.wav\n"
     ]
    },
    {
     "name": "stderr",
     "output_type": "stream",
     "text": [
      "                                                                                                                       \r"
     ]
    },
    {
     "name": "stdout",
     "output_type": "stream",
     "text": [
      "MoviePy - Done.\n",
      "Audio extracted and saved to: E:\\SafeReels\\audios\\'664845935546542.wav\n",
      "MoviePy - Writing audio in E:\\SafeReels\\audios\\'6692235834222499.wav\n"
     ]
    },
    {
     "name": "stderr",
     "output_type": "stream",
     "text": [
      "                                                                                                                       \r"
     ]
    },
    {
     "name": "stdout",
     "output_type": "stream",
     "text": [
      "MoviePy - Done.\n",
      "Audio extracted and saved to: E:\\SafeReels\\audios\\'6692235834222499.wav\n",
      "MoviePy - Writing audio in E:\\SafeReels\\audios\\'6827904753913483.wav\n"
     ]
    },
    {
     "name": "stderr",
     "output_type": "stream",
     "text": [
      "                                                                                                                       \r"
     ]
    },
    {
     "name": "stdout",
     "output_type": "stream",
     "text": [
      "MoviePy - Done.\n",
      "Audio extracted and saved to: E:\\SafeReels\\audios\\'6827904753913483.wav\n",
      "MoviePy - Writing audio in E:\\SafeReels\\audios\\'684845347047799.wav\n"
     ]
    },
    {
     "name": "stderr",
     "output_type": "stream",
     "text": [
      "                                                                                                                       \r"
     ]
    },
    {
     "name": "stdout",
     "output_type": "stream",
     "text": [
      "MoviePy - Done.\n",
      "Audio extracted and saved to: E:\\SafeReels\\audios\\'684845347047799.wav\n",
      "MoviePy - Writing audio in E:\\SafeReels\\audios\\'690863436289491.wav\n"
     ]
    },
    {
     "name": "stderr",
     "output_type": "stream",
     "text": [
      "                                                                                                                       \r"
     ]
    },
    {
     "name": "stdout",
     "output_type": "stream",
     "text": [
      "MoviePy - Done.\n",
      "Audio extracted and saved to: E:\\SafeReels\\audios\\'690863436289491.wav\n",
      "MoviePy - Writing audio in E:\\SafeReels\\audios\\'696311339007271.wav\n"
     ]
    },
    {
     "name": "stderr",
     "output_type": "stream",
     "text": [
      "                                                                                                                       \r"
     ]
    },
    {
     "name": "stdout",
     "output_type": "stream",
     "text": [
      "MoviePy - Done.\n",
      "Audio extracted and saved to: E:\\SafeReels\\audios\\'696311339007271.wav\n",
      "520 videos extracted.\n",
      "MoviePy - Writing audio in E:\\SafeReels\\audios\\'7072749526184334.wav\n"
     ]
    },
    {
     "name": "stderr",
     "output_type": "stream",
     "text": [
      "                                                                                                                       \r"
     ]
    },
    {
     "name": "stdout",
     "output_type": "stream",
     "text": [
      "MoviePy - Done.\n",
      "Audio extracted and saved to: E:\\SafeReels\\audios\\'7072749526184334.wav\n",
      "MoviePy - Writing audio in E:\\SafeReels\\audios\\'709551927893300.wav\n"
     ]
    },
    {
     "name": "stderr",
     "output_type": "stream",
     "text": [
      "                                                                                                                       \r"
     ]
    },
    {
     "name": "stdout",
     "output_type": "stream",
     "text": [
      "MoviePy - Done.\n",
      "Audio extracted and saved to: E:\\SafeReels\\audios\\'709551927893300.wav\n",
      "MoviePy - Writing audio in E:\\SafeReels\\audios\\'713672377464858.wav\n"
     ]
    },
    {
     "name": "stderr",
     "output_type": "stream",
     "text": [
      "                                                                                                                       \r"
     ]
    },
    {
     "name": "stdout",
     "output_type": "stream",
     "text": [
      "MoviePy - Done.\n",
      "Audio extracted and saved to: E:\\SafeReels\\audios\\'713672377464858.wav\n",
      "MoviePy - Writing audio in E:\\SafeReels\\audios\\'727920532843022.wav\n"
     ]
    },
    {
     "name": "stderr",
     "output_type": "stream",
     "text": [
      "                                                                                                                       \r"
     ]
    },
    {
     "name": "stdout",
     "output_type": "stream",
     "text": [
      "MoviePy - Done.\n",
      "Audio extracted and saved to: E:\\SafeReels\\audios\\'727920532843022.wav\n",
      "MoviePy - Writing audio in E:\\SafeReels\\audios\\'746332277705323.wav\n"
     ]
    },
    {
     "name": "stderr",
     "output_type": "stream",
     "text": [
      "                                                                                                                       \r"
     ]
    },
    {
     "name": "stdout",
     "output_type": "stream",
     "text": [
      "MoviePy - Done.\n",
      "Audio extracted and saved to: E:\\SafeReels\\audios\\'746332277705323.wav\n",
      "MoviePy - Writing audio in E:\\SafeReels\\audios\\'760110022684605.wav\n"
     ]
    },
    {
     "name": "stderr",
     "output_type": "stream",
     "text": [
      "                                                                                                                       \r"
     ]
    },
    {
     "name": "stdout",
     "output_type": "stream",
     "text": [
      "MoviePy - Done.\n",
      "Audio extracted and saved to: E:\\SafeReels\\audios\\'760110022684605.wav\n",
      "MoviePy - Writing audio in E:\\SafeReels\\audios\\'764227435822883.wav\n"
     ]
    },
    {
     "name": "stderr",
     "output_type": "stream",
     "text": [
      "                                                                                                                       \r"
     ]
    },
    {
     "name": "stdout",
     "output_type": "stream",
     "text": [
      "MoviePy - Done.\n",
      "Audio extracted and saved to: E:\\SafeReels\\audios\\'764227435822883.wav\n",
      "MoviePy - Writing audio in E:\\SafeReels\\audios\\'771688621828624.wav\n"
     ]
    },
    {
     "name": "stderr",
     "output_type": "stream",
     "text": [
      "                                                                                                                       \r"
     ]
    },
    {
     "name": "stdout",
     "output_type": "stream",
     "text": [
      "MoviePy - Done.\n",
      "Audio extracted and saved to: E:\\SafeReels\\audios\\'771688621828624.wav\n",
      "MoviePy - Writing audio in E:\\SafeReels\\audios\\'772482211728392.wav\n"
     ]
    },
    {
     "name": "stderr",
     "output_type": "stream",
     "text": [
      "                                                                                                                       \r"
     ]
    },
    {
     "name": "stdout",
     "output_type": "stream",
     "text": [
      "MoviePy - Done.\n",
      "Audio extracted and saved to: E:\\SafeReels\\audios\\'772482211728392.wav\n",
      "MoviePy - Writing audio in E:\\SafeReels\\audios\\'784683433682908.wav\n"
     ]
    },
    {
     "name": "stderr",
     "output_type": "stream",
     "text": [
      "                                                                                                                       \r"
     ]
    },
    {
     "name": "stdout",
     "output_type": "stream",
     "text": [
      "MoviePy - Done.\n",
      "Audio extracted and saved to: E:\\SafeReels\\audios\\'784683433682908.wav\n",
      "MoviePy - Writing audio in E:\\SafeReels\\audios\\'787879723543718.wav\n"
     ]
    },
    {
     "name": "stderr",
     "output_type": "stream",
     "text": [
      "                                                                                                                       \r"
     ]
    },
    {
     "name": "stdout",
     "output_type": "stream",
     "text": [
      "MoviePy - Done.\n",
      "Audio extracted and saved to: E:\\SafeReels\\audios\\'787879723543718.wav\n",
      "MoviePy - Writing audio in E:\\SafeReels\\audios\\'7898623340205177.wav\n"
     ]
    },
    {
     "name": "stderr",
     "output_type": "stream",
     "text": [
      "                                                                                                                       "
     ]
    },
    {
     "name": "stdout",
     "output_type": "stream",
     "text": [
      "MoviePy - Done.\n",
      "Audio extracted and saved to: E:\\SafeReels\\audios\\'7898623340205177.wav\n"
     ]
    },
    {
     "name": "stderr",
     "output_type": "stream",
     "text": [
      "\r"
     ]
    },
    {
     "name": "stdout",
     "output_type": "stream",
     "text": [
      "MoviePy - Writing audio in E:\\SafeReels\\audios\\'7949246698452326.wav\n"
     ]
    },
    {
     "name": "stderr",
     "output_type": "stream",
     "text": [
      "                                                                                                                       \r"
     ]
    },
    {
     "name": "stdout",
     "output_type": "stream",
     "text": [
      "MoviePy - Done.\n",
      "Audio extracted and saved to: E:\\SafeReels\\audios\\'7949246698452326.wav\n",
      "MoviePy - Writing audio in E:\\SafeReels\\audios\\'795585445676914.wav\n"
     ]
    },
    {
     "name": "stderr",
     "output_type": "stream",
     "text": [
      "                                                                                                                       \r"
     ]
    },
    {
     "name": "stdout",
     "output_type": "stream",
     "text": [
      "MoviePy - Done.\n",
      "Audio extracted and saved to: E:\\SafeReels\\audios\\'795585445676914.wav\n",
      "MoviePy - Writing audio in E:\\SafeReels\\audios\\'795659042389889.wav\n"
     ]
    },
    {
     "name": "stderr",
     "output_type": "stream",
     "text": [
      "                                                                                                                       \r"
     ]
    },
    {
     "name": "stdout",
     "output_type": "stream",
     "text": [
      "MoviePy - Done.\n",
      "Audio extracted and saved to: E:\\SafeReels\\audios\\'795659042389889.wav\n",
      "MoviePy - Writing audio in E:\\SafeReels\\audios\\'798274328767708.wav\n"
     ]
    },
    {
     "name": "stderr",
     "output_type": "stream",
     "text": [
      "                                                                                                                       "
     ]
    },
    {
     "name": "stdout",
     "output_type": "stream",
     "text": [
      "MoviePy - Done.\n",
      "Audio extracted and saved to: E:\\SafeReels\\audios\\'798274328767708.wav\n"
     ]
    },
    {
     "name": "stderr",
     "output_type": "stream",
     "text": [
      "\r"
     ]
    },
    {
     "name": "stdout",
     "output_type": "stream",
     "text": [
      "MoviePy - Writing audio in E:\\SafeReels\\audios\\'801534441955374.wav\n"
     ]
    },
    {
     "name": "stderr",
     "output_type": "stream",
     "text": [
      "                                                                                                                       \r"
     ]
    },
    {
     "name": "stdout",
     "output_type": "stream",
     "text": [
      "MoviePy - Done.\n",
      "Audio extracted and saved to: E:\\SafeReels\\audios\\'801534441955374.wav\n",
      "MoviePy - Writing audio in E:\\SafeReels\\audios\\'807246464659259.wav\n"
     ]
    },
    {
     "name": "stderr",
     "output_type": "stream",
     "text": [
      "                                                                                                                       \r"
     ]
    },
    {
     "name": "stdout",
     "output_type": "stream",
     "text": [
      "MoviePy - Done.\n",
      "Audio extracted and saved to: E:\\SafeReels\\audios\\'807246464659259.wav\n",
      "MoviePy - Writing audio in E:\\SafeReels\\audios\\'808510064142863.wav\n"
     ]
    },
    {
     "name": "stderr",
     "output_type": "stream",
     "text": [
      "                                                                                                                       "
     ]
    },
    {
     "name": "stdout",
     "output_type": "stream",
     "text": [
      "MoviePy - Done.\n",
      "Audio extracted and saved to: E:\\SafeReels\\audios\\'808510064142863.wav\n"
     ]
    },
    {
     "name": "stderr",
     "output_type": "stream",
     "text": [
      "\r"
     ]
    },
    {
     "name": "stdout",
     "output_type": "stream",
     "text": [
      "MoviePy - Writing audio in E:\\SafeReels\\audios\\'809895220762755.wav\n"
     ]
    },
    {
     "name": "stderr",
     "output_type": "stream",
     "text": [
      "                                                                                                                       \r"
     ]
    },
    {
     "name": "stdout",
     "output_type": "stream",
     "text": [
      "MoviePy - Done.\n",
      "Audio extracted and saved to: E:\\SafeReels\\audios\\'809895220762755.wav\n",
      "540 videos extracted.\n",
      "MoviePy - Writing audio in E:\\SafeReels\\audios\\'810844510532139.wav\n"
     ]
    },
    {
     "name": "stderr",
     "output_type": "stream",
     "text": [
      "                                                                                                                       \r"
     ]
    },
    {
     "name": "stdout",
     "output_type": "stream",
     "text": [
      "MoviePy - Done.\n",
      "Audio extracted and saved to: E:\\SafeReels\\audios\\'810844510532139.wav\n",
      "MoviePy - Writing audio in E:\\SafeReels\\audios\\'811322214228412.wav\n"
     ]
    },
    {
     "name": "stderr",
     "output_type": "stream",
     "text": [
      "                                                                                                                       \r"
     ]
    },
    {
     "name": "stdout",
     "output_type": "stream",
     "text": [
      "MoviePy - Done.\n",
      "Audio extracted and saved to: E:\\SafeReels\\audios\\'811322214228412.wav\n",
      "MoviePy - Writing audio in E:\\SafeReels\\audios\\'811638534359654.wav\n"
     ]
    },
    {
     "name": "stderr",
     "output_type": "stream",
     "text": [
      "                                                                                                                       \r"
     ]
    },
    {
     "name": "stdout",
     "output_type": "stream",
     "text": [
      "MoviePy - Done.\n",
      "Audio extracted and saved to: E:\\SafeReels\\audios\\'811638534359654.wav\n",
      "MoviePy - Writing audio in E:\\SafeReels\\audios\\'815379827176569.wav\n"
     ]
    },
    {
     "name": "stderr",
     "output_type": "stream",
     "text": [
      "                                                                                                                       \r"
     ]
    },
    {
     "name": "stdout",
     "output_type": "stream",
     "text": [
      "MoviePy - Done.\n",
      "Audio extracted and saved to: E:\\SafeReels\\audios\\'815379827176569.wav\n",
      "MoviePy - Writing audio in E:\\SafeReels\\audios\\'822082226295015.wav\n"
     ]
    },
    {
     "name": "stderr",
     "output_type": "stream",
     "text": [
      "                                                                                                                       \r"
     ]
    },
    {
     "name": "stdout",
     "output_type": "stream",
     "text": [
      "MoviePy - Done.\n",
      "Audio extracted and saved to: E:\\SafeReels\\audios\\'822082226295015.wav\n",
      "MoviePy - Writing audio in E:\\SafeReels\\audios\\'822368270112120.wav\n"
     ]
    },
    {
     "name": "stderr",
     "output_type": "stream",
     "text": [
      "                                                                                                                       \r"
     ]
    },
    {
     "name": "stdout",
     "output_type": "stream",
     "text": [
      "MoviePy - Done.\n",
      "Audio extracted and saved to: E:\\SafeReels\\audios\\'822368270112120.wav\n",
      "MoviePy - Writing audio in E:\\SafeReels\\audios\\'824067989656731.wav\n"
     ]
    },
    {
     "name": "stderr",
     "output_type": "stream",
     "text": [
      "                                                                                                                       "
     ]
    },
    {
     "name": "stdout",
     "output_type": "stream",
     "text": [
      "MoviePy - Done.\n",
      "Audio extracted and saved to: E:\\SafeReels\\audios\\'824067989656731.wav\n"
     ]
    },
    {
     "name": "stderr",
     "output_type": "stream",
     "text": [
      "\r"
     ]
    },
    {
     "name": "stdout",
     "output_type": "stream",
     "text": [
      "MoviePy - Writing audio in E:\\SafeReels\\audios\\'825356356234344.wav\n"
     ]
    },
    {
     "name": "stderr",
     "output_type": "stream",
     "text": [
      "                                                                                                                       "
     ]
    },
    {
     "name": "stdout",
     "output_type": "stream",
     "text": [
      "MoviePy - Done.\n",
      "Audio extracted and saved to: E:\\SafeReels\\audios\\'825356356234344.wav\n"
     ]
    },
    {
     "name": "stderr",
     "output_type": "stream",
     "text": [
      "\r"
     ]
    },
    {
     "name": "stdout",
     "output_type": "stream",
     "text": [
      "MoviePy - Writing audio in E:\\SafeReels\\audios\\'825595466334542.wav\n"
     ]
    },
    {
     "name": "stderr",
     "output_type": "stream",
     "text": [
      "                                                                                                                       "
     ]
    },
    {
     "name": "stdout",
     "output_type": "stream",
     "text": [
      "MoviePy - Done.\n",
      "Audio extracted and saved to: E:\\SafeReels\\audios\\'825595466334542.wav\n"
     ]
    },
    {
     "name": "stderr",
     "output_type": "stream",
     "text": [
      "\r"
     ]
    },
    {
     "name": "stdout",
     "output_type": "stream",
     "text": [
      "MoviePy - Writing audio in E:\\SafeReels\\audios\\'827330071749300.wav\n"
     ]
    },
    {
     "name": "stderr",
     "output_type": "stream",
     "text": [
      "                                                                                                                       \r"
     ]
    },
    {
     "name": "stdout",
     "output_type": "stream",
     "text": [
      "MoviePy - Done.\n",
      "Audio extracted and saved to: E:\\SafeReels\\audios\\'827330071749300.wav\n",
      "MoviePy - Writing audio in E:\\SafeReels\\audios\\'832973958427745.wav\n"
     ]
    },
    {
     "name": "stderr",
     "output_type": "stream",
     "text": [
      "                                                                                                                       \r"
     ]
    },
    {
     "name": "stdout",
     "output_type": "stream",
     "text": [
      "MoviePy - Done.\n",
      "Audio extracted and saved to: E:\\SafeReels\\audios\\'832973958427745.wav\n",
      "MoviePy - Writing audio in E:\\SafeReels\\audios\\'8337957782937701.wav\n"
     ]
    },
    {
     "name": "stderr",
     "output_type": "stream",
     "text": [
      "                                                                                                                       \r"
     ]
    },
    {
     "name": "stdout",
     "output_type": "stream",
     "text": [
      "MoviePy - Done.\n",
      "Audio extracted and saved to: E:\\SafeReels\\audios\\'8337957782937701.wav\n",
      "MoviePy - Writing audio in E:\\SafeReels\\audios\\'834802698725662.wav\n"
     ]
    },
    {
     "name": "stderr",
     "output_type": "stream",
     "text": [
      "                                                                                                                       \r"
     ]
    },
    {
     "name": "stdout",
     "output_type": "stream",
     "text": [
      "MoviePy - Done.\n",
      "Audio extracted and saved to: E:\\SafeReels\\audios\\'834802698725662.wav\n",
      "MoviePy - Writing audio in E:\\SafeReels\\audios\\'838082285012093.wav\n"
     ]
    },
    {
     "name": "stderr",
     "output_type": "stream",
     "text": [
      "                                                                                                                       "
     ]
    },
    {
     "name": "stdout",
     "output_type": "stream",
     "text": [
      "MoviePy - Done.\n",
      "Audio extracted and saved to: E:\\SafeReels\\audios\\'838082285012093.wav\n"
     ]
    },
    {
     "name": "stderr",
     "output_type": "stream",
     "text": [
      "\r"
     ]
    },
    {
     "name": "stdout",
     "output_type": "stream",
     "text": [
      "MoviePy - Writing audio in E:\\SafeReels\\audios\\'838804381065802.wav\n"
     ]
    },
    {
     "name": "stderr",
     "output_type": "stream",
     "text": [
      "                                                                                                                       \r"
     ]
    },
    {
     "name": "stdout",
     "output_type": "stream",
     "text": [
      "MoviePy - Done.\n",
      "Audio extracted and saved to: E:\\SafeReels\\audios\\'838804381065802.wav\n",
      "MoviePy - Writing audio in E:\\SafeReels\\audios\\'840318228258046.wav\n"
     ]
    },
    {
     "name": "stderr",
     "output_type": "stream",
     "text": [
      "                                                                                                                       "
     ]
    },
    {
     "name": "stdout",
     "output_type": "stream",
     "text": [
      "MoviePy - Done.\n",
      "Audio extracted and saved to: E:\\SafeReels\\audios\\'840318228258046.wav\n"
     ]
    },
    {
     "name": "stderr",
     "output_type": "stream",
     "text": [
      "\r"
     ]
    },
    {
     "name": "stdout",
     "output_type": "stream",
     "text": [
      "MoviePy - Writing audio in E:\\SafeReels\\audios\\'840379181238848.wav\n"
     ]
    },
    {
     "name": "stderr",
     "output_type": "stream",
     "text": [
      "                                                                                                                       \r"
     ]
    },
    {
     "name": "stdout",
     "output_type": "stream",
     "text": [
      "MoviePy - Done.\n",
      "Audio extracted and saved to: E:\\SafeReels\\audios\\'840379181238848.wav\n",
      "MoviePy - Writing audio in E:\\SafeReels\\audios\\'846344990894039.wav\n"
     ]
    },
    {
     "name": "stderr",
     "output_type": "stream",
     "text": [
      "                                                                                                                       \r"
     ]
    },
    {
     "name": "stdout",
     "output_type": "stream",
     "text": [
      "MoviePy - Done.\n",
      "Audio extracted and saved to: E:\\SafeReels\\audios\\'846344990894039.wav\n",
      "MoviePy - Writing audio in E:\\SafeReels\\audios\\'847533767157413.wav\n"
     ]
    },
    {
     "name": "stderr",
     "output_type": "stream",
     "text": [
      "                                                                                                                       \r"
     ]
    },
    {
     "name": "stdout",
     "output_type": "stream",
     "text": [
      "MoviePy - Done.\n",
      "Audio extracted and saved to: E:\\SafeReels\\audios\\'847533767157413.wav\n",
      "MoviePy - Writing audio in E:\\SafeReels\\audios\\'848249860143773.wav\n"
     ]
    },
    {
     "name": "stderr",
     "output_type": "stream",
     "text": [
      "                                                                                                                       \r"
     ]
    },
    {
     "name": "stdout",
     "output_type": "stream",
     "text": [
      "MoviePy - Done.\n",
      "Audio extracted and saved to: E:\\SafeReels\\audios\\'848249860143773.wav\n",
      "560 videos extracted.\n",
      "MoviePy - Writing audio in E:\\SafeReels\\audios\\'849225870577377.wav\n"
     ]
    },
    {
     "name": "stderr",
     "output_type": "stream",
     "text": [
      "                                                                                                                       \r"
     ]
    },
    {
     "name": "stdout",
     "output_type": "stream",
     "text": [
      "MoviePy - Done.\n",
      "Audio extracted and saved to: E:\\SafeReels\\audios\\'849225870577377.wav\n",
      "MoviePy - Writing audio in E:\\SafeReels\\audios\\'8504457459662509.wav\n"
     ]
    },
    {
     "name": "stderr",
     "output_type": "stream",
     "text": [
      "                                                                                                                       \r"
     ]
    },
    {
     "name": "stdout",
     "output_type": "stream",
     "text": [
      "MoviePy - Done.\n",
      "Audio extracted and saved to: E:\\SafeReels\\audios\\'8504457459662509.wav\n",
      "MoviePy - Writing audio in E:\\SafeReels\\audios\\'850497686111504.wav\n"
     ]
    },
    {
     "name": "stderr",
     "output_type": "stream",
     "text": [
      "                                                                                                                       \r"
     ]
    },
    {
     "name": "stdout",
     "output_type": "stream",
     "text": [
      "MoviePy - Done.\n",
      "Audio extracted and saved to: E:\\SafeReels\\audios\\'850497686111504.wav\n",
      "MoviePy - Writing audio in E:\\SafeReels\\audios\\'850648883663565.wav\n"
     ]
    },
    {
     "name": "stderr",
     "output_type": "stream",
     "text": [
      "                                                                                                                       "
     ]
    },
    {
     "name": "stdout",
     "output_type": "stream",
     "text": [
      "MoviePy - Done.\n",
      "Audio extracted and saved to: E:\\SafeReels\\audios\\'850648883663565.wav\n"
     ]
    },
    {
     "name": "stderr",
     "output_type": "stream",
     "text": [
      "\r"
     ]
    },
    {
     "name": "stdout",
     "output_type": "stream",
     "text": [
      "MoviePy - Writing audio in E:\\SafeReels\\audios\\'853476463262728.wav\n"
     ]
    },
    {
     "name": "stderr",
     "output_type": "stream",
     "text": [
      "                                                                                                                       "
     ]
    },
    {
     "name": "stdout",
     "output_type": "stream",
     "text": [
      "MoviePy - Done.\n",
      "Audio extracted and saved to: E:\\SafeReels\\audios\\'853476463262728.wav\n"
     ]
    },
    {
     "name": "stderr",
     "output_type": "stream",
     "text": [
      "\r"
     ]
    },
    {
     "name": "stdout",
     "output_type": "stream",
     "text": [
      "MoviePy - Writing audio in E:\\SafeReels\\audios\\'853722406196160.wav\n"
     ]
    },
    {
     "name": "stderr",
     "output_type": "stream",
     "text": [
      "                                                                                                                       \r"
     ]
    },
    {
     "name": "stdout",
     "output_type": "stream",
     "text": [
      "MoviePy - Done.\n",
      "Audio extracted and saved to: E:\\SafeReels\\audios\\'853722406196160.wav\n",
      "MoviePy - Writing audio in E:\\SafeReels\\audios\\'854074033379275.wav\n"
     ]
    },
    {
     "name": "stderr",
     "output_type": "stream",
     "text": [
      "                                                                                                                       \r"
     ]
    },
    {
     "name": "stdout",
     "output_type": "stream",
     "text": [
      "MoviePy - Done.\n",
      "Audio extracted and saved to: E:\\SafeReels\\audios\\'854074033379275.wav\n",
      "MoviePy - Writing audio in E:\\SafeReels\\audios\\'8542665182497867.wav\n"
     ]
    },
    {
     "name": "stderr",
     "output_type": "stream",
     "text": [
      "                                                                                                                       \r"
     ]
    },
    {
     "name": "stdout",
     "output_type": "stream",
     "text": [
      "MoviePy - Done.\n",
      "Audio extracted and saved to: E:\\SafeReels\\audios\\'8542665182497867.wav\n",
      "MoviePy - Writing audio in E:\\SafeReels\\audios\\'854716976272203.wav\n"
     ]
    },
    {
     "name": "stderr",
     "output_type": "stream",
     "text": [
      "                                                                                                                       \r"
     ]
    },
    {
     "name": "stdout",
     "output_type": "stream",
     "text": [
      "MoviePy - Done.\n",
      "Audio extracted and saved to: E:\\SafeReels\\audios\\'854716976272203.wav\n",
      "MoviePy - Writing audio in E:\\SafeReels\\audios\\'855554270106814.wav\n"
     ]
    },
    {
     "name": "stderr",
     "output_type": "stream",
     "text": [
      "                                                                                                                       \r"
     ]
    },
    {
     "name": "stdout",
     "output_type": "stream",
     "text": [
      "MoviePy - Done.\n",
      "Audio extracted and saved to: E:\\SafeReels\\audios\\'855554270106814.wav\n",
      "MoviePy - Writing audio in E:\\SafeReels\\audios\\'855643913118972.wav\n"
     ]
    },
    {
     "name": "stderr",
     "output_type": "stream",
     "text": [
      "                                                                                                                       \r"
     ]
    },
    {
     "name": "stdout",
     "output_type": "stream",
     "text": [
      "MoviePy - Done.\n",
      "Audio extracted and saved to: E:\\SafeReels\\audios\\'855643913118972.wav\n",
      "MoviePy - Writing audio in E:\\SafeReels\\audios\\'855733409377776.wav\n"
     ]
    },
    {
     "name": "stderr",
     "output_type": "stream",
     "text": [
      "                                                                                                                       "
     ]
    },
    {
     "name": "stdout",
     "output_type": "stream",
     "text": [
      "MoviePy - Done.\n",
      "Audio extracted and saved to: E:\\SafeReels\\audios\\'855733409377776.wav\n"
     ]
    },
    {
     "name": "stderr",
     "output_type": "stream",
     "text": [
      "\r"
     ]
    },
    {
     "name": "stdout",
     "output_type": "stream",
     "text": [
      "MoviePy - Writing audio in E:\\SafeReels\\audios\\'8568207649891110.wav\n"
     ]
    },
    {
     "name": "stderr",
     "output_type": "stream",
     "text": [
      "                                                                                                                       \r"
     ]
    },
    {
     "name": "stdout",
     "output_type": "stream",
     "text": [
      "MoviePy - Done.\n",
      "Audio extracted and saved to: E:\\SafeReels\\audios\\'8568207649891110.wav\n",
      "MoviePy - Writing audio in E:\\SafeReels\\audios\\'857193892300526.wav\n"
     ]
    },
    {
     "name": "stderr",
     "output_type": "stream",
     "text": [
      "                                                                                                                       \r"
     ]
    },
    {
     "name": "stdout",
     "output_type": "stream",
     "text": [
      "MoviePy - Done.\n",
      "Audio extracted and saved to: E:\\SafeReels\\audios\\'857193892300526.wav\n",
      "MoviePy - Writing audio in E:\\SafeReels\\audios\\'858878222538019.wav\n"
     ]
    },
    {
     "name": "stderr",
     "output_type": "stream",
     "text": [
      "                                                                                                                       \r"
     ]
    },
    {
     "name": "stdout",
     "output_type": "stream",
     "text": [
      "MoviePy - Done.\n",
      "Audio extracted and saved to: E:\\SafeReels\\audios\\'858878222538019.wav\n",
      "MoviePy - Writing audio in E:\\SafeReels\\audios\\'861653389198165.wav\n"
     ]
    },
    {
     "name": "stderr",
     "output_type": "stream",
     "text": [
      "                                                                                                                       \r"
     ]
    },
    {
     "name": "stdout",
     "output_type": "stream",
     "text": [
      "MoviePy - Done.\n",
      "Audio extracted and saved to: E:\\SafeReels\\audios\\'861653389198165.wav\n",
      "MoviePy - Writing audio in E:\\SafeReels\\audios\\'864679665033788.wav\n"
     ]
    },
    {
     "name": "stderr",
     "output_type": "stream",
     "text": [
      "                                                                                                                       \r"
     ]
    },
    {
     "name": "stdout",
     "output_type": "stream",
     "text": [
      "MoviePy - Done.\n",
      "Audio extracted and saved to: E:\\SafeReels\\audios\\'864679665033788.wav\n",
      "MoviePy - Writing audio in E:\\SafeReels\\audios\\'865033965567956.wav\n"
     ]
    },
    {
     "name": "stderr",
     "output_type": "stream",
     "text": [
      "                                                                                                                       \r"
     ]
    },
    {
     "name": "stdout",
     "output_type": "stream",
     "text": [
      "MoviePy - Done.\n",
      "Audio extracted and saved to: E:\\SafeReels\\audios\\'865033965567956.wav\n",
      "MoviePy - Writing audio in E:\\SafeReels\\audios\\'865241821868270.wav\n"
     ]
    },
    {
     "name": "stderr",
     "output_type": "stream",
     "text": [
      "                                                                                                                       \r"
     ]
    },
    {
     "name": "stdout",
     "output_type": "stream",
     "text": [
      "MoviePy - Done.\n",
      "Audio extracted and saved to: E:\\SafeReels\\audios\\'865241821868270.wav\n",
      "MoviePy - Writing audio in E:\\SafeReels\\audios\\'865426798909442.wav\n"
     ]
    },
    {
     "name": "stderr",
     "output_type": "stream",
     "text": [
      "                                                                                                                       \r"
     ]
    },
    {
     "name": "stdout",
     "output_type": "stream",
     "text": [
      "MoviePy - Done.\n",
      "Audio extracted and saved to: E:\\SafeReels\\audios\\'865426798909442.wav\n",
      "580 videos extracted.\n",
      "MoviePy - Writing audio in E:\\SafeReels\\audios\\'8673625406050057.wav\n"
     ]
    },
    {
     "name": "stderr",
     "output_type": "stream",
     "text": [
      "                                                                                                                       \r"
     ]
    },
    {
     "name": "stdout",
     "output_type": "stream",
     "text": [
      "MoviePy - Done.\n",
      "Audio extracted and saved to: E:\\SafeReels\\audios\\'8673625406050057.wav\n",
      "MoviePy - Writing audio in E:\\SafeReels\\audios\\'868119538400756.wav\n"
     ]
    },
    {
     "name": "stderr",
     "output_type": "stream",
     "text": [
      "                                                                                                                       \r"
     ]
    },
    {
     "name": "stdout",
     "output_type": "stream",
     "text": [
      "MoviePy - Done.\n",
      "Audio extracted and saved to: E:\\SafeReels\\audios\\'868119538400756.wav\n",
      "MoviePy - Writing audio in E:\\SafeReels\\audios\\'8689582324394101.wav\n"
     ]
    },
    {
     "name": "stderr",
     "output_type": "stream",
     "text": [
      "                                                                                                                       \r"
     ]
    },
    {
     "name": "stdout",
     "output_type": "stream",
     "text": [
      "MoviePy - Done.\n",
      "Audio extracted and saved to: E:\\SafeReels\\audios\\'8689582324394101.wav\n",
      "MoviePy - Writing audio in E:\\SafeReels\\audios\\'870183311211695.wav\n"
     ]
    },
    {
     "name": "stderr",
     "output_type": "stream",
     "text": [
      "                                                                                                                       \r"
     ]
    },
    {
     "name": "stdout",
     "output_type": "stream",
     "text": [
      "MoviePy - Done.\n",
      "Audio extracted and saved to: E:\\SafeReels\\audios\\'870183311211695.wav\n",
      "MoviePy - Writing audio in E:\\SafeReels\\audios\\'871441158387616.wav\n"
     ]
    },
    {
     "name": "stderr",
     "output_type": "stream",
     "text": [
      "                                                                                                                       \r"
     ]
    },
    {
     "name": "stdout",
     "output_type": "stream",
     "text": [
      "MoviePy - Done.\n",
      "Audio extracted and saved to: E:\\SafeReels\\audios\\'871441158387616.wav\n",
      "MoviePy - Writing audio in E:\\SafeReels\\audios\\'872541691751532.wav\n"
     ]
    },
    {
     "name": "stderr",
     "output_type": "stream",
     "text": [
      "                                                                                                                       \r"
     ]
    },
    {
     "name": "stdout",
     "output_type": "stream",
     "text": [
      "MoviePy - Done.\n",
      "Audio extracted and saved to: E:\\SafeReels\\audios\\'872541691751532.wav\n",
      "MoviePy - Writing audio in E:\\SafeReels\\audios\\'874157847418290.wav\n"
     ]
    },
    {
     "name": "stderr",
     "output_type": "stream",
     "text": [
      "                                                                                                                       \r"
     ]
    },
    {
     "name": "stdout",
     "output_type": "stream",
     "text": [
      "MoviePy - Done.\n",
      "Audio extracted and saved to: E:\\SafeReels\\audios\\'874157847418290.wav\n",
      "MoviePy - Writing audio in E:\\SafeReels\\audios\\'874770954589817.wav\n"
     ]
    },
    {
     "name": "stderr",
     "output_type": "stream",
     "text": [
      "                                                                                                                       \r"
     ]
    },
    {
     "name": "stdout",
     "output_type": "stream",
     "text": [
      "MoviePy - Done.\n",
      "Audio extracted and saved to: E:\\SafeReels\\audios\\'874770954589817.wav\n",
      "MoviePy - Writing audio in E:\\SafeReels\\audios\\'8783878318329574.wav\n"
     ]
    },
    {
     "name": "stderr",
     "output_type": "stream",
     "text": [
      "                                                                                                                       \r"
     ]
    },
    {
     "name": "stdout",
     "output_type": "stream",
     "text": [
      "MoviePy - Done.\n",
      "Audio extracted and saved to: E:\\SafeReels\\audios\\'8783878318329574.wav\n",
      "MoviePy - Writing audio in E:\\SafeReels\\audios\\'878782167094831.wav\n"
     ]
    },
    {
     "name": "stderr",
     "output_type": "stream",
     "text": [
      "                                                                                                                       \r"
     ]
    },
    {
     "name": "stdout",
     "output_type": "stream",
     "text": [
      "MoviePy - Done.\n",
      "Audio extracted and saved to: E:\\SafeReels\\audios\\'878782167094831.wav\n",
      "MoviePy - Writing audio in E:\\SafeReels\\audios\\'879561503806752.wav\n"
     ]
    },
    {
     "name": "stderr",
     "output_type": "stream",
     "text": [
      "                                                                                                                       \r"
     ]
    },
    {
     "name": "stdout",
     "output_type": "stream",
     "text": [
      "MoviePy - Done.\n",
      "Audio extracted and saved to: E:\\SafeReels\\audios\\'879561503806752.wav\n",
      "MoviePy - Writing audio in E:\\SafeReels\\audios\\'882822820635403.wav\n"
     ]
    },
    {
     "name": "stderr",
     "output_type": "stream",
     "text": [
      "                                                                                                                       \r"
     ]
    },
    {
     "name": "stdout",
     "output_type": "stream",
     "text": [
      "MoviePy - Done.\n",
      "Audio extracted and saved to: E:\\SafeReels\\audios\\'882822820635403.wav\n",
      "MoviePy - Writing audio in E:\\SafeReels\\audios\\'882945433789938.wav\n"
     ]
    },
    {
     "name": "stderr",
     "output_type": "stream",
     "text": [
      "                                                                                                                       \r"
     ]
    },
    {
     "name": "stdout",
     "output_type": "stream",
     "text": [
      "MoviePy - Done.\n",
      "Audio extracted and saved to: E:\\SafeReels\\audios\\'882945433789938.wav\n",
      "MoviePy - Writing audio in E:\\SafeReels\\audios\\'884681846543120.wav\n"
     ]
    },
    {
     "name": "stderr",
     "output_type": "stream",
     "text": [
      "                                                                                                                       \r"
     ]
    },
    {
     "name": "stdout",
     "output_type": "stream",
     "text": [
      "MoviePy - Done.\n",
      "Audio extracted and saved to: E:\\SafeReels\\audios\\'884681846543120.wav\n",
      "MoviePy - Writing audio in E:\\SafeReels\\audios\\'886896730318594.wav\n"
     ]
    },
    {
     "name": "stderr",
     "output_type": "stream",
     "text": [
      "                                                                                                                       \r"
     ]
    },
    {
     "name": "stdout",
     "output_type": "stream",
     "text": [
      "MoviePy - Done.\n",
      "Audio extracted and saved to: E:\\SafeReels\\audios\\'886896730318594.wav\n",
      "MoviePy - Writing audio in E:\\SafeReels\\audios\\'8876989105696723.wav\n"
     ]
    },
    {
     "name": "stderr",
     "output_type": "stream",
     "text": [
      "                                                                                                                       "
     ]
    },
    {
     "name": "stdout",
     "output_type": "stream",
     "text": [
      "MoviePy - Done.\n",
      "Audio extracted and saved to: E:\\SafeReels\\audios\\'8876989105696723.wav\n"
     ]
    },
    {
     "name": "stderr",
     "output_type": "stream",
     "text": [
      "\r"
     ]
    },
    {
     "name": "stdout",
     "output_type": "stream",
     "text": [
      "MoviePy - Writing audio in E:\\SafeReels\\audios\\'888564683235261.wav\n"
     ]
    },
    {
     "name": "stderr",
     "output_type": "stream",
     "text": [
      "                                                                                                                       \r"
     ]
    },
    {
     "name": "stdout",
     "output_type": "stream",
     "text": [
      "MoviePy - Done.\n",
      "Audio extracted and saved to: E:\\SafeReels\\audios\\'888564683235261.wav\n",
      "MoviePy - Writing audio in E:\\SafeReels\\audios\\'889270575849706.wav\n"
     ]
    },
    {
     "name": "stderr",
     "output_type": "stream",
     "text": [
      "                                                                                                                       \r"
     ]
    },
    {
     "name": "stdout",
     "output_type": "stream",
     "text": [
      "MoviePy - Done.\n",
      "Audio extracted and saved to: E:\\SafeReels\\audios\\'889270575849706.wav\n",
      "MoviePy - Writing audio in E:\\SafeReels\\audios\\'889338516741869.wav\n"
     ]
    },
    {
     "name": "stderr",
     "output_type": "stream",
     "text": [
      "                                                                                                                       \r"
     ]
    },
    {
     "name": "stdout",
     "output_type": "stream",
     "text": [
      "MoviePy - Done.\n",
      "Audio extracted and saved to: E:\\SafeReels\\audios\\'889338516741869.wav\n",
      "MoviePy - Writing audio in E:\\SafeReels\\audios\\'890905713193451.wav\n"
     ]
    },
    {
     "name": "stderr",
     "output_type": "stream",
     "text": [
      "                                                                                                                       "
     ]
    },
    {
     "name": "stdout",
     "output_type": "stream",
     "text": [
      "MoviePy - Done.\n",
      "Audio extracted and saved to: E:\\SafeReels\\audios\\'890905713193451.wav\n",
      "600 videos extracted.\n"
     ]
    },
    {
     "name": "stderr",
     "output_type": "stream",
     "text": [
      "\r"
     ]
    },
    {
     "name": "stdout",
     "output_type": "stream",
     "text": [
      "MoviePy - Writing audio in E:\\SafeReels\\audios\\'894211189342622.wav\n"
     ]
    },
    {
     "name": "stderr",
     "output_type": "stream",
     "text": [
      "                                                                                                                       \r"
     ]
    },
    {
     "name": "stdout",
     "output_type": "stream",
     "text": [
      "MoviePy - Done.\n",
      "Audio extracted and saved to: E:\\SafeReels\\audios\\'894211189342622.wav\n",
      "MoviePy - Writing audio in E:\\SafeReels\\audios\\'894215406170905.wav\n"
     ]
    },
    {
     "name": "stderr",
     "output_type": "stream",
     "text": [
      "                                                                                                                       "
     ]
    },
    {
     "name": "stdout",
     "output_type": "stream",
     "text": [
      "MoviePy - Done."
     ]
    },
    {
     "name": "stderr",
     "output_type": "stream",
     "text": [
      "\r"
     ]
    },
    {
     "name": "stdout",
     "output_type": "stream",
     "text": [
      "\n",
      "Audio extracted and saved to: E:\\SafeReels\\audios\\'894215406170905.wav\n",
      "MoviePy - Writing audio in E:\\SafeReels\\audios\\'894462806224694.wav\n"
     ]
    },
    {
     "name": "stderr",
     "output_type": "stream",
     "text": [
      "                                                                                                                       \r"
     ]
    },
    {
     "name": "stdout",
     "output_type": "stream",
     "text": [
      "MoviePy - Done.\n",
      "Audio extracted and saved to: E:\\SafeReels\\audios\\'894462806224694.wav\n",
      "MoviePy - Writing audio in E:\\SafeReels\\audios\\'894709222779269.wav\n"
     ]
    },
    {
     "name": "stderr",
     "output_type": "stream",
     "text": [
      "                                                                                                                       \r"
     ]
    },
    {
     "name": "stdout",
     "output_type": "stream",
     "text": [
      "MoviePy - Done.\n",
      "Audio extracted and saved to: E:\\SafeReels\\audios\\'894709222779269.wav\n",
      "MoviePy - Writing audio in E:\\SafeReels\\audios\\'8977209172343427.wav\n"
     ]
    },
    {
     "name": "stderr",
     "output_type": "stream",
     "text": [
      "                                                                                                                       \r"
     ]
    },
    {
     "name": "stdout",
     "output_type": "stream",
     "text": [
      "MoviePy - Done.\n",
      "Audio extracted and saved to: E:\\SafeReels\\audios\\'8977209172343427.wav\n",
      "MoviePy - Writing audio in E:\\SafeReels\\audios\\'900097121638428.wav\n"
     ]
    },
    {
     "name": "stderr",
     "output_type": "stream",
     "text": [
      "                                                                                                                       \r"
     ]
    },
    {
     "name": "stdout",
     "output_type": "stream",
     "text": [
      "MoviePy - Done.\n",
      "Audio extracted and saved to: E:\\SafeReels\\audios\\'900097121638428.wav\n",
      "MoviePy - Writing audio in E:\\SafeReels\\audios\\'900553318861344.wav\n"
     ]
    },
    {
     "name": "stderr",
     "output_type": "stream",
     "text": [
      "                                                                                                                       \r"
     ]
    },
    {
     "name": "stdout",
     "output_type": "stream",
     "text": [
      "MoviePy - Done.\n",
      "Audio extracted and saved to: E:\\SafeReels\\audios\\'900553318861344.wav\n",
      "MoviePy - Writing audio in E:\\SafeReels\\audios\\'900659314982560.wav\n"
     ]
    },
    {
     "name": "stderr",
     "output_type": "stream",
     "text": [
      "                                                                                                                       \r"
     ]
    },
    {
     "name": "stdout",
     "output_type": "stream",
     "text": [
      "MoviePy - Done.\n",
      "Audio extracted and saved to: E:\\SafeReels\\audios\\'900659314982560.wav\n",
      "MoviePy - Writing audio in E:\\SafeReels\\audios\\'900845185341773.wav\n"
     ]
    },
    {
     "name": "stderr",
     "output_type": "stream",
     "text": [
      "                                                                                                                       \r"
     ]
    },
    {
     "name": "stdout",
     "output_type": "stream",
     "text": [
      "MoviePy - Done.\n",
      "Audio extracted and saved to: E:\\SafeReels\\audios\\'900845185341773.wav\n",
      "MoviePy - Writing audio in E:\\SafeReels\\audios\\'901668214652883.wav\n"
     ]
    },
    {
     "name": "stderr",
     "output_type": "stream",
     "text": [
      "                                                                                                                       \r"
     ]
    },
    {
     "name": "stdout",
     "output_type": "stream",
     "text": [
      "MoviePy - Done.\n",
      "Audio extracted and saved to: E:\\SafeReels\\audios\\'901668214652883.wav\n",
      "MoviePy - Writing audio in E:\\SafeReels\\audios\\'901866208708889.wav\n"
     ]
    },
    {
     "name": "stderr",
     "output_type": "stream",
     "text": [
      "                                                                                                                       \r"
     ]
    },
    {
     "name": "stdout",
     "output_type": "stream",
     "text": [
      "MoviePy - Done.\n",
      "Audio extracted and saved to: E:\\SafeReels\\audios\\'901866208708889.wav\n",
      "MoviePy - Writing audio in E:\\SafeReels\\audios\\'904532311330807.wav\n"
     ]
    },
    {
     "name": "stderr",
     "output_type": "stream",
     "text": [
      "                                                                                                                       \r"
     ]
    },
    {
     "name": "stdout",
     "output_type": "stream",
     "text": [
      "MoviePy - Done.\n",
      "Audio extracted and saved to: E:\\SafeReels\\audios\\'904532311330807.wav\n",
      "MoviePy - Writing audio in E:\\SafeReels\\audios\\'907876570855637.wav\n"
     ]
    },
    {
     "name": "stderr",
     "output_type": "stream",
     "text": [
      "                                                                                                                       \r"
     ]
    },
    {
     "name": "stdout",
     "output_type": "stream",
     "text": [
      "MoviePy - Done.\n",
      "Audio extracted and saved to: E:\\SafeReels\\audios\\'907876570855637.wav\n",
      "MoviePy - Writing audio in E:\\SafeReels\\audios\\'908608888064870.wav\n"
     ]
    },
    {
     "name": "stderr",
     "output_type": "stream",
     "text": [
      "                                                                                                                       \r"
     ]
    },
    {
     "name": "stdout",
     "output_type": "stream",
     "text": [
      "MoviePy - Done.\n",
      "Audio extracted and saved to: E:\\SafeReels\\audios\\'908608888064870.wav\n",
      "MoviePy - Writing audio in E:\\SafeReels\\audios\\'908745521466455.wav\n"
     ]
    },
    {
     "name": "stderr",
     "output_type": "stream",
     "text": [
      "                                                                                                                       \r"
     ]
    },
    {
     "name": "stdout",
     "output_type": "stream",
     "text": [
      "MoviePy - Done.\n",
      "Audio extracted and saved to: E:\\SafeReels\\audios\\'908745521466455.wav\n",
      "MoviePy - Writing audio in E:\\SafeReels\\audios\\'909232494435876.wav\n"
     ]
    },
    {
     "name": "stderr",
     "output_type": "stream",
     "text": [
      "                                                                                                                       \r"
     ]
    },
    {
     "name": "stdout",
     "output_type": "stream",
     "text": [
      "MoviePy - Done.\n",
      "Audio extracted and saved to: E:\\SafeReels\\audios\\'909232494435876.wav\n",
      "MoviePy - Writing audio in E:\\SafeReels\\audios\\'909299034393191.wav\n"
     ]
    },
    {
     "name": "stderr",
     "output_type": "stream",
     "text": [
      "                                                                                                                       \r"
     ]
    },
    {
     "name": "stdout",
     "output_type": "stream",
     "text": [
      "MoviePy - Done.\n",
      "Audio extracted and saved to: E:\\SafeReels\\audios\\'909299034393191.wav\n",
      "MoviePy - Writing audio in E:\\SafeReels\\audios\\'911313474385857.wav\n"
     ]
    },
    {
     "name": "stderr",
     "output_type": "stream",
     "text": [
      "                                                                                                                       \r"
     ]
    },
    {
     "name": "stdout",
     "output_type": "stream",
     "text": [
      "MoviePy - Done.\n",
      "Audio extracted and saved to: E:\\SafeReels\\audios\\'911313474385857.wav\n",
      "MoviePy - Writing audio in E:\\SafeReels\\audios\\'915176490724169.wav\n"
     ]
    },
    {
     "name": "stderr",
     "output_type": "stream",
     "text": [
      "                                                                                                                       "
     ]
    },
    {
     "name": "stdout",
     "output_type": "stream",
     "text": [
      "MoviePy - Done.\n",
      "Audio extracted and saved to: E:\\SafeReels\\audios\\'915176490724169.wav\n"
     ]
    },
    {
     "name": "stderr",
     "output_type": "stream",
     "text": [
      "\r"
     ]
    },
    {
     "name": "stdout",
     "output_type": "stream",
     "text": [
      "MoviePy - Writing audio in E:\\SafeReels\\audios\\'917987409761992.wav\n"
     ]
    },
    {
     "name": "stderr",
     "output_type": "stream",
     "text": [
      "                                                                                                                       \r"
     ]
    },
    {
     "name": "stdout",
     "output_type": "stream",
     "text": [
      "MoviePy - Done.\n",
      "Audio extracted and saved to: E:\\SafeReels\\audios\\'917987409761992.wav\n",
      "620 videos extracted.\n",
      "MoviePy - Writing audio in E:\\SafeReels\\audios\\'920164753395786.wav\n"
     ]
    },
    {
     "name": "stderr",
     "output_type": "stream",
     "text": [
      "                                                                                                                       \r"
     ]
    },
    {
     "name": "stdout",
     "output_type": "stream",
     "text": [
      "MoviePy - Done.\n",
      "Audio extracted and saved to: E:\\SafeReels\\audios\\'920164753395786.wav\n",
      "MoviePy - Writing audio in E:\\SafeReels\\audios\\'9208557619175568.wav\n"
     ]
    },
    {
     "name": "stderr",
     "output_type": "stream",
     "text": [
      "                                                                                                                       "
     ]
    },
    {
     "name": "stdout",
     "output_type": "stream",
     "text": [
      "MoviePy - Done.\n",
      "Audio extracted and saved to: E:\\SafeReels\\audios\\'9208557619175568.wav\n"
     ]
    },
    {
     "name": "stderr",
     "output_type": "stream",
     "text": [
      "\r"
     ]
    },
    {
     "name": "stdout",
     "output_type": "stream",
     "text": [
      "MoviePy - Writing audio in E:\\SafeReels\\audios\\'922983583085691.wav\n"
     ]
    },
    {
     "name": "stderr",
     "output_type": "stream",
     "text": [
      "                                                                                                                       \r"
     ]
    },
    {
     "name": "stdout",
     "output_type": "stream",
     "text": [
      "MoviePy - Done.\n",
      "Audio extracted and saved to: E:\\SafeReels\\audios\\'922983583085691.wav\n",
      "MoviePy - Writing audio in E:\\SafeReels\\audios\\'923013649833031.wav\n"
     ]
    },
    {
     "name": "stderr",
     "output_type": "stream",
     "text": [
      "                                                                                                                       \r"
     ]
    },
    {
     "name": "stdout",
     "output_type": "stream",
     "text": [
      "MoviePy - Done.\n",
      "Audio extracted and saved to: E:\\SafeReels\\audios\\'923013649833031.wav\n",
      "MoviePy - Writing audio in E:\\SafeReels\\audios\\'923549653118519.wav\n"
     ]
    },
    {
     "name": "stderr",
     "output_type": "stream",
     "text": [
      "                                                                                                                       \r"
     ]
    },
    {
     "name": "stdout",
     "output_type": "stream",
     "text": [
      "MoviePy - Done.\n",
      "Audio extracted and saved to: E:\\SafeReels\\audios\\'923549653118519.wav\n",
      "MoviePy - Writing audio in E:\\SafeReels\\audios\\'9237254386306054.wav\n"
     ]
    },
    {
     "name": "stderr",
     "output_type": "stream",
     "text": [
      "                                                                                                                       \r"
     ]
    },
    {
     "name": "stdout",
     "output_type": "stream",
     "text": [
      "MoviePy - Done.\n",
      "Audio extracted and saved to: E:\\SafeReels\\audios\\'9237254386306054.wav\n",
      "MoviePy - Writing audio in E:\\SafeReels\\audios\\'923927559689040.wav\n"
     ]
    },
    {
     "name": "stderr",
     "output_type": "stream",
     "text": [
      "                                                                                                                       \r"
     ]
    },
    {
     "name": "stdout",
     "output_type": "stream",
     "text": [
      "MoviePy - Done.\n",
      "Audio extracted and saved to: E:\\SafeReels\\audios\\'923927559689040.wav\n",
      "MoviePy - Writing audio in E:\\SafeReels\\audios\\'925793239126746.wav\n"
     ]
    },
    {
     "name": "stderr",
     "output_type": "stream",
     "text": [
      "                                                                                                                       "
     ]
    },
    {
     "name": "stdout",
     "output_type": "stream",
     "text": [
      "MoviePy - Done.\n",
      "Audio extracted and saved to: E:\\SafeReels\\audios\\'925793239126746.wav\n"
     ]
    },
    {
     "name": "stderr",
     "output_type": "stream",
     "text": [
      "\r"
     ]
    },
    {
     "name": "stdout",
     "output_type": "stream",
     "text": [
      "MoviePy - Writing audio in E:\\SafeReels\\audios\\'926305309469539.wav\n"
     ]
    },
    {
     "name": "stderr",
     "output_type": "stream",
     "text": [
      "                                                                                                                       \r"
     ]
    },
    {
     "name": "stdout",
     "output_type": "stream",
     "text": [
      "MoviePy - Done.\n",
      "Audio extracted and saved to: E:\\SafeReels\\audios\\'926305309469539.wav\n",
      "MoviePy - Writing audio in E:\\SafeReels\\audios\\'926390779214266.wav\n"
     ]
    },
    {
     "name": "stderr",
     "output_type": "stream",
     "text": [
      "                                                                                                                       \r"
     ]
    },
    {
     "name": "stdout",
     "output_type": "stream",
     "text": [
      "MoviePy - Done.\n",
      "Audio extracted and saved to: E:\\SafeReels\\audios\\'926390779214266.wav\n",
      "MoviePy - Writing audio in E:\\SafeReels\\audios\\'926944212663804.wav\n"
     ]
    },
    {
     "name": "stderr",
     "output_type": "stream",
     "text": [
      "                                                                                                                       \r"
     ]
    },
    {
     "name": "stdout",
     "output_type": "stream",
     "text": [
      "MoviePy - Done.\n",
      "Audio extracted and saved to: E:\\SafeReels\\audios\\'926944212663804.wav\n",
      "MoviePy - Writing audio in E:\\SafeReels\\audios\\'928794402053810.wav\n"
     ]
    },
    {
     "name": "stderr",
     "output_type": "stream",
     "text": [
      "                                                                                                                       \r"
     ]
    },
    {
     "name": "stdout",
     "output_type": "stream",
     "text": [
      "MoviePy - Done.\n",
      "Audio extracted and saved to: E:\\SafeReels\\audios\\'928794402053810.wav\n",
      "MoviePy - Writing audio in E:\\SafeReels\\audios\\'929617205364569.wav\n"
     ]
    },
    {
     "name": "stderr",
     "output_type": "stream",
     "text": [
      "                                                                                                                       \r"
     ]
    },
    {
     "name": "stdout",
     "output_type": "stream",
     "text": [
      "MoviePy - Done.\n",
      "Audio extracted and saved to: E:\\SafeReels\\audios\\'929617205364569.wav\n",
      "MoviePy - Writing audio in E:\\SafeReels\\audios\\'932001455702160.wav\n"
     ]
    },
    {
     "name": "stderr",
     "output_type": "stream",
     "text": [
      "                                                                                                                       \r"
     ]
    },
    {
     "name": "stdout",
     "output_type": "stream",
     "text": [
      "MoviePy - Done.\n",
      "Audio extracted and saved to: E:\\SafeReels\\audios\\'932001455702160.wav\n",
      "MoviePy - Writing audio in E:\\SafeReels\\audios\\'932733582124652.wav\n"
     ]
    },
    {
     "name": "stderr",
     "output_type": "stream",
     "text": [
      "                                                                                                                       "
     ]
    },
    {
     "name": "stdout",
     "output_type": "stream",
     "text": [
      "MoviePy - Done."
     ]
    },
    {
     "name": "stderr",
     "output_type": "stream",
     "text": [
      "\r"
     ]
    },
    {
     "name": "stdout",
     "output_type": "stream",
     "text": [
      "\n",
      "Audio extracted and saved to: E:\\SafeReels\\audios\\'932733582124652.wav\n",
      "MoviePy - Writing audio in E:\\SafeReels\\audios\\'933147998838581.wav\n"
     ]
    },
    {
     "name": "stderr",
     "output_type": "stream",
     "text": [
      "                                                                                                                       \r"
     ]
    },
    {
     "name": "stdout",
     "output_type": "stream",
     "text": [
      "MoviePy - Done.\n",
      "Audio extracted and saved to: E:\\SafeReels\\audios\\'933147998838581.wav\n",
      "MoviePy - Writing audio in E:\\SafeReels\\audios\\'933679348091111.wav\n"
     ]
    },
    {
     "name": "stderr",
     "output_type": "stream",
     "text": [
      "                                                                                                                       \r"
     ]
    },
    {
     "name": "stdout",
     "output_type": "stream",
     "text": [
      "MoviePy - Done.\n",
      "Audio extracted and saved to: E:\\SafeReels\\audios\\'933679348091111.wav\n",
      "MoviePy - Writing audio in E:\\SafeReels\\audios\\'933724115262997.wav\n"
     ]
    },
    {
     "name": "stderr",
     "output_type": "stream",
     "text": [
      "                                                                                                                       \r"
     ]
    },
    {
     "name": "stdout",
     "output_type": "stream",
     "text": [
      "MoviePy - Done.\n",
      "Audio extracted and saved to: E:\\SafeReels\\audios\\'933724115262997.wav\n",
      "MoviePy - Writing audio in E:\\SafeReels\\audios\\'935249608032370.wav\n"
     ]
    },
    {
     "name": "stderr",
     "output_type": "stream",
     "text": [
      "                                                                                                                       "
     ]
    },
    {
     "name": "stdout",
     "output_type": "stream",
     "text": [
      "MoviePy - Done.\n",
      "Audio extracted and saved to: E:\\SafeReels\\audios\\'935249608032370.wav\n"
     ]
    },
    {
     "name": "stderr",
     "output_type": "stream",
     "text": [
      "\r"
     ]
    },
    {
     "name": "stdout",
     "output_type": "stream",
     "text": [
      "MoviePy - Writing audio in E:\\SafeReels\\audios\\'936922867964330.wav\n"
     ]
    },
    {
     "name": "stderr",
     "output_type": "stream",
     "text": [
      "                                                                                                                       \r"
     ]
    },
    {
     "name": "stdout",
     "output_type": "stream",
     "text": [
      "MoviePy - Done.\n",
      "Audio extracted and saved to: E:\\SafeReels\\audios\\'936922867964330.wav\n",
      "640 videos extracted.\n",
      "MoviePy - Writing audio in E:\\SafeReels\\audios\\'937201531342849.wav\n"
     ]
    },
    {
     "name": "stderr",
     "output_type": "stream",
     "text": [
      "                                                                                                                       \r"
     ]
    },
    {
     "name": "stdout",
     "output_type": "stream",
     "text": [
      "MoviePy - Done.\n",
      "Audio extracted and saved to: E:\\SafeReels\\audios\\'937201531342849.wav\n",
      "MoviePy - Writing audio in E:\\SafeReels\\audios\\'937515887975471.wav\n"
     ]
    },
    {
     "name": "stderr",
     "output_type": "stream",
     "text": [
      "                                                                                                                       \r"
     ]
    },
    {
     "name": "stdout",
     "output_type": "stream",
     "text": [
      "MoviePy - Done.\n",
      "Audio extracted and saved to: E:\\SafeReels\\audios\\'937515887975471.wav\n",
      "MoviePy - Writing audio in E:\\SafeReels\\audios\\'938736011472847.wav\n"
     ]
    },
    {
     "name": "stderr",
     "output_type": "stream",
     "text": [
      "                                                                                                                       "
     ]
    },
    {
     "name": "stdout",
     "output_type": "stream",
     "text": [
      "MoviePy - Done.\n",
      "Audio extracted and saved to: E:\\SafeReels\\audios\\'938736011472847.wav\n"
     ]
    },
    {
     "name": "stderr",
     "output_type": "stream",
     "text": [
      "\r"
     ]
    },
    {
     "name": "stdout",
     "output_type": "stream",
     "text": [
      "MoviePy - Writing audio in E:\\SafeReels\\audios\\'939759081024172.wav\n"
     ]
    },
    {
     "name": "stderr",
     "output_type": "stream",
     "text": [
      "                                                                                                                       \r"
     ]
    },
    {
     "name": "stdout",
     "output_type": "stream",
     "text": [
      "MoviePy - Done.\n",
      "Audio extracted and saved to: E:\\SafeReels\\audios\\'939759081024172.wav\n",
      "MoviePy - Writing audio in E:\\SafeReels\\audios\\'939810154912736.wav\n"
     ]
    },
    {
     "name": "stderr",
     "output_type": "stream",
     "text": [
      "                                                                                                                       \r"
     ]
    },
    {
     "name": "stdout",
     "output_type": "stream",
     "text": [
      "MoviePy - Done.\n",
      "Audio extracted and saved to: E:\\SafeReels\\audios\\'939810154912736.wav\n",
      "MoviePy - Writing audio in E:\\SafeReels\\audios\\'939949640896775.wav\n"
     ]
    },
    {
     "name": "stderr",
     "output_type": "stream",
     "text": [
      "                                                                                                                       \r"
     ]
    },
    {
     "name": "stdout",
     "output_type": "stream",
     "text": [
      "MoviePy - Done.\n",
      "Audio extracted and saved to: E:\\SafeReels\\audios\\'939949640896775.wav\n",
      "MoviePy - Writing audio in E:\\SafeReels\\audios\\'9428044737226995.wav\n"
     ]
    },
    {
     "name": "stderr",
     "output_type": "stream",
     "text": [
      "                                                                                                                       \r"
     ]
    },
    {
     "name": "stdout",
     "output_type": "stream",
     "text": [
      "MoviePy - Done.\n",
      "Audio extracted and saved to: E:\\SafeReels\\audios\\'9428044737226995.wav\n",
      "MoviePy - Writing audio in E:\\SafeReels\\audios\\'945508804145608.wav\n"
     ]
    },
    {
     "name": "stderr",
     "output_type": "stream",
     "text": [
      "                                                                                                                       \r"
     ]
    },
    {
     "name": "stdout",
     "output_type": "stream",
     "text": [
      "MoviePy - Done.\n",
      "Audio extracted and saved to: E:\\SafeReels\\audios\\'945508804145608.wav\n",
      "MoviePy - Writing audio in E:\\SafeReels\\audios\\'946032450894069.wav\n"
     ]
    },
    {
     "name": "stderr",
     "output_type": "stream",
     "text": [
      "                                                                                                                       \r"
     ]
    },
    {
     "name": "stdout",
     "output_type": "stream",
     "text": [
      "MoviePy - Done.\n",
      "Audio extracted and saved to: E:\\SafeReels\\audios\\'946032450894069.wav\n",
      "MoviePy - Writing audio in E:\\SafeReels\\audios\\'947487457191479.wav\n"
     ]
    },
    {
     "name": "stderr",
     "output_type": "stream",
     "text": [
      "                                                                                                                       \r"
     ]
    },
    {
     "name": "stdout",
     "output_type": "stream",
     "text": [
      "MoviePy - Done.\n",
      "Audio extracted and saved to: E:\\SafeReels\\audios\\'947487457191479.wav\n",
      "MoviePy - Writing audio in E:\\SafeReels\\audios\\'9514728285256086.wav\n"
     ]
    },
    {
     "name": "stderr",
     "output_type": "stream",
     "text": [
      "                                                                                                                       \r"
     ]
    },
    {
     "name": "stdout",
     "output_type": "stream",
     "text": [
      "MoviePy - Done.\n",
      "Audio extracted and saved to: E:\\SafeReels\\audios\\'9514728285256086.wav\n",
      "MoviePy - Writing audio in E:\\SafeReels\\audios\\'952500693590170.wav\n"
     ]
    },
    {
     "name": "stderr",
     "output_type": "stream",
     "text": [
      "                                                                                                                       \r"
     ]
    },
    {
     "name": "stdout",
     "output_type": "stream",
     "text": [
      "MoviePy - Done.\n",
      "Audio extracted and saved to: E:\\SafeReels\\audios\\'952500693590170.wav\n",
      "MoviePy - Writing audio in E:\\SafeReels\\audios\\'952952270235511.wav\n"
     ]
    },
    {
     "name": "stderr",
     "output_type": "stream",
     "text": [
      "                                                                                                                       "
     ]
    },
    {
     "name": "stdout",
     "output_type": "stream",
     "text": [
      "MoviePy - Done.\n",
      "Audio extracted and saved to: E:\\SafeReels\\audios\\'952952270235511.wav\n"
     ]
    },
    {
     "name": "stderr",
     "output_type": "stream",
     "text": [
      "\r"
     ]
    },
    {
     "name": "stdout",
     "output_type": "stream",
     "text": [
      "MoviePy - Writing audio in E:\\SafeReels\\audios\\'953581516554894.wav\n"
     ]
    },
    {
     "name": "stderr",
     "output_type": "stream",
     "text": [
      "                                                                                                                       \r"
     ]
    },
    {
     "name": "stdout",
     "output_type": "stream",
     "text": [
      "MoviePy - Done.\n",
      "Audio extracted and saved to: E:\\SafeReels\\audios\\'953581516554894.wav\n",
      "MoviePy - Writing audio in E:\\SafeReels\\audios\\'958620509466035.wav\n"
     ]
    },
    {
     "name": "stderr",
     "output_type": "stream",
     "text": [
      "                                                                                                                       "
     ]
    },
    {
     "name": "stdout",
     "output_type": "stream",
     "text": [
      "MoviePy - Done.\n",
      "Audio extracted and saved to: E:\\SafeReels\\audios\\'958620509466035.wav\n"
     ]
    },
    {
     "name": "stderr",
     "output_type": "stream",
     "text": [
      "\r"
     ]
    },
    {
     "name": "stdout",
     "output_type": "stream",
     "text": [
      "MoviePy - Writing audio in E:\\SafeReels\\audios\\'966152055258693.wav\n"
     ]
    },
    {
     "name": "stderr",
     "output_type": "stream",
     "text": [
      "                                                                                                                       \r"
     ]
    },
    {
     "name": "stdout",
     "output_type": "stream",
     "text": [
      "MoviePy - Done.\n",
      "Audio extracted and saved to: E:\\SafeReels\\audios\\'966152055258693.wav\n",
      "MoviePy - Writing audio in E:\\SafeReels\\audios\\'967398918532027.wav\n"
     ]
    },
    {
     "name": "stderr",
     "output_type": "stream",
     "text": [
      "                                                                                                                       \r"
     ]
    },
    {
     "name": "stdout",
     "output_type": "stream",
     "text": [
      "MoviePy - Done.\n",
      "Audio extracted and saved to: E:\\SafeReels\\audios\\'967398918532027.wav\n",
      "MoviePy - Writing audio in E:\\SafeReels\\audios\\'980765420007391.wav\n"
     ]
    },
    {
     "name": "stderr",
     "output_type": "stream",
     "text": [
      "                                                                                                                       \r"
     ]
    },
    {
     "name": "stdout",
     "output_type": "stream",
     "text": [
      "MoviePy - Done.\n",
      "Audio extracted and saved to: E:\\SafeReels\\audios\\'980765420007391.wav\n",
      "MoviePy - Writing audio in E:\\SafeReels\\audios\\'984735376755439.wav\n"
     ]
    },
    {
     "name": "stderr",
     "output_type": "stream",
     "text": [
      "                                                                                                                       "
     ]
    },
    {
     "name": "stdout",
     "output_type": "stream",
     "text": [
      "MoviePy - Done.\n",
      "Audio extracted and saved to: E:\\SafeReels\\audios\\'984735376755439.wav\n"
     ]
    },
    {
     "name": "stderr",
     "output_type": "stream",
     "text": [
      "\r"
     ]
    },
    {
     "name": "stdout",
     "output_type": "stream",
     "text": [
      "MoviePy - Writing audio in E:\\SafeReels\\audios\\'988169116050341.wav\n"
     ]
    },
    {
     "name": "stderr",
     "output_type": "stream",
     "text": [
      "                                                                                                                       \r"
     ]
    },
    {
     "name": "stdout",
     "output_type": "stream",
     "text": [
      "MoviePy - Done.\n",
      "Audio extracted and saved to: E:\\SafeReels\\audios\\'988169116050341.wav\n",
      "660 videos extracted.\n",
      "MoviePy - Writing audio in E:\\SafeReels\\audios\\'992908225622358.wav\n"
     ]
    },
    {
     "name": "stderr",
     "output_type": "stream",
     "text": [
      "                                                                                                                       \r"
     ]
    },
    {
     "name": "stdout",
     "output_type": "stream",
     "text": [
      "MoviePy - Done.\n",
      "Audio extracted and saved to: E:\\SafeReels\\audios\\'992908225622358.wav\n",
      "MoviePy - Writing audio in E:\\SafeReels\\audios\\'997262608752854.wav\n"
     ]
    },
    {
     "name": "stderr",
     "output_type": "stream",
     "text": [
      "                                                                                                                       \r"
     ]
    },
    {
     "name": "stdout",
     "output_type": "stream",
     "text": [
      "MoviePy - Done.\n",
      "Audio extracted and saved to: E:\\SafeReels\\audios\\'997262608752854.wav\n",
      "MoviePy - Writing audio in E:\\SafeReels\\audios\\'997300345735398.wav\n"
     ]
    },
    {
     "name": "stderr",
     "output_type": "stream",
     "text": [
      "                                                                                                                       \r"
     ]
    },
    {
     "name": "stdout",
     "output_type": "stream",
     "text": [
      "MoviePy - Done.\n",
      "Audio extracted and saved to: E:\\SafeReels\\audios\\'997300345735398.wav\n",
      "MoviePy - Writing audio in E:\\SafeReels\\audios\\'998187401354206.wav\n"
     ]
    },
    {
     "name": "stderr",
     "output_type": "stream",
     "text": [
      "                                                                                                                       \r"
     ]
    },
    {
     "name": "stdout",
     "output_type": "stream",
     "text": [
      "MoviePy - Done.\n",
      "Audio extracted and saved to: E:\\SafeReels\\audios\\'998187401354206.wav\n",
      "MoviePy - Writing audio in E:\\SafeReels\\audios\\'999558344609179.wav\n"
     ]
    },
    {
     "name": "stderr",
     "output_type": "stream",
     "text": [
      "                                                                                                                       "
     ]
    },
    {
     "name": "stdout",
     "output_type": "stream",
     "text": [
      "MoviePy - Done.\n",
      "Audio extracted and saved to: E:\\SafeReels\\audios\\'999558344609179.wav\n"
     ]
    },
    {
     "name": "stderr",
     "output_type": "stream",
     "text": [
      "\r"
     ]
    },
    {
     "name": "stdout",
     "output_type": "stream",
     "text": [
      "MoviePy - Writing audio in E:\\SafeReels\\audios\\'999669865038215.wav\n"
     ]
    },
    {
     "name": "stderr",
     "output_type": "stream",
     "text": [
      "                                                                                                                       \r"
     ]
    },
    {
     "name": "stdout",
     "output_type": "stream",
     "text": [
      "MoviePy - Done.\n",
      "Audio extracted and saved to: E:\\SafeReels\\audios\\'999669865038215.wav\n",
      "Finished with 666 video extraction\n"
     ]
    }
   ],
   "source": [
    "process_videos_from_csv(csv_file, video_folder, output_folder)"
   ]
  },
  {
   "cell_type": "code",
   "execution_count": null,
   "id": "4ec31aef-a300-40c0-a87d-e745e0140c74",
   "metadata": {},
   "outputs": [],
   "source": []
  }
 ],
 "metadata": {
  "kernelspec": {
   "display_name": "Python 3 (ipykernel)",
   "language": "python",
   "name": "python3"
  },
  "language_info": {
   "codemirror_mode": {
    "name": "ipython",
    "version": 3
   },
   "file_extension": ".py",
   "mimetype": "text/x-python",
   "name": "python",
   "nbconvert_exporter": "python",
   "pygments_lexer": "ipython3",
   "version": "3.12.1"
  }
 },
 "nbformat": 4,
 "nbformat_minor": 5
}
