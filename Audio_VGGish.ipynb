{
  "nbformat": 4,
  "nbformat_minor": 0,
  "metadata": {
    "colab": {
      "provenance": [],
      "gpuType": "T4"
    },
    "kernelspec": {
      "name": "python3",
      "display_name": "Python 3"
    },
    "language_info": {
      "name": "python"
    },
    "accelerator": "GPU"
  },
  "cells": [
    {
      "cell_type": "code",
      "execution_count": 1,
      "metadata": {
        "colab": {
          "base_uri": "https://localhost:8080/"
        },
        "id": "FwWeVcjTPo8l",
        "outputId": "9133f774-609c-45ed-9db2-c4d5c060cfb1"
      },
      "outputs": [
        {
          "output_type": "stream",
          "name": "stdout",
          "text": [
            "Mounted at /content/drive\n"
          ]
        }
      ],
      "source": [
        "from google.colab import drive\n",
        "drive.mount('/content/drive')"
      ]
    },
    {
      "cell_type": "code",
      "source": [
        "import numpy as np\n",
        "import os\n",
        "import tensorflow as tf\n",
        "import tensorflow_hub as hub\n",
        "from tensorflow import keras\n",
        "from tensorflow.keras import layers\n",
        "from sklearn.model_selection import train_test_split\n",
        "from sklearn.preprocessing import LabelEncoder, StandardScaler\n",
        "from sklearn.metrics import classification_report, confusion_matrix\n",
        "import matplotlib.pyplot as plt\n",
        "import seaborn as sns"
      ],
      "metadata": {
        "id": "fpkTO2nhP03W"
      },
      "execution_count": 2,
      "outputs": []
    },
    {
      "cell_type": "code",
      "source": [
        "import pandas as pd\n",
        "df = pd.read_csv(\"/content/UNBER-1k.csv\")\n",
        "df"
      ],
      "metadata": {
        "colab": {
          "base_uri": "https://localhost:8080/",
          "height": 424
        },
        "id": "v4B0oMaG27X7",
        "outputId": "451ae1f9-6875-46cc-d424-63eb2dad9d13"
      },
      "execution_count": 3,
      "outputs": [
        {
          "output_type": "execute_result",
          "data": {
            "text/plain": [
              "                                     reel_id UnsafeType  \\\n",
              "0     www.facebook.com/reel/1000188341415358       Safe   \n",
              "1     www.facebook.com/reel/1006146964533997       Safe   \n",
              "2     www.facebook.com/reel/1007123741459823      Adult   \n",
              "3     www.facebook.com/reel/1007420607202244       Safe   \n",
              "4     www.facebook.com/reel/1008519870870927       Safe   \n",
              "...                                      ...        ...   \n",
              "1112   www.facebook.com/reel/946250977507282   Suicidal   \n",
              "1113   www.facebook.com/reel/951238780033589   Suicidal   \n",
              "1114   www.facebook.com/reel/974520454682213   Suicidal   \n",
              "1115   www.facebook.com/reel/975204184253727   Suicidal   \n",
              "1116   www.facebook.com/reel/978091130371476   Suicidal   \n",
              "\n",
              "                                           Visual texts  \n",
              "0        Me on my way to watch Oppenheimer After Berbie  \n",
              "1                                                   NaN  \n",
              "2          বান্ধবী আমার লাগানির পিনিকে আছে Love in love  \n",
              "3          প্রত্যেকটা অফিসে এমন একজন কলিগ থাকবেই Laptop  \n",
              "4             হ্যালো শার্ক ট্যাঙ্ক বাংলাদেশ আই এম কামিং  \n",
              "...                                                 ...  \n",
              "1112      কিছু কথা বাকি ছিল আর হয়তো কোনদিনও বলা হবে না   \n",
              "1113  তোমাকে মন দিয়ে ভালোবাসতাম উপহার হিসাবে তোমার ক...  \n",
              "1114         ওগো শুনছো একথা বলা মানুষটা আজ অন্য কারোর।   \n",
              "1115        মন দিয়ে ভালোবাসতে গেলাম, অবশেষে ধোকা পেলাম।  \n",
              "1116                                 sajni(slow+revreb)  \n",
              "\n",
              "[1117 rows x 3 columns]"
            ],
            "text/html": [
              "\n",
              "  <div id=\"df-979e2293-9300-4d8e-bec3-b4fe3c4573b8\" class=\"colab-df-container\">\n",
              "    <div>\n",
              "<style scoped>\n",
              "    .dataframe tbody tr th:only-of-type {\n",
              "        vertical-align: middle;\n",
              "    }\n",
              "\n",
              "    .dataframe tbody tr th {\n",
              "        vertical-align: top;\n",
              "    }\n",
              "\n",
              "    .dataframe thead th {\n",
              "        text-align: right;\n",
              "    }\n",
              "</style>\n",
              "<table border=\"1\" class=\"dataframe\">\n",
              "  <thead>\n",
              "    <tr style=\"text-align: right;\">\n",
              "      <th></th>\n",
              "      <th>reel_id</th>\n",
              "      <th>UnsafeType</th>\n",
              "      <th>Visual texts</th>\n",
              "    </tr>\n",
              "  </thead>\n",
              "  <tbody>\n",
              "    <tr>\n",
              "      <th>0</th>\n",
              "      <td>www.facebook.com/reel/1000188341415358</td>\n",
              "      <td>Safe</td>\n",
              "      <td>Me on my way to watch Oppenheimer After Berbie</td>\n",
              "    </tr>\n",
              "    <tr>\n",
              "      <th>1</th>\n",
              "      <td>www.facebook.com/reel/1006146964533997</td>\n",
              "      <td>Safe</td>\n",
              "      <td>NaN</td>\n",
              "    </tr>\n",
              "    <tr>\n",
              "      <th>2</th>\n",
              "      <td>www.facebook.com/reel/1007123741459823</td>\n",
              "      <td>Adult</td>\n",
              "      <td>বান্ধবী আমার লাগানির পিনিকে আছে Love in love</td>\n",
              "    </tr>\n",
              "    <tr>\n",
              "      <th>3</th>\n",
              "      <td>www.facebook.com/reel/1007420607202244</td>\n",
              "      <td>Safe</td>\n",
              "      <td>প্রত্যেকটা অফিসে এমন একজন কলিগ থাকবেই Laptop</td>\n",
              "    </tr>\n",
              "    <tr>\n",
              "      <th>4</th>\n",
              "      <td>www.facebook.com/reel/1008519870870927</td>\n",
              "      <td>Safe</td>\n",
              "      <td>হ্যালো শার্ক ট্যাঙ্ক বাংলাদেশ আই এম কামিং</td>\n",
              "    </tr>\n",
              "    <tr>\n",
              "      <th>...</th>\n",
              "      <td>...</td>\n",
              "      <td>...</td>\n",
              "      <td>...</td>\n",
              "    </tr>\n",
              "    <tr>\n",
              "      <th>1112</th>\n",
              "      <td>www.facebook.com/reel/946250977507282</td>\n",
              "      <td>Suicidal</td>\n",
              "      <td>কিছু কথা বাকি ছিল আর হয়তো কোনদিনও বলা হবে না</td>\n",
              "    </tr>\n",
              "    <tr>\n",
              "      <th>1113</th>\n",
              "      <td>www.facebook.com/reel/951238780033589</td>\n",
              "      <td>Suicidal</td>\n",
              "      <td>তোমাকে মন দিয়ে ভালোবাসতাম উপহার হিসাবে তোমার ক...</td>\n",
              "    </tr>\n",
              "    <tr>\n",
              "      <th>1114</th>\n",
              "      <td>www.facebook.com/reel/974520454682213</td>\n",
              "      <td>Suicidal</td>\n",
              "      <td>ওগো শুনছো একথা বলা মানুষটা আজ অন্য কারোর।</td>\n",
              "    </tr>\n",
              "    <tr>\n",
              "      <th>1115</th>\n",
              "      <td>www.facebook.com/reel/975204184253727</td>\n",
              "      <td>Suicidal</td>\n",
              "      <td>মন দিয়ে ভালোবাসতে গেলাম, অবশেষে ধোকা পেলাম।</td>\n",
              "    </tr>\n",
              "    <tr>\n",
              "      <th>1116</th>\n",
              "      <td>www.facebook.com/reel/978091130371476</td>\n",
              "      <td>Suicidal</td>\n",
              "      <td>sajni(slow+revreb)</td>\n",
              "    </tr>\n",
              "  </tbody>\n",
              "</table>\n",
              "<p>1117 rows × 3 columns</p>\n",
              "</div>\n",
              "    <div class=\"colab-df-buttons\">\n",
              "\n",
              "  <div class=\"colab-df-container\">\n",
              "    <button class=\"colab-df-convert\" onclick=\"convertToInteractive('df-979e2293-9300-4d8e-bec3-b4fe3c4573b8')\"\n",
              "            title=\"Convert this dataframe to an interactive table.\"\n",
              "            style=\"display:none;\">\n",
              "\n",
              "  <svg xmlns=\"http://www.w3.org/2000/svg\" height=\"24px\" viewBox=\"0 -960 960 960\">\n",
              "    <path d=\"M120-120v-720h720v720H120Zm60-500h600v-160H180v160Zm220 220h160v-160H400v160Zm0 220h160v-160H400v160ZM180-400h160v-160H180v160Zm440 0h160v-160H620v160ZM180-180h160v-160H180v160Zm440 0h160v-160H620v160Z\"/>\n",
              "  </svg>\n",
              "    </button>\n",
              "\n",
              "  <style>\n",
              "    .colab-df-container {\n",
              "      display:flex;\n",
              "      gap: 12px;\n",
              "    }\n",
              "\n",
              "    .colab-df-convert {\n",
              "      background-color: #E8F0FE;\n",
              "      border: none;\n",
              "      border-radius: 50%;\n",
              "      cursor: pointer;\n",
              "      display: none;\n",
              "      fill: #1967D2;\n",
              "      height: 32px;\n",
              "      padding: 0 0 0 0;\n",
              "      width: 32px;\n",
              "    }\n",
              "\n",
              "    .colab-df-convert:hover {\n",
              "      background-color: #E2EBFA;\n",
              "      box-shadow: 0px 1px 2px rgba(60, 64, 67, 0.3), 0px 1px 3px 1px rgba(60, 64, 67, 0.15);\n",
              "      fill: #174EA6;\n",
              "    }\n",
              "\n",
              "    .colab-df-buttons div {\n",
              "      margin-bottom: 4px;\n",
              "    }\n",
              "\n",
              "    [theme=dark] .colab-df-convert {\n",
              "      background-color: #3B4455;\n",
              "      fill: #D2E3FC;\n",
              "    }\n",
              "\n",
              "    [theme=dark] .colab-df-convert:hover {\n",
              "      background-color: #434B5C;\n",
              "      box-shadow: 0px 1px 3px 1px rgba(0, 0, 0, 0.15);\n",
              "      filter: drop-shadow(0px 1px 2px rgba(0, 0, 0, 0.3));\n",
              "      fill: #FFFFFF;\n",
              "    }\n",
              "  </style>\n",
              "\n",
              "    <script>\n",
              "      const buttonEl =\n",
              "        document.querySelector('#df-979e2293-9300-4d8e-bec3-b4fe3c4573b8 button.colab-df-convert');\n",
              "      buttonEl.style.display =\n",
              "        google.colab.kernel.accessAllowed ? 'block' : 'none';\n",
              "\n",
              "      async function convertToInteractive(key) {\n",
              "        const element = document.querySelector('#df-979e2293-9300-4d8e-bec3-b4fe3c4573b8');\n",
              "        const dataTable =\n",
              "          await google.colab.kernel.invokeFunction('convertToInteractive',\n",
              "                                                    [key], {});\n",
              "        if (!dataTable) return;\n",
              "\n",
              "        const docLinkHtml = 'Like what you see? Visit the ' +\n",
              "          '<a target=\"_blank\" href=https://colab.research.google.com/notebooks/data_table.ipynb>data table notebook</a>'\n",
              "          + ' to learn more about interactive tables.';\n",
              "        element.innerHTML = '';\n",
              "        dataTable['output_type'] = 'display_data';\n",
              "        await google.colab.output.renderOutput(dataTable, element);\n",
              "        const docLink = document.createElement('div');\n",
              "        docLink.innerHTML = docLinkHtml;\n",
              "        element.appendChild(docLink);\n",
              "      }\n",
              "    </script>\n",
              "  </div>\n",
              "\n",
              "\n",
              "<div id=\"df-d6c59b2c-3979-479c-bf67-70a21f663c1e\">\n",
              "  <button class=\"colab-df-quickchart\" onclick=\"quickchart('df-d6c59b2c-3979-479c-bf67-70a21f663c1e')\"\n",
              "            title=\"Suggest charts\"\n",
              "            style=\"display:none;\">\n",
              "\n",
              "<svg xmlns=\"http://www.w3.org/2000/svg\" height=\"24px\"viewBox=\"0 0 24 24\"\n",
              "     width=\"24px\">\n",
              "    <g>\n",
              "        <path d=\"M19 3H5c-1.1 0-2 .9-2 2v14c0 1.1.9 2 2 2h14c1.1 0 2-.9 2-2V5c0-1.1-.9-2-2-2zM9 17H7v-7h2v7zm4 0h-2V7h2v10zm4 0h-2v-4h2v4z\"/>\n",
              "    </g>\n",
              "</svg>\n",
              "  </button>\n",
              "\n",
              "<style>\n",
              "  .colab-df-quickchart {\n",
              "      --bg-color: #E8F0FE;\n",
              "      --fill-color: #1967D2;\n",
              "      --hover-bg-color: #E2EBFA;\n",
              "      --hover-fill-color: #174EA6;\n",
              "      --disabled-fill-color: #AAA;\n",
              "      --disabled-bg-color: #DDD;\n",
              "  }\n",
              "\n",
              "  [theme=dark] .colab-df-quickchart {\n",
              "      --bg-color: #3B4455;\n",
              "      --fill-color: #D2E3FC;\n",
              "      --hover-bg-color: #434B5C;\n",
              "      --hover-fill-color: #FFFFFF;\n",
              "      --disabled-bg-color: #3B4455;\n",
              "      --disabled-fill-color: #666;\n",
              "  }\n",
              "\n",
              "  .colab-df-quickchart {\n",
              "    background-color: var(--bg-color);\n",
              "    border: none;\n",
              "    border-radius: 50%;\n",
              "    cursor: pointer;\n",
              "    display: none;\n",
              "    fill: var(--fill-color);\n",
              "    height: 32px;\n",
              "    padding: 0;\n",
              "    width: 32px;\n",
              "  }\n",
              "\n",
              "  .colab-df-quickchart:hover {\n",
              "    background-color: var(--hover-bg-color);\n",
              "    box-shadow: 0 1px 2px rgba(60, 64, 67, 0.3), 0 1px 3px 1px rgba(60, 64, 67, 0.15);\n",
              "    fill: var(--button-hover-fill-color);\n",
              "  }\n",
              "\n",
              "  .colab-df-quickchart-complete:disabled,\n",
              "  .colab-df-quickchart-complete:disabled:hover {\n",
              "    background-color: var(--disabled-bg-color);\n",
              "    fill: var(--disabled-fill-color);\n",
              "    box-shadow: none;\n",
              "  }\n",
              "\n",
              "  .colab-df-spinner {\n",
              "    border: 2px solid var(--fill-color);\n",
              "    border-color: transparent;\n",
              "    border-bottom-color: var(--fill-color);\n",
              "    animation:\n",
              "      spin 1s steps(1) infinite;\n",
              "  }\n",
              "\n",
              "  @keyframes spin {\n",
              "    0% {\n",
              "      border-color: transparent;\n",
              "      border-bottom-color: var(--fill-color);\n",
              "      border-left-color: var(--fill-color);\n",
              "    }\n",
              "    20% {\n",
              "      border-color: transparent;\n",
              "      border-left-color: var(--fill-color);\n",
              "      border-top-color: var(--fill-color);\n",
              "    }\n",
              "    30% {\n",
              "      border-color: transparent;\n",
              "      border-left-color: var(--fill-color);\n",
              "      border-top-color: var(--fill-color);\n",
              "      border-right-color: var(--fill-color);\n",
              "    }\n",
              "    40% {\n",
              "      border-color: transparent;\n",
              "      border-right-color: var(--fill-color);\n",
              "      border-top-color: var(--fill-color);\n",
              "    }\n",
              "    60% {\n",
              "      border-color: transparent;\n",
              "      border-right-color: var(--fill-color);\n",
              "    }\n",
              "    80% {\n",
              "      border-color: transparent;\n",
              "      border-right-color: var(--fill-color);\n",
              "      border-bottom-color: var(--fill-color);\n",
              "    }\n",
              "    90% {\n",
              "      border-color: transparent;\n",
              "      border-bottom-color: var(--fill-color);\n",
              "    }\n",
              "  }\n",
              "</style>\n",
              "\n",
              "  <script>\n",
              "    async function quickchart(key) {\n",
              "      const quickchartButtonEl =\n",
              "        document.querySelector('#' + key + ' button');\n",
              "      quickchartButtonEl.disabled = true;  // To prevent multiple clicks.\n",
              "      quickchartButtonEl.classList.add('colab-df-spinner');\n",
              "      try {\n",
              "        const charts = await google.colab.kernel.invokeFunction(\n",
              "            'suggestCharts', [key], {});\n",
              "      } catch (error) {\n",
              "        console.error('Error during call to suggestCharts:', error);\n",
              "      }\n",
              "      quickchartButtonEl.classList.remove('colab-df-spinner');\n",
              "      quickchartButtonEl.classList.add('colab-df-quickchart-complete');\n",
              "    }\n",
              "    (() => {\n",
              "      let quickchartButtonEl =\n",
              "        document.querySelector('#df-d6c59b2c-3979-479c-bf67-70a21f663c1e button');\n",
              "      quickchartButtonEl.style.display =\n",
              "        google.colab.kernel.accessAllowed ? 'block' : 'none';\n",
              "    })();\n",
              "  </script>\n",
              "</div>\n",
              "\n",
              "  <div id=\"id_ba003634-cadd-4460-ab9b-9b1bddbe34b1\">\n",
              "    <style>\n",
              "      .colab-df-generate {\n",
              "        background-color: #E8F0FE;\n",
              "        border: none;\n",
              "        border-radius: 50%;\n",
              "        cursor: pointer;\n",
              "        display: none;\n",
              "        fill: #1967D2;\n",
              "        height: 32px;\n",
              "        padding: 0 0 0 0;\n",
              "        width: 32px;\n",
              "      }\n",
              "\n",
              "      .colab-df-generate:hover {\n",
              "        background-color: #E2EBFA;\n",
              "        box-shadow: 0px 1px 2px rgba(60, 64, 67, 0.3), 0px 1px 3px 1px rgba(60, 64, 67, 0.15);\n",
              "        fill: #174EA6;\n",
              "      }\n",
              "\n",
              "      [theme=dark] .colab-df-generate {\n",
              "        background-color: #3B4455;\n",
              "        fill: #D2E3FC;\n",
              "      }\n",
              "\n",
              "      [theme=dark] .colab-df-generate:hover {\n",
              "        background-color: #434B5C;\n",
              "        box-shadow: 0px 1px 3px 1px rgba(0, 0, 0, 0.15);\n",
              "        filter: drop-shadow(0px 1px 2px rgba(0, 0, 0, 0.3));\n",
              "        fill: #FFFFFF;\n",
              "      }\n",
              "    </style>\n",
              "    <button class=\"colab-df-generate\" onclick=\"generateWithVariable('df')\"\n",
              "            title=\"Generate code using this dataframe.\"\n",
              "            style=\"display:none;\">\n",
              "\n",
              "  <svg xmlns=\"http://www.w3.org/2000/svg\" height=\"24px\"viewBox=\"0 0 24 24\"\n",
              "       width=\"24px\">\n",
              "    <path d=\"M7,19H8.4L18.45,9,17,7.55,7,17.6ZM5,21V16.75L18.45,3.32a2,2,0,0,1,2.83,0l1.4,1.43a1.91,1.91,0,0,1,.58,1.4,1.91,1.91,0,0,1-.58,1.4L9.25,21ZM18.45,9,17,7.55Zm-12,3A5.31,5.31,0,0,0,4.9,8.1,5.31,5.31,0,0,0,1,6.5,5.31,5.31,0,0,0,4.9,4.9,5.31,5.31,0,0,0,6.5,1,5.31,5.31,0,0,0,8.1,4.9,5.31,5.31,0,0,0,12,6.5,5.46,5.46,0,0,0,6.5,12Z\"/>\n",
              "  </svg>\n",
              "    </button>\n",
              "    <script>\n",
              "      (() => {\n",
              "      const buttonEl =\n",
              "        document.querySelector('#id_ba003634-cadd-4460-ab9b-9b1bddbe34b1 button.colab-df-generate');\n",
              "      buttonEl.style.display =\n",
              "        google.colab.kernel.accessAllowed ? 'block' : 'none';\n",
              "\n",
              "      buttonEl.onclick = () => {\n",
              "        google.colab.notebook.generateWithVariable('df');\n",
              "      }\n",
              "      })();\n",
              "    </script>\n",
              "  </div>\n",
              "\n",
              "    </div>\n",
              "  </div>\n"
            ],
            "application/vnd.google.colaboratory.intrinsic+json": {
              "type": "dataframe",
              "variable_name": "df",
              "summary": "{\n  \"name\": \"df\",\n  \"rows\": 1117,\n  \"fields\": [\n    {\n      \"column\": \"reel_id\",\n      \"properties\": {\n        \"dtype\": \"string\",\n        \"num_unique_values\": 1117,\n        \"samples\": [\n          \"www.facebook.com/reel/940909878048735\",\n          \"www.facebook.com/reel/1163896471253100\",\n          \"www.facebook.com/reel/576193358306179\"\n        ],\n        \"semantic_type\": \"\",\n        \"description\": \"\"\n      }\n    },\n    {\n      \"column\": \"UnsafeType\",\n      \"properties\": {\n        \"dtype\": \"category\",\n        \"num_unique_values\": 4,\n        \"samples\": [\n          \"Adult\",\n          \"Suicidal\",\n          \"Safe\"\n        ],\n        \"semantic_type\": \"\",\n        \"description\": \"\"\n      }\n    },\n    {\n      \"column\": \"Visual texts\",\n      \"properties\": {\n        \"dtype\": \"string\",\n        \"num_unique_values\": 703,\n        \"samples\": [\n          \"not found\",\n          \"\\u09ac\\u09be\\u09a6 \\u09a6\\u09c7\\u09a8 \\u09ad\\u09be\\u0987 \\u09ac\\u09c7\\u09a1\\u09bf \\u09ae\\u09be\\u09a8\\u09c1\\u09b7 \\u0986\\u09ae\\u09bf \\u09b9\\u09be\\u09b8\\u09a4\\u09c7 \\u09ac\\u09be\\u09a7\\u09cd\\u09af \\u09aa\\u09be\\u09a6 \\u09a8\\u09be\\u0987 \\u09af\\u09be\\u09b0 \\u09aa\\u09cb\\u09dc\\u09be \\u0995\\u09aa\\u09be\\u09b2 \\u09a4\\u09be\\u09b0\",\n          \"\\u09b2\\u09cb\\u0995\\u099f\\u09be \\u09a8\\u09be \\u0986\\u099f\\u0995\\u09be\\u09b2\\u09c7 \\u09ac\\u09dc \\u09b8\\u09ae\\u09b8\\u09cd\\u09af\\u09be \\u09b9\\u09a4\"\n        ],\n        \"semantic_type\": \"\",\n        \"description\": \"\"\n      }\n    }\n  ]\n}"
            }
          },
          "metadata": {},
          "execution_count": 3
        }
      ]
    },
    {
      "cell_type": "code",
      "source": [
        "df['UnsafeType'], uniques = pd.factorize(df['UnsafeType'])\n",
        "uniques"
      ],
      "metadata": {
        "colab": {
          "base_uri": "https://localhost:8080/"
        },
        "id": "MiVUrFeB271J",
        "outputId": "33c433d1-0b43-459f-b2de-8d6b1d8b3633"
      },
      "execution_count": 4,
      "outputs": [
        {
          "output_type": "execute_result",
          "data": {
            "text/plain": [
              "Index(['Safe', 'Adult', 'Harmful', 'Suicidal'], dtype='object')"
            ]
          },
          "metadata": {},
          "execution_count": 4
        }
      ]
    },
    {
      "cell_type": "code",
      "source": [
        "dir = \"/content/drive/MyDrive/UNBER-1k/Extracted_Features\""
      ],
      "metadata": {
        "id": "TUwWuaIGP_Wa"
      },
      "execution_count": 5,
      "outputs": []
    },
    {
      "cell_type": "code",
      "source": [
        "X = []\n",
        "y = []"
      ],
      "metadata": {
        "id": "SrukQyY3QHDM"
      },
      "execution_count": 6,
      "outputs": []
    },
    {
      "cell_type": "code",
      "source": [
        "reels = []\n",
        "\n",
        "for file in os.listdir(dir):\n",
        "    if file.endswith(\".npy\"):\n",
        "        file_path = os.path.join(dir, file)\n",
        "        features = np.load(file_path)\n",
        "        file_path = file_path.replace(\".npy\", \"\")\n",
        "        file_path = file_path.replace(\".wav\", \"\")\n",
        "        file_path = file_path.replace(\"/content/drive/MyDrive/UNBER-1k/Extracted_Features/audio\", \"www.facebook.com/reel/\")\n",
        "        if file_path in df['reel_id'].values:\n",
        "          index = df.index[df['reel_id'] == file_path].tolist()[0]\n",
        "          unsafe_type = df.loc[index, 'UnsafeType']\n",
        "          y.append(unsafe_type)\n",
        "          X.append(features)"
      ],
      "metadata": {
        "id": "xadye7MhQIjR"
      },
      "execution_count": 7,
      "outputs": []
    },
    {
      "cell_type": "code",
      "source": [
        "X = np.array(X, dtype=np.float32)"
      ],
      "metadata": {
        "id": "g9zru3_-QJ8E"
      },
      "execution_count": 8,
      "outputs": []
    },
    {
      "cell_type": "code",
      "source": [
        "X.shape"
      ],
      "metadata": {
        "colab": {
          "base_uri": "https://localhost:8080/"
        },
        "id": "XqhUIcyxQL11",
        "outputId": "8690ee15-2ddc-4529-bd68-9385ed02e30d"
      },
      "execution_count": 9,
      "outputs": [
        {
          "output_type": "execute_result",
          "data": {
            "text/plain": [
              "(1111, 21160)"
            ]
          },
          "metadata": {},
          "execution_count": 9
        }
      ]
    },
    {
      "cell_type": "code",
      "source": [
        "y = np.array(y)\n",
        "y.shape"
      ],
      "metadata": {
        "colab": {
          "base_uri": "https://localhost:8080/"
        },
        "id": "W-gEIUB1QWCU",
        "outputId": "6294352e-facf-4dd9-d0c2-8cb7b69a1e69"
      },
      "execution_count": 10,
      "outputs": [
        {
          "output_type": "execute_result",
          "data": {
            "text/plain": [
              "(1111,)"
            ]
          },
          "metadata": {},
          "execution_count": 10
        }
      ]
    },
    {
      "cell_type": "code",
      "source": [
        "scaler = StandardScaler()\n",
        "X = scaler.fit_transform(X)"
      ],
      "metadata": {
        "id": "zhwCWv2QQXzp"
      },
      "execution_count": 11,
      "outputs": []
    },
    {
      "cell_type": "code",
      "source": [
        "import numpy as np\n",
        "\n",
        "combined = list(zip(X, y))\n",
        "\n",
        "np.random.shuffle(combined)\n",
        "\n",
        "X, y = zip(*combined)\n",
        "\n",
        "X = np.array(X)\n",
        "y = np.array(y)"
      ],
      "metadata": {
        "id": "wkH_U_F33LQy"
      },
      "execution_count": 12,
      "outputs": []
    },
    {
      "cell_type": "code",
      "source": [
        "X_train, X_temp, y_train, y_temp = train_test_split(X, y, test_size=0.2, random_state=42, stratify=y)\n",
        "X_val, X_test, y_val, y_test = train_test_split(X_temp, y_temp, test_size=0.2, random_state=42, stratify=y_temp)"
      ],
      "metadata": {
        "id": "qx5NLZtT3Qpj"
      },
      "execution_count": 13,
      "outputs": []
    },
    {
      "cell_type": "code",
      "source": [
        "vggish_model = hub.load(\"https://tfhub.dev/google/vggish/1\")"
      ],
      "metadata": {
        "id": "apcF9x5oTwsj"
      },
      "execution_count": 14,
      "outputs": []
    },
    {
      "cell_type": "code",
      "source": [
        "def extract_vggish_features(features):\n",
        "    spectrogram = features\n",
        "    embeddings = vggish_model(spectrogram)\n",
        "    return embeddings"
      ],
      "metadata": {
        "id": "1vIuiFWgT0T3"
      },
      "execution_count": 15,
      "outputs": []
    },
    {
      "cell_type": "code",
      "source": [
        "X_train_emb = np.array([extract_vggish_features(x) for x in X_train])\n",
        "X_test_emb = np.array([extract_vggish_features(x) for x in X_test])\n",
        "X_val_emb = np.array([extract_vggish_features(x) for x in X_val])"
      ],
      "metadata": {
        "id": "wxerbmB2T3pT"
      },
      "execution_count": 16,
      "outputs": []
    },
    {
      "cell_type": "code",
      "source": [
        "X_train_emb = X_train_emb.reshape(X_train_emb.shape[0], -1)\n",
        "X_test_emb = X_test_emb.reshape(X_test_emb.shape[0], -1)\n",
        "X_val_emb = X_val_emb.reshape(X_val_emb.shape[0], -1)"
      ],
      "metadata": {
        "id": "IiegCYLaT6nM"
      },
      "execution_count": 17,
      "outputs": []
    },
    {
      "cell_type": "code",
      "source": [
        "classifier = keras.Sequential([\n",
        "    layers.Dense(64, activation=\"relu\", input_shape=(X_train_emb.shape[1],)),\n",
        "    layers.Dense(32, activation=\"relu\"),\n",
        "    layers.Dense(4, activation=\"softmax\")  # 4-class classification\n",
        "])"
      ],
      "metadata": {
        "id": "lwcF50mNRMzv",
        "colab": {
          "base_uri": "https://localhost:8080/"
        },
        "outputId": "ad8acab5-eefc-498b-9a04-fb5ed9f2b376"
      },
      "execution_count": 18,
      "outputs": [
        {
          "output_type": "stream",
          "name": "stderr",
          "text": [
            "/usr/local/lib/python3.11/dist-packages/keras/src/layers/core/dense.py:87: UserWarning: Do not pass an `input_shape`/`input_dim` argument to a layer. When using Sequential models, prefer using an `Input(shape)` object as the first layer in the model instead.\n",
            "  super().__init__(activity_regularizer=activity_regularizer, **kwargs)\n"
          ]
        }
      ]
    },
    {
      "cell_type": "code",
      "source": [
        "classifier.compile(optimizer=keras.optimizers.Adam(learning_rate=0.0005),\n",
        "                   loss=\"sparse_categorical_crossentropy\",\n",
        "                   metrics=[\"accuracy\"])"
      ],
      "metadata": {
        "id": "2ny7ARI0RRGm"
      },
      "execution_count": 19,
      "outputs": []
    },
    {
      "cell_type": "code",
      "source": [
        "from tensorflow.keras.callbacks import EarlyStopping, ReduceLROnPlateau\n",
        "\n",
        "early_stopping = EarlyStopping(monitor='val_loss', patience=5, restore_best_weights=True)\n",
        "lr_scheduler = ReduceLROnPlateau(monitor='val_loss', factor=0.5, patience=3, verbose=1)"
      ],
      "metadata": {
        "id": "MqsqC2Vo3hNy"
      },
      "execution_count": 20,
      "outputs": []
    },
    {
      "cell_type": "code",
      "source": [
        "classifier.fit(\n",
        "    X_train_emb, y_train,\n",
        "    epochs=200,\n",
        "    batch_size=16,\n",
        "    validation_data=(X_val_emb, y_val),\n",
        "    callbacks=[early_stopping, lr_scheduler]\n",
        ")"
      ],
      "metadata": {
        "id": "0LBxqz4SRSyT",
        "colab": {
          "base_uri": "https://localhost:8080/"
        },
        "outputId": "9b1b6c9b-50e3-4b82-ae42-63b07142e3aa"
      },
      "execution_count": 21,
      "outputs": [
        {
          "output_type": "stream",
          "name": "stdout",
          "text": [
            "Epoch 1/200\n",
            "\u001b[1m56/56\u001b[0m \u001b[32m━━━━━━━━━━━━━━━━━━━━\u001b[0m\u001b[37m\u001b[0m \u001b[1m4s\u001b[0m 28ms/step - accuracy: 0.3367 - loss: 1.3417 - val_accuracy: 0.3708 - val_loss: 1.2892 - learning_rate: 5.0000e-04\n",
            "Epoch 2/200\n",
            "\u001b[1m56/56\u001b[0m \u001b[32m━━━━━━━━━━━━━━━━━━━━\u001b[0m\u001b[37m\u001b[0m \u001b[1m0s\u001b[0m 4ms/step - accuracy: 0.4212 - loss: 1.2761 - val_accuracy: 0.3989 - val_loss: 1.2847 - learning_rate: 5.0000e-04\n",
            "Epoch 3/200\n",
            "\u001b[1m56/56\u001b[0m \u001b[32m━━━━━━━━━━━━━━━━━━━━\u001b[0m\u001b[37m\u001b[0m \u001b[1m0s\u001b[0m 4ms/step - accuracy: 0.3968 - loss: 1.2764 - val_accuracy: 0.4045 - val_loss: 1.2913 - learning_rate: 5.0000e-04\n",
            "Epoch 4/200\n",
            "\u001b[1m56/56\u001b[0m \u001b[32m━━━━━━━━━━━━━━━━━━━━\u001b[0m\u001b[37m\u001b[0m \u001b[1m0s\u001b[0m 4ms/step - accuracy: 0.3681 - loss: 1.2914 - val_accuracy: 0.3989 - val_loss: 1.2886 - learning_rate: 5.0000e-04\n",
            "Epoch 5/200\n",
            "\u001b[1m46/56\u001b[0m \u001b[32m━━━━━━━━━━━━━━━━\u001b[0m\u001b[37m━━━━\u001b[0m \u001b[1m0s\u001b[0m 2ms/step - accuracy: 0.4022 - loss: 1.2397\n",
            "Epoch 5: ReduceLROnPlateau reducing learning rate to 0.0002500000118743628.\n",
            "\u001b[1m56/56\u001b[0m \u001b[32m━━━━━━━━━━━━━━━━━━━━\u001b[0m\u001b[37m\u001b[0m \u001b[1m0s\u001b[0m 4ms/step - accuracy: 0.4039 - loss: 1.2431 - val_accuracy: 0.3933 - val_loss: 1.2858 - learning_rate: 5.0000e-04\n",
            "Epoch 6/200\n",
            "\u001b[1m56/56\u001b[0m \u001b[32m━━━━━━━━━━━━━━━━━━━━\u001b[0m\u001b[37m\u001b[0m \u001b[1m0s\u001b[0m 4ms/step - accuracy: 0.4248 - loss: 1.2307 - val_accuracy: 0.3708 - val_loss: 1.2886 - learning_rate: 2.5000e-04\n",
            "Epoch 7/200\n",
            "\u001b[1m56/56\u001b[0m \u001b[32m━━━━━━━━━━━━━━━━━━━━\u001b[0m\u001b[37m\u001b[0m \u001b[1m0s\u001b[0m 4ms/step - accuracy: 0.4281 - loss: 1.2429 - val_accuracy: 0.3596 - val_loss: 1.2884 - learning_rate: 2.5000e-04\n"
          ]
        },
        {
          "output_type": "execute_result",
          "data": {
            "text/plain": [
              "<keras.src.callbacks.history.History at 0x7ba74416a590>"
            ]
          },
          "metadata": {},
          "execution_count": 21
        }
      ]
    },
    {
      "cell_type": "code",
      "source": [
        "y_pred = classifier.predict(X_test_emb)\n",
        "y_pred_classes = np.argmax(y_pred, axis=1)"
      ],
      "metadata": {
        "colab": {
          "base_uri": "https://localhost:8080/"
        },
        "id": "ZDBdGHqCRaxj",
        "outputId": "a9504d22-b723-475f-d8c5-d3c8ea317982"
      },
      "execution_count": 22,
      "outputs": [
        {
          "output_type": "stream",
          "name": "stdout",
          "text": [
            "\u001b[1m2/2\u001b[0m \u001b[32m━━━━━━━━━━━━━━━━━━━━\u001b[0m\u001b[37m\u001b[0m \u001b[1m1s\u001b[0m 364ms/step\n"
          ]
        }
      ]
    },
    {
      "cell_type": "code",
      "source": [
        "print(classification_report(y_test, y_pred_classes))"
      ],
      "metadata": {
        "colab": {
          "base_uri": "https://localhost:8080/"
        },
        "id": "dbKCHJN4R1jy",
        "outputId": "9e32044d-b9a5-4057-8eb6-9af03ab23e36"
      },
      "execution_count": 23,
      "outputs": [
        {
          "output_type": "stream",
          "name": "stdout",
          "text": [
            "              precision    recall  f1-score   support\n",
            "\n",
            "           0       0.42      0.89      0.57        18\n",
            "           1       0.29      0.15      0.20        13\n",
            "           2       0.00      0.00      0.00         9\n",
            "           3       0.00      0.00      0.00         5\n",
            "\n",
            "    accuracy                           0.40        45\n",
            "   macro avg       0.18      0.26      0.19        45\n",
            "weighted avg       0.25      0.40      0.29        45\n",
            "\n"
          ]
        },
        {
          "output_type": "stream",
          "name": "stderr",
          "text": [
            "/usr/local/lib/python3.11/dist-packages/sklearn/metrics/_classification.py:1565: UndefinedMetricWarning: Precision is ill-defined and being set to 0.0 in labels with no predicted samples. Use `zero_division` parameter to control this behavior.\n",
            "  _warn_prf(average, modifier, f\"{metric.capitalize()} is\", len(result))\n",
            "/usr/local/lib/python3.11/dist-packages/sklearn/metrics/_classification.py:1565: UndefinedMetricWarning: Precision is ill-defined and being set to 0.0 in labels with no predicted samples. Use `zero_division` parameter to control this behavior.\n",
            "  _warn_prf(average, modifier, f\"{metric.capitalize()} is\", len(result))\n",
            "/usr/local/lib/python3.11/dist-packages/sklearn/metrics/_classification.py:1565: UndefinedMetricWarning: Precision is ill-defined and being set to 0.0 in labels with no predicted samples. Use `zero_division` parameter to control this behavior.\n",
            "  _warn_prf(average, modifier, f\"{metric.capitalize()} is\", len(result))\n"
          ]
        }
      ]
    },
    {
      "cell_type": "code",
      "source": [
        "cm = confusion_matrix(y_test, y_pred_classes)\n",
        "\n",
        "# Plot confusion matrix\n",
        "plt.figure(figsize=(6, 4))\n",
        "\n",
        "sns.heatmap(cm, annot=True, fmt='d', cmap='Blues', xticklabels=[\"safe\",\"adult\",\"harmful\",\"suicidal\"], yticklabels=[\"safe\",\"adult\",\"harmful\",\"suicidal\"])\n",
        "plt.xlabel(\"Predicted Label\")\n",
        "plt.ylabel(\"True Label\")\n",
        "plt.title(\"Confusion Matrix\")\n",
        "\n",
        "plt.show()"
      ],
      "metadata": {
        "colab": {
          "base_uri": "https://localhost:8080/",
          "height": 410
        },
        "id": "QZ0BVNrbR3kj",
        "outputId": "5757f444-cc3c-4405-c671-9037532bf4f2"
      },
      "execution_count": 24,
      "outputs": [
        {
          "output_type": "display_data",
          "data": {
            "text/plain": [
              "<Figure size 600x400 with 2 Axes>"
            ],
            "image/png": "[encoded data removed]"
          },
          "metadata": {}
        }
      ]
    },
    {
      "cell_type": "code",
      "source": [],
      "metadata": {
        "id": "UWUTGPV5R_KI"
      },
      "execution_count": 24,
      "outputs": []
    }
  ]
}